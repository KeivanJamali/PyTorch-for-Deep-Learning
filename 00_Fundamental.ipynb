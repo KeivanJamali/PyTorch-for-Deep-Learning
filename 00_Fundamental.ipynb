{
 "cells": [
  {
   "cell_type": "markdown",
   "source": [
    "## 00. Fundamentals\n",
    "\n",
    "[Resource notebook](https://www.learnpytorch.io/00_pytorch_fundamentals/)"
   ],
   "metadata": {
    "collapsed": false
   },
   "id": "f3d49e5cb37a4bef"
  },
  {
   "cell_type": "code",
   "execution_count": 101,
   "outputs": [
    {
     "name": "stdout",
     "output_type": "stream",
     "text": [
      "2.0.1+cpu\n",
      "False\n"
     ]
    }
   ],
   "source": [
    "import torch\n",
    "import pandas as pd\n",
    "import numpy as np\n",
    "import matplotlib.pyplot as plt\n",
    "\n",
    "print(torch.__version__)\n",
    "print(torch.cuda.is_available())\n",
    "# print(torch.rand(2,3).cuda())\n",
    "# device = torch.device('cuda' if torch.cuda.is_available() else 'cpu')"
   ],
   "metadata": {
    "collapsed": false,
    "ExecuteTime": {
     "end_time": "2023-08-30T13:21:26.735481100Z",
     "start_time": "2023-08-30T13:21:26.558227600Z"
    }
   },
   "id": "f9f5609c41b0023c"
  },
  {
   "cell_type": "markdown",
   "source": [
    "#### Make \n",
    "> **Scalar**\n",
    "> **Vector**\n",
    "> **MATRIX**\n",
    "> **TENSOR**"
   ],
   "metadata": {
    "collapsed": false
   },
   "id": "dc4488e24b880b4e"
  },
  {
   "cell_type": "code",
   "execution_count": 102,
   "outputs": [
    {
     "name": "stdout",
     "output_type": "stream",
     "text": [
      "0\n",
      "7\n"
     ]
    }
   ],
   "source": [
    "# Scalar\n",
    "scalar = torch.tensor(7)\n",
    "print(scalar.ndim)\n",
    "print(scalar.item())  # give back the number as python (int)\n"
   ],
   "metadata": {
    "collapsed": false,
    "ExecuteTime": {
     "end_time": "2023-08-30T13:21:26.778995400Z",
     "start_time": "2023-08-30T13:21:26.574134Z"
    }
   },
   "id": "4f1ed64e67b3061f"
  },
  {
   "cell_type": "code",
   "execution_count": 103,
   "outputs": [
    {
     "name": "stdout",
     "output_type": "stream",
     "text": [
      "1\n",
      "torch.Size([2])\n"
     ]
    }
   ],
   "source": [
    "# Vector\n",
    "vector = torch.tensor([7, 7])\n",
    "print(vector.ndim)\n",
    "print(vector.shape)"
   ],
   "metadata": {
    "collapsed": false,
    "ExecuteTime": {
     "end_time": "2023-08-30T13:21:27.349844200Z",
     "start_time": "2023-08-30T13:21:26.583067800Z"
    }
   },
   "id": "7db0889a082427f2"
  },
  {
   "cell_type": "code",
   "execution_count": 104,
   "outputs": [
    {
     "name": "stdout",
     "output_type": "stream",
     "text": [
      "2\n",
      "tensor([7, 8])\n",
      "tensor([ 9, 10])\n",
      "torch.Size([2, 2])\n"
     ]
    }
   ],
   "source": [
    "# Matrix\n",
    "MATRIX = torch.tensor([[7, 8],\n",
    "                       [9, 10]])\n",
    "print(MATRIX.ndim)\n",
    "print(MATRIX[0])\n",
    "print(MATRIX[1])\n",
    "print(MATRIX.shape)"
   ],
   "metadata": {
    "collapsed": false,
    "ExecuteTime": {
     "end_time": "2023-08-30T13:21:27.444080700Z",
     "start_time": "2023-08-30T13:21:26.590357800Z"
    }
   },
   "id": "b4cd1620ad08f57e"
  },
  {
   "cell_type": "code",
   "execution_count": 105,
   "outputs": [
    {
     "name": "stdout",
     "output_type": "stream",
     "text": [
      "tensor([[[1, 2, 3],\n",
      "         [3, 6, 9],\n",
      "         [2, 4, 5]]])\n",
      "3\n",
      "torch.Size([1, 3, 3])\n"
     ]
    }
   ],
   "source": [
    "# Tensor\n",
    "TENSOR = torch.tensor([[[1, 2, 3],\n",
    "                        [3, 6, 9],\n",
    "                        [2, 4, 5]]])\n",
    "print(TENSOR)\n",
    "print(TENSOR.ndim)\n",
    "print(TENSOR.shape)\n"
   ],
   "metadata": {
    "collapsed": false,
    "ExecuteTime": {
     "end_time": "2023-08-30T13:21:27.444080700Z",
     "start_time": "2023-08-30T13:21:26.597793900Z"
    }
   },
   "id": "4e0dd625526563bb"
  },
  {
   "cell_type": "markdown",
   "source": [
    "#### Random Tensors\n",
    "\n",
    "**why random tensors?** random tensors are important because the way many neural networks  \n",
    " learn is that they start with tensors full of random numbers and then adjust those random numbers to better represent the data.\n",
    "\n",
    "****Start with Random numbers > look at data > update random numbers > look at data > update random numbers**"
   ],
   "metadata": {
    "collapsed": false
   },
   "id": "2a845ab80b36cee3"
  },
  {
   "cell_type": "code",
   "execution_count": 106,
   "outputs": [],
   "source": [
    "# Create a random tensor of size (3,4)\n",
    "random_tensor = torch.rand(3, 4)"
   ],
   "metadata": {
    "collapsed": false,
    "ExecuteTime": {
     "end_time": "2023-08-30T13:21:27.506599400Z",
     "start_time": "2023-08-30T13:21:26.605013500Z"
    }
   },
   "id": "3d6535aa61f0dfe4"
  },
  {
   "cell_type": "code",
   "execution_count": 107,
   "outputs": [
    {
     "name": "stdout",
     "output_type": "stream",
     "text": [
      "2\n",
      "torch.Size([3, 4])\n"
     ]
    },
    {
     "data": {
      "text/plain": "tensor([[0.5066, 0.8066, 0.9452, 0.4211],\n        [0.0586, 0.8153, 0.6178, 0.0553],\n        [0.3393, 0.2781, 0.0106, 0.4998]])"
     },
     "execution_count": 107,
     "metadata": {},
     "output_type": "execute_result"
    }
   ],
   "source": [
    "print(random_tensor.ndim)\n",
    "print(random_tensor.shape)\n",
    "random_tensor"
   ],
   "metadata": {
    "collapsed": false,
    "ExecuteTime": {
     "end_time": "2023-08-30T13:21:27.569510500Z",
     "start_time": "2023-08-30T13:21:26.610836200Z"
    }
   },
   "id": "692059dfd6567926"
  },
  {
   "cell_type": "code",
   "execution_count": 108,
   "outputs": [
    {
     "data": {
      "text/plain": "(torch.Size([3, 224, 224]), 3)"
     },
     "execution_count": 108,
     "metadata": {},
     "output_type": "execute_result"
    }
   ],
   "source": [
    "# random tensor similar to an image tensor\n",
    "random_image_size_tensor = torch.rand(size=(3, 224, 224))\n",
    "random_image_size_tensor.shape, random_image_size_tensor.ndim"
   ],
   "metadata": {
    "collapsed": false,
    "ExecuteTime": {
     "end_time": "2023-08-30T13:21:27.616385500Z",
     "start_time": "2023-08-30T13:21:26.621149100Z"
    }
   },
   "id": "a6bad7e06d6bf24c"
  },
  {
   "cell_type": "code",
   "execution_count": 109,
   "outputs": [],
   "source": [
    "t = torch.rand([2, 2])\n",
    "t2 = torch.rand(size=(2, 2))"
   ],
   "metadata": {
    "collapsed": false,
    "ExecuteTime": {
     "end_time": "2023-08-30T13:21:27.636556800Z",
     "start_time": "2023-08-30T13:21:26.628095300Z"
    }
   },
   "id": "5e54b7bc5a308a01"
  },
  {
   "cell_type": "code",
   "execution_count": 110,
   "outputs": [
    {
     "data": {
      "text/plain": "tensor([[0.3538, 0.2011],\n        [0.2430, 0.3119]])"
     },
     "execution_count": 110,
     "metadata": {},
     "output_type": "execute_result"
    }
   ],
   "source": [
    "t"
   ],
   "metadata": {
    "collapsed": false,
    "ExecuteTime": {
     "end_time": "2023-08-30T13:21:27.679399300Z",
     "start_time": "2023-08-30T13:21:26.636864500Z"
    }
   },
   "id": "cc71740257a08365"
  },
  {
   "cell_type": "code",
   "execution_count": 111,
   "outputs": [
    {
     "data": {
      "text/plain": "tensor([[0.8338, 0.9722],\n        [0.2537, 0.6987]])"
     },
     "execution_count": 111,
     "metadata": {},
     "output_type": "execute_result"
    }
   ],
   "source": [
    "t2"
   ],
   "metadata": {
    "collapsed": false,
    "ExecuteTime": {
     "end_time": "2023-08-30T13:21:27.679399300Z",
     "start_time": "2023-08-30T13:21:26.641034200Z"
    }
   },
   "id": "fb51b3b3b8bf39a6"
  },
  {
   "cell_type": "code",
   "execution_count": 112,
   "outputs": [
    {
     "data": {
      "text/plain": "tensor([[0., 0., 0., 0.],\n        [0., 0., 0., 0.],\n        [0., 0., 0., 0.]])"
     },
     "execution_count": 112,
     "metadata": {},
     "output_type": "execute_result"
    }
   ],
   "source": [
    "# zeros\n",
    "zeros = torch.zeros((3, 4))\n",
    "zeros"
   ],
   "metadata": {
    "collapsed": false,
    "ExecuteTime": {
     "end_time": "2023-08-30T13:21:27.679399300Z",
     "start_time": "2023-08-30T13:21:26.652674900Z"
    }
   },
   "id": "722055278e6a11ae"
  },
  {
   "cell_type": "code",
   "execution_count": 113,
   "outputs": [
    {
     "data": {
      "text/plain": "tensor([[0., 0., 0., 0.],\n        [0., 0., 0., 0.],\n        [0., 0., 0., 0.]])"
     },
     "execution_count": 113,
     "metadata": {},
     "output_type": "execute_result"
    }
   ],
   "source": [
    "zeros * random_tensor"
   ],
   "metadata": {
    "collapsed": false,
    "ExecuteTime": {
     "end_time": "2023-08-30T13:21:27.679399300Z",
     "start_time": "2023-08-30T13:21:26.656488900Z"
    }
   },
   "id": "3aca81552cbadd69"
  },
  {
   "cell_type": "code",
   "execution_count": 114,
   "outputs": [
    {
     "data": {
      "text/plain": "tensor([[1., 1., 1., 1.],\n        [1., 1., 1., 1.],\n        [1., 1., 1., 1.]])"
     },
     "execution_count": 114,
     "metadata": {},
     "output_type": "execute_result"
    }
   ],
   "source": [
    "# Ones\n",
    "ones = torch.ones(size=(3, 4))\n",
    "ones"
   ],
   "metadata": {
    "collapsed": false,
    "ExecuteTime": {
     "end_time": "2023-08-30T13:21:27.710653200Z",
     "start_time": "2023-08-30T13:21:26.668645Z"
    }
   },
   "id": "2c0bc39a4a30e1a"
  },
  {
   "cell_type": "code",
   "execution_count": 115,
   "outputs": [
    {
     "data": {
      "text/plain": "torch.float32"
     },
     "execution_count": 115,
     "metadata": {},
     "output_type": "execute_result"
    }
   ],
   "source": [
    "ones.dtype"
   ],
   "metadata": {
    "collapsed": false,
    "ExecuteTime": {
     "end_time": "2023-08-30T13:21:27.710653200Z",
     "start_time": "2023-08-30T13:21:26.672273800Z"
    }
   },
   "id": "50d9004231c4e8da"
  },
  {
   "cell_type": "code",
   "execution_count": 116,
   "outputs": [],
   "source": [
    "# Creating a range of tensors and tensors-like\n",
    "\n",
    "one_to_ten = torch.arange(start=0, end=11, step=1)"
   ],
   "metadata": {
    "collapsed": false,
    "ExecuteTime": {
     "end_time": "2023-08-30T13:21:27.710653200Z",
     "start_time": "2023-08-30T13:21:26.679349100Z"
    }
   },
   "id": "dd7449dd77f2d174"
  },
  {
   "cell_type": "code",
   "execution_count": 117,
   "outputs": [
    {
     "data": {
      "text/plain": "tensor([ 0,  1,  2,  3,  4,  5,  6,  7,  8,  9, 10])"
     },
     "execution_count": 117,
     "metadata": {},
     "output_type": "execute_result"
    }
   ],
   "source": [
    "one_to_ten"
   ],
   "metadata": {
    "collapsed": false,
    "ExecuteTime": {
     "end_time": "2023-08-30T13:21:27.710653200Z",
     "start_time": "2023-08-30T13:21:26.685509600Z"
    }
   },
   "id": "8e50fc464872d994"
  },
  {
   "cell_type": "code",
   "execution_count": 118,
   "outputs": [],
   "source": [
    "tensors_like = torch.zeros_like(input=one_to_ten)"
   ],
   "metadata": {
    "collapsed": false,
    "ExecuteTime": {
     "end_time": "2023-08-30T13:21:27.710653200Z",
     "start_time": "2023-08-30T13:21:26.693762400Z"
    }
   },
   "id": "d77b7626d1c35526"
  },
  {
   "cell_type": "code",
   "execution_count": 119,
   "outputs": [
    {
     "data": {
      "text/plain": "tensor([0, 0, 0, 0, 0, 0, 0, 0, 0, 0, 0])"
     },
     "execution_count": 119,
     "metadata": {},
     "output_type": "execute_result"
    }
   ],
   "source": [
    "tensors_like"
   ],
   "metadata": {
    "collapsed": false,
    "ExecuteTime": {
     "end_time": "2023-08-30T13:21:27.710653200Z",
     "start_time": "2023-08-30T13:21:26.700554900Z"
    }
   },
   "id": "a69b3c44ff83627e"
  },
  {
   "cell_type": "markdown",
   "source": [
    "## datatypes\n",
    "\n",
    "**Note: Tensor datatypes is one of the 3 big errors with PyTorch**\n",
    "1. Tensors not tight datatype\n",
    "2. Tensors not tight shape\n",
    "3. Tensors not on the right device"
   ],
   "metadata": {
    "collapsed": false
   },
   "id": "4f37fea6dc147c6"
  },
  {
   "cell_type": "code",
   "execution_count": 120,
   "outputs": [],
   "source": [
    "# Float 32 tensor\n",
    "float_32_tensor = torch.tensor([3.0, 6.0, 9.0], dtype=None)"
   ],
   "metadata": {
    "collapsed": false,
    "ExecuteTime": {
     "end_time": "2023-08-30T13:21:27.710653200Z",
     "start_time": "2023-08-30T13:21:26.707760100Z"
    }
   },
   "id": "3564e95ecd2fbed0"
  },
  {
   "cell_type": "code",
   "execution_count": 121,
   "outputs": [
    {
     "data": {
      "text/plain": "torch.float32"
     },
     "execution_count": 121,
     "metadata": {},
     "output_type": "execute_result"
    }
   ],
   "source": [
    "float_32_tensor.dtype"
   ],
   "metadata": {
    "collapsed": false,
    "ExecuteTime": {
     "end_time": "2023-08-30T13:21:27.710653200Z",
     "start_time": "2023-08-30T13:21:26.715998300Z"
    }
   },
   "id": "f82e8bd9509a4057"
  },
  {
   "cell_type": "code",
   "execution_count": 122,
   "outputs": [],
   "source": [
    "float_32_tensor = torch.tensor([3.0, 6.0, 9.0], dtype=torch.float16)"
   ],
   "metadata": {
    "collapsed": false,
    "ExecuteTime": {
     "end_time": "2023-08-30T13:21:27.710653200Z",
     "start_time": "2023-08-30T13:21:26.726937200Z"
    }
   },
   "id": "54f54c4003f1553e"
  },
  {
   "cell_type": "code",
   "execution_count": 123,
   "outputs": [
    {
     "data": {
      "text/plain": "torch.float16"
     },
     "execution_count": 123,
     "metadata": {},
     "output_type": "execute_result"
    }
   ],
   "source": [
    "float_32_tensor.dtype"
   ],
   "metadata": {
    "collapsed": false,
    "ExecuteTime": {
     "end_time": "2023-08-30T13:21:27.710653200Z",
     "start_time": "2023-08-30T13:21:26.731969700Z"
    }
   },
   "id": "fd8fa4bd757feefa"
  },
  {
   "cell_type": "code",
   "execution_count": 124,
   "outputs": [],
   "source": [
    "float_32_tensor = torch.tensor([3.0, 6.0, 9.0], dtype=None, device=None, requires_grad=False)"
   ],
   "metadata": {
    "collapsed": false,
    "ExecuteTime": {
     "end_time": "2023-08-30T13:21:27.710653200Z",
     "start_time": "2023-08-30T13:21:26.735481100Z"
    }
   },
   "id": "22aa0ddabc609616"
  },
  {
   "cell_type": "code",
   "execution_count": 125,
   "outputs": [
    {
     "data": {
      "text/plain": "tensor([3., 6., 9.], dtype=torch.float16)"
     },
     "execution_count": 125,
     "metadata": {},
     "output_type": "execute_result"
    }
   ],
   "source": [
    "float_16_tensor = float_32_tensor.type(torch.float16)\n",
    "float_16_tensor"
   ],
   "metadata": {
    "collapsed": false,
    "ExecuteTime": {
     "end_time": "2023-08-30T13:21:27.710653200Z",
     "start_time": "2023-08-30T13:21:26.740666900Z"
    }
   },
   "id": "47341785c68bcdd0"
  },
  {
   "cell_type": "code",
   "execution_count": 126,
   "outputs": [],
   "source": [
    "m = float_16_tensor * float_32_tensor"
   ],
   "metadata": {
    "collapsed": false,
    "ExecuteTime": {
     "end_time": "2023-08-30T13:21:27.710653200Z",
     "start_time": "2023-08-30T13:21:26.749426200Z"
    }
   },
   "id": "d55ec2b1bbc81984"
  },
  {
   "cell_type": "code",
   "execution_count": 127,
   "outputs": [
    {
     "data": {
      "text/plain": "torch.float32"
     },
     "execution_count": 127,
     "metadata": {},
     "output_type": "execute_result"
    }
   ],
   "source": [
    "m.dtype"
   ],
   "metadata": {
    "collapsed": false,
    "ExecuteTime": {
     "end_time": "2023-08-30T13:21:27.710653200Z",
     "start_time": "2023-08-30T13:21:26.754950200Z"
    }
   },
   "id": "aaa8f9aeb0a0e414"
  },
  {
   "cell_type": "code",
   "execution_count": 128,
   "outputs": [],
   "source": [
    "float_32_tensor = float_16_tensor.type(torch.int32)"
   ],
   "metadata": {
    "collapsed": false,
    "ExecuteTime": {
     "end_time": "2023-08-30T13:21:27.710653200Z",
     "start_time": "2023-08-30T13:21:26.763508200Z"
    }
   },
   "id": "8d537460d2fc954a"
  },
  {
   "cell_type": "code",
   "execution_count": 129,
   "outputs": [
    {
     "data": {
      "text/plain": "tensor([3, 6, 9], dtype=torch.int32)"
     },
     "execution_count": 129,
     "metadata": {},
     "output_type": "execute_result"
    }
   ],
   "source": [
    "float_32_tensor"
   ],
   "metadata": {
    "collapsed": false,
    "ExecuteTime": {
     "end_time": "2023-08-30T13:21:27.710653200Z",
     "start_time": "2023-08-30T13:21:26.768932600Z"
    }
   },
   "id": "4b0e113cceb4f815"
  },
  {
   "cell_type": "code",
   "execution_count": 130,
   "outputs": [
    {
     "data": {
      "text/plain": "tensor([ 9., 36., 81.], dtype=torch.float16)"
     },
     "execution_count": 130,
     "metadata": {},
     "output_type": "execute_result"
    }
   ],
   "source": [
    "float_16_tensor * float_32_tensor"
   ],
   "metadata": {
    "collapsed": false,
    "ExecuteTime": {
     "end_time": "2023-08-30T13:21:27.710653200Z",
     "start_time": "2023-08-30T13:21:26.778995400Z"
    }
   },
   "id": "ae6dcd420bb086df"
  },
  {
   "cell_type": "markdown",
   "source": [
    "### how to check information to solve bugs"
   ],
   "metadata": {
    "collapsed": false
   },
   "id": "6972421cc59ccd43"
  },
  {
   "cell_type": "code",
   "execution_count": 131,
   "outputs": [
    {
     "data": {
      "text/plain": "tensor([[0.6920, 0.9208, 0.5173, 0.5890],\n        [0.0174, 0.8011, 0.0221, 0.5263],\n        [0.8960, 0.9418, 0.4756, 0.3617]])"
     },
     "execution_count": 131,
     "metadata": {},
     "output_type": "execute_result"
    }
   ],
   "source": [
    "some_tensor = torch.rand(3, 4)\n",
    "some_tensor"
   ],
   "metadata": {
    "collapsed": false,
    "ExecuteTime": {
     "end_time": "2023-08-30T13:21:27.710653200Z",
     "start_time": "2023-08-30T13:21:26.783729400Z"
    }
   },
   "id": "b7f776e0ac5dc4b6"
  },
  {
   "cell_type": "code",
   "execution_count": 132,
   "outputs": [
    {
     "name": "stdout",
     "output_type": "stream",
     "text": [
      "tensor([[0.6920, 0.9208, 0.5173, 0.5890],\n",
      "        [0.0174, 0.8011, 0.0221, 0.5263],\n",
      "        [0.8960, 0.9418, 0.4756, 0.3617]])\n",
      "datatype of tensor: torch.float32\n",
      "shape of tensor: torch.Size([3, 4])\n",
      "device tensor is on: cpu\n"
     ]
    }
   ],
   "source": [
    "print(some_tensor)\n",
    "print(f\"datatype of tensor: {some_tensor.dtype}\")\n",
    "print(f\"shape of tensor: {some_tensor.shape}\")\n",
    "print(f\"device tensor is on: {some_tensor.device}\")\n"
   ],
   "metadata": {
    "collapsed": false,
    "ExecuteTime": {
     "end_time": "2023-08-30T13:21:27.710653200Z",
     "start_time": "2023-08-30T13:21:26.794834600Z"
    }
   },
   "id": "3f9aad8f3ce8fb4f"
  },
  {
   "cell_type": "code",
   "execution_count": 133,
   "outputs": [
    {
     "data": {
      "text/plain": "tensor([11, 12, 13])"
     },
     "execution_count": 133,
     "metadata": {},
     "output_type": "execute_result"
    }
   ],
   "source": [
    "tensor = torch.tensor([1, 2, 3])\n",
    "tensor + 10"
   ],
   "metadata": {
    "collapsed": false,
    "ExecuteTime": {
     "end_time": "2023-08-30T13:21:27.710653200Z",
     "start_time": "2023-08-30T13:21:26.800214200Z"
    }
   },
   "id": "33470efdd7a7f3ba"
  },
  {
   "cell_type": "code",
   "execution_count": 134,
   "outputs": [
    {
     "data": {
      "text/plain": "tensor([10, 20, 30])"
     },
     "execution_count": 134,
     "metadata": {},
     "output_type": "execute_result"
    }
   ],
   "source": [
    "tensor * 10"
   ],
   "metadata": {
    "collapsed": false,
    "ExecuteTime": {
     "end_time": "2023-08-30T13:21:27.710653200Z",
     "start_time": "2023-08-30T13:21:26.810795700Z"
    }
   },
   "id": "c2439cfc3f93e955"
  },
  {
   "cell_type": "code",
   "execution_count": 135,
   "outputs": [
    {
     "data": {
      "text/plain": "tensor([-9, -8, -7])"
     },
     "execution_count": 135,
     "metadata": {},
     "output_type": "execute_result"
    }
   ],
   "source": [
    "tensor - 10"
   ],
   "metadata": {
    "collapsed": false,
    "ExecuteTime": {
     "end_time": "2023-08-30T13:21:27.710653200Z",
     "start_time": "2023-08-30T13:21:26.815528500Z"
    }
   },
   "id": "5c5046a90a0f42d"
  },
  {
   "cell_type": "code",
   "execution_count": 136,
   "outputs": [
    {
     "data": {
      "text/plain": "tensor([0.1000, 0.2000, 0.3000])"
     },
     "execution_count": 136,
     "metadata": {},
     "output_type": "execute_result"
    }
   ],
   "source": [
    "tensor / 10"
   ],
   "metadata": {
    "collapsed": false,
    "ExecuteTime": {
     "end_time": "2023-08-30T13:21:27.710653200Z",
     "start_time": "2023-08-30T13:21:26.828191400Z"
    }
   },
   "id": "cf18a2739811a7a8"
  },
  {
   "cell_type": "code",
   "execution_count": 137,
   "outputs": [
    {
     "data": {
      "text/plain": "tensor([11, 12, 13])"
     },
     "execution_count": 137,
     "metadata": {},
     "output_type": "execute_result"
    }
   ],
   "source": [
    "torch.mul(tensor, 10)\n",
    "torch.add(tensor, 10)"
   ],
   "metadata": {
    "collapsed": false,
    "ExecuteTime": {
     "end_time": "2023-08-30T13:21:27.710653200Z",
     "start_time": "2023-08-30T13:21:26.835438600Z"
    }
   },
   "id": "ff5f46951a1d460d"
  },
  {
   "cell_type": "markdown",
   "source": [
    "# multiplication"
   ],
   "metadata": {
    "collapsed": false
   },
   "id": "bedcd8dc3cbeb7bf"
  },
  {
   "cell_type": "code",
   "execution_count": 138,
   "outputs": [
    {
     "name": "stdout",
     "output_type": "stream",
     "text": [
      "tensor([1, 2, 3]) * tensor([1, 2, 3])\n",
      "Equals: tensor([1, 4, 9])\n"
     ]
    }
   ],
   "source": [
    "# Element wise\n",
    "print(tensor, \"*\", tensor)\n",
    "print(f\"Equals: {tensor * tensor}\")"
   ],
   "metadata": {
    "collapsed": false,
    "ExecuteTime": {
     "end_time": "2023-08-30T13:21:27.710653200Z",
     "start_time": "2023-08-30T13:21:26.842809300Z"
    }
   },
   "id": "3f0055fba92309ea"
  },
  {
   "cell_type": "code",
   "execution_count": 139,
   "outputs": [
    {
     "data": {
      "text/plain": "tensor(14)"
     },
     "execution_count": 139,
     "metadata": {},
     "output_type": "execute_result"
    }
   ],
   "source": [
    "# Matrix Multiplication\n",
    "torch.matmul(tensor, tensor)"
   ],
   "metadata": {
    "collapsed": false,
    "ExecuteTime": {
     "end_time": "2023-08-30T13:21:27.736816800Z",
     "start_time": "2023-08-30T13:21:26.849417600Z"
    }
   },
   "id": "e2bb92d2b9132e7a"
  },
  {
   "cell_type": "code",
   "execution_count": 140,
   "outputs": [
    {
     "name": "stdout",
     "output_type": "stream",
     "text": [
      "tensor(14)\n"
     ]
    }
   ],
   "source": [
    "v = 0\n",
    "for i in range(len(tensor)):\n",
    "    v += tensor[i] * tensor[i]\n",
    "print(v)"
   ],
   "metadata": {
    "collapsed": false,
    "ExecuteTime": {
     "end_time": "2023-08-30T13:21:27.736816800Z",
     "start_time": "2023-08-30T13:21:26.858845800Z"
    }
   },
   "id": "8453d1709ac9061c"
  },
  {
   "cell_type": "code",
   "execution_count": 141,
   "outputs": [
    {
     "data": {
      "text/plain": "torch.Size([3])"
     },
     "execution_count": 141,
     "metadata": {},
     "output_type": "execute_result"
    }
   ],
   "source": [
    "tensor.shape"
   ],
   "metadata": {
    "collapsed": false,
    "ExecuteTime": {
     "end_time": "2023-08-30T13:21:27.736816800Z",
     "start_time": "2023-08-30T13:21:26.864833200Z"
    }
   },
   "id": "9822f9129785c7ab"
  },
  {
   "cell_type": "code",
   "execution_count": 142,
   "outputs": [],
   "source": [
    "tensor = torch.rand((1, 4))"
   ],
   "metadata": {
    "collapsed": false,
    "ExecuteTime": {
     "end_time": "2023-08-30T13:21:27.736816800Z",
     "start_time": "2023-08-30T13:21:26.874547300Z"
    }
   },
   "id": "5aff18ab3e5c3a4"
  },
  {
   "cell_type": "code",
   "execution_count": 143,
   "outputs": [],
   "source": [
    "tensor2 = tensor.reshape(-1, 1)"
   ],
   "metadata": {
    "collapsed": false,
    "ExecuteTime": {
     "end_time": "2023-08-30T13:21:27.736816800Z",
     "start_time": "2023-08-30T13:21:26.879082100Z"
    }
   },
   "id": "10d8a47311519a22"
  },
  {
   "cell_type": "code",
   "execution_count": 144,
   "outputs": [
    {
     "data": {
      "text/plain": "torch.Size([4, 1])"
     },
     "execution_count": 144,
     "metadata": {},
     "output_type": "execute_result"
    }
   ],
   "source": [
    "tensor2.shape"
   ],
   "metadata": {
    "collapsed": false,
    "ExecuteTime": {
     "end_time": "2023-08-30T13:21:27.742406100Z",
     "start_time": "2023-08-30T13:21:26.885071100Z"
    }
   },
   "id": "8045d217679e4f00"
  },
  {
   "cell_type": "code",
   "execution_count": 145,
   "outputs": [
    {
     "data": {
      "text/plain": "tensor([[1.0958]])"
     },
     "execution_count": 145,
     "metadata": {},
     "output_type": "execute_result"
    }
   ],
   "source": [
    "torch.matmul(tensor, tensor2)"
   ],
   "metadata": {
    "collapsed": false,
    "ExecuteTime": {
     "end_time": "2023-08-30T13:21:27.742406100Z",
     "start_time": "2023-08-30T13:21:26.892070800Z"
    }
   },
   "id": "ef28a6189a555c16"
  },
  {
   "cell_type": "code",
   "execution_count": 146,
   "outputs": [
    {
     "data": {
      "text/plain": "tensor([[1.0958]])"
     },
     "execution_count": 146,
     "metadata": {},
     "output_type": "execute_result"
    }
   ],
   "source": [
    "torch.matmul(tensor, tensor.T)"
   ],
   "metadata": {
    "collapsed": false,
    "ExecuteTime": {
     "end_time": "2023-08-30T13:21:27.742406100Z",
     "start_time": "2023-08-30T13:21:26.900353300Z"
    }
   },
   "id": "bbe964967121173"
  },
  {
   "cell_type": "code",
   "execution_count": 147,
   "outputs": [
    {
     "data": {
      "text/plain": "tensor([0.7677, 0.4023, 0.3478, 0.4729])"
     },
     "execution_count": 147,
     "metadata": {},
     "output_type": "execute_result"
    }
   ],
   "source": [
    "tensor.flatten()"
   ],
   "metadata": {
    "collapsed": false,
    "ExecuteTime": {
     "end_time": "2023-08-30T13:21:27.742406100Z",
     "start_time": "2023-08-30T13:21:26.907156100Z"
    }
   },
   "id": "84ac134e70ed756a"
  },
  {
   "cell_type": "code",
   "execution_count": 148,
   "outputs": [
    {
     "data": {
      "text/plain": "torch.Size([1, 4])"
     },
     "execution_count": 148,
     "metadata": {},
     "output_type": "execute_result"
    }
   ],
   "source": [
    "tensor.shape"
   ],
   "metadata": {
    "collapsed": false,
    "ExecuteTime": {
     "end_time": "2023-08-30T13:21:27.742406100Z",
     "start_time": "2023-08-30T13:21:26.916486700Z"
    }
   },
   "id": "57086d4160d393d0"
  },
  {
   "cell_type": "code",
   "execution_count": 149,
   "outputs": [
    {
     "data": {
      "text/plain": "tensor([[1.0958]])"
     },
     "execution_count": 149,
     "metadata": {},
     "output_type": "execute_result"
    }
   ],
   "source": [
    "tensor @ tensor2"
   ],
   "metadata": {
    "collapsed": false,
    "ExecuteTime": {
     "end_time": "2023-08-30T13:21:27.742406100Z",
     "start_time": "2023-08-30T13:21:26.924471400Z"
    }
   },
   "id": "bfec3c55ab27c6c2"
  },
  {
   "cell_type": "code",
   "execution_count": 150,
   "outputs": [
    {
     "data": {
      "text/plain": "tensor([[ 27,  30,  33],\n        [ 61,  68,  75],\n        [ 95, 106, 117]])"
     },
     "execution_count": 150,
     "metadata": {},
     "output_type": "execute_result"
    }
   ],
   "source": [
    "# Shape for matrix\n",
    "\n",
    "tensorA = torch.tensor([[1, 2], [3, 4], [5, 6]])\n",
    "\n",
    "tensorB = torch.tensor([[7, 10], [8, 11], [9, 12]])\n",
    "\n",
    "torch.mm(tensorA, tensorB.T)  # torch.mm = torch.matmul"
   ],
   "metadata": {
    "collapsed": false,
    "ExecuteTime": {
     "end_time": "2023-08-30T13:21:27.742406100Z",
     "start_time": "2023-08-30T13:21:26.935352600Z"
    }
   },
   "id": "c3a471ca7a0a1ebe"
  },
  {
   "cell_type": "markdown",
   "source": [
    "### to fix our tensor shape issues, we can manipulate the shape of one of our tensors using a transpose\n",
    "\n",
    "### A **transpose** switches the axes or dimensions of a given tensor"
   ],
   "metadata": {
    "collapsed": false
   },
   "id": "6e1f6fec174784f3"
  },
  {
   "cell_type": "code",
   "execution_count": 151,
   "outputs": [
    {
     "data": {
      "text/plain": "(tensor([[ 7,  8,  9],\n         [10, 11, 12]]),\n tensor([[ 7, 10],\n         [ 8, 11],\n         [ 9, 12]]))"
     },
     "execution_count": 151,
     "metadata": {},
     "output_type": "execute_result"
    }
   ],
   "source": [
    "tensorB.T, tensorB"
   ],
   "metadata": {
    "collapsed": false,
    "ExecuteTime": {
     "end_time": "2023-08-30T13:21:27.742406100Z",
     "start_time": "2023-08-30T13:21:26.941207900Z"
    }
   },
   "id": "b194a61f4c4e46e2"
  },
  {
   "cell_type": "markdown",
   "source": [
    "# mean max min sum(tensor aggregation)"
   ],
   "metadata": {
    "collapsed": false
   },
   "id": "948f8cae69d179a8"
  },
  {
   "cell_type": "code",
   "execution_count": 161,
   "outputs": [
    {
     "data": {
      "text/plain": "(tensor([ 0, 10, 20, 30, 40, 50, 60, 70, 80, 90]), torch.int64)"
     },
     "execution_count": 161,
     "metadata": {},
     "output_type": "execute_result"
    }
   ],
   "source": [
    "x = torch.arange(0, 100, 10)\n",
    "x, x.dtype"
   ],
   "metadata": {
    "collapsed": false,
    "ExecuteTime": {
     "end_time": "2023-08-30T13:23:17.961715800Z",
     "start_time": "2023-08-30T13:23:17.946857300Z"
    }
   },
   "id": "ece936b8c0534da1"
  },
  {
   "cell_type": "code",
   "execution_count": 168,
   "outputs": [
    {
     "data": {
      "text/plain": "(tensor(0), tensor(0))"
     },
     "execution_count": 168,
     "metadata": {},
     "output_type": "execute_result"
    }
   ],
   "source": [
    "x.min(), torch.min(x)"
   ],
   "metadata": {
    "collapsed": false,
    "ExecuteTime": {
     "end_time": "2023-08-30T13:26:02.891374800Z",
     "start_time": "2023-08-30T13:26:02.875817600Z"
    }
   },
   "id": "6e8259b0b6521e1c"
  },
  {
   "cell_type": "code",
   "execution_count": 167,
   "outputs": [
    {
     "data": {
      "text/plain": "(tensor(90), tensor(90))"
     },
     "execution_count": 167,
     "metadata": {},
     "output_type": "execute_result"
    }
   ],
   "source": [
    "x.max(), torch.max(x)"
   ],
   "metadata": {
    "collapsed": false,
    "ExecuteTime": {
     "end_time": "2023-08-30T13:25:59.442283Z",
     "start_time": "2023-08-30T13:25:59.395069100Z"
    }
   },
   "id": "2a9008c80d76e5c0"
  },
  {
   "cell_type": "code",
   "execution_count": 166,
   "outputs": [
    {
     "data": {
      "text/plain": "(tensor(45.), tensor(45.))"
     },
     "execution_count": 166,
     "metadata": {},
     "output_type": "execute_result"
    }
   ],
   "source": [
    "torch.mean(x.type(torch.float32)), x.type(torch.float32).mean()"
   ],
   "metadata": {
    "collapsed": false,
    "ExecuteTime": {
     "end_time": "2023-08-30T13:25:56.063026700Z",
     "start_time": "2023-08-30T13:25:56.020048100Z"
    }
   },
   "id": "3da28a34c9f2d78e"
  },
  {
   "cell_type": "code",
   "execution_count": 170,
   "outputs": [
    {
     "data": {
      "text/plain": "(tensor(450), tensor(450))"
     },
     "execution_count": 170,
     "metadata": {},
     "output_type": "execute_result"
    }
   ],
   "source": [
    "x.sum(), torch.sum(x)"
   ],
   "metadata": {
    "collapsed": false,
    "ExecuteTime": {
     "end_time": "2023-08-30T13:26:41.802630700Z",
     "start_time": "2023-08-30T13:26:41.797260800Z"
    }
   },
   "id": "87282d9f47f77439"
  },
  {
   "cell_type": "code",
   "execution_count": 172,
   "outputs": [
    {
     "data": {
      "text/plain": "(tensor(0), tensor(9))"
     },
     "execution_count": 172,
     "metadata": {},
     "output_type": "execute_result"
    }
   ],
   "source": [
    "# find the positional\n",
    "x.argmin(), x.argmax()"
   ],
   "metadata": {
    "collapsed": false,
    "ExecuteTime": {
     "end_time": "2023-08-30T13:29:59.281890200Z",
     "start_time": "2023-08-30T13:29:59.266165800Z"
    }
   },
   "id": "111a8404a92c1855"
  },
  {
   "cell_type": "code",
   "execution_count": 173,
   "outputs": [
    {
     "data": {
      "text/plain": "(tensor(0), tensor(90))"
     },
     "execution_count": 173,
     "metadata": {},
     "output_type": "execute_result"
    }
   ],
   "source": [
    "x[0], x[9]"
   ],
   "metadata": {
    "collapsed": false,
    "ExecuteTime": {
     "end_time": "2023-08-30T13:30:16.765822600Z",
     "start_time": "2023-08-30T13:30:16.718078700Z"
    }
   },
   "id": "4ff4eefc208397c8"
  },
  {
   "cell_type": "markdown",
   "source": [
    "# Reshaping, Stacking, Squeezing and unsqueezing tensors\n",
    "\n",
    "### **reshaping**: reshape an input tensor to a defined shape\n",
    "### **view**: return a view of an input tensor of certain shape but keep the same memory as the original tensor\n",
    "### **stacking**: combine multiple tensors on top of each other (vstack) or side by side(hstack)\n",
    "### **squeeze**: removes all '1' dimensions from a tensor\n",
    "### **unsqueeze**: add a '1' dimension to a target tensor.\n",
    "### **permute**: return a view of the input with dimensions permuted(swapped) in a certain way."
   ],
   "metadata": {
    "collapsed": false
   },
   "id": "c6be29e1d0fdd3cf"
  },
  {
   "cell_type": "code",
   "execution_count": 198,
   "outputs": [
    {
     "data": {
      "text/plain": "(tensor([1., 2., 3., 4., 5., 6., 7., 8., 9.]), torch.Size([9]))"
     },
     "execution_count": 198,
     "metadata": {},
     "output_type": "execute_result"
    }
   ],
   "source": [
    "x = torch.arange(1, 10)\n",
    "x = x.type(torch.float32)\n",
    "x, x.shape"
   ],
   "metadata": {
    "collapsed": false,
    "ExecuteTime": {
     "end_time": "2023-08-30T13:47:34.075958500Z",
     "start_time": "2023-08-30T13:47:34.067362100Z"
    }
   },
   "id": "667257ad365afc99"
  },
  {
   "cell_type": "code",
   "execution_count": 199,
   "outputs": [
    {
     "data": {
      "text/plain": "(tensor([1., 2., 3., 4., 5., 6., 7., 8., 9.]),\n tensor([[1., 2., 3., 4., 5., 6., 7., 8., 9.]]),\n torch.Size([1, 9]))"
     },
     "execution_count": 199,
     "metadata": {},
     "output_type": "execute_result"
    }
   ],
   "source": [
    "x_1 = x.reshape(1, 9)\n",
    "x, x_1, x_1.shape"
   ],
   "metadata": {
    "collapsed": false,
    "ExecuteTime": {
     "end_time": "2023-08-30T13:47:34.962506300Z",
     "start_time": "2023-08-30T13:47:34.930234600Z"
    }
   },
   "id": "6a5e6543c6c658ca"
  },
  {
   "cell_type": "code",
   "execution_count": 236,
   "outputs": [
    {
     "data": {
      "text/plain": "(tensor([10.,  2.,  3.,  4.,  5.,  6.,  7.,  8.,  9.]),\n tensor([[10.,  2.,  3.,  4.,  5.,  6.,  7.,  8.,  9.]]),\n torch.Size([1, 9]))"
     },
     "execution_count": 236,
     "metadata": {},
     "output_type": "execute_result"
    }
   ],
   "source": [
    "x_2 = x.view(1, 9)\n",
    "x_2[0, 0] = 10\n",
    "x, x_2, x_2.shape"
   ],
   "metadata": {
    "collapsed": false,
    "ExecuteTime": {
     "end_time": "2023-08-30T14:03:15.052183800Z",
     "start_time": "2023-08-30T14:03:15.022108800Z"
    }
   },
   "id": "9c3f8f5510deb25f"
  },
  {
   "cell_type": "code",
   "execution_count": 213,
   "outputs": [
    {
     "data": {
      "text/plain": "(torch.Size([4, 9]), torch.Size([9, 4]))"
     },
     "execution_count": 213,
     "metadata": {},
     "output_type": "execute_result"
    }
   ],
   "source": [
    "x_stacked = torch.stack([x, x, x, x])\n",
    "x_stacked1 = torch.stack([x, x, x, x], dim=1)\n",
    "x_stacked.shape, x_stacked1.shape"
   ],
   "metadata": {
    "collapsed": false,
    "ExecuteTime": {
     "end_time": "2023-08-30T13:52:15.282169800Z",
     "start_time": "2023-08-30T13:52:15.250832600Z"
    }
   },
   "id": "2f8b46dd64aac4c0"
  },
  {
   "cell_type": "code",
   "execution_count": 211,
   "outputs": [
    {
     "data": {
      "text/plain": "(torch.Size([36]), torch.Size([4, 9]))"
     },
     "execution_count": 211,
     "metadata": {},
     "output_type": "execute_result"
    }
   ],
   "source": [
    "x_stacked = torch.hstack([x, x, x, x])\n",
    "x_stacked1 = torch.vstack([x, x, x, x])\n",
    "x_stacked.shape, x_stacked1.shape"
   ],
   "metadata": {
    "collapsed": false,
    "ExecuteTime": {
     "end_time": "2023-08-30T13:51:55.703649300Z",
     "start_time": "2023-08-30T13:51:55.687612Z"
    }
   },
   "id": "e185f85baa7e0300"
  },
  {
   "cell_type": "code",
   "execution_count": 218,
   "outputs": [
    {
     "data": {
      "text/plain": "(torch.Size([1, 9]), torch.Size([9]))"
     },
     "execution_count": 218,
     "metadata": {},
     "output_type": "execute_result"
    }
   ],
   "source": [
    "x_1.shape, x_1.squeeze().shape"
   ],
   "metadata": {
    "collapsed": false,
    "ExecuteTime": {
     "end_time": "2023-08-30T13:54:17.597519Z",
     "start_time": "2023-08-30T13:54:17.581917200Z"
    }
   },
   "id": "9a91f24245e2fa"
  },
  {
   "cell_type": "code",
   "execution_count": 219,
   "outputs": [
    {
     "data": {
      "text/plain": "(tensor([[1., 2., 3., 4., 5., 6., 7., 8., 9.]]),\n tensor([1., 2., 3., 4., 5., 6., 7., 8., 9.]))"
     },
     "execution_count": 219,
     "metadata": {},
     "output_type": "execute_result"
    }
   ],
   "source": [
    "x_1, x_1.squeeze()"
   ],
   "metadata": {
    "collapsed": false,
    "ExecuteTime": {
     "end_time": "2023-08-30T13:54:44.636568100Z",
     "start_time": "2023-08-30T13:54:44.566404100Z"
    }
   },
   "id": "3b17d984e65537f3"
  },
  {
   "cell_type": "code",
   "execution_count": 234,
   "outputs": [
    {
     "data": {
      "text/plain": "(torch.Size([1, 1, 9]), torch.Size([1, 9, 1]), torch.Size([1, 1, 9]))"
     },
     "execution_count": 234,
     "metadata": {},
     "output_type": "execute_result"
    }
   ],
   "source": [
    "x_1.unsqueeze(dim=1).shape, x_1.unsqueeze(dim=2).shape, x_1.unsqueeze(dim=0).shape"
   ],
   "metadata": {
    "collapsed": false,
    "ExecuteTime": {
     "end_time": "2023-08-30T13:58:30.224194Z",
     "start_time": "2023-08-30T13:58:30.217604100Z"
    }
   },
   "id": "600c6c91142f7c64"
  },
  {
   "cell_type": "code",
   "execution_count": 235,
   "outputs": [
    {
     "data": {
      "text/plain": "(torch.Size([224, 224, 3]), torch.Size([3, 224, 224]))"
     },
     "execution_count": 235,
     "metadata": {},
     "output_type": "execute_result"
    }
   ],
   "source": [
    "x_original = torch.rand(size=(224, 224, 3))\n",
    "x_permuted = x_original.permute(2, 0, 1)\n",
    "x_original.shape, x_permuted.shape"
   ],
   "metadata": {
    "collapsed": false,
    "ExecuteTime": {
     "end_time": "2023-08-30T14:02:01.604349600Z",
     "start_time": "2023-08-30T14:02:01.572640200Z"
    }
   },
   "id": "e6b2da533e20d713"
  },
  {
   "cell_type": "code",
   "execution_count": 237,
   "outputs": [
    {
     "data": {
      "text/plain": "(tensor([[[1, 2, 3],\n          [4, 5, 6],\n          [7, 8, 9]]]),\n torch.Size([1, 3, 3]))"
     },
     "execution_count": 237,
     "metadata": {},
     "output_type": "execute_result"
    }
   ],
   "source": [
    "x = torch.arange(1, 10).reshape(1, 3, 3)\n",
    "x, x.shape"
   ],
   "metadata": {
    "collapsed": false,
    "ExecuteTime": {
     "end_time": "2023-08-30T14:05:44.784280Z",
     "start_time": "2023-08-30T14:05:44.705126500Z"
    }
   },
   "id": "6dfc2cbeadfa31bd"
  },
  {
   "cell_type": "code",
   "execution_count": 240,
   "outputs": [
    {
     "data": {
      "text/plain": "(tensor([[1, 2, 3],\n         [4, 5, 6],\n         [7, 8, 9]]),\n tensor(7))"
     },
     "execution_count": 240,
     "metadata": {},
     "output_type": "execute_result"
    }
   ],
   "source": [
    "x[0], x[0, 2, 0]"
   ],
   "metadata": {
    "collapsed": false,
    "ExecuteTime": {
     "end_time": "2023-08-30T14:06:22.426578300Z",
     "start_time": "2023-08-30T14:06:22.404739100Z"
    }
   },
   "id": "b4dc0b06ba055fd4"
  },
  {
   "cell_type": "code",
   "execution_count": 242,
   "outputs": [
    {
     "data": {
      "text/plain": "(tensor([1, 2, 3]), tensor(1))"
     },
     "execution_count": 242,
     "metadata": {},
     "output_type": "execute_result"
    }
   ],
   "source": [
    "x[0][0], x[0][0][0]"
   ],
   "metadata": {
    "collapsed": false,
    "ExecuteTime": {
     "end_time": "2023-08-30T14:06:54.389481700Z",
     "start_time": "2023-08-30T14:06:54.346951200Z"
    }
   },
   "id": "330806a7aa801d9f"
  },
  {
   "cell_type": "code",
   "execution_count": 244,
   "outputs": [
    {
     "data": {
      "text/plain": "tensor([1, 4, 7])"
     },
     "execution_count": 244,
     "metadata": {},
     "output_type": "execute_result"
    }
   ],
   "source": [
    "x[0, :, 0]"
   ],
   "metadata": {
    "collapsed": false,
    "ExecuteTime": {
     "end_time": "2023-08-30T14:08:19.154486700Z",
     "start_time": "2023-08-30T14:08:19.138287100Z"
    }
   },
   "id": "b6b4f614582073ac"
  },
  {
   "cell_type": "code",
   "execution_count": 245,
   "outputs": [
    {
     "data": {
      "text/plain": "(tensor([5]), tensor(5))"
     },
     "execution_count": 245,
     "metadata": {},
     "output_type": "execute_result"
    }
   ],
   "source": [
    "x[:, 1, 1], x[0, 1, 1]  # important"
   ],
   "metadata": {
    "collapsed": false,
    "ExecuteTime": {
     "end_time": "2023-08-30T14:09:47.187586200Z",
     "start_time": "2023-08-30T14:09:47.081060500Z"
    }
   },
   "id": "32e8135f7a2dc14b"
  },
  {
   "cell_type": "markdown",
   "source": [
    "# Numpy"
   ],
   "metadata": {
    "collapsed": false
   },
   "id": "ee0eab5511f1e8e"
  },
  {
   "cell_type": "code",
   "execution_count": 261,
   "outputs": [
    {
     "data": {
      "text/plain": "(array([1., 2., 3., 4., 5., 6., 7.]),\n tensor([1., 2., 3., 4., 5., 6., 7.], dtype=torch.float64))"
     },
     "execution_count": 261,
     "metadata": {},
     "output_type": "execute_result"
    }
   ],
   "source": [
    "import numpy as np\n",
    "\n",
    "array = np.arange(1., 8., 1.0)\n",
    "tensor = torch.from_numpy(array)  # warning: it will send numpy dtype mostly float64\n",
    "array, tensor"
   ],
   "metadata": {
    "collapsed": false,
    "ExecuteTime": {
     "end_time": "2023-08-30T14:16:47.660004Z",
     "start_time": "2023-08-30T14:16:47.649666700Z"
    }
   },
   "id": "3e2522626e315a1c"
  },
  {
   "cell_type": "code",
   "execution_count": 262,
   "outputs": [
    {
     "data": {
      "text/plain": "(array([100.,   3.,   4.,   5.,   6.,   7.,   8.]),\n tensor([1., 2., 3., 4., 5., 6., 7.], dtype=torch.float64))"
     },
     "execution_count": 262,
     "metadata": {},
     "output_type": "execute_result"
    }
   ],
   "source": [
    "array = array + 1\n",
    "array[0] = 100\n",
    "array, tensor"
   ],
   "metadata": {
    "collapsed": false,
    "ExecuteTime": {
     "end_time": "2023-08-30T14:16:48.054928400Z",
     "start_time": "2023-08-30T14:16:48.023633500Z"
    }
   },
   "id": "be3eda000de16a21"
  },
  {
   "cell_type": "code",
   "execution_count": 264,
   "outputs": [
    {
     "data": {
      "text/plain": "(tensor([1., 1., 1., 1., 1., 1., 1.]),\n array([1., 1., 1., 1., 1., 1., 1.], dtype=float32))"
     },
     "execution_count": 264,
     "metadata": {},
     "output_type": "execute_result"
    }
   ],
   "source": [
    "tensor = torch.ones(7)\n",
    "array = tensor.numpy()\n",
    "tensor, array"
   ],
   "metadata": {
    "collapsed": false,
    "ExecuteTime": {
     "end_time": "2023-08-30T14:17:45.898439Z",
     "start_time": "2023-08-30T14:17:45.866139500Z"
    }
   },
   "id": "e4f543ac529ca530"
  },
  {
   "cell_type": "code",
   "execution_count": 265,
   "outputs": [
    {
     "data": {
      "text/plain": "(tensor([2., 2., 2., 2., 2., 2., 2.]),\n array([1., 1., 1., 1., 1., 1., 1.], dtype=float32))"
     },
     "execution_count": 265,
     "metadata": {},
     "output_type": "execute_result"
    }
   ],
   "source": [
    "tensor = tensor + 1\n",
    "tensor, array"
   ],
   "metadata": {
    "collapsed": false,
    "ExecuteTime": {
     "end_time": "2023-08-30T14:18:04.223839300Z",
     "start_time": "2023-08-30T14:18:04.149659700Z"
    }
   },
   "id": "18c17c6e2da21452"
  },
  {
   "cell_type": "markdown",
   "source": [
    "# Reproducibility ( trying to take random out of random)\n",
    "\n",
    "to reduce the randomness in neural network and pytorch come the concept of **random seed**\n",
    "essentially what the random seed does is \"flavour\" the randomness."
   ],
   "metadata": {
    "collapsed": false
   },
   "id": "872d5da71af164ca"
  },
  {
   "cell_type": "code",
   "execution_count": 272,
   "outputs": [
    {
     "name": "stdout",
     "output_type": "stream",
     "text": [
      "tensor([[0.9023, 0.7760, 0.2694, 0.9547],\n",
      "        [0.1822, 0.8206, 0.4911, 0.3487],\n",
      "        [0.4477, 0.3977, 0.9378, 0.9994]])\n",
      "tensor([[0.5508, 0.8449, 0.7012, 0.8528],\n",
      "        [0.4914, 0.9298, 0.3310, 0.6889],\n",
      "        [0.8756, 0.7816, 0.9540, 0.8593]])\n",
      "tensor([[False, False, False, False],\n",
      "        [False, False, False, False],\n",
      "        [False, False, False, False]])\n"
     ]
    }
   ],
   "source": [
    "import torch\n",
    "\n",
    "random_tensor_a = torch.rand(3, 4)\n",
    "random_tensor_b = torch.rand(3, 4)\n",
    "print(random_tensor_a)\n",
    "print(random_tensor_b)\n",
    "print(random_tensor_b == random_tensor_a)"
   ],
   "metadata": {
    "collapsed": false,
    "ExecuteTime": {
     "end_time": "2023-08-30T14:30:53.373101700Z",
     "start_time": "2023-08-30T14:30:53.341816600Z"
    }
   },
   "id": "248406093a40845"
  },
  {
   "cell_type": "code",
   "execution_count": 302,
   "outputs": [
    {
     "name": "stdout",
     "output_type": "stream",
     "text": [
      "tensor([[0.8823, 0.9150, 0.3829, 0.9593],\n",
      "        [0.3904, 0.6009, 0.2566, 0.7936],\n",
      "        [0.9408, 0.1332, 0.9346, 0.5936]])\n",
      "tensor([[0.8823, 0.9150, 0.3829, 0.9593],\n",
      "        [0.3904, 0.6009, 0.2566, 0.7936],\n",
      "        [0.9408, 0.1332, 0.9346, 0.5936]])\n",
      "tensor([[True, True, True, True],\n",
      "        [True, True, True, True],\n",
      "        [True, True, True, True]])\n"
     ]
    }
   ],
   "source": [
    "random_seed = 42\n",
    "torch.manual_seed(random_seed)\n",
    "random_tensor_c = torch.rand(3, 4)\n",
    "\n",
    "torch.manual_seed(random_seed)\n",
    "random_tensor_d = torch.rand(3, 4)\n",
    "print(random_tensor_c)\n",
    "print(random_tensor_d)\n",
    "print(random_tensor_c == random_tensor_d)"
   ],
   "metadata": {
    "collapsed": false,
    "ExecuteTime": {
     "end_time": "2023-08-30T14:35:30.656831400Z",
     "start_time": "2023-08-30T14:35:30.652551900Z"
    }
   },
   "id": "1901ea9b54e2edde"
  },
  {
   "cell_type": "markdown",
   "source": [
    "### 1. Getting a GPU\n"
   ],
   "metadata": {
    "collapsed": false
   },
   "id": "57639c3b395bbdc8"
  },
  {
   "cell_type": "code",
   "execution_count": 1,
   "outputs": [
    {
     "data": {
      "text/plain": "True"
     },
     "execution_count": 1,
     "metadata": {},
     "output_type": "execute_result"
    }
   ],
   "source": [
    "import torch\n",
    "torch.cuda.is_available()"
   ],
   "metadata": {
    "collapsed": false,
    "ExecuteTime": {
     "end_time": "2023-08-30T15:05:05.907935900Z",
     "start_time": "2023-08-30T15:04:48.961363Z"
    }
   },
   "id": "8402d115db3598ca"
  },
  {
   "cell_type": "code",
   "execution_count": 2,
   "outputs": [
    {
     "data": {
      "text/plain": "'cuda'"
     },
     "execution_count": 2,
     "metadata": {},
     "output_type": "execute_result"
    }
   ],
   "source": [
    "device = \"cuda\" if torch.cuda.is_available() else \"cpu\"\n",
    "device"
   ],
   "metadata": {
    "collapsed": false,
    "ExecuteTime": {
     "end_time": "2023-08-30T15:06:10.027290600Z",
     "start_time": "2023-08-30T15:06:09.932120300Z"
    }
   },
   "id": "307ec11f5104909"
  },
  {
   "cell_type": "code",
   "execution_count": 3,
   "outputs": [
    {
     "data": {
      "text/plain": "1"
     },
     "execution_count": 3,
     "metadata": {},
     "output_type": "execute_result"
    }
   ],
   "source": [
    "torch.cuda.device_count()"
   ],
   "metadata": {
    "collapsed": false,
    "ExecuteTime": {
     "end_time": "2023-08-30T15:06:41.975261100Z",
     "start_time": "2023-08-30T15:06:41.895987500Z"
    }
   },
   "id": "6be63ab523d80824"
  },
  {
   "cell_type": "code",
   "execution_count": 4,
   "outputs": [
    {
     "data": {
      "text/plain": "device(type='cpu')"
     },
     "execution_count": 4,
     "metadata": {},
     "output_type": "execute_result"
    }
   ],
   "source": [
    "tensor = torch.tensor([1,2,3])\n",
    "\n",
    "tensor.device"
   ],
   "metadata": {
    "collapsed": false,
    "ExecuteTime": {
     "end_time": "2023-08-30T15:12:22.211939200Z",
     "start_time": "2023-08-30T15:12:22.154502300Z"
    }
   },
   "id": "e418f68df7a240c1"
  },
  {
   "cell_type": "code",
   "execution_count": 8,
   "outputs": [],
   "source": [
    "tensor = tensor.to(\"cuda\") # or tensor.to(device)"
   ],
   "metadata": {
    "collapsed": false,
    "ExecuteTime": {
     "end_time": "2023-08-30T15:16:05.102335600Z",
     "start_time": "2023-08-30T15:16:05.070558400Z"
    }
   },
   "id": "f92c36789c3d3fcb"
  },
  {
   "cell_type": "code",
   "execution_count": 9,
   "outputs": [
    {
     "ename": "TypeError",
     "evalue": "can't convert cuda:0 device type tensor to numpy. Use Tensor.cpu() to copy the tensor to host memory first.",
     "output_type": "error",
     "traceback": [
      "\u001B[1;31m---------------------------------------------------------------------------\u001B[0m",
      "\u001B[1;31mTypeError\u001B[0m                                 Traceback (most recent call last)",
      "Cell \u001B[1;32mIn[9], line 1\u001B[0m\n\u001B[1;32m----> 1\u001B[0m \u001B[43mtensor\u001B[49m\u001B[38;5;241;43m.\u001B[39;49m\u001B[43mnumpy\u001B[49m\u001B[43m(\u001B[49m\u001B[43m)\u001B[49m\n",
      "\u001B[1;31mTypeError\u001B[0m: can't convert cuda:0 device type tensor to numpy. Use Tensor.cpu() to copy the tensor to host memory first."
     ]
    }
   ],
   "source": [
    "tensor.numpy()"
   ],
   "metadata": {
    "collapsed": false,
    "ExecuteTime": {
     "end_time": "2023-08-30T15:16:06.426297100Z",
     "start_time": "2023-08-30T15:16:06.330045100Z"
    }
   },
   "id": "f0dc508bcfc7643a"
  },
  {
   "cell_type": "code",
   "execution_count": 10,
   "outputs": [],
   "source": [
    "tensor_back = tensor.cpu()"
   ],
   "metadata": {
    "collapsed": false,
    "ExecuteTime": {
     "end_time": "2023-08-30T15:17:25.958329100Z",
     "start_time": "2023-08-30T15:17:25.878915Z"
    }
   },
   "id": "aea9ef50ce82c2a9"
  },
  {
   "cell_type": "code",
   "execution_count": 11,
   "outputs": [
    {
     "data": {
      "text/plain": "array([1, 2, 3], dtype=int64)"
     },
     "execution_count": 11,
     "metadata": {},
     "output_type": "execute_result"
    }
   ],
   "source": [
    "tensor_back.numpy()\n",
    "tensor.cpu().numpy()"
   ],
   "metadata": {
    "collapsed": false,
    "ExecuteTime": {
     "end_time": "2023-08-30T15:17:35.056360100Z",
     "start_time": "2023-08-30T15:17:34.967679700Z"
    }
   },
   "id": "3c57def43e37f475"
  },
  {
   "cell_type": "code",
   "execution_count": null,
   "outputs": [],
   "source": [],
   "metadata": {
    "collapsed": false
   },
   "id": "4e0a06a0401f2fee"
  }
 ],
 "metadata": {
  "kernelspec": {
   "display_name": "Python 3",
   "language": "python",
   "name": "python3"
  },
  "language_info": {
   "codemirror_mode": {
    "name": "ipython",
    "version": 2
   },
   "file_extension": ".py",
   "mimetype": "text/x-python",
   "name": "python",
   "nbconvert_exporter": "python",
   "pygments_lexer": "ipython2",
   "version": "2.7.6"
  }
 },
 "nbformat": 4,
 "nbformat_minor": 5
}
