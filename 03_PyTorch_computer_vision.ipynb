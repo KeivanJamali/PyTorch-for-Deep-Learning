{
 "cells": [
  {
   "cell_type": "code",
   "execution_count": 1,
   "id": "initial_id",
   "metadata": {
    "collapsed": true,
    "ExecuteTime": {
     "end_time": "2023-09-07T09:02:34.748701500Z",
     "start_time": "2023-09-07T09:02:27.742536800Z"
    }
   },
   "outputs": [
    {
     "name": "stdout",
     "output_type": "stream",
     "text": [
      "2.0.1+cu118\n",
      "0.15.2+cu118\n"
     ]
    }
   ],
   "source": [
    "# library\n",
    "import torch\n",
    "from torch import nn\n",
    "\n",
    "import torchvision\n",
    "from torchvision import datasets\n",
    "from torchvision import transforms\n",
    "from torchvision.transforms import ToTensor\n",
    "\n",
    "import matplotlib.pyplot as plt\n",
    "\n",
    "print(torch.__version__)\n",
    "print(torchvision.__version__)"
   ]
  },
  {
   "cell_type": "markdown",
   "source": [
    "# Fashion MNIST"
   ],
   "metadata": {
    "collapsed": false
   },
   "id": "b9f25bde48bab8a0"
  },
  {
   "cell_type": "code",
   "execution_count": 2,
   "outputs": [],
   "source": [
    "train_data = datasets.FashionMNIST(\n",
    "    root=\"data\",\n",
    "    train=True,  # do we want the training dataset\n",
    "    download=False,\n",
    "    transform=ToTensor(),\n",
    "    target_transform=None  # how do we want to transform the label/target\n",
    ")\n",
    "\n",
    "test_data = datasets.FashionMNIST(\n",
    "    root=\"data\",\n",
    "    train=False,\n",
    "    download=False,\n",
    "    transform=torchvision.transforms.ToTensor(),\n",
    "    target_transform=None\n",
    ")"
   ],
   "metadata": {
    "collapsed": false,
    "ExecuteTime": {
     "end_time": "2023-09-07T09:02:34.882016300Z",
     "start_time": "2023-09-07T09:02:34.751669700Z"
    }
   },
   "id": "a0fd8526e710330e"
  },
  {
   "cell_type": "code",
   "execution_count": 3,
   "outputs": [
    {
     "data": {
      "text/plain": "(60000, 10000)"
     },
     "execution_count": 3,
     "metadata": {},
     "output_type": "execute_result"
    }
   ],
   "source": [
    "len(train_data), len(test_data)"
   ],
   "metadata": {
    "collapsed": false,
    "ExecuteTime": {
     "end_time": "2023-09-07T09:02:34.901789Z",
     "start_time": "2023-09-07T09:02:34.882016300Z"
    }
   },
   "id": "b67f5ba09e89026a"
  },
  {
   "cell_type": "code",
   "execution_count": 4,
   "outputs": [
    {
     "data": {
      "text/plain": "(tensor([[[0.0000, 0.0000, 0.0000, 0.0000, 0.0000, 0.0000, 0.0000, 0.0000,\n           0.0000, 0.0000, 0.0000, 0.0000, 0.0000, 0.0000, 0.0000, 0.0000,\n           0.0000, 0.0000, 0.0000, 0.0000, 0.0000, 0.0000, 0.0000, 0.0000,\n           0.0000, 0.0000, 0.0000, 0.0000],\n          [0.0000, 0.0000, 0.0000, 0.0000, 0.0000, 0.0000, 0.0000, 0.0000,\n           0.0000, 0.0000, 0.0000, 0.0000, 0.0000, 0.0000, 0.0000, 0.0000,\n           0.0000, 0.0000, 0.0000, 0.0000, 0.0000, 0.0000, 0.0000, 0.0000,\n           0.0000, 0.0000, 0.0000, 0.0000],\n          [0.0000, 0.0000, 0.0000, 0.0000, 0.0000, 0.0000, 0.0000, 0.0000,\n           0.0000, 0.0000, 0.0000, 0.0000, 0.0000, 0.0000, 0.0000, 0.0000,\n           0.0000, 0.0000, 0.0000, 0.0000, 0.0000, 0.0000, 0.0000, 0.0000,\n           0.0000, 0.0000, 0.0000, 0.0000],\n          [0.0000, 0.0000, 0.0000, 0.0000, 0.0000, 0.0000, 0.0000, 0.0000,\n           0.0000, 0.0000, 0.0000, 0.0000, 0.0039, 0.0000, 0.0000, 0.0510,\n           0.2863, 0.0000, 0.0000, 0.0039, 0.0157, 0.0000, 0.0000, 0.0000,\n           0.0000, 0.0039, 0.0039, 0.0000],\n          [0.0000, 0.0000, 0.0000, 0.0000, 0.0000, 0.0000, 0.0000, 0.0000,\n           0.0000, 0.0000, 0.0000, 0.0000, 0.0118, 0.0000, 0.1412, 0.5333,\n           0.4980, 0.2431, 0.2118, 0.0000, 0.0000, 0.0000, 0.0039, 0.0118,\n           0.0157, 0.0000, 0.0000, 0.0118],\n          [0.0000, 0.0000, 0.0000, 0.0000, 0.0000, 0.0000, 0.0000, 0.0000,\n           0.0000, 0.0000, 0.0000, 0.0000, 0.0235, 0.0000, 0.4000, 0.8000,\n           0.6902, 0.5255, 0.5647, 0.4824, 0.0902, 0.0000, 0.0000, 0.0000,\n           0.0000, 0.0471, 0.0392, 0.0000],\n          [0.0000, 0.0000, 0.0000, 0.0000, 0.0000, 0.0000, 0.0000, 0.0000,\n           0.0000, 0.0000, 0.0000, 0.0000, 0.0000, 0.0000, 0.6078, 0.9255,\n           0.8118, 0.6980, 0.4196, 0.6118, 0.6314, 0.4275, 0.2510, 0.0902,\n           0.3020, 0.5098, 0.2824, 0.0588],\n          [0.0000, 0.0000, 0.0000, 0.0000, 0.0000, 0.0000, 0.0000, 0.0000,\n           0.0000, 0.0000, 0.0000, 0.0039, 0.0000, 0.2706, 0.8118, 0.8745,\n           0.8549, 0.8471, 0.8471, 0.6392, 0.4980, 0.4745, 0.4784, 0.5725,\n           0.5529, 0.3451, 0.6745, 0.2588],\n          [0.0000, 0.0000, 0.0000, 0.0000, 0.0000, 0.0000, 0.0000, 0.0000,\n           0.0000, 0.0039, 0.0039, 0.0039, 0.0000, 0.7843, 0.9098, 0.9098,\n           0.9137, 0.8980, 0.8745, 0.8745, 0.8431, 0.8353, 0.6431, 0.4980,\n           0.4824, 0.7686, 0.8980, 0.0000],\n          [0.0000, 0.0000, 0.0000, 0.0000, 0.0000, 0.0000, 0.0000, 0.0000,\n           0.0000, 0.0000, 0.0000, 0.0000, 0.0000, 0.7176, 0.8824, 0.8471,\n           0.8745, 0.8941, 0.9216, 0.8902, 0.8784, 0.8706, 0.8784, 0.8667,\n           0.8745, 0.9608, 0.6784, 0.0000],\n          [0.0000, 0.0000, 0.0000, 0.0000, 0.0000, 0.0000, 0.0000, 0.0000,\n           0.0000, 0.0000, 0.0000, 0.0000, 0.0000, 0.7569, 0.8941, 0.8549,\n           0.8353, 0.7765, 0.7059, 0.8314, 0.8235, 0.8275, 0.8353, 0.8745,\n           0.8627, 0.9529, 0.7922, 0.0000],\n          [0.0000, 0.0000, 0.0000, 0.0000, 0.0000, 0.0000, 0.0000, 0.0000,\n           0.0000, 0.0039, 0.0118, 0.0000, 0.0471, 0.8588, 0.8627, 0.8314,\n           0.8549, 0.7529, 0.6627, 0.8902, 0.8157, 0.8549, 0.8784, 0.8314,\n           0.8863, 0.7725, 0.8196, 0.2039],\n          [0.0000, 0.0000, 0.0000, 0.0000, 0.0000, 0.0000, 0.0000, 0.0000,\n           0.0000, 0.0000, 0.0235, 0.0000, 0.3882, 0.9569, 0.8706, 0.8627,\n           0.8549, 0.7961, 0.7765, 0.8667, 0.8431, 0.8353, 0.8706, 0.8627,\n           0.9608, 0.4667, 0.6549, 0.2196],\n          [0.0000, 0.0000, 0.0000, 0.0000, 0.0000, 0.0000, 0.0000, 0.0000,\n           0.0000, 0.0157, 0.0000, 0.0000, 0.2157, 0.9255, 0.8941, 0.9020,\n           0.8941, 0.9412, 0.9098, 0.8353, 0.8549, 0.8745, 0.9176, 0.8510,\n           0.8510, 0.8196, 0.3608, 0.0000],\n          [0.0000, 0.0000, 0.0039, 0.0157, 0.0235, 0.0275, 0.0078, 0.0000,\n           0.0000, 0.0000, 0.0000, 0.0000, 0.9294, 0.8863, 0.8510, 0.8745,\n           0.8706, 0.8588, 0.8706, 0.8667, 0.8471, 0.8745, 0.8980, 0.8431,\n           0.8549, 1.0000, 0.3020, 0.0000],\n          [0.0000, 0.0118, 0.0000, 0.0000, 0.0000, 0.0000, 0.0000, 0.0000,\n           0.0000, 0.2431, 0.5686, 0.8000, 0.8941, 0.8118, 0.8353, 0.8667,\n           0.8549, 0.8157, 0.8275, 0.8549, 0.8784, 0.8745, 0.8588, 0.8431,\n           0.8784, 0.9569, 0.6235, 0.0000],\n          [0.0000, 0.0000, 0.0000, 0.0000, 0.0706, 0.1725, 0.3216, 0.4196,\n           0.7412, 0.8941, 0.8627, 0.8706, 0.8510, 0.8863, 0.7843, 0.8039,\n           0.8275, 0.9020, 0.8784, 0.9176, 0.6902, 0.7373, 0.9804, 0.9725,\n           0.9137, 0.9333, 0.8431, 0.0000],\n          [0.0000, 0.2235, 0.7333, 0.8157, 0.8784, 0.8667, 0.8784, 0.8157,\n           0.8000, 0.8392, 0.8157, 0.8196, 0.7843, 0.6235, 0.9608, 0.7569,\n           0.8078, 0.8745, 1.0000, 1.0000, 0.8667, 0.9176, 0.8667, 0.8275,\n           0.8627, 0.9098, 0.9647, 0.0000],\n          [0.0118, 0.7922, 0.8941, 0.8784, 0.8667, 0.8275, 0.8275, 0.8392,\n           0.8039, 0.8039, 0.8039, 0.8627, 0.9412, 0.3137, 0.5882, 1.0000,\n           0.8980, 0.8667, 0.7373, 0.6039, 0.7490, 0.8235, 0.8000, 0.8196,\n           0.8706, 0.8941, 0.8824, 0.0000],\n          [0.3843, 0.9137, 0.7765, 0.8235, 0.8706, 0.8980, 0.8980, 0.9176,\n           0.9765, 0.8627, 0.7608, 0.8431, 0.8510, 0.9451, 0.2549, 0.2863,\n           0.4157, 0.4588, 0.6588, 0.8588, 0.8667, 0.8431, 0.8510, 0.8745,\n           0.8745, 0.8784, 0.8980, 0.1137],\n          [0.2941, 0.8000, 0.8314, 0.8000, 0.7569, 0.8039, 0.8275, 0.8824,\n           0.8471, 0.7255, 0.7725, 0.8078, 0.7765, 0.8353, 0.9412, 0.7647,\n           0.8902, 0.9608, 0.9373, 0.8745, 0.8549, 0.8314, 0.8196, 0.8706,\n           0.8627, 0.8667, 0.9020, 0.2627],\n          [0.1882, 0.7961, 0.7176, 0.7608, 0.8353, 0.7725, 0.7255, 0.7451,\n           0.7608, 0.7529, 0.7922, 0.8392, 0.8588, 0.8667, 0.8627, 0.9255,\n           0.8824, 0.8471, 0.7804, 0.8078, 0.7294, 0.7098, 0.6941, 0.6745,\n           0.7098, 0.8039, 0.8078, 0.4510],\n          [0.0000, 0.4784, 0.8588, 0.7569, 0.7020, 0.6706, 0.7176, 0.7686,\n           0.8000, 0.8235, 0.8353, 0.8118, 0.8275, 0.8235, 0.7843, 0.7686,\n           0.7608, 0.7490, 0.7647, 0.7490, 0.7765, 0.7529, 0.6902, 0.6118,\n           0.6549, 0.6941, 0.8235, 0.3608],\n          [0.0000, 0.0000, 0.2902, 0.7412, 0.8314, 0.7490, 0.6863, 0.6745,\n           0.6863, 0.7098, 0.7255, 0.7373, 0.7412, 0.7373, 0.7569, 0.7765,\n           0.8000, 0.8196, 0.8235, 0.8235, 0.8275, 0.7373, 0.7373, 0.7608,\n           0.7529, 0.8471, 0.6667, 0.0000],\n          [0.0078, 0.0000, 0.0000, 0.0000, 0.2588, 0.7843, 0.8706, 0.9294,\n           0.9373, 0.9490, 0.9647, 0.9529, 0.9569, 0.8667, 0.8627, 0.7569,\n           0.7490, 0.7020, 0.7137, 0.7137, 0.7098, 0.6902, 0.6510, 0.6588,\n           0.3882, 0.2275, 0.0000, 0.0000],\n          [0.0000, 0.0000, 0.0000, 0.0000, 0.0000, 0.0000, 0.0000, 0.1569,\n           0.2392, 0.1725, 0.2824, 0.1608, 0.1373, 0.0000, 0.0000, 0.0000,\n           0.0000, 0.0000, 0.0000, 0.0000, 0.0000, 0.0000, 0.0000, 0.0000,\n           0.0000, 0.0000, 0.0000, 0.0000],\n          [0.0000, 0.0000, 0.0000, 0.0000, 0.0000, 0.0000, 0.0000, 0.0000,\n           0.0000, 0.0000, 0.0000, 0.0000, 0.0000, 0.0000, 0.0000, 0.0000,\n           0.0000, 0.0000, 0.0000, 0.0000, 0.0000, 0.0000, 0.0000, 0.0000,\n           0.0000, 0.0000, 0.0000, 0.0000],\n          [0.0000, 0.0000, 0.0000, 0.0000, 0.0000, 0.0000, 0.0000, 0.0000,\n           0.0000, 0.0000, 0.0000, 0.0000, 0.0000, 0.0000, 0.0000, 0.0000,\n           0.0000, 0.0000, 0.0000, 0.0000, 0.0000, 0.0000, 0.0000, 0.0000,\n           0.0000, 0.0000, 0.0000, 0.0000]]]),\n 9)"
     },
     "execution_count": 4,
     "metadata": {},
     "output_type": "execute_result"
    }
   ],
   "source": [
    "image, label = train_data[0]\n",
    "image, label"
   ],
   "metadata": {
    "collapsed": false,
    "ExecuteTime": {
     "end_time": "2023-09-07T09:02:35.017380100Z",
     "start_time": "2023-09-07T09:02:34.901789Z"
    }
   },
   "id": "fc33dba2fde0a425"
  },
  {
   "cell_type": "code",
   "execution_count": 5,
   "outputs": [
    {
     "data": {
      "text/plain": "['T-shirt/top',\n 'Trouser',\n 'Pullover',\n 'Dress',\n 'Coat',\n 'Sandal',\n 'Shirt',\n 'Sneaker',\n 'Bag',\n 'Ankle boot']"
     },
     "execution_count": 5,
     "metadata": {},
     "output_type": "execute_result"
    }
   ],
   "source": [
    "class_names = train_data.classes\n",
    "class_names"
   ],
   "metadata": {
    "collapsed": false,
    "ExecuteTime": {
     "end_time": "2023-09-07T09:02:35.017380100Z",
     "start_time": "2023-09-07T09:02:34.960950800Z"
    }
   },
   "id": "a80a34329c9a188e"
  },
  {
   "cell_type": "code",
   "execution_count": 6,
   "outputs": [
    {
     "data": {
      "text/plain": "{'T-shirt/top': 0,\n 'Trouser': 1,\n 'Pullover': 2,\n 'Dress': 3,\n 'Coat': 4,\n 'Sandal': 5,\n 'Shirt': 6,\n 'Sneaker': 7,\n 'Bag': 8,\n 'Ankle boot': 9}"
     },
     "execution_count": 6,
     "metadata": {},
     "output_type": "execute_result"
    }
   ],
   "source": [
    "class_data_to_idx = train_data.class_to_idx\n",
    "class_data_to_idx"
   ],
   "metadata": {
    "collapsed": false,
    "ExecuteTime": {
     "end_time": "2023-09-07T09:02:35.017380100Z",
     "start_time": "2023-09-07T09:02:34.967483100Z"
    }
   },
   "id": "85caac85764f21ed"
  },
  {
   "cell_type": "code",
   "execution_count": 7,
   "outputs": [
    {
     "data": {
      "text/plain": "tensor([9, 0, 0,  ..., 3, 0, 5])"
     },
     "execution_count": 7,
     "metadata": {},
     "output_type": "execute_result"
    }
   ],
   "source": [
    "train_data.targets"
   ],
   "metadata": {
    "collapsed": false,
    "ExecuteTime": {
     "end_time": "2023-09-07T09:02:35.017380100Z",
     "start_time": "2023-09-07T09:02:34.972977600Z"
    }
   },
   "id": "92441ca50ec51cac"
  },
  {
   "cell_type": "code",
   "execution_count": 8,
   "outputs": [
    {
     "data": {
      "text/plain": "(torch.Size([1, 28, 28]), 9)"
     },
     "execution_count": 8,
     "metadata": {},
     "output_type": "execute_result"
    }
   ],
   "source": [
    "image.shape, label"
   ],
   "metadata": {
    "collapsed": false,
    "ExecuteTime": {
     "end_time": "2023-09-07T09:02:35.022389800Z",
     "start_time": "2023-09-07T09:02:34.987535Z"
    }
   },
   "id": "3c2f5512ff53e5a7"
  },
  {
   "cell_type": "markdown",
   "source": [
    "# visulaize data"
   ],
   "metadata": {
    "collapsed": false
   },
   "id": "21aeea4123e49ae5"
  },
  {
   "cell_type": "code",
   "execution_count": 9,
   "outputs": [
    {
     "name": "stdout",
     "output_type": "stream",
     "text": [
      "Image shape: torch.Size([1, 28, 28])\n"
     ]
    },
    {
     "data": {
      "text/plain": "<matplotlib.image.AxesImage at 0x26ef04923d0>"
     },
     "execution_count": 9,
     "metadata": {},
     "output_type": "execute_result"
    },
    {
     "data": {
      "text/plain": "<Figure size 640x480 with 1 Axes>",
      "image/png": "[encoded data removed]"
     },
     "metadata": {},
     "output_type": "display_data"
    }
   ],
   "source": [
    "import matplotlib.pyplot as plt\n",
    "\n",
    "image, label = train_data[0]\n",
    "print(f\"Image shape: {image.shape}\")\n",
    "plt.imshow(image.squeeze())"
   ],
   "metadata": {
    "collapsed": false,
    "ExecuteTime": {
     "end_time": "2023-09-07T09:02:35.353314700Z",
     "start_time": "2023-09-07T09:02:34.997337800Z"
    }
   },
   "id": "c8931e2e9302c447"
  },
  {
   "cell_type": "code",
   "execution_count": 10,
   "outputs": [
    {
     "name": "stdout",
     "output_type": "stream",
     "text": [
      "Image shape: torch.Size([1, 28, 28])\n"
     ]
    },
    {
     "data": {
      "text/plain": "<Figure size 640x480 with 1 Axes>",
      "image/png": "[encoded data removed]"
     },
     "metadata": {},
     "output_type": "display_data"
    }
   ],
   "source": [
    "import matplotlib.pyplot as plt\n",
    "\n",
    "image, label = train_data[0]\n",
    "print(f\"Image shape: {image.shape}\")\n",
    "plt.imshow(image.squeeze())\n",
    "plt.title(label);"
   ],
   "metadata": {
    "collapsed": false,
    "ExecuteTime": {
     "end_time": "2023-09-07T09:02:35.549749100Z",
     "start_time": "2023-09-07T09:02:35.353314700Z"
    }
   },
   "id": "54f49129ffbc21e5"
  },
  {
   "cell_type": "code",
   "execution_count": 11,
   "outputs": [
    {
     "data": {
      "text/plain": "<Figure size 640x480 with 1 Axes>",
      "image/png": "[encoded data removed]"
     },
     "metadata": {},
     "output_type": "display_data"
    }
   ],
   "source": [
    "plt.imshow(image.squeeze(), cmap=\"gray\")\n",
    "plt.title(class_names[label])\n",
    "plt.axis(False);"
   ],
   "metadata": {
    "collapsed": false,
    "ExecuteTime": {
     "end_time": "2023-09-07T09:02:35.698440800Z",
     "start_time": "2023-09-07T09:02:35.553256500Z"
    }
   },
   "id": "f958ef8fee195633"
  },
  {
   "cell_type": "code",
   "execution_count": 12,
   "outputs": [
    {
     "data": {
      "text/plain": "<Figure size 900x900 with 16 Axes>",
      "image/png": "[encoded data removed]"
     },
     "metadata": {},
     "output_type": "display_data"
    }
   ],
   "source": [
    "# torch.manual_seed(42)\n",
    "fig = plt.figure(figsize=(9, 9))\n",
    "rows, cols = 4, 4\n",
    "for i in range(1, 4 * 4 + 1):\n",
    "    random_idx = torch.randint(0, len(train_data), size=[1]).item()\n",
    "    img, label = train_data[random_idx]\n",
    "    fig.add_subplot(rows, cols, i)\n",
    "    plt.imshow(img.squeeze())\n",
    "    plt.title(class_names[label])\n",
    "    plt.axis(False)"
   ],
   "metadata": {
    "collapsed": false,
    "ExecuteTime": {
     "end_time": "2023-09-07T09:02:36.388528300Z",
     "start_time": "2023-09-07T09:02:35.658441800Z"
    }
   },
   "id": "fc179d15c0b5a34f"
  },
  {
   "cell_type": "code",
   "execution_count": 13,
   "outputs": [
    {
     "data": {
      "text/plain": "(Dataset FashionMNIST\n     Number of datapoints: 60000\n     Root location: data\n     Split: Train\n     StandardTransform\n Transform: ToTensor(),\n Dataset FashionMNIST\n     Number of datapoints: 10000\n     Root location: data\n     Split: Test\n     StandardTransform\n Transform: ToTensor())"
     },
     "execution_count": 13,
     "metadata": {},
     "output_type": "execute_result"
    }
   ],
   "source": [
    "train_data, test_data"
   ],
   "metadata": {
    "collapsed": false,
    "ExecuteTime": {
     "end_time": "2023-09-07T09:02:36.411996600Z",
     "start_time": "2023-09-07T09:02:36.393920800Z"
    }
   },
   "id": "37c737ef363c043a"
  },
  {
   "cell_type": "markdown",
   "source": [
    "# why batches\n",
    "### better for computation\n",
    "### it give more chances to update model per epoch"
   ],
   "metadata": {
    "collapsed": false
   },
   "id": "b4cae95f4334731d"
  },
  {
   "cell_type": "code",
   "execution_count": 14,
   "outputs": [
    {
     "data": {
      "text/plain": "(<torch.utils.data.dataloader.DataLoader at 0x26ef099acd0>,\n <torch.utils.data.dataloader.DataLoader at 0x26ef056d810>)"
     },
     "execution_count": 14,
     "metadata": {},
     "output_type": "execute_result"
    }
   ],
   "source": [
    "from torch.utils.data import DataLoader\n",
    "\n",
    "batch_size = 32\n",
    "\n",
    "train_dataloader = DataLoader(dataset=train_data, batch_size=batch_size, shuffle=True)\n",
    "test_dataloader = DataLoader(dataset=test_data, batch_size=batch_size, shuffle=False)\n",
    "\n",
    "train_dataloader, test_dataloader\n"
   ],
   "metadata": {
    "collapsed": false,
    "ExecuteTime": {
     "end_time": "2023-09-07T09:02:36.411996600Z",
     "start_time": "2023-09-07T09:02:36.401945400Z"
    }
   },
   "id": "ceb8cd161392abad"
  },
  {
   "cell_type": "code",
   "execution_count": 15,
   "outputs": [
    {
     "name": "stdout",
     "output_type": "stream",
     "text": [
      "DataLoader: (<torch.utils.data.dataloader.DataLoader object at 0x0000026EF099ACD0>, <torch.utils.data.dataloader.DataLoader object at 0x0000026EF056D810>)\n",
      "len train: 1875\n",
      "len test: 313\n"
     ]
    }
   ],
   "source": [
    "print(f\"DataLoader: {train_dataloader, test_dataloader}\")\n",
    "print(f\"len train: {len(train_dataloader)}\")\n",
    "print(f\"len test: {len(test_dataloader)}\")\n"
   ],
   "metadata": {
    "collapsed": false,
    "ExecuteTime": {
     "end_time": "2023-09-07T09:02:36.585559400Z",
     "start_time": "2023-09-07T09:02:36.411996600Z"
    }
   },
   "id": "533bd7e788a5fe7a"
  },
  {
   "cell_type": "code",
   "execution_count": 16,
   "outputs": [
    {
     "data": {
      "text/plain": "(torch.Size([32, 1, 28, 28]), torch.Size([32]))"
     },
     "execution_count": 16,
     "metadata": {},
     "output_type": "execute_result"
    }
   ],
   "source": [
    "train_features_batch, train_labels_batch = next(iter(train_dataloader))\n",
    "train_features_batch.shape, train_labels_batch.shape"
   ],
   "metadata": {
    "collapsed": false,
    "ExecuteTime": {
     "end_time": "2023-09-07T09:02:36.589064300Z",
     "start_time": "2023-09-07T09:02:36.422558200Z"
    }
   },
   "id": "a9b6ca021dcb68f4"
  },
  {
   "cell_type": "markdown",
   "source": [
    "# Model"
   ],
   "metadata": {
    "collapsed": false
   },
   "id": "28a280ceac7be2c0"
  },
  {
   "cell_type": "code",
   "execution_count": 17,
   "outputs": [
    {
     "name": "stdout",
     "output_type": "stream",
     "text": [
      "shape before flattening torch.Size([1, 28, 28])\n",
      "shape after flattening torch.Size([1, 784])\n"
     ]
    }
   ],
   "source": [
    "flatten_model = nn.Flatten()\n",
    "\n",
    "x = train_features_batch[0]\n",
    "\n",
    "output = flatten_model(x)  # perform forward pass\n",
    "\n",
    "print(f\"shape before flattening {x.shape}\")\n",
    "print(f\"shape after flattening {output.shape}\")"
   ],
   "metadata": {
    "collapsed": false,
    "ExecuteTime": {
     "end_time": "2023-09-07T09:02:36.589064300Z",
     "start_time": "2023-09-07T09:02:36.457989Z"
    }
   },
   "id": "6b208146a2bed037"
  },
  {
   "cell_type": "code",
   "execution_count": 18,
   "outputs": [
    {
     "data": {
      "text/plain": "tensor([[0.0000, 0.0000, 0.0000, 0.0000, 0.0000, 0.0000, 0.0000, 0.0000, 0.0000,\n         0.0000, 0.0000, 0.0000, 0.0000, 0.0000, 0.0000, 0.0000, 0.0000, 0.0000,\n         0.0000, 0.0000, 0.0000, 0.0000, 0.0000, 0.0000, 0.0000, 0.0000, 0.0000,\n         0.0000, 0.0000, 0.0000, 0.0000, 0.0000, 0.0000, 0.0000, 0.0000, 0.0000,\n         0.0000, 0.0000, 0.0000, 0.0000, 0.0000, 0.0000, 0.0000, 0.0000, 0.0000,\n         0.0000, 0.0000, 0.0000, 0.0000, 0.0000, 0.0000, 0.0000, 0.0000, 0.0000,\n         0.0000, 0.0000, 0.0000, 0.0000, 0.0000, 0.0000, 0.0000, 0.0000, 0.0000,\n         0.0000, 0.0000, 0.0000, 0.0000, 0.0000, 0.0000, 0.0000, 0.0000, 0.0000,\n         0.0000, 0.0000, 0.0000, 0.0000, 0.0000, 0.0000, 0.0000, 0.0000, 0.0000,\n         0.0000, 0.0000, 0.0000, 0.0000, 0.0000, 0.0000, 0.0000, 0.0000, 0.0000,\n         0.0000, 0.0000, 0.0000, 0.0000, 0.0000, 0.0000, 0.0000, 0.0000, 0.0000,\n         0.0000, 0.0000, 0.0000, 0.0000, 0.0000, 0.0000, 0.0000, 0.0000, 0.0000,\n         0.0000, 0.0000, 0.0000, 0.0000, 0.0000, 0.0000, 0.0000, 0.0000, 0.0000,\n         0.0000, 0.0000, 0.0000, 0.0000, 0.0000, 0.0000, 0.0000, 0.0000, 0.0000,\n         0.0000, 0.0000, 0.0000, 0.0000, 0.0000, 0.0000, 0.0000, 0.0000, 0.0000,\n         0.0000, 0.0000, 0.0000, 0.0000, 0.0000, 0.0000, 0.0000, 0.0000, 0.0000,\n         0.0000, 0.0000, 0.0000, 0.0000, 0.0000, 0.0000, 0.0000, 0.0000, 0.0000,\n         0.0000, 0.0000, 0.0000, 0.0000, 0.0000, 0.0000, 0.0000, 0.0000, 0.0000,\n         0.0000, 0.0000, 0.0000, 0.0000, 0.0000, 0.0000, 0.0000, 0.0000, 0.0000,\n         0.0000, 0.0000, 0.0000, 0.0000, 0.0000, 0.0000, 0.0000, 0.0000, 0.0000,\n         0.0000, 0.0000, 0.0000, 0.0000, 0.0000, 0.0000, 0.0000, 0.0000, 0.0000,\n         0.0000, 0.0000, 0.0000, 0.0000, 0.0000, 0.0000, 0.0000, 0.0000, 0.0000,\n         0.0000, 0.0000, 0.0000, 0.0000, 0.0000, 0.0000, 0.0000, 0.0000, 0.0000,\n         0.0000, 0.0000, 0.0000, 0.0000, 0.0000, 0.0000, 0.0000, 0.0000, 0.0000,\n         0.0000, 0.0000, 0.0000, 0.0000, 0.0000, 0.0000, 0.0000, 0.0000, 0.0000,\n         0.0000, 0.0000, 0.0000, 0.0000, 0.0000, 0.0000, 0.0000, 0.0000, 0.0157,\n         0.0078, 0.0039, 0.0000, 0.0000, 0.2078, 0.5843, 0.4863, 0.2745, 0.0000,\n         0.0000, 0.0000, 0.0000, 0.0157, 0.0000, 0.0000, 0.1765, 0.0588, 0.0000,\n         0.0000, 0.0000, 0.0000, 0.0000, 0.0000, 0.0000, 0.0000, 0.0000, 0.0000,\n         0.0000, 0.0000, 0.0000, 0.0196, 0.6706, 0.9451, 0.8157, 0.9098, 0.8627,\n         0.2392, 0.0000, 0.0000, 0.0000, 0.0000, 0.0000, 0.5843, 0.8157, 0.7294,\n         0.0000, 0.0000, 0.0000, 0.0000, 0.0000, 0.0000, 0.0000, 0.0039, 0.0039,\n         0.0000, 0.0000, 0.0157, 0.5176, 1.0000, 0.8431, 0.6902, 0.7529, 0.2588,\n         0.2902, 0.8314, 0.4039, 0.0667, 0.0000, 0.0000, 0.2118, 0.7412, 0.7569,\n         0.6980, 0.0000, 0.0078, 0.0000, 0.0000, 0.0000, 0.0000, 0.0000, 0.0000,\n         0.0000, 0.0000, 0.5451, 0.8549, 0.8431, 0.7608, 0.7608, 0.6941, 0.6118,\n         0.6000, 0.6471, 0.6941, 0.7765, 0.7843, 0.6588, 0.6431, 0.8118, 0.7569,\n         0.6980, 0.8157, 0.0000, 0.0000, 0.0000, 0.0000, 0.0000, 0.0000, 0.0000,\n         0.0039, 0.2706, 0.5725, 0.8667, 0.7608, 0.7529, 0.8039, 0.6353, 0.4235,\n         0.6118, 0.8549, 0.6627, 0.6667, 0.7020, 0.5804, 0.7059, 0.7490, 0.7373,\n         0.6824, 0.6588, 0.8392, 0.0902, 0.0000, 0.7176, 0.7961, 0.7137, 0.6941,\n         0.7216, 0.9137, 0.9922, 0.8314, 0.7294, 0.7647, 0.6118, 0.5843, 0.6314,\n         0.8000, 0.7765, 0.7216, 0.5529, 0.7020, 0.6902, 0.6549, 0.6784, 0.6431,\n         0.6471, 0.6627, 0.6745, 0.8941, 0.2275, 0.5216, 0.8941, 0.7490, 0.7882,\n         0.7961, 0.7882, 0.7490, 0.6784, 0.6941, 0.7843, 0.7843, 0.5804, 0.7922,\n         0.8235, 0.6902, 0.6667, 0.6431, 0.5765, 0.6784, 0.6275, 0.7216, 0.6745,\n         0.6902, 0.7216, 0.7216, 0.7020, 0.7882, 0.3922, 0.6510, 0.8549, 0.8392,\n         0.7686, 0.7176, 0.7176, 0.7529, 0.7765, 0.7843, 0.7608, 0.7961, 0.7765,\n         0.5804, 0.6314, 0.6980, 0.7412, 0.7647, 0.8745, 0.8078, 0.8118, 0.8196,\n         0.8392, 0.8392, 0.8275, 0.8353, 0.8235, 0.8039, 0.3255, 0.1490, 0.4627,\n         0.5686, 0.7922, 0.8745, 0.9647, 0.8196, 0.7882, 0.8549, 0.7451, 0.7922,\n         0.8471, 0.8353, 0.9137, 0.9647, 0.9020, 0.7765, 0.6118, 0.4902, 0.4902,\n         0.5255, 0.5725, 0.6078, 0.5569, 0.4431, 0.2863, 0.0667, 0.0000, 0.0000,\n         0.4078, 0.4353, 0.0784, 0.2471, 0.5529, 0.7490, 0.8824, 0.9176, 0.9373,\n         0.9255, 0.8745, 0.7843, 0.5882, 0.2078, 0.0000, 0.0000, 0.0000, 0.0000,\n         0.0000, 0.0000, 0.0000, 0.0000, 0.0000, 0.0000, 0.0000, 0.0000, 0.0000,\n         0.0000, 0.0000, 0.2196, 0.6667, 0.4078, 0.2196, 0.0706, 0.1020, 0.0431,\n         0.0039, 0.0000, 0.0000, 0.0000, 0.0000, 0.0000, 0.0000, 0.1216, 0.1843,\n         0.1373, 0.0902, 0.0549, 0.0039, 0.0000, 0.0000, 0.0000, 0.0000, 0.2196,\n         0.3725, 0.0000, 0.0000, 0.0000, 0.0000, 0.0235, 0.3333, 0.3843, 0.5529,\n         0.4235, 0.5490, 0.4824, 0.5137, 0.6039, 0.3882, 0.4667, 0.3882, 0.3961,\n         0.3451, 0.4275, 0.4039, 0.6000, 0.5137, 0.5373, 0.5725, 0.4157, 0.6000,\n         0.4745, 0.0000, 0.0000, 0.0000, 0.0000, 0.0000, 0.0000, 0.0000, 0.0000,\n         0.0000, 0.0000, 0.0000, 0.0000, 0.0000, 0.0000, 0.0000, 0.0000, 0.0000,\n         0.0000, 0.0000, 0.0000, 0.0000, 0.0000, 0.0000, 0.0000, 0.0000, 0.0000,\n         0.0000, 0.0000, 0.0000, 0.0000, 0.0000, 0.0000, 0.0000, 0.0000, 0.0000,\n         0.0000, 0.0000, 0.0000, 0.0000, 0.0000, 0.0000, 0.0000, 0.0000, 0.0000,\n         0.0000, 0.0000, 0.0000, 0.0000, 0.0000, 0.0000, 0.0000, 0.0000, 0.0000,\n         0.0000, 0.0000, 0.0000, 0.0000, 0.0000, 0.0000, 0.0000, 0.0000, 0.0000,\n         0.0000, 0.0000, 0.0000, 0.0000, 0.0000, 0.0000, 0.0000, 0.0000, 0.0000,\n         0.0000, 0.0000, 0.0000, 0.0000, 0.0000, 0.0000, 0.0000, 0.0000, 0.0000,\n         0.0000, 0.0000, 0.0000, 0.0000, 0.0000, 0.0000, 0.0000, 0.0000, 0.0000,\n         0.0000, 0.0000, 0.0000, 0.0000, 0.0000, 0.0000, 0.0000, 0.0000, 0.0000,\n         0.0000, 0.0000, 0.0000, 0.0000, 0.0000, 0.0000, 0.0000, 0.0000, 0.0000,\n         0.0000, 0.0000, 0.0000, 0.0000, 0.0000, 0.0000, 0.0000, 0.0000, 0.0000,\n         0.0000, 0.0000, 0.0000, 0.0000, 0.0000, 0.0000, 0.0000, 0.0000, 0.0000,\n         0.0000, 0.0000, 0.0000, 0.0000, 0.0000, 0.0000, 0.0000, 0.0000, 0.0000,\n         0.0000, 0.0000, 0.0000, 0.0000, 0.0000, 0.0000, 0.0000, 0.0000, 0.0000,\n         0.0000, 0.0000, 0.0000, 0.0000, 0.0000, 0.0000, 0.0000, 0.0000, 0.0000,\n         0.0000, 0.0000, 0.0000, 0.0000, 0.0000, 0.0000, 0.0000, 0.0000, 0.0000,\n         0.0000, 0.0000, 0.0000, 0.0000, 0.0000, 0.0000, 0.0000, 0.0000, 0.0000,\n         0.0000, 0.0000, 0.0000, 0.0000, 0.0000, 0.0000, 0.0000, 0.0000, 0.0000,\n         0.0000, 0.0000, 0.0000, 0.0000, 0.0000, 0.0000, 0.0000, 0.0000, 0.0000,\n         0.0000, 0.0000, 0.0000, 0.0000, 0.0000, 0.0000, 0.0000, 0.0000, 0.0000,\n         0.0000, 0.0000, 0.0000, 0.0000, 0.0000, 0.0000, 0.0000, 0.0000, 0.0000,\n         0.0000, 0.0000, 0.0000, 0.0000, 0.0000, 0.0000, 0.0000, 0.0000, 0.0000,\n         0.0000, 0.0000, 0.0000, 0.0000, 0.0000, 0.0000, 0.0000, 0.0000, 0.0000,\n         0.0000]])"
     },
     "execution_count": 18,
     "metadata": {},
     "output_type": "execute_result"
    }
   ],
   "source": [
    "output"
   ],
   "metadata": {
    "collapsed": false,
    "ExecuteTime": {
     "end_time": "2023-09-07T09:02:36.589064300Z",
     "start_time": "2023-09-07T09:02:36.468114100Z"
    }
   },
   "id": "374672ead35f5231"
  },
  {
   "cell_type": "code",
   "execution_count": 19,
   "outputs": [],
   "source": [
    "from torch import nn\n",
    "\n",
    "\n",
    "class FashionMNISTModelV0(nn.Module):\n",
    "    def __init__(self, input_shape: int, hidden_units: int, output_shape: int):\n",
    "        super().__init__()\n",
    "        self.layer_stack = nn.Sequential(\n",
    "            nn.Flatten(),\n",
    "            nn.Linear(in_features=input_shape, out_features=hidden_units),\n",
    "            nn.Linear(in_features=hidden_units, out_features=output_shape)\n",
    "        )\n",
    "\n",
    "    def forward(self, x):\n",
    "        return self.layer_stack(x)"
   ],
   "metadata": {
    "collapsed": false,
    "ExecuteTime": {
     "end_time": "2023-09-07T09:02:36.619136300Z",
     "start_time": "2023-09-07T09:02:36.484739500Z"
    }
   },
   "id": "40ee8ef6e78af965"
  },
  {
   "cell_type": "code",
   "execution_count": 20,
   "outputs": [
    {
     "data": {
      "text/plain": "FashionMNISTModelV0(\n  (layer_stack): Sequential(\n    (0): Flatten(start_dim=1, end_dim=-1)\n    (1): Linear(in_features=784, out_features=10, bias=True)\n    (2): Linear(in_features=10, out_features=10, bias=True)\n  )\n)"
     },
     "execution_count": 20,
     "metadata": {},
     "output_type": "execute_result"
    }
   ],
   "source": [
    "torch.manual_seed(42)\n",
    "\n",
    "model_0 = FashionMNISTModelV0(\n",
    "    input_shape=28 * 28,\n",
    "    hidden_units=10,\n",
    "    output_shape=len(class_names)\n",
    ").to(\"cpu\")\n",
    "\n",
    "model_0"
   ],
   "metadata": {
    "collapsed": false,
    "ExecuteTime": {
     "end_time": "2023-09-07T09:02:36.624146Z",
     "start_time": "2023-09-07T09:02:36.488750100Z"
    }
   },
   "id": "7a0f9146c033b4f4"
  },
  {
   "cell_type": "code",
   "execution_count": 21,
   "outputs": [
    {
     "data": {
      "text/plain": "tensor([[-0.0315,  0.3171,  0.0531, -0.2525,  0.5959,  0.2112,  0.3233,  0.2694,\n         -0.1004,  0.0157]], grad_fn=<AddmmBackward0>)"
     },
     "execution_count": 21,
     "metadata": {},
     "output_type": "execute_result"
    }
   ],
   "source": [
    "dummy_x = torch.rand(size=(1, 1, 28, 28))\n",
    "model_0(dummy_x)"
   ],
   "metadata": {
    "collapsed": false,
    "ExecuteTime": {
     "end_time": "2023-09-07T09:02:36.624146Z",
     "start_time": "2023-09-07T09:02:36.508959800Z"
    }
   },
   "id": "3bfbad592108c2d7"
  },
  {
   "cell_type": "code",
   "execution_count": 22,
   "outputs": [],
   "source": [
    "from helper_functions import accuracy_fn\n",
    "\n",
    "loss_fn = nn.CrossEntropyLoss()\n",
    "optimizer = torch.optim.SGD(model_0.parameters(), lr=0.1)"
   ],
   "metadata": {
    "collapsed": false,
    "ExecuteTime": {
     "end_time": "2023-09-07T09:02:37.707598100Z",
     "start_time": "2023-09-07T09:02:36.533599500Z"
    }
   },
   "id": "2f370b5ddf23ad19"
  },
  {
   "cell_type": "markdown",
   "source": [
    "# time"
   ],
   "metadata": {
    "collapsed": false
   },
   "id": "ab3ababa528d0713"
  },
  {
   "cell_type": "code",
   "execution_count": 23,
   "outputs": [],
   "source": [
    "from timeit import default_timer as timer\n",
    "\n",
    "\n",
    "def print_train_time(start: float, end: float, device: str = None):\n",
    "    total_time = end - start\n",
    "    print(f\"Train time on device {device} is {total_time:.3f} seconds\")\n",
    "    return total_time"
   ],
   "metadata": {
    "collapsed": false,
    "ExecuteTime": {
     "end_time": "2023-09-07T09:02:37.711168300Z",
     "start_time": "2023-09-07T09:02:37.707598100Z"
    }
   },
   "id": "9e4e549a520d8971"
  },
  {
   "cell_type": "code",
   "execution_count": 24,
   "outputs": [
    {
     "name": "stdout",
     "output_type": "stream",
     "text": [
      "Train time on device cpu is 0.000 seconds\n"
     ]
    },
    {
     "data": {
      "text/plain": "4.0499959141016006e-05"
     },
     "execution_count": 24,
     "metadata": {},
     "output_type": "execute_result"
    }
   ],
   "source": [
    "start_time = timer()\n",
    "#some code\n",
    "end_time = timer()\n",
    "print_train_time(start_time, end_time, device=next(model_0.parameters()).device)"
   ],
   "metadata": {
    "collapsed": false,
    "ExecuteTime": {
     "end_time": "2023-09-07T09:02:37.723699500Z",
     "start_time": "2023-09-07T09:02:37.711168300Z"
    }
   },
   "id": "71714bbe6384aebd"
  },
  {
   "cell_type": "code",
   "execution_count": 25,
   "outputs": [
    {
     "data": {
      "text/plain": "  0%|          | 0/10000 [00:00<?, ?it/s]",
      "application/vnd.jupyter.widget-view+json": {
       "version_major": 2,
       "version_minor": 0,
       "model_id": "eac1fc4d5df44f0e9e99aaf0f87a9118"
      }
     },
     "metadata": {},
     "output_type": "display_data"
    }
   ],
   "source": [
    "from tqdm.auto import tqdm\n",
    "\n",
    "for i in tqdm(range(10000)):\n",
    "    pass"
   ],
   "metadata": {
    "collapsed": false,
    "ExecuteTime": {
     "end_time": "2023-09-07T09:02:37.853305700Z",
     "start_time": "2023-09-07T09:02:37.723699500Z"
    }
   },
   "id": "72afaf33926f0081"
  },
  {
   "cell_type": "code",
   "execution_count": 26,
   "outputs": [
    {
     "data": {
      "text/plain": "(1875, 60000)"
     },
     "execution_count": 26,
     "metadata": {},
     "output_type": "execute_result"
    }
   ],
   "source": [
    "len(train_dataloader), len(train_dataloader.dataset)  # number of batches  # number of data"
   ],
   "metadata": {
    "collapsed": false,
    "ExecuteTime": {
     "end_time": "2023-09-07T09:02:37.865049200Z",
     "start_time": "2023-09-07T09:02:37.865049200Z"
    }
   },
   "id": "127763219468cfda"
  },
  {
   "cell_type": "code",
   "execution_count": 27,
   "outputs": [
    {
     "data": {
      "text/plain": "  0%|          | 0/3 [00:00<?, ?it/s]",
      "application/vnd.jupyter.widget-view+json": {
       "version_major": 2,
       "version_minor": 0,
       "model_id": "9f9154eac9be44d8973e7811b61e0d59"
      }
     },
     "metadata": {},
     "output_type": "display_data"
    },
    {
     "name": "stdout",
     "output_type": "stream",
     "text": [
      "Epoch: 0\n",
      "-----\n"
     ]
    },
    {
     "data": {
      "text/plain": "0it [00:00, ?it/s]",
      "application/vnd.jupyter.widget-view+json": {
       "version_major": 2,
       "version_minor": 0,
       "model_id": "89e1af1af56f45489db2f7952b406bf0"
      }
     },
     "metadata": {},
     "output_type": "display_data"
    },
    {
     "name": "stdout",
     "output_type": "stream",
     "text": [
      "Looked at 0/60000 samples\n",
      "Looked at 12800/60000 samples\n",
      "Looked at 25600/60000 samples\n",
      "Looked at 38400/60000 samples\n",
      "Looked at 51200/60000 samples\n",
      "\n",
      "Train loss: 0.0184 | Test_Loss: 0.5095, test_acc: 82.04%\n",
      "Epoch: 1\n",
      "-----\n"
     ]
    },
    {
     "data": {
      "text/plain": "0it [00:00, ?it/s]",
      "application/vnd.jupyter.widget-view+json": {
       "version_major": 2,
       "version_minor": 0,
       "model_id": "65b4090b682e4fdd95f4ed61255195cd"
      }
     },
     "metadata": {},
     "output_type": "display_data"
    },
    {
     "name": "stdout",
     "output_type": "stream",
     "text": [
      "Looked at 0/60000 samples\n",
      "Looked at 12800/60000 samples\n",
      "Looked at 25600/60000 samples\n",
      "Looked at 38400/60000 samples\n",
      "Looked at 51200/60000 samples\n",
      "\n",
      "Train loss: 0.0149 | Test_Loss: 0.4799, test_acc: 83.20%\n",
      "Epoch: 2\n",
      "-----\n"
     ]
    },
    {
     "data": {
      "text/plain": "0it [00:00, ?it/s]",
      "application/vnd.jupyter.widget-view+json": {
       "version_major": 2,
       "version_minor": 0,
       "model_id": "72426f9d0b464bca9a945758b65cbbd7"
      }
     },
     "metadata": {},
     "output_type": "display_data"
    },
    {
     "name": "stdout",
     "output_type": "stream",
     "text": [
      "Looked at 0/60000 samples\n",
      "Looked at 12800/60000 samples\n",
      "Looked at 25600/60000 samples\n",
      "Looked at 38400/60000 samples\n",
      "Looked at 51200/60000 samples\n",
      "\n",
      "Train loss: 0.0142 | Test_Loss: 0.4766, test_acc: 83.43%\n",
      "Train time on device cpu is 40.164 seconds\n"
     ]
    }
   ],
   "source": [
    "from tqdm.auto import tqdm\n",
    "\n",
    "torch.manual_seed(42)\n",
    "train_time_start_on_cpu = timer()\n",
    "\n",
    "epochs = 3\n",
    "\n",
    "for epoch in tqdm(range(epochs)):\n",
    "    print(f\"Epoch: {epoch}\\n-----\")\n",
    "    train_loss = 0\n",
    "    for batch, (X, y) in tqdm(enumerate(train_dataloader)):\n",
    "        model_0.train()\n",
    "        y_pred = model_0(X)\n",
    "        loss = loss_fn(y_pred, y)\n",
    "        train_loss += loss\n",
    "        optimizer.zero_grad()\n",
    "        loss.backward()\n",
    "        optimizer.step()\n",
    "\n",
    "        if batch % 400 == 0:\n",
    "            print(f\"Looked at {batch * len(X)}/{len(train_dataloader.dataset)} samples\")\n",
    "\n",
    "    train_loss /= len(train_dataloader.dataset)\n",
    "\n",
    "    test_loss, test_acc = 0, 0\n",
    "    model_0.eval()\n",
    "    with torch.inference_mode():\n",
    "        for X_test, y_test in test_dataloader:\n",
    "            test_pred = model_0(X_test)\n",
    "            test_loss += loss_fn(test_pred, y_test)\n",
    "            test_acc += accuracy_fn(y_true=y_test, y_pred=test_pred.argmax(dim=1))\n",
    "\n",
    "        test_loss /= len(test_dataloader)\n",
    "        test_acc /= len(test_dataloader)\n",
    "\n",
    "    print(f\"\\nTrain loss: {train_loss:.4f} | Test_Loss: {test_loss:.4f}, test_acc: {test_acc:.2f}%\")\n",
    "\n",
    "train_time_end_on_cpu = timer()\n",
    "\n",
    "total_train_time = print_train_time(train_time_start_on_cpu, train_time_end_on_cpu,\n",
    "                                    str(next(model_0.parameters()).device))"
   ],
   "metadata": {
    "collapsed": false,
    "ExecuteTime": {
     "end_time": "2023-09-07T09:03:18.051197500Z",
     "start_time": "2023-09-07T09:02:37.865049200Z"
    }
   },
   "id": "cd9417035ecc7e32"
  },
  {
   "cell_type": "code",
   "execution_count": 28,
   "outputs": [
    {
     "data": {
      "text/plain": "  0%|          | 0/313 [00:00<?, ?it/s]",
      "application/vnd.jupyter.widget-view+json": {
       "version_major": 2,
       "version_minor": 0,
       "model_id": "90654cce2fce4e9391d991e196e4d674"
      }
     },
     "metadata": {},
     "output_type": "display_data"
    },
    {
     "data": {
      "text/plain": "{'model_name': 'FashionMNISTModelV0',\n 'model_loss': 0.4766390025615692,\n 'model_acc': 83.42651757188499}"
     },
     "execution_count": 28,
     "metadata": {},
     "output_type": "execute_result"
    }
   ],
   "source": [
    "def eval_model(model: torch.nn.Module, data_loder: torch.utils.data.dataloader, loss_fn: torch.nn.Module, accuracy_fn,\n",
    "               device: str):\n",
    "    \"\"\"returning a dictionary containing the results of model predicting on dataloader\"\"\"\n",
    "    loss, acc = 0, 0\n",
    "    model.eval()\n",
    "    with torch.inference_mode():\n",
    "        for X, y in tqdm(data_loder):\n",
    "            X, y = X.to(device), y.to(device)\n",
    "            y_pred = model(X)\n",
    "            loss += loss_fn(y_pred, y)\n",
    "            acc += accuracy_fn(y, y_pred.argmax(dim=1))\n",
    "        loss /= len(data_loder)\n",
    "        acc /= len(data_loder)\n",
    "    return {\"model_name\": model.__class__.__name__,\n",
    "            \"model_loss\": loss.item(),\n",
    "            \"model_acc\": acc}\n",
    "\n",
    "\n",
    "model_0_results = eval_model(model=model_0, data_loder=test_dataloader, loss_fn=loss_fn, accuracy_fn=accuracy_fn,\n",
    "                             device=\"cpu\")\n",
    "model_0_results"
   ],
   "metadata": {
    "collapsed": false,
    "ExecuteTime": {
     "end_time": "2023-09-07T09:03:19.712569800Z",
     "start_time": "2023-09-07T09:03:18.055324200Z"
    }
   },
   "id": "c6211c0ead1f24f7"
  },
  {
   "cell_type": "code",
   "execution_count": 29,
   "outputs": [],
   "source": [
    "device = \"cuda\" if torch.cuda.is_available() else \"cpu\"\n",
    "\n",
    "\n",
    "class FashionMNISTModelV1(nn.Module):\n",
    "    def __init__(self, input_shape: int, hidden_units: int, output_shape: int):\n",
    "        super().__init__()\n",
    "        self.layer_stack = nn.Sequential(\n",
    "            nn.Flatten(),\n",
    "            nn.Linear(in_features=input_shape, out_features=hidden_units),\n",
    "            nn.ReLU(),\n",
    "            nn.Linear(in_features=hidden_units, out_features=output_shape),\n",
    "            nn.ReLU()\n",
    "        )\n",
    "\n",
    "    def forward(self, x: torch.Tensor):\n",
    "        return self.layer_stack(x)"
   ],
   "metadata": {
    "collapsed": false,
    "ExecuteTime": {
     "end_time": "2023-09-07T09:03:19.719281800Z",
     "start_time": "2023-09-07T09:03:19.711016200Z"
    }
   },
   "id": "3f57a23a89ff539d"
  },
  {
   "cell_type": "code",
   "execution_count": 30,
   "outputs": [],
   "source": [
    "torch.manual_seed(42)\n",
    "torch.cuda.manual_seed(42)\n",
    "model_1 = FashionMNISTModelV1(784, 10, len(class_names)).to(device)"
   ],
   "metadata": {
    "collapsed": false,
    "ExecuteTime": {
     "end_time": "2023-09-07T09:03:19.937796600Z",
     "start_time": "2023-09-07T09:03:19.723280700Z"
    }
   },
   "id": "f2f145ce28649c65"
  },
  {
   "cell_type": "code",
   "execution_count": 31,
   "outputs": [],
   "source": [
    "from helper_functions import accuracy_fn\n",
    "\n",
    "loss_fn = nn.CrossEntropyLoss()\n",
    "optimizer = torch.optim.SGD(model_1.parameters(), lr=0.1)\n"
   ],
   "metadata": {
    "collapsed": false,
    "ExecuteTime": {
     "end_time": "2023-09-07T09:03:19.942545800Z",
     "start_time": "2023-09-07T09:03:19.937796600Z"
    }
   },
   "id": "e1b234fabb2097fd"
  },
  {
   "cell_type": "code",
   "execution_count": 32,
   "outputs": [],
   "source": [
    "def train_step(model: torch.nn.Module,\n",
    "               data_loader: torch.utils.data.DataLoader,\n",
    "               loss_fn: torch.nn.Module,\n",
    "               optimizer: torch.optim.Optimizer,\n",
    "               accuracy_fn,\n",
    "               device: str = \"cpu\"):\n",
    "    train_loss, train_acc = 0, 0\n",
    "    model.train()\n",
    "    for batch, (X, y) in enumerate(data_loader):\n",
    "        X, y = X.to(device), y.to(device)\n",
    "        y_pred = model(X)\n",
    "        loss = loss_fn(y_pred, y)\n",
    "        train_loss += loss\n",
    "        train_acc += accuracy_fn(y, y_pred.argmax(dim=1))\n",
    "        optimizer.zero_grad()\n",
    "        loss.backward()\n",
    "        optimizer.step()\n",
    "\n",
    "    train_loss /= len(data_loader)\n",
    "    train_acc /= len(data_loader)\n",
    "    print(f\"Train loss is {train_loss:.4f} | Train accuracy is {train_acc:.2f}%\")"
   ],
   "metadata": {
    "collapsed": false,
    "ExecuteTime": {
     "end_time": "2023-09-07T09:03:19.953948600Z",
     "start_time": "2023-09-07T09:03:19.942545800Z"
    }
   },
   "id": "594dd970765eff7c"
  },
  {
   "cell_type": "code",
   "execution_count": 33,
   "outputs": [],
   "source": [
    "def test_step(model: torch.nn.Module, data_loader: torch.utils.data.DataLoader, loss_fn: torch.nn.Module, accuracy_fn,\n",
    "              device: str = \"cpu\"):\n",
    "    test_loss, test_acc = 0, 0\n",
    "    model.eval()\n",
    "    with torch.inference_mode():\n",
    "        for X, y in data_loader:\n",
    "            X, y = X.to(device), y.to(device)\n",
    "            y_pred = model(X)\n",
    "            loss = loss_fn(y_pred, y)\n",
    "            test_loss += loss\n",
    "            test_acc += accuracy_fn(y, y_pred.argmax(dim=1))\n",
    "        test_loss /= len(data_loader)\n",
    "        test_acc /= len(data_loader)\n",
    "        print(f\"Test Loss is {test_loss:.4f} and Test Accuracy is {test_acc:.2f}%\\n\")"
   ],
   "metadata": {
    "collapsed": false,
    "ExecuteTime": {
     "end_time": "2023-09-07T09:03:19.970060900Z",
     "start_time": "2023-09-07T09:03:19.963039300Z"
    }
   },
   "id": "e2d6c6e0e14e4776"
  },
  {
   "cell_type": "code",
   "execution_count": 34,
   "outputs": [
    {
     "data": {
      "text/plain": "  0%|          | 0/3 [00:00<?, ?it/s]",
      "application/vnd.jupyter.widget-view+json": {
       "version_major": 2,
       "version_minor": 0,
       "model_id": "1a2f027021ec41489f18ac151c282260"
      }
     },
     "metadata": {},
     "output_type": "display_data"
    },
    {
     "name": "stdout",
     "output_type": "stream",
     "text": [
      "Epoch 0 ------\n",
      "Train loss is 1.0588 | Train accuracy is 62.19%\n",
      "Test Loss is 0.9951 and Test Accuracy is 64.13%\n",
      "\n",
      "Epoch 1 ------\n",
      "Train loss is 0.9133 | Train accuracy is 66.40%\n",
      "Test Loss is 0.9051 and Test Accuracy is 66.86%\n",
      "\n",
      "Epoch 2 ------\n",
      "Train loss is 0.8798 | Train accuracy is 67.25%\n",
      "Test Loss is 0.8949 and Test Accuracy is 66.47%\n",
      "\n",
      "Train time on device cuda is 44.991 seconds\n"
     ]
    }
   ],
   "source": [
    "epochs = 3\n",
    "model_1 = model_1.to(device)\n",
    "from timeit import default_timer as timer\n",
    "\n",
    "start_time = timer()\n",
    "for epoch in tqdm(range(epochs)):\n",
    "    print(f\"Epoch {epoch} ------\")\n",
    "    train_step(model=model_1, data_loader=train_dataloader, loss_fn=nn.CrossEntropyLoss(),\n",
    "               optimizer=torch.optim.SGD(model_1.parameters(), lr=0.1), accuracy_fn=accuracy_fn, device=device)\n",
    "\n",
    "    test_step(model=model_1, data_loader=test_dataloader, loss_fn=nn.CrossEntropyLoss(), accuracy_fn=accuracy_fn,\n",
    "              device=device)\n",
    "end_time = timer()\n",
    "total_train_time_gpu = print_train_time(start_time, end_time, device=device)"
   ],
   "metadata": {
    "collapsed": false,
    "ExecuteTime": {
     "end_time": "2023-09-07T09:04:04.967330600Z",
     "start_time": "2023-09-07T09:03:19.963550100Z"
    }
   },
   "id": "f051c6a938e4f2ce"
  },
  {
   "cell_type": "code",
   "execution_count": 35,
   "outputs": [
    {
     "data": {
      "text/plain": "40.16440720006358"
     },
     "execution_count": 35,
     "metadata": {},
     "output_type": "execute_result"
    }
   ],
   "source": [
    "total_train_time"
   ],
   "metadata": {
    "collapsed": false,
    "ExecuteTime": {
     "end_time": "2023-09-07T09:04:04.996130100Z",
     "start_time": "2023-09-07T09:04:04.971331Z"
    }
   },
   "id": "835578abdf7dcda8"
  },
  {
   "cell_type": "code",
   "execution_count": 36,
   "outputs": [
    {
     "data": {
      "text/plain": "  0%|          | 0/313 [00:00<?, ?it/s]",
      "application/vnd.jupyter.widget-view+json": {
       "version_major": 2,
       "version_minor": 0,
       "model_id": "b26fc52201d2470da106a646abad0fc4"
      }
     },
     "metadata": {},
     "output_type": "display_data"
    }
   ],
   "source": [
    "model_1_results = eval_model(model=model_1, data_loder=test_dataloader, loss_fn=loss_fn, accuracy_fn=accuracy_fn,\n",
    "                             device=\"cuda\")"
   ],
   "metadata": {
    "collapsed": false,
    "ExecuteTime": {
     "end_time": "2023-09-07T09:04:07.069256700Z",
     "start_time": "2023-09-07T09:04:04.989801200Z"
    }
   },
   "id": "a73fa32c5f91b034"
  },
  {
   "cell_type": "code",
   "execution_count": 37,
   "outputs": [
    {
     "data": {
      "text/plain": "{'model_name': 'FashionMNISTModelV0',\n 'model_loss': 0.4766390025615692,\n 'model_acc': 83.42651757188499}"
     },
     "execution_count": 37,
     "metadata": {},
     "output_type": "execute_result"
    }
   ],
   "source": [
    "model_0_results"
   ],
   "metadata": {
    "collapsed": false,
    "ExecuteTime": {
     "end_time": "2023-09-07T09:04:07.095168100Z",
     "start_time": "2023-09-07T09:04:07.076358500Z"
    }
   },
   "id": "d004c3fbbabf8608"
  },
  {
   "cell_type": "code",
   "execution_count": 38,
   "outputs": [
    {
     "data": {
      "text/plain": "{'model_name': 'FashionMNISTModelV1',\n 'model_loss': 0.8948529958724976,\n 'model_acc': 66.47364217252397}"
     },
     "execution_count": 38,
     "metadata": {},
     "output_type": "execute_result"
    }
   ],
   "source": [
    "model_1_results"
   ],
   "metadata": {
    "collapsed": false,
    "ExecuteTime": {
     "end_time": "2023-09-07T09:04:07.104717500Z",
     "start_time": "2023-09-07T09:04:07.076870600Z"
    }
   },
   "id": "fc43e1a19ff481c1"
  },
  {
   "cell_type": "code",
   "execution_count": 39,
   "outputs": [],
   "source": [
    "class FashionMNISTModelV2(nn.Module):\n",
    "    \"\"\"\n",
    "    Model architecture that replicates the TinyVGG\n",
    "    \"\"\"\n",
    "\n",
    "    def __init__(self, input_shape: int, hidden_units: int, output_shape: int):\n",
    "        super().__init__()\n",
    "        self.conv_block_1 = nn.Sequential(\n",
    "            nn.Conv2d(in_channels=input_shape, out_channels=hidden_units, kernel_size=3, stride=1, padding=1),\n",
    "            nn.ReLU(),\n",
    "            nn.Conv2d(in_channels=hidden_units, out_channels=hidden_units, kernel_size=3, stride=1, padding=1),\n",
    "            nn.ReLU(),\n",
    "            nn.MaxPool2d(kernel_size=(2, 2))\n",
    "        )\n",
    "        self.conv_block_2 = nn.Sequential(\n",
    "            nn.Conv2d(in_channels=hidden_units, out_channels=hidden_units, kernel_size=3, stride=1, padding=1),\n",
    "            nn.ReLU(),\n",
    "            nn.Conv2d(in_channels=hidden_units, out_channels=hidden_units, kernel_size=3, stride=1, padding=1),\n",
    "            nn.ReLU(),\n",
    "            nn.MaxPool2d(kernel_size=2)\n",
    "        )\n",
    "        self.classifier = nn.Sequential(\n",
    "            nn.Flatten(),\n",
    "            nn.Linear(in_features=hidden_units * 49, out_features=output_shape)\n",
    "        )\n",
    "\n",
    "    def forward(self, x):\n",
    "        x = self.conv_block_1(x)\n",
    "        # print(x.shape)\n",
    "        x = self.conv_block_2(x)\n",
    "        # print(x.shape)\n",
    "        return self.classifier(x)"
   ],
   "metadata": {
    "collapsed": false,
    "ExecuteTime": {
     "end_time": "2023-09-07T09:04:07.185403600Z",
     "start_time": "2023-09-07T09:04:07.098156600Z"
    }
   },
   "id": "405002615d09f43f"
  },
  {
   "cell_type": "code",
   "execution_count": 40,
   "outputs": [
    {
     "data": {
      "text/plain": "torch.Size([1, 28, 28])"
     },
     "execution_count": 40,
     "metadata": {},
     "output_type": "execute_result"
    }
   ],
   "source": [
    "image.shape"
   ],
   "metadata": {
    "collapsed": false,
    "ExecuteTime": {
     "end_time": "2023-09-07T09:04:07.209437500Z",
     "start_time": "2023-09-07T09:04:07.111249100Z"
    }
   },
   "id": "50160f403b630a01"
  },
  {
   "cell_type": "code",
   "execution_count": 41,
   "outputs": [],
   "source": [
    "torch.manual_seed(42)\n",
    "model_2 = FashionMNISTModelV2(input_shape=1, hidden_units=10, output_shape=len(class_names))"
   ],
   "metadata": {
    "collapsed": false,
    "ExecuteTime": {
     "end_time": "2023-09-07T09:04:07.211397600Z",
     "start_time": "2023-09-07T09:04:07.136046700Z"
    }
   },
   "id": "f04e6c3c08ca896b"
  },
  {
   "cell_type": "code",
   "execution_count": 42,
   "outputs": [
    {
     "data": {
      "text/plain": "OrderedDict([('conv_block_1.0.weight',\n              tensor([[[[ 0.2548,  0.2767, -0.0781],\n                        [ 0.3062, -0.0730,  0.0673],\n                        [-0.1623,  0.1958,  0.2938]]],\n              \n              \n                      [[[-0.2445,  0.2897,  0.0624],\n                        [ 0.2463,  0.0451,  0.1607],\n                        [-0.0471,  0.2570,  0.0493]]],\n              \n              \n                      [[[-0.1556,  0.0850, -0.1536],\n                        [-0.0391, -0.1354,  0.2211],\n                        [-0.2631, -0.1537, -0.0941]]],\n              \n              \n                      [[[-0.2004,  0.0315, -0.3292],\n                        [ 0.3010, -0.2832,  0.2573],\n                        [ 0.0555, -0.1082,  0.2060]]],\n              \n              \n                      [[[ 0.0520,  0.2693,  0.0364],\n                        [-0.1051,  0.0896, -0.0904],\n                        [ 0.1403,  0.2976,  0.1927]]],\n              \n              \n                      [[[-0.1457,  0.1924,  0.0596],\n                        [ 0.1693, -0.2032, -0.3300],\n                        [-0.1288, -0.2557,  0.2735]]],\n              \n              \n                      [[[ 0.0960,  0.1381,  0.1054],\n                        [-0.0058,  0.2609, -0.2368],\n                        [ 0.0210, -0.2275,  0.1028]]],\n              \n              \n                      [[[-0.1148,  0.1021, -0.0694],\n                        [ 0.2765, -0.1976, -0.1988],\n                        [-0.1988,  0.2998,  0.1111]]],\n              \n              \n                      [[[ 0.3208, -0.2751, -0.3306],\n                        [-0.2608, -0.2242,  0.1350],\n                        [ 0.1194,  0.2770, -0.1721]]],\n              \n              \n                      [[[-0.2272,  0.1769, -0.1347],\n                        [ 0.2023, -0.0791,  0.1907],\n                        [-0.2590, -0.1682,  0.1016]]]])),\n             ('conv_block_1.0.bias',\n              tensor([ 0.0705, -0.0850,  0.1987,  0.2266, -0.2417, -0.1780,  0.3052, -0.1125,\n                      -0.1182, -0.3225])),\n             ('conv_block_1.2.weight',\n              tensor([[[[-0.0604,  0.0263, -0.0139],\n                        [-0.0765,  0.0025, -0.0720],\n                        [-0.0894, -0.0580, -0.0923]],\n              \n                       [[-0.0671,  0.1054,  0.0199],\n                        [ 0.0325, -0.0983, -0.0692],\n                        [-0.0351,  0.0165, -0.0928]],\n              \n                       [[-0.0454, -0.0631,  0.0003],\n                        [-0.0392, -0.0073, -0.0714],\n                        [-0.0724, -0.0615, -0.0361]],\n              \n                       [[-0.0832,  0.0884, -0.0209],\n                        [ 0.0907,  0.0328, -0.0893],\n                        [ 0.0729, -0.0290, -0.0404]],\n              \n                       [[-0.0875, -0.1048,  0.0302],\n                        [-0.0230,  0.0410, -0.0865],\n                        [ 0.0783, -0.0774, -0.0182]],\n              \n                       [[ 0.0220,  0.0544,  0.0851],\n                        [ 0.0960, -0.0836,  0.0265],\n                        [-0.0453, -0.0116, -0.0789]],\n              \n                       [[ 0.0960, -0.0774,  0.0563],\n                        [ 0.0370,  0.0343, -0.0570],\n                        [ 0.0958,  0.0232,  0.0136]],\n              \n                       [[-0.0929,  0.0442, -0.0158],\n                        [-0.0483,  0.0905,  0.0235],\n                        [-0.0583, -0.0534, -0.0050]],\n              \n                       [[ 0.0589, -0.0269, -0.0601],\n                        [-0.0361, -0.0787,  0.0376],\n                        [ 0.0816, -0.0992,  0.0245]],\n              \n                       [[ 0.0545,  0.0191, -0.0375],\n                        [ 0.0550,  0.0554,  0.0394],\n                        [-0.0185, -0.0279,  0.0113]]],\n              \n              \n                      [[[-0.0186, -0.0314,  0.0674],\n                        [ 0.0906, -0.0104, -0.0236],\n                        [ 0.0015, -0.0063,  0.0253]],\n              \n                       [[ 0.0295, -0.0957, -0.0389],\n                        [ 0.0888,  0.0411, -0.0052],\n                        [-0.0636, -0.0645, -0.0944]],\n              \n                       [[-0.0344,  0.0356,  0.0672],\n                        [ 0.0487, -0.0932, -0.0634],\n                        [-0.0166,  0.1020,  0.0152]],\n              \n                       [[-0.0273,  0.0436, -0.0401],\n                        [-0.0682,  0.0769, -0.0479],\n                        [-0.0211, -0.1049,  0.0705]],\n              \n                       [[ 0.0799,  0.0384, -0.0735],\n                        [-0.1040, -0.0856,  0.0786],\n                        [ 0.0506,  0.0887,  0.0552]],\n              \n                       [[ 0.0267, -0.0010, -0.0802],\n                        [-0.0903, -0.0986,  0.0432],\n                        [-0.0518, -0.0212, -0.0607]],\n              \n                       [[-0.0192, -0.0742, -0.0689],\n                        [ 0.0350, -0.0313,  0.0651],\n                        [-0.0338, -0.0773, -0.0186]],\n              \n                       [[-0.0511, -0.0322, -0.1003],\n                        [ 0.0590, -0.0734,  0.0530],\n                        [ 0.0478,  0.0753, -0.0809]],\n              \n                       [[ 0.0758, -0.0498,  0.0391],\n                        [ 0.0990, -0.0149, -0.0008],\n                        [-0.0243, -0.0880,  0.0506]],\n              \n                       [[-0.1046,  0.0654,  0.0789],\n                        [ 0.0997, -0.0249, -0.0866],\n                        [ 0.0237,  0.0582, -0.1049]]],\n              \n              \n                      [[[-0.0239, -0.0632, -0.0092],\n                        [-0.0519, -0.0431, -0.0335],\n                        [-0.1002,  0.0865,  0.0884]],\n              \n                       [[-0.0165, -0.0120, -0.0430],\n                        [-0.0952, -0.1026,  0.0392],\n                        [-0.0579, -0.0678, -0.0082]],\n              \n                       [[-0.0351, -0.0341,  0.0034],\n                        [-0.0224, -0.0363, -0.0505],\n                        [-0.0858,  0.0884, -0.0422]],\n              \n                       [[ 0.0279, -0.0366,  0.0086],\n                        [ 0.0983,  0.0486, -0.0913],\n                        [ 0.0418,  0.1001,  0.0277]],\n              \n                       [[ 0.0707,  0.1039, -0.0162],\n                        [ 0.0219, -0.0733, -0.0217],\n                        [ 0.0781,  0.0540, -0.0667]],\n              \n                       [[-0.0845, -0.0720, -0.1040],\n                        [-0.0813, -0.0261,  0.0711],\n                        [ 0.0176, -0.0802, -0.0846]],\n              \n                       [[ 0.0524, -0.0784, -0.0130],\n                        [ 0.0506, -0.0488, -0.0115],\n                        [-0.0092, -0.0249, -0.0534]],\n              \n                       [[-0.0940, -0.0852, -0.0564],\n                        [ 0.1018, -0.0509, -0.0708],\n                        [ 0.0256,  0.0291,  0.0578]],\n              \n                       [[ 0.0801,  0.0587, -0.1045],\n                        [ 0.0093,  0.0639, -0.0097],\n                        [-0.0621,  0.1005, -0.0394]],\n              \n                       [[-0.0600, -0.0950,  0.0047],\n                        [ 0.0467,  0.0233,  0.0208],\n                        [-0.0799, -0.0984,  0.0019]]],\n              \n              \n                      [[[ 0.0961,  0.0608, -0.0614],\n                        [-0.0137, -0.0777, -0.0509],\n                        [ 0.0191,  0.0574,  0.0873]],\n              \n                       [[-0.0968,  0.0705, -0.0743],\n                        [ 0.0395,  0.0892,  0.0015],\n                        [ 0.0959, -0.0898, -0.0403]],\n              \n                       [[ 0.0615, -0.0230, -0.0216],\n                        [-0.0439,  0.0727,  0.0517],\n                        [ 0.0338, -0.0592, -0.0856]],\n              \n                       [[ 0.0114,  0.0312, -0.0487],\n                        [-0.0295,  0.0712,  0.0084],\n                        [ 0.0048, -0.0259, -0.0955]],\n              \n                       [[-0.0991, -0.0504, -0.0536],\n                        [ 0.0328, -0.0307, -0.0412],\n                        [ 0.1005,  0.0367,  0.0751]],\n              \n                       [[-0.0510, -0.0431,  0.0387],\n                        [-0.0702, -0.0689, -0.0051],\n                        [-0.0386, -0.0790,  0.0625]],\n              \n                       [[ 0.0848,  0.0171, -0.0184],\n                        [-0.0976, -0.0384,  0.0268],\n                        [ 0.0497, -0.0133, -0.0417]],\n              \n                       [[ 0.0587, -0.0839,  0.0666],\n                        [-0.0409,  0.0016, -0.0208],\n                        [ 0.0128, -0.0319,  0.0766]],\n              \n                       [[-0.0027,  0.0823,  0.1013],\n                        [-0.0514, -0.0769,  0.0846],\n                        [ 0.0826, -0.0805, -0.0081]],\n              \n                       [[-0.1039, -0.0863,  0.0204],\n                        [ 0.0280,  0.0223, -0.0287],\n                        [ 0.0972,  0.0151, -0.0622]]],\n              \n              \n                      [[[-0.0060,  0.0253,  0.0369],\n                        [-0.0745,  0.0395, -0.0539],\n                        [-0.0876, -0.0576,  0.1017]],\n              \n                       [[ 0.0901,  0.0944,  0.0619],\n                        [ 0.0796, -0.0141, -0.0580],\n                        [ 0.0527, -0.0546, -0.0711]],\n              \n                       [[-0.0337,  0.0221,  0.0543],\n                        [-0.0409, -0.0620,  0.0142],\n                        [-0.0621, -0.0686,  0.0549]],\n              \n                       [[-0.0177,  0.0963,  0.1025],\n                        [ 0.0315,  0.0363,  0.0243],\n                        [ 0.0017, -0.0077,  0.0014]],\n              \n                       [[ 0.0394,  0.0980, -0.0273],\n                        [-0.0446, -0.0255, -0.0509],\n                        [ 0.0179,  0.0787,  0.0824]],\n              \n                       [[ 0.0484, -0.0776, -0.0566],\n                        [-0.0232, -0.0194,  0.0087],\n                        [-0.0968,  0.0328, -0.0804]],\n              \n                       [[-0.0667, -0.0876,  0.0918],\n                        [-0.0998,  0.0795, -0.0035],\n                        [-0.0123,  0.0659, -0.0097]],\n              \n                       [[ 0.0661,  0.0762, -0.0915],\n                        [ 0.0406,  0.0199,  0.0227],\n                        [ 0.0154,  0.0288, -0.0507]],\n              \n                       [[-0.0135,  0.1002,  0.0708],\n                        [-0.0040, -0.0991,  0.0046],\n                        [-0.0718,  0.0857, -0.0640]],\n              \n                       [[-0.0076, -0.0234,  0.0188],\n                        [ 0.0992,  0.0100,  0.0610],\n                        [ 0.0818,  0.0851, -0.0364]]],\n              \n              \n                      [[[-0.0236,  0.0508, -0.0288],\n                        [ 0.0494, -0.0230, -0.0715],\n                        [ 0.0429,  0.0162,  0.0470]],\n              \n                       [[ 0.1047,  0.0720,  0.0999],\n                        [ 0.0056, -0.0907, -0.0739],\n                        [-0.0655, -0.0929, -0.0528]],\n              \n                       [[-0.0970, -0.0973, -0.0630],\n                        [-0.1039, -0.0647,  0.0402],\n                        [ 0.0879, -0.0314, -0.0307]],\n              \n                       [[ 0.0563, -0.0520, -0.0498],\n                        [ 0.0649, -0.0918,  0.0129],\n                        [ 0.0931,  0.0181,  0.0287]],\n              \n                       [[-0.0614, -0.0015,  0.0058],\n                        [ 0.0259,  0.0410,  0.0916],\n                        [-0.0805,  0.0032, -0.0527]],\n              \n                       [[-0.0834, -0.0084, -0.0928],\n                        [ 0.0736,  0.0122, -0.0568],\n                        [ 0.0551, -0.0998, -0.0408]],\n              \n                       [[-0.0205, -0.0896, -0.0670],\n                        [-0.0172,  0.0800,  0.1018],\n                        [ 0.0671, -0.0629, -0.0690]],\n              \n                       [[ 0.0920,  0.0373,  0.0028],\n                        [ 0.0143, -0.0847, -0.0352],\n                        [ 0.1015, -0.0260, -0.0053]],\n              \n                       [[-0.0875, -0.0590, -0.0022],\n                        [-0.0655, -0.0131,  0.0429],\n                        [-0.1031,  0.0313, -0.0697]],\n              \n                       [[-0.0514,  0.0405,  0.0838],\n                        [-0.0288, -0.0433, -0.0953],\n                        [-0.0544, -0.0923, -0.0241]]],\n              \n              \n                      [[[ 0.0215, -0.0988,  0.0920],\n                        [ 0.0661, -0.1032, -0.0503],\n                        [ 0.0344, -0.0217, -0.0115]],\n              \n                       [[-0.0476,  0.0847, -0.0589],\n                        [ 0.0874,  0.0068,  0.0212],\n                        [ 0.0822, -0.0174, -0.0600]],\n              \n                       [[-0.0170,  0.0855, -0.0782],\n                        [ 0.0239, -0.1036,  0.0553],\n                        [ 0.0389,  0.0045,  0.0452]],\n              \n                       [[ 0.0001,  0.0583, -0.0834],\n                        [-0.0155,  0.0468,  0.1050],\n                        [ 0.0537, -0.0767,  0.0811]],\n              \n                       [[-0.0235, -0.0225, -0.0958],\n                        [-0.0166,  0.0746,  0.0147],\n                        [-0.0614,  0.0324, -0.0338]],\n              \n                       [[ 0.0962, -0.0915, -0.0333],\n                        [-0.1018, -0.0415,  0.0332],\n                        [ 0.1015,  0.0177,  0.1033]],\n              \n                       [[ 0.0206,  0.0609,  0.0845],\n                        [ 0.0881, -0.0590,  0.0969],\n                        [ 0.0639, -0.0493, -0.0503]],\n              \n                       [[-0.0884,  0.0265, -0.0854],\n                        [ 0.0445,  0.0333, -0.0916],\n                        [ 0.0287, -0.0086,  0.0482]],\n              \n                       [[ 0.0605, -0.1048,  0.0967],\n                        [ 0.0884,  0.0419, -0.0963],\n                        [-0.0377, -0.0305, -0.0271]],\n              \n                       [[ 0.0594,  0.0383,  0.0835],\n                        [-0.0395,  0.0355,  0.0375],\n                        [-0.0878, -0.1022, -0.0547]]],\n              \n              \n                      [[[ 0.0722, -0.0992, -0.0918],\n                        [ 0.0591,  0.0569,  0.0867],\n                        [-0.0796, -0.0771,  0.0541]],\n              \n                       [[ 0.0917,  0.0631,  0.0165],\n                        [ 0.0347,  0.1000, -0.0680],\n                        [-0.0479,  0.0737, -0.0721]],\n              \n                       [[-0.0581,  0.0769,  0.0333],\n                        [ 0.0341, -0.0447, -0.0015],\n                        [ 0.0965, -0.0633,  0.0008]],\n              \n                       [[ 0.0501, -0.0728,  0.1024],\n                        [-0.0527, -0.0253, -0.0285],\n                        [-0.0687, -0.1034,  0.0594]],\n              \n                       [[ 0.0280, -0.0987, -0.0678],\n                        [ 0.1042,  0.0403,  0.0423],\n                        [-0.0631, -0.0462, -0.0159]],\n              \n                       [[-0.0193, -0.0722,  0.0087],\n                        [ 0.0105, -0.0133,  0.0146],\n                        [-0.0418,  0.0274,  0.0398]],\n              \n                       [[-0.0555, -0.1045,  0.0552],\n                        [ 0.0251, -0.0536,  0.1016],\n                        [-0.0477,  0.0712,  0.0535]],\n              \n                       [[-0.0884,  0.0680, -0.0969],\n                        [-0.0584, -0.0176, -0.0711],\n                        [ 0.1030, -0.0211,  0.0419]],\n              \n                       [[-0.0941,  0.0607, -0.0328],\n                        [-0.0802,  0.0154,  0.0511],\n                        [ 0.0912, -0.0644, -0.0519]],\n              \n                       [[ 0.0203,  0.0286,  0.0405],\n                        [ 0.0579, -0.0239,  0.0586],\n                        [ 0.0777, -0.0275,  0.0750]]],\n              \n              \n                      [[[ 0.0515,  0.0930, -0.0599],\n                        [-0.0521, -0.0305,  0.0053],\n                        [ 0.0633, -0.0602,  0.0528]],\n              \n                       [[-0.0378,  0.0637, -0.0050],\n                        [-0.0923, -0.0580, -0.0763],\n                        [ 0.0523, -0.0707, -0.0088]],\n              \n                       [[ 0.0227, -0.0578,  0.0304],\n                        [-0.1029, -0.0754, -0.0955],\n                        [-0.0319, -0.0384,  0.0151]],\n              \n                       [[-0.0195,  0.0496,  0.0966],\n                        [ 0.0378, -0.0415, -0.0987],\n                        [ 0.0382, -0.0522,  0.0536]],\n              \n                       [[ 0.0705,  0.0407,  0.0989],\n                        [ 0.1001,  0.0223, -0.0768],\n                        [ 0.0942, -0.0500, -0.0498]],\n              \n                       [[ 0.0882,  0.0817,  0.0318],\n                        [ 0.0066, -0.0887, -0.0109],\n                        [ 0.1011,  0.0268,  0.0090]],\n              \n                       [[-0.0219, -0.0368,  0.0628],\n                        [ 0.0065,  0.0686, -0.0187],\n                        [ 0.0461,  0.0435,  0.0168]],\n              \n                       [[ 0.0662,  0.0661,  0.0977],\n                        [ 0.0810, -0.0270, -0.0892],\n                        [ 0.0193, -0.0009, -0.0275]],\n              \n                       [[-0.0177,  0.0050,  0.0769],\n                        [ 0.0329, -0.0374, -0.0433],\n                        [-0.0261, -0.0407,  0.0948]],\n              \n                       [[ 0.0558,  0.0952,  0.0003],\n                        [ 0.0213,  0.0366, -0.0998],\n                        [ 0.0094, -0.0071, -0.0591]]],\n              \n              \n                      [[[-0.0818,  0.0933,  0.0857],\n                        [ 0.0489,  0.1006, -0.0428],\n                        [-0.0182,  0.0399, -0.0174]],\n              \n                       [[-0.0207, -0.0871,  0.0283],\n                        [-0.0637,  0.0038,  0.1028],\n                        [-0.0324, -0.0332,  0.0636]],\n              \n                       [[-0.0388, -0.0091,  0.0984],\n                        [-0.0432, -0.0754, -0.0590],\n                        [-0.0292, -0.0500, -0.0547]],\n              \n                       [[ 0.0426,  0.0179, -0.0337],\n                        [-0.0819, -0.0332, -0.0445],\n                        [-0.0343, -0.0951,  0.0227]],\n              \n                       [[-0.0774, -0.0821, -0.0861],\n                        [ 0.0440, -0.0635, -0.0435],\n                        [ 0.0826,  0.0560,  0.0604]],\n              \n                       [[-0.1001, -0.0756, -0.0398],\n                        [ 0.0871,  0.0108, -0.0788],\n                        [ 0.0007, -0.0819, -0.0231]],\n              \n                       [[-0.0290,  0.0912,  0.0326],\n                        [-0.0184,  0.0178, -0.0304],\n                        [ 0.0414,  0.0417,  0.0283]],\n              \n                       [[-0.0411,  0.0899, -0.0152],\n                        [-0.0410,  0.0660,  0.0859],\n                        [ 0.1049,  0.0312, -0.0359]],\n              \n                       [[ 0.0535,  0.0904, -0.1034],\n                        [-0.0131, -0.0719,  0.0196],\n                        [ 0.0436, -0.0218, -0.0088]],\n              \n                       [[ 0.0474, -0.0177, -0.0885],\n                        [ 0.0843, -0.0531, -0.0116],\n                        [ 0.0099, -0.0063, -0.0992]]]])),\n             ('conv_block_1.2.bias',\n              tensor([ 0.0484, -0.0479, -0.0547,  0.0252, -0.0550, -0.0487, -0.0355, -0.0396,\n                      -0.0440, -0.0284])),\n             ('conv_block_2.0.weight',\n              tensor([[[[ 2.7393e-02, -8.5299e-02, -6.3802e-02],\n                        [ 1.5381e-03,  1.4659e-02,  5.8217e-02],\n                        [-7.4044e-02,  3.3646e-02,  5.9914e-02]],\n              \n                       [[ 5.8530e-02, -9.8180e-02, -4.0225e-02],\n                        [-9.0606e-02, -6.6704e-02,  5.8711e-02],\n                        [-1.5740e-02,  4.4769e-02, -6.1876e-02]],\n              \n                       [[ 1.6018e-02, -6.3758e-02,  5.2693e-02],\n                        [-4.6104e-02, -2.6432e-02, -9.1456e-02],\n                        [ 3.4823e-04,  1.0008e-01,  5.1163e-02]],\n              \n                       [[-5.6240e-02,  1.4176e-03, -1.1558e-02],\n                        [-8.4862e-02,  8.2650e-02,  1.6993e-03],\n                        [ 2.2199e-02, -4.2567e-02, -4.9323e-02]],\n              \n                       [[ 1.7381e-02,  3.8971e-02,  2.3643e-02],\n                        [-5.0801e-02,  1.0234e-01, -1.5517e-02],\n                        [-6.4554e-02, -4.9301e-02,  1.0377e-01]],\n              \n                       [[ 5.0738e-06, -1.4309e-02, -4.3867e-02],\n                        [-2.7633e-02, -8.8779e-02, -8.3767e-02],\n                        [ 6.1695e-02,  9.0172e-02,  1.0059e-01]],\n              \n                       [[-7.6099e-02,  5.7012e-02, -6.5245e-02],\n                        [ 6.2883e-02,  7.6058e-02,  8.1573e-02],\n                        [ 7.5900e-02,  6.5941e-02,  2.0517e-03]],\n              \n                       [[ 4.8434e-02, -3.7712e-02,  4.5899e-02],\n                        [-3.3879e-02, -1.7700e-03, -9.1746e-02],\n                        [-2.7562e-02, -5.5432e-02, -3.5557e-02]],\n              \n                       [[-6.7313e-02, -9.4810e-02,  6.8639e-03],\n                        [ 6.8408e-02,  9.6001e-02,  6.1512e-02],\n                        [-5.4638e-02, -1.0425e-01,  3.9983e-02]],\n              \n                       [[ 5.9062e-02, -9.0495e-02,  3.7798e-02],\n                        [ 8.9121e-02,  6.3853e-03, -6.3505e-02],\n                        [ 8.6423e-02,  4.5011e-02,  6.9802e-02]]],\n              \n              \n                      [[[-7.1287e-02,  6.1342e-02, -7.2002e-02],\n                        [ 1.0430e-01, -4.4662e-02,  6.3516e-02],\n                        [ 2.1107e-02,  2.7935e-02, -1.6165e-02]],\n              \n                       [[ 4.3295e-02, -4.3932e-02, -9.9357e-02],\n                        [-4.0499e-02,  8.2592e-02, -2.7751e-02],\n                        [ 3.3132e-02, -3.8973e-02,  7.9073e-02]],\n              \n                       [[ 6.3086e-02,  3.7211e-02, -5.3881e-02],\n                        [-8.6133e-02,  3.9686e-03, -6.1839e-02],\n                        [ 8.6667e-02, -1.0130e-01,  4.7104e-02]],\n              \n                       [[ 1.0508e-01,  5.2792e-02,  3.5942e-02],\n                        [-1.0142e-01,  1.0139e-01, -1.8030e-02],\n                        [-9.8495e-02,  1.0406e-01, -4.2894e-02]],\n              \n                       [[-7.4575e-03,  9.6479e-02, -7.3070e-02],\n                        [-7.4576e-02,  1.7141e-02, -1.4109e-02],\n                        [ 2.4280e-02, -8.8407e-02,  3.1524e-03]],\n              \n                       [[-4.6882e-02, -5.1820e-02, -9.6517e-02],\n                        [ 5.5890e-02,  2.0306e-02, -8.9118e-02],\n                        [ 8.3648e-02,  3.1794e-02,  1.9560e-02]],\n              \n                       [[-6.1890e-02,  1.5896e-02,  1.0157e-01],\n                        [ 7.2299e-02, -8.2100e-02,  9.6220e-02],\n                        [ 8.1702e-03,  5.0698e-02,  8.1869e-02]],\n              \n                       [[ 8.9862e-02, -8.2170e-02,  9.2303e-02],\n                        [-7.1591e-02,  7.9021e-03, -7.3656e-02],\n                        [-2.3109e-02, -4.7901e-03, -1.2611e-02]],\n              \n                       [[-1.6652e-02,  8.3137e-03,  1.0398e-01],\n                        [ 6.1244e-02,  5.8973e-02,  4.2190e-02],\n                        [ 8.1606e-02, -4.8645e-03,  8.3813e-03]],\n              \n                       [[ 2.1693e-02, -9.1931e-02, -8.4913e-02],\n                        [ 1.2923e-02, -4.1241e-02, -1.9342e-03],\n                        [-2.4187e-02,  1.6408e-02,  6.8581e-02]]],\n              \n              \n                      [[[-3.4958e-02,  8.4418e-02,  8.3227e-02],\n                        [-8.0901e-02, -8.1400e-02, -8.5284e-02],\n                        [-5.7766e-02, -4.1033e-02, -7.9341e-03]],\n              \n                       [[-2.5635e-02, -5.3258e-02, -3.3488e-02],\n                        [-3.8131e-02,  1.0341e-01, -3.9068e-02],\n                        [-7.5473e-02,  4.3818e-02, -6.0886e-03]],\n              \n                       [[ 8.0698e-02,  6.5863e-02,  9.6843e-02],\n                        [-7.7197e-02,  6.7764e-02,  8.8464e-02],\n                        [-5.2054e-02,  9.6890e-02,  7.9019e-02]],\n              \n                       [[ 1.1544e-03,  5.0823e-02, -3.6853e-02],\n                        [-9.1936e-02,  2.6645e-02,  3.1425e-02],\n                        [-6.8891e-02,  5.1123e-02, -9.0043e-02]],\n              \n                       [[ 9.0718e-02,  1.0208e-01,  2.8699e-02],\n                        [-6.6137e-02,  5.1300e-02,  1.7963e-02],\n                        [ 2.8663e-02,  3.4643e-02,  8.0254e-02]],\n              \n                       [[-4.5309e-02, -2.3711e-02,  2.8746e-02],\n                        [ 1.1486e-02,  8.5000e-02, -5.5365e-02],\n                        [-3.8387e-03,  1.9696e-02, -2.7996e-02]],\n              \n                       [[ 7.1859e-02,  1.1530e-02, -9.7422e-02],\n                        [-1.1420e-02, -4.7809e-02,  1.0243e-02],\n                        [-1.2250e-02, -1.0456e-01, -1.9208e-02]],\n              \n                       [[-1.0096e-02, -3.1083e-02,  9.6848e-02],\n                        [-2.3000e-02,  6.7717e-02,  2.6112e-02],\n                        [-8.8979e-02,  2.4770e-02,  8.7356e-02]],\n              \n                       [[-6.8948e-02, -6.8134e-02,  1.0318e-01],\n                        [ 8.4697e-02, -5.8807e-02,  6.3429e-02],\n                        [-1.3485e-02, -1.0393e-01,  7.9198e-03]],\n              \n                       [[ 3.4057e-02, -3.1619e-02,  3.6670e-02],\n                        [-9.0136e-02,  7.3050e-02,  8.9865e-02],\n                        [ 5.8130e-02,  1.7866e-02,  3.4716e-02]]],\n              \n              \n                      [[[-7.6269e-02, -2.6339e-02, -1.0063e-02],\n                        [-5.8659e-02, -7.7857e-02,  7.0900e-02],\n                        [ 7.1535e-02, -9.5731e-02,  3.3542e-02]],\n              \n                       [[ 4.2881e-02,  1.0014e-01,  6.0985e-02],\n                        [ 9.6907e-02, -3.4510e-02,  7.3827e-02],\n                        [ 8.5740e-02, -9.9541e-02, -8.4613e-02]],\n              \n                       [[ 2.1335e-02,  5.7557e-02, -5.2369e-02],\n                        [ 1.1609e-02, -1.5303e-04,  2.6680e-02],\n                        [-5.6642e-02,  5.9455e-02,  7.0098e-02]],\n              \n                       [[-7.3139e-02,  1.0211e-03,  2.9247e-04],\n                        [ 3.3849e-02,  9.8198e-02,  3.0913e-02],\n                        [-2.3951e-02,  9.4672e-02, -4.0112e-02]],\n              \n                       [[-3.0608e-02,  7.1969e-03, -8.0270e-02],\n                        [ 1.1470e-02, -7.1518e-02,  1.0838e-02],\n                        [ 1.0099e-02,  1.4591e-02, -8.8891e-02]],\n              \n                       [[-1.0012e-01,  4.8501e-02,  9.0399e-02],\n                        [-9.3537e-02,  3.9043e-02, -7.7594e-02],\n                        [ 6.6082e-03,  9.8068e-02,  7.9965e-02]],\n              \n                       [[-7.7069e-02,  6.5203e-02,  5.5057e-02],\n                        [-1.6169e-04,  1.0211e-01, -4.1866e-02],\n                        [-2.4530e-02, -5.3275e-02,  1.5168e-02]],\n              \n                       [[ 2.7911e-02,  8.3990e-03, -5.9307e-02],\n                        [-4.7452e-02,  3.5855e-02, -9.2426e-02],\n                        [-1.6416e-02, -2.3350e-03, -4.2708e-02]],\n              \n                       [[ 3.8360e-02,  6.7940e-03,  7.4004e-02],\n                        [-9.3616e-03, -6.6528e-02,  7.4477e-02],\n                        [ 1.4720e-02, -3.0189e-02, -6.9476e-02]],\n              \n                       [[ 2.4707e-02, -1.0053e-01,  2.7762e-02],\n                        [ 5.2119e-02, -9.2465e-02, -6.9009e-02],\n                        [-7.5781e-02,  8.8597e-02,  8.9611e-02]]],\n              \n              \n                      [[[ 6.5987e-03,  9.8959e-02, -3.5239e-02],\n                        [-1.0233e-01,  3.6819e-02,  3.7343e-02],\n                        [ 1.0334e-01, -3.0510e-05,  8.0785e-02]],\n              \n                       [[ 6.4612e-02,  7.6292e-02, -1.0460e-01],\n                        [ 8.6800e-02, -8.9856e-02,  9.4501e-02],\n                        [-4.3682e-03, -9.3415e-02,  2.9314e-02]],\n              \n                       [[-2.1456e-02, -9.4678e-02, -3.8215e-02],\n                        [ 1.0868e-02,  8.2098e-02, -3.2406e-02],\n                        [ 6.2610e-02,  1.3200e-02,  3.5531e-03]],\n              \n                       [[ 2.0170e-02, -6.9177e-02, -8.7616e-02],\n                        [-3.3121e-02, -9.8226e-02, -4.9158e-02],\n                        [ 4.8494e-03, -6.9424e-02, -4.3723e-02]],\n              \n                       [[-1.8941e-02, -1.2144e-02, -5.8187e-02],\n                        [ 5.0650e-03, -1.4795e-02,  3.0147e-02],\n                        [ 4.7611e-03, -5.2638e-02, -3.6291e-02]],\n              \n                       [[-1.2149e-03, -6.5774e-02,  8.2520e-03],\n                        [-7.4425e-03,  4.0897e-02,  2.4947e-02],\n                        [ 7.8887e-02, -3.4749e-03, -7.7887e-02]],\n              \n                       [[ 4.7119e-02, -7.1240e-02, -1.4489e-02],\n                        [-3.4132e-02, -3.9997e-02, -3.9000e-02],\n                        [ 9.6863e-02,  6.0342e-02,  2.9213e-02]],\n              \n                       [[ 9.8975e-02, -9.5524e-02,  1.7010e-02],\n                        [ 6.7481e-02,  7.0022e-02, -8.3890e-02],\n                        [ 3.7514e-02, -6.0050e-02, -4.1187e-03]],\n              \n                       [[-2.1996e-02, -8.8013e-02, -1.0055e-01],\n                        [-6.9349e-02,  4.7832e-02,  4.8218e-02],\n                        [-9.1681e-02, -3.9586e-02,  1.7218e-03]],\n              \n                       [[-9.1135e-02,  5.9393e-02,  9.5473e-02],\n                        [ 1.8643e-02, -7.8321e-02,  2.4580e-02],\n                        [ 3.8265e-02,  8.3468e-02, -5.6085e-02]]],\n              \n              \n                      [[[-9.4437e-02,  4.6312e-02,  6.5624e-03],\n                        [-3.4345e-02, -4.4169e-02, -5.4351e-02],\n                        [ 8.5328e-02, -1.8187e-02,  7.6022e-02]],\n              \n                       [[ 9.4094e-02,  1.3353e-02,  2.2454e-02],\n                        [-7.1789e-03,  7.2397e-02, -9.4983e-02],\n                        [ 4.1919e-02, -1.7174e-02,  4.8132e-02]],\n              \n                       [[-4.6949e-04, -3.9029e-02, -1.1379e-02],\n                        [ 5.6920e-02, -7.3210e-02, -6.6629e-02],\n                        [-2.3611e-02, -3.8235e-02,  4.1409e-02]],\n              \n                       [[ 7.0937e-02, -1.1289e-02,  9.9672e-02],\n                        [-4.4042e-02, -5.9151e-02, -4.7191e-02],\n                        [-7.2624e-02, -7.3885e-02, -9.3921e-02]],\n              \n                       [[-9.3422e-02,  2.7512e-02,  6.4284e-02],\n                        [ 9.8963e-02,  8.9787e-02, -6.0709e-03],\n                        [ 2.0454e-02, -6.3068e-02,  4.0743e-02]],\n              \n                       [[-1.0107e-01,  4.9719e-02,  1.9334e-02],\n                        [ 3.2393e-02,  3.8595e-02, -4.8394e-02],\n                        [ 9.0452e-02,  5.0307e-02,  6.9243e-02]],\n              \n                       [[ 1.3922e-02,  6.6196e-02,  7.0941e-02],\n                        [ 4.7775e-02,  8.0297e-02, -1.9119e-02],\n                        [ 6.9310e-02,  2.4286e-02,  6.3424e-02]],\n              \n                       [[ 1.0267e-01,  2.3869e-02, -3.9124e-02],\n                        [-1.0488e-02,  2.9676e-02,  1.7773e-02],\n                        [-2.8795e-02,  8.2590e-02,  6.3331e-02]],\n              \n                       [[-6.5475e-02, -8.5889e-03, -1.0119e-02],\n                        [-6.6063e-02,  1.5374e-02, -3.2360e-02],\n                        [-5.4419e-02, -3.3894e-02, -3.7584e-02]],\n              \n                       [[ 1.0084e-01,  4.0432e-02,  1.0373e-01],\n                        [ 2.8903e-02,  2.3868e-02,  4.3333e-02],\n                        [ 1.8092e-02, -8.2722e-02, -6.2334e-02]]],\n              \n              \n                      [[[-2.5538e-02,  1.5846e-03,  3.9709e-02],\n                        [ 4.0588e-02,  8.3623e-02,  2.1458e-02],\n                        [-3.5975e-02, -7.9271e-02, -7.7203e-02]],\n              \n                       [[-6.2965e-02,  3.1792e-02,  5.6950e-02],\n                        [ 9.2224e-02, -3.3342e-02, -8.3150e-03],\n                        [-3.1303e-02, -3.8517e-04,  3.3837e-02]],\n              \n                       [[-2.3160e-03,  4.8799e-03,  1.3354e-02],\n                        [ 3.9256e-02, -3.1981e-02, -6.2855e-02],\n                        [ 2.4869e-02, -1.2481e-02, -4.7753e-02]],\n              \n                       [[ 4.4268e-02,  9.5597e-04, -1.5333e-02],\n                        [-5.1027e-02, -1.3868e-02, -8.9632e-02],\n                        [ 2.3980e-02,  1.5818e-03,  6.3966e-02]],\n              \n                       [[ 6.8063e-03,  8.4277e-03,  2.8715e-02],\n                        [ 8.0210e-02, -4.9812e-02,  6.2930e-02],\n                        [ 2.5779e-02, -7.0320e-02,  3.6702e-02]],\n              \n                       [[-6.3217e-02, -3.3181e-02, -5.0245e-02],\n                        [-7.1711e-02,  8.3017e-02, -9.4217e-02],\n                        [ 5.2706e-02, -9.4870e-02, -1.2829e-02]],\n              \n                       [[ 6.2868e-03,  7.4937e-02, -3.8147e-02],\n                        [ 3.0340e-02,  1.6329e-02,  6.2021e-02],\n                        [ 6.2668e-03,  3.9470e-02, -6.3677e-02]],\n              \n                       [[-7.3250e-02,  9.3928e-02, -7.6808e-02],\n                        [-1.7945e-02, -1.2742e-02,  1.0308e-01],\n                        [-2.2780e-02, -8.0249e-02, -2.6721e-02]],\n              \n                       [[ 5.4372e-02,  4.1773e-02,  8.7204e-02],\n                        [-2.1579e-02,  4.9653e-02, -9.9194e-02],\n                        [ 4.0787e-02,  4.8432e-02,  6.7998e-02]],\n              \n                       [[-6.0446e-02, -2.8142e-02,  2.5502e-02],\n                        [-7.4905e-02, -8.3851e-02, -1.0141e-01],\n                        [ 5.8842e-03,  6.5458e-02,  2.7075e-02]]],\n              \n              \n                      [[[ 6.4263e-03,  3.6727e-02, -6.6240e-02],\n                        [ 1.1113e-02, -2.6186e-02, -5.2193e-02],\n                        [ 9.0902e-02, -8.1550e-02,  1.5448e-02]],\n              \n                       [[-9.2624e-02, -3.5762e-03, -4.6840e-02],\n                        [ 3.4695e-02, -5.9191e-02,  6.7466e-02],\n                        [-8.5536e-02,  6.3313e-02, -7.9181e-02]],\n              \n                       [[ 5.6456e-02, -4.4384e-02, -2.4556e-04],\n                        [-1.9238e-02,  6.8414e-02,  3.4546e-02],\n                        [-9.2887e-02,  9.6914e-03, -7.2718e-02]],\n              \n                       [[ 7.8800e-02,  1.7319e-02, -2.7109e-02],\n                        [-5.3777e-02,  3.6485e-02, -6.3129e-02],\n                        [ 4.9992e-02,  5.7519e-02,  6.4701e-02]],\n              \n                       [[ 2.7537e-02, -9.2272e-02,  7.5823e-02],\n                        [-3.2700e-02, -3.1163e-02, -1.1325e-02],\n                        [ 7.7068e-02,  8.1052e-02,  1.6276e-02]],\n              \n                       [[ 5.0296e-02, -9.8241e-02,  2.4901e-04],\n                        [-9.3254e-02,  3.5876e-02, -7.5099e-02],\n                        [-3.7568e-02,  7.3684e-02,  1.0074e-01]],\n              \n                       [[-6.3286e-02, -5.8503e-02,  1.3055e-02],\n                        [ 4.1437e-02, -1.7168e-02, -3.2918e-02],\n                        [-6.9237e-02,  4.4997e-02,  1.0328e-01]],\n              \n                       [[-5.1026e-02,  4.9718e-02,  5.1481e-02],\n                        [ 8.4728e-02, -1.2001e-02,  3.3202e-03],\n                        [ 7.7444e-02,  6.6631e-02,  1.0411e-01]],\n              \n                       [[-3.0207e-02,  4.1709e-02,  7.3605e-02],\n                        [-7.1553e-02,  2.0940e-02, -2.3586e-02],\n                        [ 6.7760e-02, -4.7342e-02,  7.3933e-03]],\n              \n                       [[ 6.3067e-02, -9.6567e-02, -8.9004e-02],\n                        [-5.3989e-02,  6.7611e-02,  7.0680e-02],\n                        [-7.1991e-02,  2.0100e-02, -5.5854e-02]]],\n              \n              \n                      [[[-4.8926e-02,  9.0907e-02,  5.0914e-02],\n                        [-2.8828e-02,  1.5516e-02,  2.0424e-02],\n                        [ 2.4691e-02, -3.6079e-02, -6.2074e-02]],\n              \n                       [[ 6.9788e-02,  1.4164e-02,  4.4119e-02],\n                        [-3.9922e-02,  5.1057e-02,  7.6713e-02],\n                        [ 6.4107e-02,  2.8660e-02,  1.0371e-01]],\n              \n                       [[-2.3053e-04,  2.2441e-02,  1.0015e-01],\n                        [ 1.0245e-01, -4.4506e-02,  9.4953e-02],\n                        [ 3.8902e-02, -1.1799e-02,  9.2038e-02]],\n              \n                       [[-5.4605e-02,  6.8490e-02,  1.0445e-01],\n                        [-7.2701e-02, -6.2201e-02, -1.0445e-01],\n                        [-1.8970e-02, -9.5733e-02, -3.5304e-02]],\n              \n                       [[ 3.2002e-02,  7.4511e-02,  5.8717e-02],\n                        [ 5.8511e-02,  4.3730e-02, -6.5378e-02],\n                        [-8.3694e-02,  4.3696e-03,  1.0009e-01]],\n              \n                       [[ 5.9351e-03, -9.0662e-03, -7.1545e-02],\n                        [-5.2266e-02, -8.1256e-02,  8.4398e-02],\n                        [-1.7174e-02, -9.3119e-02,  1.1308e-02]],\n              \n                       [[ 7.6494e-03, -1.3023e-02,  3.7733e-02],\n                        [ 5.6687e-02, -9.9128e-02, -8.0753e-02],\n                        [-5.0639e-03, -9.7729e-02, -9.5750e-02]],\n              \n                       [[ 9.3067e-02, -8.0174e-03, -5.2113e-02],\n                        [-3.6157e-02, -8.2295e-02,  8.2258e-02],\n                        [-2.2857e-02, -5.9265e-02, -7.9944e-02]],\n              \n                       [[ 6.1611e-02, -1.4571e-02, -1.1074e-02],\n                        [-2.7473e-02, -5.0883e-02,  1.8751e-02],\n                        [ 8.1099e-02, -6.1093e-02,  5.0504e-03]],\n              \n                       [[-8.0165e-02, -4.9426e-02,  9.2525e-02],\n                        [ 1.1052e-03,  1.0154e-01, -1.8468e-02],\n                        [-5.7453e-02, -6.2981e-02,  9.3426e-02]]],\n              \n              \n                      [[[-8.1058e-02,  5.5318e-02,  2.6203e-02],\n                        [ 3.1107e-02,  5.9476e-02, -2.7577e-02],\n                        [ 6.5223e-02, -8.3982e-02, -3.7087e-02]],\n              \n                       [[ 7.7164e-02,  3.1283e-02, -1.4038e-02],\n                        [-2.4616e-02, -6.4364e-02,  6.4098e-02],\n                        [-3.3520e-03, -3.5664e-03,  2.4929e-02]],\n              \n                       [[ 7.7787e-02, -5.3778e-02, -3.6303e-02],\n                        [ 7.1429e-02,  5.9532e-02, -5.1855e-02],\n                        [-1.0428e-01,  1.9555e-02,  5.5434e-02]],\n              \n                       [[ 2.5178e-02,  7.4768e-02, -8.3640e-02],\n                        [ 5.3156e-02, -6.5531e-02,  5.9325e-02],\n                        [ 7.8394e-02,  3.3385e-02,  8.5284e-02]],\n              \n                       [[-6.9481e-02, -9.4275e-02, -1.0135e-01],\n                        [ 6.6179e-02,  3.6926e-02, -7.7188e-02],\n                        [ 5.1048e-02,  9.6177e-02, -1.0394e-01]],\n              \n                       [[ 7.6466e-02,  1.6167e-02,  9.8053e-03],\n                        [ 9.4847e-02,  9.5458e-02,  4.4414e-02],\n                        [ 8.3288e-02,  4.3853e-02,  1.7176e-02]],\n              \n                       [[-9.2656e-02,  1.9689e-02, -7.4993e-02],\n                        [ 3.2452e-02,  1.8598e-02,  2.3681e-03],\n                        [-7.2071e-02, -6.3899e-02,  7.7912e-02]],\n              \n                       [[ 5.1336e-02,  5.5576e-02, -3.1410e-02],\n                        [-1.8151e-02, -2.7014e-02,  7.2489e-02],\n                        [-4.5504e-02,  6.6394e-02,  7.2679e-02]],\n              \n                       [[-9.6403e-02,  6.4369e-04, -2.0076e-02],\n                        [-5.8273e-02,  4.5507e-02, -1.2807e-02],\n                        [ 9.2287e-02, -6.5976e-02,  4.8976e-02]],\n              \n                       [[-8.9998e-02, -5.2833e-02,  7.1903e-03],\n                        [ 8.3283e-02,  5.5521e-02, -8.6550e-02],\n                        [ 1.1676e-02, -6.2138e-02,  4.5674e-03]]]])),\n             ('conv_block_2.0.bias',\n              tensor([-0.0878, -0.0309,  0.0723, -0.0967, -0.1005,  0.0192,  0.0144, -0.0193,\n                       0.0920, -0.0635])),\n             ('conv_block_2.2.weight',\n              tensor([[[[-6.3992e-02, -7.8791e-02, -1.9619e-02],\n                        [-2.6901e-02,  6.5222e-02, -5.9186e-03],\n                        [ 3.3663e-02, -4.3804e-02,  8.5507e-02]],\n              \n                       [[ 8.8862e-02, -9.4401e-02, -2.7090e-02],\n                        [-8.9439e-02,  4.4781e-02, -9.2094e-02],\n                        [-4.9839e-02,  1.0532e-01, -1.0066e-01]],\n              \n                       [[ 7.7771e-02,  8.9049e-03,  8.4289e-02],\n                        [-5.3494e-02,  6.9236e-02,  1.2718e-02],\n                        [ 8.1073e-03,  7.1945e-02, -1.0019e-01]],\n              \n                       [[-8.4902e-02,  1.0180e-01, -6.3298e-02],\n                        [-7.5980e-02, -5.1539e-03, -3.3742e-02],\n                        [-1.4421e-02, -7.0623e-02,  3.8034e-02]],\n              \n                       [[-9.0703e-02,  8.5374e-03,  6.1510e-02],\n                        [ 2.0253e-02,  1.4006e-02,  1.5418e-02],\n                        [-3.0880e-02, -2.0080e-02, -4.4450e-02]],\n              \n                       [[-7.1207e-02, -5.5810e-02,  1.0420e-01],\n                        [-1.7641e-02,  3.6924e-02,  7.2896e-02],\n                        [-8.2343e-03, -5.6707e-02, -7.1419e-02]],\n              \n                       [[-3.8833e-02,  3.7624e-02, -8.8771e-02],\n                        [-1.2870e-02,  4.0096e-02,  8.5999e-02],\n                        [ 3.1721e-02,  2.0846e-02,  7.2162e-02]],\n              \n                       [[ 4.8708e-02,  3.5661e-02, -3.2682e-02],\n                        [-8.4528e-02, -2.2769e-02, -1.9117e-02],\n                        [ 7.7410e-03, -1.1593e-02,  4.2616e-02]],\n              \n                       [[ 7.0050e-02, -4.2735e-02, -1.0002e-01],\n                        [-5.4081e-02, -5.0436e-02,  5.9750e-02],\n                        [-6.7994e-02, -9.9145e-03, -2.2340e-02]],\n              \n                       [[-6.3976e-02,  4.7780e-02, -4.3909e-02],\n                        [-5.4531e-03, -7.4112e-02, -1.0632e-02],\n                        [ 1.4977e-02, -4.2894e-03, -3.9386e-02]]],\n              \n              \n                      [[[ 3.1315e-02, -2.7311e-02, -5.8439e-02],\n                        [-7.7732e-02, -2.2329e-02, -9.9578e-02],\n                        [ 8.7492e-02, -5.0357e-02, -4.3684e-02]],\n              \n                       [[ 9.7439e-03,  2.7326e-02, -9.9393e-03],\n                        [ 7.2313e-02, -6.1448e-02,  3.7777e-02],\n                        [-2.3773e-04, -8.5747e-02, -4.0824e-02]],\n              \n                       [[ 2.6825e-02,  2.0138e-02,  7.6647e-02],\n                        [ 7.0518e-02, -5.7493e-02, -4.5013e-02],\n                        [-2.2351e-02, -7.5517e-02, -2.8459e-02]],\n              \n                       [[-8.6258e-02,  4.0092e-02,  7.4583e-02],\n                        [ 8.3459e-03, -7.5460e-02, -7.9827e-02],\n                        [-4.1036e-02,  3.0659e-02,  2.5711e-03]],\n              \n                       [[ 1.9166e-02,  9.9346e-02,  4.8956e-02],\n                        [ 2.2665e-02, -2.1327e-02,  4.9864e-02],\n                        [ 3.8563e-02, -9.4879e-02, -6.2266e-02]],\n              \n                       [[ 3.5381e-03,  3.9997e-02,  5.1282e-02],\n                        [-6.2748e-02, -1.0458e-01, -5.4909e-03],\n                        [-1.2050e-02,  3.0588e-02, -2.8988e-02]],\n              \n                       [[ 8.0588e-02,  7.0333e-03,  7.6975e-02],\n                        [-7.3398e-02,  4.2167e-02,  1.2560e-02],\n                        [-5.2720e-02,  5.2256e-02, -1.0372e-01]],\n              \n                       [[ 8.5220e-02,  8.4947e-03,  1.0178e-02],\n                        [ 4.8746e-02,  8.7503e-03,  4.5184e-02],\n                        [ 6.7063e-02, -8.2268e-02,  6.9735e-02]],\n              \n                       [[-1.5784e-02, -2.4513e-02,  2.1217e-02],\n                        [ 8.2446e-02, -5.7302e-02, -7.1039e-02],\n                        [ 6.5418e-02, -4.9507e-02,  3.3937e-02]],\n              \n                       [[-1.5530e-02,  2.9014e-02,  8.0439e-02],\n                        [-5.3421e-02, -5.1151e-02,  5.1716e-02],\n                        [ 5.7714e-03, -1.1601e-02, -9.2590e-02]]],\n              \n              \n                      [[[ 8.9309e-02, -3.9919e-03, -1.9415e-02],\n                        [-4.3269e-02, -2.0801e-02,  5.1233e-02],\n                        [-2.4227e-03,  9.0147e-02, -6.0858e-03]],\n              \n                       [[-1.5122e-02,  5.9498e-02, -2.7275e-03],\n                        [-2.1039e-02,  3.5231e-02,  8.3129e-02],\n                        [ 2.6305e-02,  7.3398e-02,  6.8309e-02]],\n              \n                       [[ 2.9810e-02,  3.6650e-02,  3.4014e-02],\n                        [ 1.0934e-02,  8.9675e-02,  9.7308e-02],\n                        [ 3.7524e-02, -5.2640e-03,  9.4509e-02]],\n              \n                       [[-8.2042e-02,  7.7453e-02,  5.5849e-02],\n                        [ 6.7687e-02, -8.0992e-03, -7.8646e-02],\n                        [ 7.5193e-02, -4.6091e-02,  2.7734e-02]],\n              \n                       [[ 5.9719e-02, -9.8508e-02,  6.9954e-03],\n                        [-3.7444e-02,  7.4815e-02, -6.7114e-02],\n                        [ 6.4001e-02,  6.5730e-02,  5.8156e-02]],\n              \n                       [[ 1.0119e-01,  1.5964e-02, -9.5541e-02],\n                        [ 7.5248e-02,  9.6499e-03,  2.0918e-03],\n                        [-1.0041e-01, -2.3691e-02, -5.1162e-02]],\n              \n                       [[ 1.0324e-01,  7.5054e-02,  7.8634e-02],\n                        [ 7.2188e-02, -6.5340e-02, -4.5270e-02],\n                        [-4.1252e-02, -4.2257e-02,  8.2054e-02]],\n              \n                       [[ 3.5815e-02,  8.4470e-02, -4.9309e-03],\n                        [-9.3965e-02, -3.0582e-02,  7.4081e-02],\n                        [ 6.4174e-02,  3.2632e-02, -3.0919e-02]],\n              \n                       [[-9.8386e-02, -5.6639e-02,  5.4958e-02],\n                        [-4.2518e-02,  5.0421e-02,  2.8781e-02],\n                        [-4.0486e-02,  6.4202e-02, -3.3871e-02]],\n              \n                       [[-3.5020e-03, -4.0152e-02, -9.9988e-02],\n                        [ 1.6996e-02,  3.0460e-02, -5.3072e-02],\n                        [ 6.4663e-02, -9.4558e-02, -1.0161e-01]]],\n              \n              \n                      [[[-6.5106e-02, -3.6430e-02, -1.1707e-02],\n                        [-2.0370e-02,  4.8108e-02, -9.2510e-02],\n                        [ 1.5521e-02,  1.8254e-03,  2.7842e-02]],\n              \n                       [[ 1.0479e-01,  6.4874e-02, -5.8366e-02],\n                        [-8.6378e-02, -2.5520e-02, -5.2876e-02],\n                        [ 3.6820e-02,  9.6628e-04,  8.4783e-02]],\n              \n                       [[ 4.1405e-02, -1.9382e-02,  3.6229e-03],\n                        [ 2.5244e-02, -1.3080e-02,  8.5058e-02],\n                        [-8.2420e-02,  5.1377e-02, -6.7192e-02]],\n              \n                       [[-9.2347e-02, -2.1640e-02,  5.1366e-02],\n                        [ 7.4478e-02,  2.6452e-02, -9.1104e-03],\n                        [-5.9092e-03, -4.2731e-02, -9.4592e-03]],\n              \n                       [[-7.2831e-03,  8.9699e-02,  6.1690e-02],\n                        [-8.4351e-02,  4.3605e-04, -6.4834e-02],\n                        [-1.6733e-02, -8.3776e-02,  2.7402e-02]],\n              \n                       [[-7.6008e-02,  1.0406e-01,  7.9605e-02],\n                        [-7.2559e-02, -9.9239e-02,  4.1128e-03],\n                        [-2.9425e-02,  3.0945e-02, -7.1353e-02]],\n              \n                       [[ 4.3148e-02, -9.1047e-02, -5.5632e-02],\n                        [-5.5414e-02,  5.1007e-02, -2.7597e-03],\n                        [-1.0130e-01, -6.0201e-02, -4.8781e-02]],\n              \n                       [[-9.7802e-02,  1.3497e-02,  3.7561e-02],\n                        [-1.9340e-02, -4.1947e-02, -6.3926e-04],\n                        [-8.3725e-02, -6.4184e-02, -2.4040e-03]],\n              \n                       [[ 9.3643e-02, -3.2414e-02,  5.2247e-02],\n                        [-4.1484e-02, -2.8060e-02, -1.0034e-01],\n                        [ 8.7330e-02,  1.0264e-01, -2.2139e-03]],\n              \n                       [[ 6.6974e-02,  8.6219e-02,  5.2359e-02],\n                        [ 5.4288e-02, -1.0035e-01, -9.9050e-02],\n                        [-8.0906e-02,  3.2970e-02, -9.1177e-02]]],\n              \n              \n                      [[[-8.0464e-02, -5.1092e-02, -9.7154e-02],\n                        [ 1.4203e-04,  1.5207e-02, -6.1686e-02],\n                        [ 6.9018e-02, -4.0018e-02, -2.9676e-02]],\n              \n                       [[ 8.0309e-02,  9.0499e-02, -1.2093e-02],\n                        [-7.5671e-02, -5.2881e-02,  1.3423e-02],\n                        [ 6.1790e-02,  5.2477e-02, -4.6547e-02]],\n              \n                       [[-9.9650e-02, -9.2249e-02, -3.3537e-02],\n                        [ 1.3223e-03, -4.7347e-02, -8.3348e-02],\n                        [ 1.1109e-02, -8.3668e-02, -8.0946e-02]],\n              \n                       [[-8.5692e-02, -2.8563e-02,  9.3104e-02],\n                        [ 4.1207e-02, -1.2498e-02,  2.1694e-02],\n                        [ 4.1975e-02,  6.1414e-04, -8.5020e-02]],\n              \n                       [[-6.4944e-02, -7.1610e-02, -2.6766e-03],\n                        [-9.6492e-02, -1.9166e-02, -3.8545e-02],\n                        [ 1.0345e-01,  8.5679e-02,  6.1227e-02]],\n              \n                       [[ 5.9116e-03, -3.4129e-02,  2.6887e-02],\n                        [-7.2830e-02, -4.4957e-02, -2.1175e-02],\n                        [-2.4766e-02, -9.9854e-02,  4.1903e-02]],\n              \n                       [[ 8.6803e-02, -5.8141e-02,  2.8415e-02],\n                        [-1.2225e-02, -3.8445e-03,  6.1443e-03],\n                        [ 9.1346e-02,  1.4124e-02, -6.6690e-02]],\n              \n                       [[-3.7917e-02,  5.1495e-02,  3.2893e-02],\n                        [ 2.0487e-03, -1.3912e-02, -4.1012e-02],\n                        [-3.7413e-02, -5.5602e-02,  1.7273e-02]],\n              \n                       [[ 2.9603e-02,  8.0717e-02, -2.3813e-02],\n                        [ 7.5461e-03,  6.8125e-02,  4.5852e-02],\n                        [ 1.3544e-02,  3.2390e-02,  5.4714e-03]],\n              \n                       [[-9.0419e-02,  4.0636e-03, -2.3040e-02],\n                        [ 9.5123e-02,  9.5145e-02,  2.0912e-02],\n                        [ 9.4215e-02, -5.4288e-02,  9.1619e-02]]],\n              \n              \n                      [[[ 9.0756e-02, -4.0288e-03, -8.4592e-02],\n                        [-3.4015e-02, -2.8189e-02,  1.7411e-03],\n                        [-9.5569e-02,  1.9535e-02, -4.3839e-02]],\n              \n                       [[-2.6989e-02, -5.4443e-02, -2.2255e-02],\n                        [-9.7896e-02, -5.5885e-02,  9.7108e-03],\n                        [ 6.9072e-02,  9.5790e-02, -7.9737e-02]],\n              \n                       [[ 4.4264e-02, -5.9419e-02, -8.1498e-02],\n                        [-4.6417e-03, -6.0468e-02, -9.0783e-02],\n                        [-9.8509e-02, -7.0556e-02,  8.6619e-02]],\n              \n                       [[ 5.8788e-02, -4.1726e-02, -7.0553e-02],\n                        [-8.1085e-02, -6.2246e-02, -4.3376e-02],\n                        [ 6.3308e-02,  3.4496e-02, -4.0622e-02]],\n              \n                       [[ 7.2567e-02, -6.5484e-02, -8.5876e-02],\n                        [ 2.3006e-02, -5.8123e-02,  2.9987e-02],\n                        [ 8.9306e-02, -4.9849e-02, -7.3556e-02]],\n              \n                       [[ 3.9676e-02, -9.5200e-02,  9.4044e-02],\n                        [-4.9780e-02,  5.0961e-02, -8.3818e-02],\n                        [-7.1348e-02,  1.1611e-02,  3.7463e-02]],\n              \n                       [[ 8.1734e-02,  8.8158e-02, -6.0623e-03],\n                        [-1.3552e-02,  1.7424e-02, -2.4486e-02],\n                        [ 3.5882e-03, -9.9828e-02, -8.6531e-02]],\n              \n                       [[ 7.2233e-02, -6.1597e-02,  8.3008e-02],\n                        [ 1.1568e-02,  2.5676e-02,  9.5804e-02],\n                        [-5.8628e-02, -1.6640e-02,  1.8675e-02]],\n              \n                       [[ 3.6012e-02, -1.0259e-01,  3.7464e-02],\n                        [-6.2163e-02,  1.3846e-02,  7.1315e-02],\n                        [-1.0500e-02, -3.3346e-03, -7.8757e-03]],\n              \n                       [[ 8.7962e-02,  5.9907e-02,  1.7727e-02],\n                        [-6.3437e-02, -5.7241e-02,  8.3964e-02],\n                        [ 7.5834e-02,  6.1033e-02, -8.2189e-02]]],\n              \n              \n                      [[[ 8.2092e-02, -1.0076e-02,  7.7661e-02],\n                        [ 9.1553e-02,  1.1554e-02, -4.3863e-02],\n                        [ 9.9153e-02, -5.4931e-02,  6.8876e-02]],\n              \n                       [[-1.0108e-01, -3.3153e-02, -9.1902e-02],\n                        [-4.7284e-02,  4.4759e-02, -7.5529e-02],\n                        [-9.1158e-02,  7.5371e-02,  5.6270e-02]],\n              \n                       [[-1.1527e-03, -7.4309e-02, -2.7927e-02],\n                        [-3.4129e-02,  6.5100e-02, -3.4478e-02],\n                        [-3.0360e-02, -7.4720e-02, -4.9646e-02]],\n              \n                       [[ 5.7074e-02,  6.7914e-02,  1.5315e-02],\n                        [-3.9549e-02,  1.0124e-01,  2.0806e-02],\n                        [-4.0688e-02, -3.6535e-02, -1.4752e-02]],\n              \n                       [[ 4.9974e-02,  3.8555e-02,  7.6418e-02],\n                        [-4.7494e-03,  8.7183e-02, -4.2816e-02],\n                        [-4.8547e-02, -3.8927e-02, -9.8896e-02]],\n              \n                       [[-6.9195e-02, -9.5382e-02, -6.2294e-03],\n                        [ 9.9374e-04, -2.7358e-02, -7.2035e-02],\n                        [ 9.5637e-02, -3.4926e-02,  5.0233e-02]],\n              \n                       [[ 7.3408e-02, -6.9292e-02, -1.3179e-02],\n                        [ 6.0923e-02,  1.0218e-01, -1.3299e-02],\n                        [ 7.6382e-02, -8.2732e-02, -6.8489e-02]],\n              \n                       [[ 8.6682e-02, -9.9801e-03,  1.0414e-01],\n                        [ 7.6651e-03, -4.3714e-02,  1.0011e-01],\n                        [ 9.2179e-02,  9.7826e-03, -6.3900e-02]],\n              \n                       [[-4.5639e-03, -5.0693e-02,  7.6810e-02],\n                        [ 4.8829e-03,  2.2191e-02,  6.3927e-02],\n                        [ 3.4916e-02, -6.5803e-02,  8.7566e-02]],\n              \n                       [[ 6.4758e-02, -6.5073e-02,  7.9700e-02],\n                        [ 2.9905e-02, -2.0750e-02, -7.5385e-02],\n                        [-1.7490e-02, -1.0335e-01,  6.0163e-02]]],\n              \n              \n                      [[[ 7.6343e-02, -3.0347e-02,  9.7720e-02],\n                        [-3.9032e-02,  1.8051e-02, -7.3459e-02],\n                        [-4.4565e-03,  4.2610e-02,  4.5403e-02]],\n              \n                       [[-3.5346e-03, -5.3154e-02,  7.3680e-02],\n                        [ 6.9788e-02,  1.6916e-02, -4.8475e-02],\n                        [ 2.2349e-02,  2.8186e-04,  9.6302e-02]],\n              \n                       [[ 1.5621e-02,  8.1301e-03,  7.2057e-03],\n                        [ 5.6079e-02, -1.3024e-03,  9.0351e-02],\n                        [ 5.4917e-02, -7.9650e-02, -1.2070e-06]],\n              \n                       [[-8.9472e-02, -8.0934e-02,  2.0480e-02],\n                        [ 2.3687e-02, -9.2246e-03,  1.0019e-01],\n                        [-5.6627e-02, -4.4176e-02, -1.6881e-02]],\n              \n                       [[ 6.3911e-04, -8.9284e-03,  9.4909e-02],\n                        [-4.4519e-02, -5.5137e-02,  9.0599e-03],\n                        [ 7.9171e-02,  2.5019e-02,  5.6787e-02]],\n              \n                       [[ 2.0406e-02,  8.9839e-02,  6.3311e-02],\n                        [ 7.5428e-02, -1.4198e-02, -8.7268e-02],\n                        [-5.0002e-02,  3.5910e-02,  7.3950e-02]],\n              \n                       [[-4.1184e-02,  8.7218e-02,  1.5150e-02],\n                        [ 4.1869e-04,  4.1093e-03, -1.8623e-02],\n                        [ 9.8683e-02,  4.5784e-03,  6.4564e-02]],\n              \n                       [[-8.8967e-02, -5.4309e-02,  1.1852e-02],\n                        [ 8.4169e-02,  5.0184e-02,  2.0076e-02],\n                        [-1.0414e-01,  1.9816e-03, -6.9581e-02]],\n              \n                       [[-9.0006e-02,  1.4414e-02, -6.6693e-02],\n                        [ 9.5674e-02, -5.7294e-02,  3.3970e-02],\n                        [ 6.1871e-02, -8.1928e-02,  5.3946e-02]],\n              \n                       [[-1.4114e-02,  5.4619e-02,  1.0201e-01],\n                        [-4.4922e-02, -4.5653e-02,  8.3753e-02],\n                        [ 1.1722e-02, -1.0513e-02,  7.9971e-02]]],\n              \n              \n                      [[[-5.0928e-02, -5.2047e-03,  7.2403e-02],\n                        [ 4.1195e-02, -6.8180e-02,  2.7398e-02],\n                        [-8.0368e-02, -5.7245e-02,  6.7779e-02]],\n              \n                       [[-2.8093e-02, -5.3691e-02,  7.4717e-03],\n                        [ 2.5759e-02, -6.5524e-02, -7.1084e-02],\n                        [-1.0209e-01,  2.7236e-02, -6.8013e-02]],\n              \n                       [[ 8.0331e-03, -2.3576e-02, -6.8923e-02],\n                        [-3.3636e-02, -8.1027e-02, -5.5797e-02],\n                        [-3.2857e-03, -9.0116e-02, -9.2447e-02]],\n              \n                       [[ 7.8958e-02,  9.9188e-03, -4.6618e-02],\n                        [-3.5047e-03,  7.8168e-02, -8.7939e-02],\n                        [-5.5886e-02, -7.6226e-02, -7.6634e-03]],\n              \n                       [[-3.6274e-03, -8.2146e-02,  7.3163e-02],\n                        [-8.0946e-02,  9.8414e-02, -7.2560e-02],\n                        [-1.4446e-02,  1.9710e-02, -4.6852e-02]],\n              \n                       [[ 9.6939e-02, -7.2673e-02, -5.8427e-03],\n                        [-7.7398e-02,  2.9261e-02,  8.9871e-02],\n                        [ 9.7776e-02,  1.2514e-02, -5.2773e-02]],\n              \n                       [[ 1.0244e-01,  7.8667e-03,  7.1317e-02],\n                        [-5.4751e-02, -4.8920e-02, -8.7504e-02],\n                        [ 9.6990e-02,  1.7486e-02, -7.5704e-02]],\n              \n                       [[ 9.0535e-03, -4.5211e-02,  5.2659e-03],\n                        [ 3.4988e-02, -5.2308e-02,  1.8394e-02],\n                        [-6.6553e-02,  2.0312e-02, -1.0178e-01]],\n              \n                       [[ 1.6797e-02,  1.0473e-01,  9.7094e-02],\n                        [ 3.8451e-02,  7.7563e-02,  1.0248e-01],\n                        [ 2.9870e-02,  3.5156e-02,  1.3707e-02]],\n              \n                       [[ 9.3322e-02,  9.0551e-02, -4.9570e-02],\n                        [-4.3333e-03, -5.3110e-02,  3.7824e-02],\n                        [-1.0214e-01,  3.7301e-02, -2.8929e-02]]],\n              \n              \n                      [[[ 3.8227e-02,  3.2899e-02, -5.2454e-02],\n                        [ 5.4687e-02,  4.4762e-02, -8.9602e-02],\n                        [ 1.0517e-01,  9.0731e-02,  6.5584e-02]],\n              \n                       [[-1.0699e-02,  3.7345e-02, -5.7028e-02],\n                        [-3.5818e-02,  4.9749e-02,  4.6925e-02],\n                        [ 4.1741e-02, -1.0053e-01,  8.7350e-02]],\n              \n                       [[-4.4028e-02,  9.1223e-02,  8.6852e-02],\n                        [ 3.9070e-02,  1.0502e-01,  6.0528e-02],\n                        [ 6.1821e-02, -3.5794e-02,  9.7766e-02]],\n              \n                       [[ 2.7627e-02,  6.2280e-02, -2.3834e-02],\n                        [ 7.6340e-02,  9.3509e-02, -8.0770e-02],\n                        [ 8.6415e-02, -6.9664e-02, -7.2571e-02]],\n              \n                       [[-8.8089e-02,  3.0459e-02, -7.9144e-02],\n                        [-3.9680e-02, -5.2988e-02,  2.8172e-02],\n                        [-1.0349e-01, -4.8324e-02,  7.7112e-04]],\n              \n                       [[ 9.4660e-03, -4.7605e-02,  3.7764e-02],\n                        [-6.9544e-02, -8.9270e-02, -1.4986e-02],\n                        [-5.6989e-02,  6.6443e-02, -7.2049e-02]],\n              \n                       [[-8.8494e-03,  4.3782e-02, -9.2311e-02],\n                        [ 8.1599e-02, -4.7895e-02, -2.8684e-02],\n                        [-6.4480e-02, -3.9279e-02, -4.0645e-02]],\n              \n                       [[-9.3801e-02,  3.6019e-02, -3.3768e-04],\n                        [ 1.0311e-01,  7.1117e-02,  9.1699e-02],\n                        [ 3.1014e-02,  5.5388e-02,  9.8704e-02]],\n              \n                       [[ 8.6545e-02, -8.0996e-02, -2.3636e-02],\n                        [-1.0166e-01,  3.9877e-03, -3.7229e-02],\n                        [ 9.1486e-02,  1.6666e-02,  1.1601e-03]],\n              \n                       [[-7.6248e-02, -8.2718e-02,  1.6594e-02],\n                        [-5.2376e-02, -4.8409e-02,  7.3938e-02],\n                        [-5.4952e-02, -4.6918e-02,  8.0934e-02]]]])),\n             ('conv_block_2.2.bias',\n              tensor([ 0.0412, -0.0599,  0.0319,  0.0531, -0.0936,  0.0197,  0.0241, -0.0041,\n                       0.1011, -0.0697])),\n             ('classifier.1.weight',\n              tensor([[ 0.0245, -0.0240, -0.0387,  ...,  0.0094, -0.0015, -0.0225],\n                      [ 0.0228,  0.0067, -0.0439,  ..., -0.0302,  0.0368,  0.0293],\n                      [ 0.0303,  0.0347, -0.0211,  ...,  0.0207, -0.0423, -0.0240],\n                      ...,\n                      [-0.0359, -0.0343,  0.0166,  ...,  0.0324,  0.0113, -0.0143],\n                      [-0.0294, -0.0316,  0.0251,  ..., -0.0056,  0.0300, -0.0396],\n                      [-0.0246, -0.0035, -0.0046,  ..., -0.0146, -0.0358,  0.0175]])),\n             ('classifier.1.bias',\n              tensor([ 0.0320, -0.0445,  0.0246, -0.0357, -0.0442,  0.0156, -0.0010, -0.0277,\n                       0.0404,  0.0037]))])"
     },
     "execution_count": 42,
     "metadata": {},
     "output_type": "execute_result"
    }
   ],
   "source": [
    "model_2.state_dict()\n"
   ],
   "metadata": {
    "collapsed": false,
    "ExecuteTime": {
     "end_time": "2023-09-07T09:04:07.352337Z",
     "start_time": "2023-09-07T09:04:07.156400900Z"
    }
   },
   "id": "67ab60a0ee44b638"
  },
  {
   "cell_type": "code",
   "execution_count": 43,
   "outputs": [
    {
     "name": "stdout",
     "output_type": "stream",
     "text": [
      "torch.Size([32, 3, 64, 64])\n",
      "torch.Size([3, 64, 64])\n"
     ]
    }
   ],
   "source": [
    "torch.manual_seed(42)\n",
    "images = torch.rand(size=(32, 3, 64, 64))\n",
    "test_image = images[0]\n",
    "print(images.shape)\n",
    "print(test_image.shape)\n"
   ],
   "metadata": {
    "collapsed": false,
    "ExecuteTime": {
     "end_time": "2023-09-07T09:04:07.356458700Z",
     "start_time": "2023-09-07T09:04:07.242690800Z"
    }
   },
   "id": "7705ee0a34bfdd63"
  },
  {
   "cell_type": "code",
   "execution_count": 44,
   "outputs": [
    {
     "name": "stdout",
     "output_type": "stream",
     "text": [
      "tensor([[[0.8823, 0.9150, 0.3829,  ..., 0.1587, 0.6542, 0.3278],\n",
      "         [0.6532, 0.3958, 0.9147,  ..., 0.2083, 0.3289, 0.1054],\n",
      "         [0.9192, 0.4008, 0.9302,  ..., 0.5535, 0.4117, 0.3510],\n",
      "         ...,\n",
      "         [0.1457, 0.1499, 0.3298,  ..., 0.9624, 0.6400, 0.7409],\n",
      "         [0.1709, 0.5797, 0.6340,  ..., 0.6885, 0.2405, 0.5956],\n",
      "         [0.9199, 0.1247, 0.3573,  ..., 0.6752, 0.2058, 0.5027]],\n",
      "\n",
      "        [[0.1458, 0.9024, 0.9217,  ..., 0.1868, 0.6352, 0.8431],\n",
      "         [0.9549, 0.4435, 0.6924,  ..., 0.1168, 0.7160, 0.5462],\n",
      "         [0.1616, 0.1054, 0.8614,  ..., 0.4531, 0.4736, 0.9448],\n",
      "         ...,\n",
      "         [0.4309, 0.3986, 0.1907,  ..., 0.9444, 0.2848, 0.3776],\n",
      "         [0.7948, 0.6855, 0.1009,  ..., 0.6147, 0.7747, 0.2323],\n",
      "         [0.5840, 0.9795, 0.3277,  ..., 0.3549, 0.1263, 0.1280]],\n",
      "\n",
      "        [[0.5027, 0.4195, 0.8893,  ..., 0.3084, 0.1567, 0.7860],\n",
      "         [0.7310, 0.9307, 0.2847,  ..., 0.8432, 0.8307, 0.0897],\n",
      "         [0.7021, 0.5967, 0.7744,  ..., 0.8485, 0.4520, 0.0401],\n",
      "         ...,\n",
      "         [0.5440, 0.0679, 0.6577,  ..., 0.9948, 0.2791, 0.4142],\n",
      "         [0.5095, 0.1246, 0.1726,  ..., 0.0984, 0.3224, 0.3125],\n",
      "         [0.3612, 0.8706, 0.4751,  ..., 0.5368, 0.2389, 0.2095]]])\n"
     ]
    }
   ],
   "source": [
    "print(test_image)"
   ],
   "metadata": {
    "collapsed": false,
    "ExecuteTime": {
     "end_time": "2023-09-07T09:04:07.356458700Z",
     "start_time": "2023-09-07T09:04:07.255939500Z"
    }
   },
   "id": "680b28230c25dd7b"
  },
  {
   "cell_type": "code",
   "execution_count": 45,
   "outputs": [
    {
     "data": {
      "text/plain": "torch.Size([10, 62, 62])"
     },
     "execution_count": 45,
     "metadata": {},
     "output_type": "execute_result"
    }
   ],
   "source": [
    "conv_layer = nn.Conv2d(in_channels=3, out_channels=10, kernel_size=3, stride=1, padding=0)\n",
    "# print(test_image.shape)\n",
    "conv_layer(test_image).shape"
   ],
   "metadata": {
    "collapsed": false,
    "ExecuteTime": {
     "end_time": "2023-09-07T09:04:07.356458700Z",
     "start_time": "2023-09-07T09:04:07.270249300Z"
    }
   },
   "id": "edfafd3f177c2566"
  },
  {
   "cell_type": "code",
   "execution_count": 46,
   "outputs": [
    {
     "name": "stdout",
     "output_type": "stream",
     "text": [
      "torch.Size([3, 64, 64])\n"
     ]
    },
    {
     "data": {
      "text/plain": "torch.Size([10, 31, 31])"
     },
     "execution_count": 46,
     "metadata": {},
     "output_type": "execute_result"
    }
   ],
   "source": [
    "print(test_image.shape)\n",
    "maxpool = nn.MaxPool2d(kernel_size=2)\n",
    "maxpool(conv_layer(test_image)).shape"
   ],
   "metadata": {
    "collapsed": false,
    "ExecuteTime": {
     "end_time": "2023-09-07T09:04:07.356458700Z",
     "start_time": "2023-09-07T09:04:07.292826600Z"
    }
   },
   "id": "e8860835579c96b7"
  },
  {
   "cell_type": "code",
   "execution_count": 47,
   "outputs": [],
   "source": [
    "rand_image_tensor = torch.rand(size=(1, 28, 28))"
   ],
   "metadata": {
    "collapsed": false,
    "ExecuteTime": {
     "end_time": "2023-09-07T09:04:07.356458700Z",
     "start_time": "2023-09-07T09:04:07.316309Z"
    }
   },
   "id": "a4764e1e5a652192"
  },
  {
   "cell_type": "code",
   "execution_count": 48,
   "outputs": [
    {
     "data": {
      "text/plain": "tensor([2])"
     },
     "execution_count": 48,
     "metadata": {},
     "output_type": "execute_result"
    }
   ],
   "source": [
    "model_2(rand_image_tensor.unsqueeze(dim=0)).argmax(dim=1)"
   ],
   "metadata": {
    "collapsed": false,
    "ExecuteTime": {
     "end_time": "2023-09-07T09:04:07.356458700Z",
     "start_time": "2023-09-07T09:04:07.324338600Z"
    }
   },
   "id": "a9bf14f790b9ece3"
  },
  {
   "cell_type": "code",
   "execution_count": 49,
   "outputs": [
    {
     "data": {
      "text/plain": "'Pullover'"
     },
     "execution_count": 49,
     "metadata": {},
     "output_type": "execute_result"
    }
   ],
   "source": [
    "class_names[2]"
   ],
   "metadata": {
    "collapsed": false,
    "ExecuteTime": {
     "end_time": "2023-09-07T09:04:07.356458700Z",
     "start_time": "2023-09-07T09:04:07.338115500Z"
    }
   },
   "id": "4d647e651fb2e203"
  },
  {
   "cell_type": "code",
   "execution_count": 50,
   "outputs": [],
   "source": [
    "from helper_functions import accuracy_fn\n",
    "\n",
    "loss_fn = nn.CrossEntropyLoss()\n",
    "optimizer = torch.optim.SGD(model_2.parameters(), lr=0.1)"
   ],
   "metadata": {
    "collapsed": false,
    "ExecuteTime": {
     "end_time": "2023-09-07T09:04:07.372084900Z",
     "start_time": "2023-09-07T09:04:07.349273Z"
    }
   },
   "id": "7c3eabe3dc31125b"
  },
  {
   "cell_type": "code",
   "execution_count": 51,
   "outputs": [
    {
     "data": {
      "text/plain": "  0%|          | 0/3 [00:00<?, ?it/s]",
      "application/vnd.jupyter.widget-view+json": {
       "version_major": 2,
       "version_minor": 0,
       "model_id": "f24e353e276244eaa7424e826feaf06a"
      }
     },
     "metadata": {},
     "output_type": "display_data"
    },
    {
     "name": "stdout",
     "output_type": "stream",
     "text": [
      "Epoch 0 ----\n",
      "Train loss is 0.5982 | Train accuracy is 78.34%\n",
      "Test Loss is 0.3965 and Test Accuracy is 85.71%\n",
      "\n",
      "Epoch 1 ----\n",
      "Train loss is 0.3614 | Train accuracy is 86.98%\n",
      "Test Loss is 0.3592 and Test Accuracy is 86.76%\n",
      "\n",
      "Epoch 2 ----\n",
      "Train loss is 0.3244 | Train accuracy is 88.30%\n",
      "Test Loss is 0.3293 and Test Accuracy is 88.16%\n",
      "\n",
      "Train time on device cpu is 144.244 seconds\n"
     ]
    },
    {
     "data": {
      "text/plain": "  0%|          | 0/313 [00:00<?, ?it/s]",
      "application/vnd.jupyter.widget-view+json": {
       "version_major": 2,
       "version_minor": 0,
       "model_id": "87a1ce41d9aa4410bd0cca08c134fa1a"
      }
     },
     "metadata": {},
     "output_type": "display_data"
    }
   ],
   "source": [
    "torch.manual_seed(42)\n",
    "\n",
    "from timeit import default_timer as timer\n",
    "\n",
    "start_time = timer()\n",
    "epochs = 3\n",
    "for epoch in tqdm(range(epochs)):\n",
    "    print(f\"Epoch {epoch} ----\")\n",
    "    train_step(model=model_2,\n",
    "               data_loader=train_dataloader,\n",
    "               loss_fn=loss_fn,\n",
    "               optimizer=optimizer,\n",
    "               accuracy_fn=accuracy_fn,\n",
    "               device=\"cpu\")\n",
    "    test_step(model=model_2,\n",
    "              data_loader=test_dataloader,\n",
    "              loss_fn=loss_fn,\n",
    "              accuracy_fn=accuracy_fn,\n",
    "              device=\"cpu\")\n",
    "\n",
    "end_time = timer()\n",
    "total_train_time_model2 = print_train_time(start_time, end_time, \"cpu\")\n",
    "\n",
    "model_2_results = eval_model(model=model_2,\n",
    "                             data_loder=test_dataloader,\n",
    "                             loss_fn=loss_fn,\n",
    "                             accuracy_fn=accuracy_fn,\n",
    "                             device=\"cpu\")\n",
    "    "
   ],
   "metadata": {
    "collapsed": false,
    "ExecuteTime": {
     "end_time": "2023-09-07T09:06:35.574317200Z",
     "start_time": "2023-09-07T09:04:07.356458700Z"
    }
   },
   "id": "403ea9126a8872b1"
  },
  {
   "cell_type": "code",
   "execution_count": 52,
   "outputs": [
    {
     "data": {
      "text/plain": "  0%|          | 0/313 [00:00<?, ?it/s]",
      "application/vnd.jupyter.widget-view+json": {
       "version_major": 2,
       "version_minor": 0,
       "model_id": "2340ac1f3923468eadb04084b0b3995e"
      }
     },
     "metadata": {},
     "output_type": "display_data"
    }
   ],
   "source": [
    "model_2_results = eval_model(model_2,test_dataloader,loss_fn,accuracy_fn,\"cpu\")"
   ],
   "metadata": {
    "collapsed": false,
    "ExecuteTime": {
     "end_time": "2023-09-07T09:06:39.527224400Z",
     "start_time": "2023-09-07T09:06:35.577317800Z"
    }
   },
   "id": "427cf6ca4241f57b"
  },
  {
   "cell_type": "code",
   "execution_count": 53,
   "outputs": [
    {
     "data": {
      "text/plain": "            model_name  model_loss  model_acc\n0  FashionMNISTModelV0    0.476639  83.426518\n1  FashionMNISTModelV1    0.894853  66.473642\n2  FashionMNISTModelV2    0.329321  88.158946",
      "text/html": "<div>\n<style scoped>\n    .dataframe tbody tr th:only-of-type {\n        vertical-align: middle;\n    }\n\n    .dataframe tbody tr th {\n        vertical-align: top;\n    }\n\n    .dataframe thead th {\n        text-align: right;\n    }\n</style>\n<table border=\"1\" class=\"dataframe\">\n  <thead>\n    <tr style=\"text-align: right;\">\n      <th></th>\n      <th>model_name</th>\n      <th>model_loss</th>\n      <th>model_acc</th>\n    </tr>\n  </thead>\n  <tbody>\n    <tr>\n      <th>0</th>\n      <td>FashionMNISTModelV0</td>\n      <td>0.476639</td>\n      <td>83.426518</td>\n    </tr>\n    <tr>\n      <th>1</th>\n      <td>FashionMNISTModelV1</td>\n      <td>0.894853</td>\n      <td>66.473642</td>\n    </tr>\n    <tr>\n      <th>2</th>\n      <td>FashionMNISTModelV2</td>\n      <td>0.329321</td>\n      <td>88.158946</td>\n    </tr>\n  </tbody>\n</table>\n</div>"
     },
     "execution_count": 53,
     "metadata": {},
     "output_type": "execute_result"
    }
   ],
   "source": [
    "import pandas as pd\n",
    "compare_results = pd.DataFrame([model_0_results,model_1_results, model_2_results])\n",
    "compare_results"
   ],
   "metadata": {
    "collapsed": false,
    "ExecuteTime": {
     "end_time": "2023-09-07T09:06:40.743242200Z",
     "start_time": "2023-09-07T09:06:39.528221Z"
    }
   },
   "id": "3fdc1fa13acc8c14"
  },
  {
   "cell_type": "code",
   "execution_count": 54,
   "outputs": [
    {
     "data": {
      "text/plain": "            model_name  model_loss  model_acc        time\n0  FashionMNISTModelV0    0.476639  83.426518   40.164407\n1  FashionMNISTModelV1    0.894853  66.473642    1.000000\n2  FashionMNISTModelV2    0.329321  88.158946  144.243773",
      "text/html": "<div>\n<style scoped>\n    .dataframe tbody tr th:only-of-type {\n        vertical-align: middle;\n    }\n\n    .dataframe tbody tr th {\n        vertical-align: top;\n    }\n\n    .dataframe thead th {\n        text-align: right;\n    }\n</style>\n<table border=\"1\" class=\"dataframe\">\n  <thead>\n    <tr style=\"text-align: right;\">\n      <th></th>\n      <th>model_name</th>\n      <th>model_loss</th>\n      <th>model_acc</th>\n      <th>time</th>\n    </tr>\n  </thead>\n  <tbody>\n    <tr>\n      <th>0</th>\n      <td>FashionMNISTModelV0</td>\n      <td>0.476639</td>\n      <td>83.426518</td>\n      <td>40.164407</td>\n    </tr>\n    <tr>\n      <th>1</th>\n      <td>FashionMNISTModelV1</td>\n      <td>0.894853</td>\n      <td>66.473642</td>\n      <td>1.000000</td>\n    </tr>\n    <tr>\n      <th>2</th>\n      <td>FashionMNISTModelV2</td>\n      <td>0.329321</td>\n      <td>88.158946</td>\n      <td>144.243773</td>\n    </tr>\n  </tbody>\n</table>\n</div>"
     },
     "execution_count": 54,
     "metadata": {},
     "output_type": "execute_result"
    }
   ],
   "source": [
    "compare_results[\"time\"] = [total_train_time,1, total_train_time_model2]\n",
    "compare_results"
   ],
   "metadata": {
    "collapsed": false,
    "ExecuteTime": {
     "end_time": "2023-09-07T09:06:40.759221600Z",
     "start_time": "2023-09-07T09:06:40.747776300Z"
    }
   },
   "id": "4c563406f6218e1c"
  },
  {
   "cell_type": "code",
   "execution_count": 62,
   "outputs": [
    {
     "data": {
      "text/plain": "<Axes: ylabel='model_name'>"
     },
     "execution_count": 62,
     "metadata": {},
     "output_type": "execute_result"
    },
    {
     "data": {
      "text/plain": "<Figure size 640x480 with 1 Axes>",
      "image/png": "[encoded data removed]"
     },
     "metadata": {},
     "output_type": "display_data"
    }
   ],
   "source": [
    "compare_results = compare_results.set_index(\"model_name\")\n",
    "compare_results[\"model_acc\"].plot(kind=\"barh\")"
   ],
   "metadata": {
    "collapsed": false,
    "ExecuteTime": {
     "end_time": "2023-09-07T09:07:58.446618500Z",
     "start_time": "2023-09-07T09:07:58.305063600Z"
    }
   },
   "id": "3d7543ee2e77976a"
  },
  {
   "cell_type": "code",
   "execution_count": 63,
   "outputs": [],
   "source": [
    "def make_predictions(model:torch.nn.Module,\n",
    "                     data:list,\n",
    "                     device:str):\n",
    "    pred_probs = []\n",
    "    model.to(device)\n",
    "    model.eval()\n",
    "    with torch.inference_mode():\n",
    "        for sample in data:\n",
    "            sample = torch.unsqueeze(sample, dim=0).to(device)\n",
    "            pred_logit = model(sample)\n",
    "            pred_prob = torch.softmax(pred_logit.squeeze(), dim=0)\n",
    "            \n",
    "            pred_probs.append(pred_prob.cpu())\n",
    "            \n",
    "    return torch.stack(pred_probs)\n",
    "            "
   ],
   "metadata": {
    "collapsed": false,
    "ExecuteTime": {
     "end_time": "2023-09-07T09:13:41.361511500Z",
     "start_time": "2023-09-07T09:13:41.296216200Z"
    }
   },
   "id": "3c2463369e8d8de7"
  },
  {
   "cell_type": "code",
   "execution_count": 98,
   "outputs": [
    {
     "data": {
      "text/plain": "[tensor([[[0.0000, 0.0000, 0.0000, 0.0000, 0.0000, 0.0000, 0.0000, 0.0000,\n           0.0000, 0.0000, 0.0000, 0.0000, 0.0000, 0.0000, 0.0000, 0.0000,\n           0.0000, 0.0000, 0.0000, 0.0000, 0.0000, 0.0000, 0.0000, 0.0000,\n           0.0000, 0.0000, 0.0000, 0.0000],\n          [0.0000, 0.0000, 0.0000, 0.0000, 0.0000, 0.0000, 0.0000, 0.0000,\n           0.0000, 0.0000, 0.0000, 0.0000, 0.0000, 0.0000, 0.0000, 0.0000,\n           0.0000, 0.0000, 0.0000, 0.0000, 0.0000, 0.0000, 0.0000, 0.0000,\n           0.0000, 0.0000, 0.0000, 0.0000],\n          [0.0000, 0.0000, 0.0000, 0.0000, 0.0000, 0.0000, 0.0000, 0.0000,\n           0.0000, 0.0000, 0.0000, 0.0000, 0.0000, 0.0000, 0.0000, 0.0000,\n           0.0000, 0.0000, 0.0000, 0.0000, 0.0000, 0.0000, 0.0000, 0.0000,\n           0.0000, 0.0000, 0.0000, 0.0000],\n          [0.0000, 0.0000, 0.0000, 0.0000, 0.0000, 0.0000, 0.0000, 0.0000,\n           0.0000, 0.0000, 0.0000, 0.0000, 0.0000, 0.0000, 0.0000, 0.0078,\n           0.0000, 0.0000, 0.5490, 0.7412, 0.7255, 0.7412, 0.7098, 0.5725,\n           0.3294, 0.2078, 0.1490, 0.0000],\n          [0.0000, 0.0000, 0.0000, 0.0000, 0.0000, 0.0000, 0.0000, 0.0000,\n           0.0000, 0.0000, 0.0000, 0.0000, 0.0000, 0.0000, 0.0000, 0.0157,\n           0.0000, 0.1059, 0.9294, 0.7412, 0.7765, 0.8157, 0.9255, 1.0000,\n           0.9922, 0.8275, 0.8235, 0.3882],\n          [0.0000, 0.0000, 0.0000, 0.0000, 0.0000, 0.0000, 0.0000, 0.0000,\n           0.0000, 0.0000, 0.0000, 0.0000, 0.0000, 0.0000, 0.0000, 0.0235,\n           0.0000, 0.2627, 0.7843, 0.7176, 0.7529, 0.8314, 0.8510, 0.8196,\n           0.7765, 0.7647, 0.7412, 0.0745],\n          [0.0000, 0.0000, 0.0000, 0.0000, 0.0000, 0.0000, 0.0000, 0.0000,\n           0.0000, 0.0000, 0.0000, 0.0000, 0.0000, 0.0000, 0.0000, 0.0157,\n           0.0000, 0.6706, 0.7922, 0.6941, 0.7961, 0.8980, 0.9333, 0.8392,\n           0.7804, 0.7725, 0.7569, 0.0000],\n          [0.0000, 0.0000, 0.0000, 0.0000, 0.0000, 0.0000, 0.0000, 0.0000,\n           0.0000, 0.0000, 0.0000, 0.0000, 0.0000, 0.0000, 0.0078, 0.0000,\n           0.0000, 0.8431, 0.7647, 0.7176, 0.7647, 0.8314, 0.8784, 0.8196,\n           0.7725, 0.7647, 0.5490, 0.0000],\n          [0.0000, 0.0000, 0.0000, 0.0000, 0.0000, 0.0000, 0.0000, 0.0000,\n           0.0000, 0.0000, 0.0000, 0.0000, 0.0000, 0.0000, 0.0157, 0.0000,\n           0.0000, 0.7765, 0.7451, 0.7333, 0.8275, 0.8784, 0.8588, 0.7961,\n           0.7373, 0.7608, 0.2588, 0.0000],\n          [0.0000, 0.0000, 0.0000, 0.0000, 0.0000, 0.0000, 0.0000, 0.0000,\n           0.0000, 0.0000, 0.0000, 0.0000, 0.0000, 0.0000, 0.0078, 0.0000,\n           0.0510, 0.7922, 0.7294, 0.7647, 0.8588, 0.9333, 0.8196, 0.7686,\n           0.7451, 0.8471, 0.0353, 0.0000],\n          [0.0000, 0.0000, 0.0000, 0.0000, 0.0000, 0.0000, 0.0000, 0.0000,\n           0.0000, 0.0000, 0.0000, 0.0000, 0.0000, 0.0000, 0.0235, 0.0000,\n           0.2000, 0.8039, 0.7333, 0.8353, 0.8902, 0.8941, 0.7843, 0.7686,\n           0.7686, 0.6392, 0.0000, 0.0000],\n          [0.0000, 0.0000, 0.0000, 0.0000, 0.0000, 0.0000, 0.0000, 0.0000,\n           0.0000, 0.0000, 0.0000, 0.0000, 0.0000, 0.0000, 0.0157, 0.0000,\n           0.3490, 0.8118, 0.7529, 0.8980, 0.8902, 0.8314, 0.8196, 0.7686,\n           0.7451, 0.3882, 0.0000, 0.0000],\n          [0.0000, 0.0000, 0.0000, 0.0000, 0.0000, 0.0000, 0.0000, 0.0000,\n           0.0000, 0.0000, 0.0000, 0.0000, 0.0000, 0.0039, 0.0000, 0.0000,\n           0.5882, 0.8039, 0.7686, 0.9098, 0.8549, 0.8314, 0.7843, 0.7725,\n           0.8157, 0.1020, 0.0000, 0.0039],\n          [0.0000, 0.0000, 0.0000, 0.0000, 0.0000, 0.0000, 0.0000, 0.0000,\n           0.0000, 0.0000, 0.0000, 0.0000, 0.0000, 0.0275, 0.0000, 0.0000,\n           0.9176, 0.7647, 0.8196, 0.9255, 0.8353, 0.7961, 0.7451, 0.7608,\n           0.8157, 0.0353, 0.0000, 0.0078],\n          [0.0000, 0.0000, 0.0000, 0.0000, 0.0000, 0.0000, 0.0000, 0.0000,\n           0.0000, 0.0000, 0.0000, 0.0000, 0.0000, 0.0039, 0.0000, 0.5373,\n           0.9176, 0.6902, 0.8549, 0.9216, 0.8314, 0.7922, 0.7804, 0.7725,\n           0.8588, 0.0980, 0.0000, 0.0039],\n          [0.0000, 0.0000, 0.0000, 0.0000, 0.0000, 0.0000, 0.0000, 0.0000,\n           0.0000, 0.0000, 0.0000, 0.0000, 0.0000, 0.0000, 0.1647, 0.9490,\n           0.7412, 0.7137, 0.8863, 0.8902, 0.8353, 0.7804, 0.7529, 0.6980,\n           0.7804, 0.3804, 0.0000, 0.0000],\n          [0.0000, 0.0000, 0.0000, 0.0000, 0.0000, 0.0000, 0.0000, 0.0000,\n           0.0000, 0.0039, 0.0196, 0.0000, 0.0000, 0.0000, 0.8353, 0.8039,\n           0.7333, 0.8196, 0.9176, 0.9137, 0.8235, 0.7647, 0.7569, 0.7137,\n           0.8118, 0.6902, 0.0000, 0.0000],\n          [0.0000, 0.0039, 0.0039, 0.0000, 0.0000, 0.0000, 0.0000, 0.0157,\n           0.0196, 0.0078, 0.0000, 0.0000, 0.1961, 0.8706, 0.8314, 0.7608,\n           0.7725, 0.9059, 0.9255, 0.8510, 0.7765, 0.7647, 0.7725, 0.7804,\n           0.7922, 0.7608, 0.0000, 0.0000],\n          [0.0039, 0.0000, 0.0039, 0.0157, 0.0196, 0.0196, 0.0078, 0.0000,\n           0.0000, 0.0000, 0.2157, 0.6039, 0.8000, 0.8157, 0.7569, 0.7725,\n           0.8039, 0.8902, 0.8314, 0.7725, 0.7882, 0.7882, 0.8000, 0.8392,\n           0.8000, 0.8275, 0.2235, 0.0000],\n          [0.0039, 0.0039, 0.0000, 0.0000, 0.0000, 0.0000, 0.0000, 0.0471,\n           0.3412, 0.7098, 0.9020, 0.7176, 0.6627, 0.6549, 0.7843, 0.8157,\n           0.8196, 0.8392, 0.8275, 0.8824, 0.9098, 0.8667, 0.8392, 0.8471,\n           0.8000, 0.7843, 0.4667, 0.0000],\n          [0.0039, 0.0000, 0.0000, 0.1529, 0.3255, 0.3373, 0.6314, 0.6078,\n           0.2275, 0.3137, 0.5255, 0.5725, 0.5804, 0.4784, 0.5294, 0.8196,\n           0.8706, 0.9412, 0.9216, 0.9176, 0.9059, 0.8941, 0.8941, 0.8275,\n           0.7569, 0.7725, 0.5608, 0.0000],\n          [0.0000, 0.0588, 0.5294, 0.4157, 0.3569, 0.2784, 0.4745, 0.1255,\n           0.1804, 0.4824, 0.5922, 0.6000, 0.7686, 0.8000, 0.7765, 0.8471,\n           0.8118, 0.7569, 0.7294, 0.6863, 0.7098, 0.7373, 0.7333, 0.7294,\n           0.7333, 0.7961, 0.3961, 0.0000],\n          [0.0000, 0.5255, 0.7059, 0.5569, 0.2902, 0.2510, 0.5490, 0.5255,\n           0.7255, 0.7294, 0.7059, 0.8039, 0.8980, 0.8980, 0.9059, 0.8510,\n           0.7725, 0.6902, 0.7098, 0.7725, 0.7882, 0.7686, 0.7647, 0.8078,\n           0.7765, 0.7961, 0.4235, 0.0000],\n          [0.3373, 0.7451, 0.6706, 0.7373, 0.7608, 0.7725, 0.7725, 0.7647,\n           0.7333, 0.6471, 0.6980, 0.8235, 0.7922, 0.7647, 0.7686, 0.7922,\n           0.8157, 0.9451, 0.9686, 0.8118, 0.7373, 0.7804, 0.7882, 0.8118,\n           0.7569, 0.7725, 0.5255, 0.0000],\n          [0.0588, 0.5412, 0.6667, 0.7059, 0.7373, 0.7255, 0.7843, 0.7412,\n           0.7725, 0.7922, 0.7765, 0.7804, 0.8196, 0.9490, 0.9294, 0.8627,\n           0.7569, 0.5961, 0.4745, 0.8784, 0.8314, 0.8078, 0.8157, 0.8118,\n           0.7294, 0.7882, 0.5412, 0.0000],\n          [0.0000, 0.0000, 0.0000, 0.0863, 0.2314, 0.4000, 0.5569, 0.6510,\n           0.7451, 0.7333, 0.7098, 0.6157, 0.4627, 0.2588, 0.0118, 0.0000,\n           0.0000, 0.0000, 0.0000, 0.6157, 0.8157, 0.6941, 0.7098, 0.7294,\n           0.6510, 0.7137, 0.3137, 0.0000],\n          [0.0000, 0.0000, 0.0000, 0.0000, 0.0000, 0.0000, 0.0000, 0.0000,\n           0.0000, 0.0000, 0.0000, 0.0000, 0.0000, 0.0000, 0.0000, 0.0000,\n           0.0000, 0.0000, 0.0000, 0.0000, 0.0000, 0.0000, 0.0000, 0.0000,\n           0.0000, 0.0000, 0.0000, 0.0000],\n          [0.0000, 0.0000, 0.0000, 0.0000, 0.0000, 0.0000, 0.0000, 0.0000,\n           0.0000, 0.0000, 0.0000, 0.0000, 0.0000, 0.0000, 0.0000, 0.0000,\n           0.0000, 0.0000, 0.0000, 0.0000, 0.0000, 0.0000, 0.0000, 0.0000,\n           0.0000, 0.0000, 0.0000, 0.0000]]]),\n tensor([[[0.0000, 0.0000, 0.0000, 0.0000, 0.0000, 0.0000, 0.0000, 0.0000,\n           0.0000, 0.0000, 0.0000, 0.1451, 0.1176, 0.0706, 0.2235, 0.0706,\n           0.1098, 0.1176, 0.0118, 0.0000, 0.0000, 0.0000, 0.0000, 0.0000,\n           0.0000, 0.0000, 0.0000, 0.0000],\n          [0.0000, 0.0000, 0.0000, 0.0000, 0.0039, 0.0000, 0.0000, 0.0000,\n           0.0235, 0.0863, 0.1098, 0.1137, 0.2078, 0.1686, 0.2471, 0.1686,\n           0.1922, 0.0784, 0.1059, 0.1176, 0.0627, 0.0000, 0.0000, 0.0000,\n           0.0000, 0.0000, 0.0000, 0.0000],\n          [0.0000, 0.0000, 0.0000, 0.0000, 0.0000, 0.0000, 0.0627, 0.0902,\n           0.1098, 0.0902, 0.0627, 0.0431, 0.0941, 0.1412, 0.1255, 0.1569,\n           0.0863, 0.0392, 0.0784, 0.0706, 0.1176, 0.1216, 0.0980, 0.0000,\n           0.0000, 0.0000, 0.0000, 0.0000],\n          [0.0000, 0.0000, 0.0000, 0.0000, 0.0000, 0.1059, 0.1020, 0.0784,\n           0.0627, 0.0549, 0.0706, 0.0784, 0.0549, 0.0431, 0.0549, 0.0549,\n           0.0392, 0.0667, 0.0667, 0.0510, 0.0667, 0.0588, 0.1176, 0.1020,\n           0.0000, 0.0000, 0.0000, 0.0000],\n          [0.0000, 0.0000, 0.0000, 0.0000, 0.0706, 0.1569, 0.0627, 0.0667,\n           0.0706, 0.0784, 0.0549, 0.0627, 0.0627, 0.0667, 0.0627, 0.0549,\n           0.0510, 0.0471, 0.0431, 0.0588, 0.0706, 0.0706, 0.0706, 0.1333,\n           0.0510, 0.0000, 0.0000, 0.0000],\n          [0.0000, 0.0000, 0.0000, 0.0000, 0.1490, 0.1686, 0.0627, 0.1098,\n           0.0627, 0.0588, 0.0627, 0.0667, 0.0627, 0.0392, 0.0510, 0.0667,\n           0.0980, 0.0863, 0.0902, 0.0824, 0.0627, 0.0941, 0.0667, 0.1608,\n           0.1255, 0.0000, 0.0000, 0.0000],\n          [0.0000, 0.0000, 0.0000, 0.0000, 0.2353, 0.1412, 0.0863, 0.0863,\n           0.0784, 0.1216, 0.1255, 0.1137, 0.0863, 0.1137, 0.1059, 0.0510,\n           0.1020, 0.1765, 0.1765, 0.1333, 0.0667, 0.0980, 0.1137, 0.1412,\n           0.1725, 0.0000, 0.0000, 0.0000],\n          [0.0000, 0.0000, 0.0000, 0.0196, 0.2314, 0.0667, 0.1647, 0.1294,\n           0.0706, 0.1294, 0.1412, 0.0471, 0.0118, 0.2000, 0.3569, 0.1451,\n           0.2353, 0.0824, 0.0980, 0.1373, 0.0824, 0.1176, 0.1765, 0.0824,\n           0.1725, 0.0431, 0.0000, 0.0000],\n          [0.0000, 0.0000, 0.0000, 0.0784, 0.2078, 0.0392, 0.1451, 0.2078,\n           0.1020, 0.1294, 0.0627, 0.0392, 0.2039, 0.2510, 0.4980, 0.4235,\n           0.3294, 0.0000, 0.0863, 0.1647, 0.0824, 0.1725, 0.1608, 0.0471,\n           0.1647, 0.0824, 0.0000, 0.0000],\n          [0.0000, 0.0000, 0.0000, 0.1451, 0.1608, 0.0667, 0.0863, 0.2627,\n           0.1922, 0.1686, 0.0667, 0.1255, 0.3098, 0.5137, 0.5451, 0.4235,\n           0.1333, 0.0902, 0.0941, 0.1647, 0.1020, 0.1765, 0.1176, 0.0824,\n           0.1647, 0.1294, 0.0000, 0.0000],\n          [0.0000, 0.0000, 0.0000, 0.1255, 0.1255, 0.0980, 0.0980, 0.2471,\n           0.1765, 0.1804, 0.0980, 0.0863, 0.2000, 0.7059, 0.6784, 0.3137,\n           0.2510, 0.1255, 0.1294, 0.2157, 0.1569, 0.1961, 0.1137, 0.0941,\n           0.0902, 0.0314, 0.0000, 0.0000],\n          [0.0000, 0.0000, 0.0000, 0.0000, 0.0000, 0.0000, 0.0039, 0.0784,\n           0.1373, 0.2078, 0.1843, 0.1216, 0.2314, 0.3412, 0.6784, 0.2627,\n           0.1020, 0.0863, 0.1098, 0.2118, 0.1569, 0.1137, 0.0000, 0.0000,\n           0.0000, 0.0000, 0.0000, 0.0000],\n          [0.0000, 0.0000, 0.0000, 0.0000, 0.0000, 0.0000, 0.0000, 0.0000,\n           0.1961, 0.1882, 0.1804, 0.0784, 0.0000, 0.0588, 0.8902, 0.0000,\n           0.0000, 0.0784, 0.1216, 0.1922, 0.1490, 0.0824, 0.0000, 0.0000,\n           0.0000, 0.0000, 0.0000, 0.0000],\n          [0.0000, 0.0000, 0.0000, 0.0000, 0.0000, 0.0039, 0.0000, 0.0157,\n           0.2000, 0.1725, 0.1686, 0.1059, 0.0000, 0.3294, 0.7765, 0.4118,\n           0.0000, 0.0392, 0.1333, 0.1843, 0.1647, 0.0824, 0.0000, 0.0039,\n           0.0039, 0.0000, 0.0000, 0.0000],\n          [0.0000, 0.0000, 0.0000, 0.0000, 0.0000, 0.0039, 0.0000, 0.0078,\n           0.2039, 0.1725, 0.1882, 0.0157, 0.1098, 0.8627, 0.6275, 0.7176,\n           0.6588, 0.0000, 0.1451, 0.1725, 0.1765, 0.0667, 0.0000, 0.0039,\n           0.0000, 0.0000, 0.0000, 0.0000],\n          [0.0000, 0.0000, 0.0000, 0.0000, 0.0000, 0.0000, 0.0000, 0.0000,\n           0.2039, 0.1686, 0.2078, 0.0000, 0.2392, 0.8078, 0.5137, 0.6863,\n           0.8549, 0.0000, 0.1255, 0.1647, 0.1882, 0.0588, 0.0000, 0.0039,\n           0.0000, 0.0000, 0.0000, 0.0000],\n          [0.0000, 0.0000, 0.0000, 0.0000, 0.0000, 0.0000, 0.0000, 0.0000,\n           0.2000, 0.1333, 0.2000, 0.0000, 0.2157, 0.8353, 0.5725, 0.7333,\n           0.7333, 0.0000, 0.1490, 0.1294, 0.1882, 0.0471, 0.0000, 0.0039,\n           0.0000, 0.0000, 0.0000, 0.0000],\n          [0.0000, 0.0000, 0.0000, 0.0000, 0.0000, 0.0000, 0.0000, 0.0000,\n           0.1882, 0.1176, 0.3333, 0.2118, 0.3412, 0.9255, 0.6863, 0.8549,\n           0.6627, 0.0902, 0.2980, 0.1922, 0.1608, 0.0353, 0.0000, 0.0039,\n           0.0000, 0.0000, 0.0000, 0.0000],\n          [0.0000, 0.0000, 0.0000, 0.0000, 0.0000, 0.0000, 0.0000, 0.0000,\n           0.1882, 0.1451, 0.2980, 0.1961, 0.2196, 0.8157, 0.7451, 0.8824,\n           0.5176, 0.0784, 0.2941, 0.2118, 0.1412, 0.0275, 0.0000, 0.0039,\n           0.0000, 0.0000, 0.0000, 0.0000],\n          [0.0000, 0.0000, 0.0000, 0.0000, 0.0000, 0.0000, 0.0000, 0.0000,\n           0.1569, 0.1882, 0.3569, 0.1922, 0.1569, 0.9961, 0.8000, 0.8627,\n           0.4235, 0.1569, 0.2824, 0.2667, 0.1490, 0.0314, 0.0000, 0.0039,\n           0.0000, 0.0000, 0.0000, 0.0000],\n          [0.0000, 0.0000, 0.0000, 0.0000, 0.0000, 0.0000, 0.0000, 0.0000,\n           0.1765, 0.1961, 0.2745, 0.2549, 0.2902, 0.2314, 0.2392, 0.4000,\n           0.2118, 0.2392, 0.3098, 0.2314, 0.1686, 0.0549, 0.0000, 0.0000,\n           0.0000, 0.0000, 0.0000, 0.0000],\n          [0.0000, 0.0000, 0.0000, 0.0000, 0.0000, 0.0000, 0.0000, 0.0000,\n           0.2196, 0.1647, 0.1176, 0.1294, 0.1647, 0.1098, 0.0471, 0.0941,\n           0.0902, 0.1137, 0.1098, 0.0902, 0.2000, 0.0471, 0.0000, 0.0039,\n           0.0000, 0.0000, 0.0000, 0.0000],\n          [0.0000, 0.0000, 0.0000, 0.0000, 0.0000, 0.0000, 0.0000, 0.0000,\n           0.2118, 0.1804, 0.1020, 0.1098, 0.1216, 0.1059, 0.1255, 0.1059,\n           0.1137, 0.1098, 0.1176, 0.1216, 0.2314, 0.0549, 0.0000, 0.0039,\n           0.0000, 0.0000, 0.0000, 0.0000],\n          [0.0000, 0.0000, 0.0000, 0.0000, 0.0000, 0.0000, 0.0000, 0.0000,\n           0.1804, 0.1490, 0.1255, 0.1686, 0.1412, 0.1294, 0.1451, 0.1451,\n           0.1333, 0.1216, 0.1255, 0.1137, 0.2196, 0.0824, 0.0000, 0.0039,\n           0.0000, 0.0000, 0.0000, 0.0000],\n          [0.0000, 0.0000, 0.0000, 0.0000, 0.0000, 0.0000, 0.0000, 0.0000,\n           0.2196, 0.1490, 0.1490, 0.1490, 0.1373, 0.1608, 0.1451, 0.1373,\n           0.1333, 0.1294, 0.1216, 0.1176, 0.2196, 0.0863, 0.0000, 0.0039,\n           0.0000, 0.0000, 0.0000, 0.0000],\n          [0.0000, 0.0000, 0.0000, 0.0000, 0.0000, 0.0000, 0.0000, 0.0000,\n           0.1725, 0.1647, 0.1804, 0.1412, 0.1569, 0.1686, 0.1373, 0.1412,\n           0.1451, 0.1412, 0.1373, 0.1176, 0.2039, 0.0902, 0.0000, 0.0000,\n           0.0000, 0.0000, 0.0000, 0.0000],\n          [0.0000, 0.0000, 0.0000, 0.0000, 0.0000, 0.0000, 0.0000, 0.0039,\n           0.2196, 0.1647, 0.1451, 0.1569, 0.1686, 0.1294, 0.1373, 0.1451,\n           0.1647, 0.1569, 0.1451, 0.1294, 0.2235, 0.1098, 0.0000, 0.0000,\n           0.0000, 0.0000, 0.0000, 0.0000],\n          [0.0000, 0.0000, 0.0000, 0.0000, 0.0000, 0.0000, 0.0000, 0.0000,\n           0.1961, 0.1333, 0.1137, 0.1333, 0.1412, 0.1412, 0.1451, 0.1373,\n           0.1333, 0.1373, 0.1412, 0.1255, 0.1804, 0.0314, 0.0000, 0.0039,\n           0.0000, 0.0000, 0.0000, 0.0000]]]),\n tensor([[[0.0000, 0.0000, 0.0000, 0.0000, 0.0000, 0.0000, 0.0000, 0.0000,\n           0.0000, 0.0000, 0.0000, 0.0000, 0.0000, 0.0000, 0.0000, 0.0000,\n           0.0000, 0.0000, 0.0000, 0.0000, 0.0000, 0.0000, 0.0000, 0.0000,\n           0.0000, 0.0000, 0.0000, 0.0000],\n          [0.0000, 0.0000, 0.0000, 0.0000, 0.0000, 0.0000, 0.0000, 0.0000,\n           0.0000, 0.0000, 0.0000, 0.0000, 0.0000, 0.0000, 0.0000, 0.0000,\n           0.0000, 0.0000, 0.0000, 0.0000, 0.0000, 0.0000, 0.0000, 0.0000,\n           0.0000, 0.0000, 0.0000, 0.0000],\n          [0.0000, 0.0000, 0.0000, 0.0000, 0.0000, 0.0000, 0.0000, 0.0000,\n           0.0000, 0.0000, 0.0000, 0.0000, 0.0000, 0.0000, 0.0000, 0.0000,\n           0.0000, 0.0000, 0.0000, 0.0000, 0.0000, 0.0000, 0.0000, 0.0000,\n           0.0000, 0.0000, 0.0000, 0.0000],\n          [0.0000, 0.0000, 0.0000, 0.0000, 0.0000, 0.0000, 0.0000, 0.0000,\n           0.0000, 0.0000, 0.0000, 0.0000, 0.0000, 0.0000, 0.0000, 0.0000,\n           0.0000, 0.0000, 0.0000, 0.0000, 0.0000, 0.0000, 0.0000, 0.0000,\n           0.0000, 0.0000, 0.0000, 0.0000],\n          [0.0000, 0.0000, 0.0000, 0.0000, 0.0000, 0.0000, 0.0000, 0.0000,\n           0.0000, 0.0000, 0.0000, 0.0000, 0.0000, 0.0000, 0.0000, 0.0000,\n           0.0000, 0.0000, 0.0000, 0.0000, 0.0000, 0.0000, 0.0000, 0.0000,\n           0.0000, 0.0000, 0.0000, 0.0000],\n          [0.0000, 0.0000, 0.0000, 0.0000, 0.0000, 0.0000, 0.0000, 0.0000,\n           0.0000, 0.0000, 0.0000, 0.0000, 0.0000, 0.0000, 0.0000, 0.0000,\n           0.0000, 0.0000, 0.0000, 0.0000, 0.0000, 0.0000, 0.0000, 0.0000,\n           0.0000, 0.0000, 0.0000, 0.0000],\n          [0.0000, 0.0000, 0.0000, 0.0000, 0.0000, 0.0000, 0.0000, 0.0000,\n           0.0000, 0.0000, 0.0000, 0.0000, 0.0000, 0.0000, 0.0000, 0.0000,\n           0.0000, 0.0000, 0.0000, 0.0000, 0.0000, 0.0000, 0.0000, 0.0000,\n           0.0000, 0.0000, 0.0000, 0.0000],\n          [0.0000, 0.0000, 0.0000, 0.0000, 0.0000, 0.0000, 0.0000, 0.0000,\n           0.0000, 0.0000, 0.0000, 0.0000, 0.0000, 0.0000, 0.0000, 0.0000,\n           0.0000, 0.0000, 0.0000, 0.0000, 0.0000, 0.0000, 0.0000, 0.0000,\n           0.0000, 0.0000, 0.0000, 0.0000],\n          [0.0000, 0.0000, 0.0000, 0.0000, 0.0000, 0.0000, 0.0000, 0.0000,\n           0.0000, 0.0000, 0.0000, 0.0000, 0.0000, 0.0039, 0.0000, 0.0784,\n           0.5059, 0.2157, 0.1765, 0.0157, 0.0000, 0.0039, 0.0000, 0.0000,\n           0.0000, 0.0000, 0.0157, 0.0275],\n          [0.0000, 0.0000, 0.0000, 0.0000, 0.0000, 0.0000, 0.0000, 0.0000,\n           0.0000, 0.0000, 0.0000, 0.0000, 0.0000, 0.0000, 0.0000, 0.2039,\n           0.4392, 0.5059, 0.3843, 0.0000, 0.0000, 0.0000, 0.0000, 0.0000,\n           0.0118, 0.0000, 0.0235, 0.0588],\n          [0.0000, 0.0000, 0.0000, 0.0000, 0.0000, 0.0000, 0.0000, 0.0039,\n           0.0039, 0.0000, 0.0000, 0.0000, 0.0000, 0.0235, 0.3647, 0.6627,\n           0.6196, 0.5569, 0.3961, 0.1608, 0.0000, 0.0000, 0.0000, 0.0902,\n           0.1294, 0.5451, 0.1608, 0.0000],\n          [0.0000, 0.0000, 0.0039, 0.0039, 0.0000, 0.0000, 0.0000, 0.0000,\n           0.0000, 0.0000, 0.0000, 0.0667, 0.4627, 0.6549, 0.5765, 0.6824,\n           0.6431, 0.6627, 0.6196, 0.5490, 0.0431, 0.0000, 0.0157, 0.1176,\n           0.0235, 0.8784, 0.5059, 0.0000],\n          [0.0118, 0.0000, 0.0000, 0.0000, 0.0000, 0.0000, 0.0000, 0.0118,\n           0.0863, 0.2353, 0.3137, 0.3216, 0.6706, 0.6863, 0.6510, 0.6000,\n           0.3529, 0.6078, 0.6627, 0.6314, 0.5804, 0.2824, 0.2510, 0.2980,\n           0.3882, 0.8196, 0.6941, 0.0000],\n          [0.0000, 0.0000, 0.0000, 0.1843, 0.4392, 0.4000, 0.4706, 0.5765,\n           0.5647, 0.6000, 0.6941, 0.5255, 0.6510, 0.6392, 0.6431, 0.0000,\n           0.6314, 0.6627, 0.6627, 0.8980, 0.9373, 0.8549, 0.5020, 0.2471,\n           0.4157, 0.9098, 0.7059, 0.0000],\n          [0.0000, 0.5490, 0.6000, 0.6078, 0.6314, 0.6000, 0.5765, 0.5373,\n           0.5255, 0.4510, 0.5647, 0.6392, 0.5333, 0.6627, 0.2706, 0.0000,\n           0.4510, 0.7176, 0.4706, 0.2471, 0.0745, 0.0039, 0.1922, 0.7451,\n           0.8353, 0.8431, 0.6824, 0.0000],\n          [0.3725, 0.7569, 0.5765, 0.6235, 0.6078, 0.5373, 0.5255, 0.5255,\n           0.5255, 0.4745, 0.4824, 0.6824, 0.5451, 0.6706, 0.1647, 0.0000,\n           0.0000, 0.0000, 0.0000, 0.0745, 0.3216, 0.7373, 0.9216, 0.7608,\n           0.6980, 0.8471, 0.8431, 0.0000],\n          [0.1608, 0.5059, 0.6392, 0.6941, 0.6627, 0.6118, 0.5255, 0.4706,\n           0.4941, 0.4902, 0.4510, 0.5255, 0.5333, 0.5686, 0.6392, 0.3843,\n           0.4314, 0.6510, 0.8784, 1.0000, 0.8196, 0.7922, 0.7608, 0.8353,\n           0.8549, 0.8196, 0.6392, 0.0667],\n          [0.0000, 0.1608, 0.1098, 0.4588, 0.7882, 0.7686, 0.7255, 0.6510,\n           0.6078, 0.6314, 0.6392, 0.6314, 0.8314, 0.7373, 0.7373, 0.9608,\n           0.9216, 0.8039, 0.6745, 0.6627, 0.6392, 0.5961, 0.5059, 0.3882,\n           0.2471, 0.0431, 0.1098, 0.4627],\n          [0.0000, 0.0588, 0.3451, 0.1098, 0.0235, 0.1098, 0.2471, 0.3765,\n           0.4000, 0.4745, 0.5216, 0.5059, 0.3255, 0.3216, 0.0980, 0.0000,\n           0.0000, 0.0000, 0.0000, 0.0000, 0.0000, 0.0000, 0.0000, 0.0000,\n           0.0000, 0.0902, 0.4588, 0.4000],\n          [0.0000, 0.0000, 0.0353, 0.1412, 0.2980, 0.2667, 0.0745, 0.0000,\n           0.0000, 0.0000, 0.0000, 0.0000, 0.0000, 0.0118, 0.1020, 0.2510,\n           0.3765, 0.3843, 0.4275, 0.4706, 0.3843, 0.4078, 0.3725, 0.4627,\n           0.4510, 0.4902, 0.4196, 0.0000],\n          [0.0000, 0.0039, 0.0000, 0.0000, 0.0000, 0.1098, 0.1294, 0.3216,\n           0.3529, 0.2078, 0.4196, 0.4000, 0.2588, 0.3255, 0.2275, 0.1765,\n           0.1176, 0.0471, 0.0549, 0.0863, 0.0588, 0.1843, 0.0784, 0.1294,\n           0.0353, 0.0000, 0.0000, 0.0000],\n          [0.0000, 0.0000, 0.0000, 0.0000, 0.0000, 0.0000, 0.0000, 0.0000,\n           0.0000, 0.0000, 0.0000, 0.0000, 0.0000, 0.0000, 0.0000, 0.0000,\n           0.0000, 0.0000, 0.0000, 0.0000, 0.0000, 0.0000, 0.0000, 0.0000,\n           0.0000, 0.0000, 0.0000, 0.0000],\n          [0.0000, 0.0000, 0.0000, 0.0000, 0.0000, 0.0000, 0.0000, 0.0000,\n           0.0000, 0.0000, 0.0000, 0.0000, 0.0000, 0.0000, 0.0000, 0.0000,\n           0.0000, 0.0000, 0.0000, 0.0000, 0.0000, 0.0000, 0.0000, 0.0000,\n           0.0000, 0.0000, 0.0000, 0.0000],\n          [0.0000, 0.0000, 0.0000, 0.0000, 0.0000, 0.0000, 0.0000, 0.0000,\n           0.0000, 0.0000, 0.0000, 0.0000, 0.0000, 0.0000, 0.0000, 0.0000,\n           0.0000, 0.0000, 0.0000, 0.0000, 0.0000, 0.0000, 0.0000, 0.0000,\n           0.0000, 0.0000, 0.0000, 0.0000],\n          [0.0000, 0.0000, 0.0000, 0.0000, 0.0000, 0.0000, 0.0000, 0.0000,\n           0.0000, 0.0000, 0.0000, 0.0000, 0.0000, 0.0000, 0.0000, 0.0000,\n           0.0000, 0.0000, 0.0000, 0.0000, 0.0000, 0.0000, 0.0000, 0.0000,\n           0.0000, 0.0000, 0.0000, 0.0000],\n          [0.0000, 0.0000, 0.0000, 0.0000, 0.0000, 0.0000, 0.0000, 0.0000,\n           0.0000, 0.0000, 0.0000, 0.0000, 0.0000, 0.0000, 0.0000, 0.0000,\n           0.0000, 0.0000, 0.0000, 0.0000, 0.0000, 0.0000, 0.0000, 0.0000,\n           0.0000, 0.0000, 0.0000, 0.0000],\n          [0.0000, 0.0000, 0.0000, 0.0000, 0.0000, 0.0000, 0.0000, 0.0000,\n           0.0000, 0.0000, 0.0000, 0.0000, 0.0000, 0.0000, 0.0000, 0.0000,\n           0.0000, 0.0000, 0.0000, 0.0000, 0.0000, 0.0000, 0.0000, 0.0000,\n           0.0000, 0.0000, 0.0000, 0.0000],\n          [0.0000, 0.0000, 0.0000, 0.0000, 0.0000, 0.0000, 0.0000, 0.0000,\n           0.0000, 0.0000, 0.0000, 0.0000, 0.0000, 0.0000, 0.0000, 0.0000,\n           0.0000, 0.0000, 0.0000, 0.0000, 0.0000, 0.0000, 0.0000, 0.0000,\n           0.0000, 0.0000, 0.0000, 0.0000]]]),\n tensor([[[0.0000, 0.0000, 0.0000, 0.0000, 0.0000, 0.0000, 0.0000, 0.0000,\n           0.0000, 0.0000, 0.0000, 0.1451, 0.2314, 0.0980, 0.0980, 0.1608,\n           0.0000, 0.0000, 0.0118, 0.0000, 0.0000, 0.0000, 0.0000, 0.0000,\n           0.0000, 0.0000, 0.0000, 0.0000],\n          [0.0000, 0.0000, 0.0000, 0.0000, 0.0000, 0.0000, 0.0118, 0.0000,\n           0.0000, 0.0000, 0.0000, 0.4353, 0.0118, 0.5059, 0.1804, 0.5059,\n           0.5098, 0.0000, 0.0000, 0.0000, 0.0000, 0.0039, 0.0000, 0.0000,\n           0.0000, 0.0000, 0.0000, 0.0000],\n          [0.0000, 0.0000, 0.0000, 0.0000, 0.0000, 0.0000, 0.0000, 0.0000,\n           0.0000, 0.3255, 0.8667, 0.8157, 0.4588, 0.7412, 0.6000, 0.8039,\n           0.8431, 0.8039, 0.3137, 0.0000, 0.0000, 0.0000, 0.0000, 0.0000,\n           0.0000, 0.0000, 0.0000, 0.0000],\n          [0.0000, 0.0000, 0.0000, 0.0000, 0.0000, 0.0000, 0.0000, 0.6510,\n           0.8078, 0.9020, 0.8627, 0.8353, 0.7529, 0.4510, 0.4706, 0.9059,\n           0.8157, 0.8510, 0.8667, 0.8039, 0.5373, 0.0000, 0.0000, 0.0039,\n           0.0000, 0.0000, 0.0000, 0.0000],\n          [0.0000, 0.0000, 0.0000, 0.0000, 0.0000, 0.0000, 0.6667, 0.9176,\n           0.8314, 0.8157, 0.8627, 0.8745, 0.6078, 0.6863, 0.5373, 0.9765,\n           0.9137, 0.8235, 0.7961, 0.8000, 0.8667, 0.2000, 0.0000, 0.0039,\n           0.0000, 0.0000, 0.0000, 0.0000],\n          [0.0000, 0.0000, 0.0000, 0.0000, 0.0000, 0.1882, 0.8706, 0.8039,\n           0.8588, 0.9137, 0.9843, 0.5059, 0.4902, 0.8392, 0.1882, 0.5804,\n           0.9529, 0.9255, 0.8980, 0.7725, 0.8353, 0.6627, 0.0000, 0.0000,\n           0.0000, 0.0000, 0.0000, 0.0000],\n          [0.0000, 0.0000, 0.0000, 0.0000, 0.0000, 0.5176, 0.8863, 0.8235,\n           0.7686, 0.7412, 0.5294, 0.0000, 0.7294, 0.9294, 0.5216, 0.4157,\n           0.7686, 0.4588, 0.7176, 0.8471, 0.8000, 0.8275, 0.0000, 0.0000,\n           0.0000, 0.0000, 0.0000, 0.0000],\n          [0.0000, 0.0000, 0.0000, 0.0000, 0.0000, 0.7333, 0.8784, 0.8431,\n           0.6118, 0.0863, 0.0118, 0.2863, 0.4196, 0.5843, 0.7490, 0.5373,\n           0.5333, 0.5255, 0.6980, 0.8235, 0.7608, 0.7765, 0.0980, 0.0000,\n           0.0000, 0.0000, 0.0000, 0.0000],\n          [0.0000, 0.0000, 0.0000, 0.0000, 0.0000, 0.8510, 0.8588, 0.8510,\n           0.4275, 0.4431, 0.0784, 0.0392, 0.0078, 0.4353, 0.4118, 0.7294,\n           0.2745, 0.5098, 0.7451, 0.7843, 0.7490, 0.8000, 0.2627, 0.0000,\n           0.0000, 0.0000, 0.0000, 0.0000],\n          [0.0000, 0.0000, 0.0000, 0.0000, 0.0000, 0.9490, 0.8275, 0.8627,\n           0.5882, 0.8627, 0.2275, 0.3451, 0.1922, 0.3647, 0.1098, 0.7725,\n           0.3020, 0.2980, 0.7843, 0.8941, 0.7451, 0.7961, 0.4745, 0.0000,\n           0.0000, 0.0000, 0.0000, 0.0000],\n          [0.0000, 0.0000, 0.0000, 0.0000, 0.0000, 0.9686, 0.8118, 0.8549,\n           0.8863, 0.8863, 0.0588, 0.3608, 0.2353, 0.4118, 0.0000, 0.7451,\n           0.5804, 0.1686, 0.6706, 0.9020, 0.7451, 0.7922, 0.6235, 0.0000,\n           0.0000, 0.0000, 0.0000, 0.0000],\n          [0.0000, 0.0000, 0.0000, 0.0000, 0.0863, 0.9647, 0.8000, 0.8353,\n           0.8824, 0.6941, 0.0000, 0.2784, 0.1608, 0.3137, 0.1098, 0.4471,\n           0.8627, 0.4627, 0.6980, 0.8627, 0.7490, 0.7725, 0.7333, 0.0000,\n           0.0000, 0.0000, 0.0000, 0.0000],\n          [0.0000, 0.0000, 0.0000, 0.0000, 0.3020, 0.9843, 0.8157, 0.8471,\n           0.9843, 0.4235, 0.0000, 0.1961, 0.0863, 0.5647, 0.2078, 0.2863,\n           0.9569, 0.7686, 0.8941, 0.8784, 0.7569, 0.7608, 0.8549, 0.0000,\n           0.0000, 0.0000, 0.0000, 0.0000],\n          [0.0000, 0.0000, 0.0000, 0.0000, 0.4275, 0.7255, 0.5059, 0.8980,\n           0.7294, 0.3373, 0.1569, 0.0000, 0.1098, 0.6157, 0.6667, 0.0157,\n           0.5922, 0.2039, 0.8471, 0.9098, 0.7725, 0.6745, 0.7020, 0.0000,\n           0.0000, 0.0000, 0.0000, 0.0000],\n          [0.0000, 0.0000, 0.0000, 0.0000, 0.6588, 0.8980, 0.7569, 0.9725,\n           0.5216, 0.5255, 0.1804, 0.3059, 0.4588, 0.5490, 0.8314, 0.3137,\n           0.1647, 0.0902, 0.4745, 0.7961, 0.8000, 0.7216, 0.9255, 0.0824,\n           0.0000, 0.0000, 0.0000, 0.0000],\n          [0.0000, 0.0000, 0.0000, 0.0000, 0.5608, 0.9176, 0.7765, 0.9765,\n           0.4941, 0.8784, 0.5294, 0.6588, 0.8588, 0.6510, 0.6980, 0.5686,\n           0.3176, 0.1451, 0.4392, 0.5922, 0.8431, 0.7529, 0.9294, 0.1059,\n           0.0000, 0.0000, 0.0000, 0.0000],\n          [0.0000, 0.0000, 0.0000, 0.0000, 0.5333, 0.9255, 0.7765, 0.8941,\n           0.3608, 1.0000, 0.3137, 0.5608, 0.8275, 0.6588, 0.7333, 0.6039,\n           0.2941, 0.3373, 0.3686, 0.6510, 0.8431, 0.7412, 0.8980, 0.1490,\n           0.0000, 0.0000, 0.0000, 0.0000],\n          [0.0000, 0.0000, 0.0000, 0.0000, 0.4706, 0.9176, 0.8275, 0.7725,\n           0.5176, 0.8157, 0.1255, 0.7255, 0.9137, 0.6431, 0.7373, 0.7137,\n           0.2745, 0.3098, 0.1333, 0.3647, 0.8549, 0.7412, 0.8941, 0.2118,\n           0.0000, 0.0000, 0.0000, 0.0000],\n          [0.0000, 0.0000, 0.0000, 0.0000, 0.4667, 0.8941, 0.8392, 0.7725,\n           0.5176, 0.2902, 0.1216, 0.6902, 0.4588, 0.3608, 0.7804, 0.7451,\n           0.4078, 0.1686, 0.1804, 0.3137, 0.8157, 0.7451, 0.8941, 0.2235,\n           0.0000, 0.0000, 0.0000, 0.0000],\n          [0.0000, 0.0000, 0.0000, 0.0000, 0.6824, 0.8627, 0.8431, 0.8353,\n           0.3294, 0.0824, 0.1059, 0.3608, 0.0549, 0.2392, 0.7961, 0.7490,\n           0.4863, 0.1451, 0.0941, 0.2941, 0.9294, 0.7529, 0.8824, 0.2118,\n           0.0000, 0.0000, 0.0000, 0.0000],\n          [0.0000, 0.0000, 0.0000, 0.0000, 0.7686, 0.8275, 0.8941, 0.6784,\n           0.3255, 0.1255, 0.0784, 0.2902, 0.2863, 0.3569, 0.7569, 0.7765,\n           0.6157, 0.1333, 0.0902, 0.3020, 0.8627, 0.7490, 0.9020, 0.2275,\n           0.0000, 0.0000, 0.0000, 0.0000],\n          [0.0000, 0.0000, 0.0000, 0.0000, 0.7569, 0.8431, 0.8863, 0.6392,\n           0.4118, 0.0000, 0.0000, 0.1451, 0.4431, 0.5255, 0.5059, 0.8000,\n           0.5922, 0.0706, 0.0000, 0.2902, 0.8235, 0.7569, 0.8706, 0.2863,\n           0.0000, 0.0000, 0.0000, 0.0000],\n          [0.0000, 0.0000, 0.0000, 0.0000, 0.7020, 0.8588, 0.8588, 0.7020,\n           0.8980, 0.6549, 0.5882, 0.6000, 0.6118, 0.5569, 0.5216, 0.7529,\n           0.6549, 0.5686, 0.6078, 0.7294, 0.6275, 0.7686, 0.8627, 0.3765,\n           0.0000, 0.0000, 0.0000, 0.0000],\n          [0.0000, 0.0000, 0.0000, 0.0000, 0.6392, 0.8824, 0.8196, 0.6745,\n           0.8392, 0.8196, 0.8275, 0.8157, 0.9176, 0.7373, 0.8235, 0.8118,\n           0.7922, 0.8157, 0.8000, 0.8000, 0.3686, 0.8039, 0.7882, 0.3725,\n           0.0000, 0.0000, 0.0000, 0.0000],\n          [0.0000, 0.0000, 0.0000, 0.0000, 0.7451, 0.8392, 0.7490, 0.5882,\n           0.8510, 0.7686, 0.7882, 0.7765, 0.7843, 0.5804, 0.7333, 0.7961,\n           0.7765, 0.7843, 0.7804, 0.8902, 0.3294, 0.7765, 0.7804, 0.4392,\n           0.0000, 0.0000, 0.0000, 0.0000],\n          [0.0000, 0.0000, 0.0000, 0.0000, 0.8392, 0.8431, 0.8353, 0.3294,\n           0.9843, 0.8078, 0.8039, 0.8078, 0.8157, 0.7490, 0.7725, 0.7882,\n           0.7569, 0.7098, 0.6902, 0.7569, 0.3098, 0.8118, 0.7882, 0.7098,\n           0.0000, 0.0000, 0.0000, 0.0000],\n          [0.0000, 0.0000, 0.0000, 0.0000, 0.3686, 0.2235, 0.3843, 0.0000,\n           0.0392, 0.4510, 0.6627, 0.7333, 0.8039, 0.8275, 0.7686, 0.6863,\n           0.5765, 0.5529, 0.3294, 0.0000, 0.0000, 0.3922, 0.2000, 0.2588,\n           0.0000, 0.0000, 0.0000, 0.0000],\n          [0.0000, 0.0000, 0.0000, 0.0000, 0.0118, 0.0941, 0.0039, 0.0000,\n           0.0000, 0.0000, 0.0000, 0.0000, 0.0000, 0.0000, 0.0000, 0.0000,\n           0.0000, 0.0000, 0.0000, 0.0000, 0.0000, 0.0118, 0.0549, 0.0000,\n           0.0000, 0.0000, 0.0000, 0.0000]]]),\n tensor([[[0.0000, 0.0000, 0.0000, 0.0000, 0.0000, 0.0000, 0.0000, 0.0000,\n           0.0000, 0.0000, 0.2078, 0.7608, 0.6941, 0.7255, 0.6627, 0.7569,\n           0.7216, 0.7961, 0.0824, 0.0000, 0.0000, 0.0000, 0.0000, 0.0000,\n           0.0000, 0.0000, 0.0000, 0.0000],\n          [0.0000, 0.0000, 0.0000, 0.0000, 0.0000, 0.0000, 0.0000, 0.0000,\n           0.0000, 0.0000, 0.5020, 0.9059, 0.9373, 0.9608, 0.8824, 0.9686,\n           0.9451, 0.9804, 0.2510, 0.0000, 0.0000, 0.0000, 0.0000, 0.0000,\n           0.0000, 0.0000, 0.0000, 0.0000],\n          [0.0000, 0.0000, 0.0000, 0.0000, 0.0000, 0.0000, 0.0000, 0.0000,\n           0.0000, 0.0000, 0.6706, 0.8980, 0.8471, 0.9137, 0.8471, 0.8627,\n           0.8902, 0.9451, 0.5176, 0.0000, 0.0000, 0.0000, 0.0000, 0.0000,\n           0.0000, 0.0000, 0.0000, 0.0000],\n          [0.0000, 0.0000, 0.0000, 0.0000, 0.0000, 0.0000, 0.0000, 0.0000,\n           0.0000, 0.0000, 0.6706, 0.9255, 0.8549, 0.9333, 0.8667, 0.8431,\n           0.8431, 0.8824, 0.5137, 0.0000, 0.0000, 0.0000, 0.0000, 0.0000,\n           0.0000, 0.0000, 0.0000, 0.0000],\n          [0.0000, 0.0000, 0.0000, 0.0000, 0.0000, 0.0000, 0.0000, 0.0000,\n           0.0000, 0.0000, 0.6235, 0.9176, 0.8510, 0.8824, 0.8980, 0.9137,\n           0.9020, 0.9451, 0.5765, 0.0000, 0.0000, 0.0000, 0.0000, 0.0000,\n           0.0000, 0.0000, 0.0000, 0.0000],\n          [0.0000, 0.0000, 0.0000, 0.0000, 0.0000, 0.0000, 0.0000, 0.0000,\n           0.0000, 0.0000, 0.6471, 0.9137, 0.8078, 0.8549, 0.8941, 0.8627,\n           0.8549, 0.9451, 0.6157, 0.0000, 0.0000, 0.0000, 0.0000, 0.0000,\n           0.0000, 0.0000, 0.0000, 0.0000],\n          [0.0000, 0.0000, 0.0000, 0.0000, 0.0000, 0.0000, 0.0000, 0.0000,\n           0.0000, 0.0000, 0.6118, 0.8824, 0.7961, 0.8275, 0.9059, 0.8941,\n           0.8314, 0.8824, 0.6118, 0.0000, 0.0000, 0.0000, 0.0000, 0.0000,\n           0.0000, 0.0000, 0.0000, 0.0000],\n          [0.0000, 0.0000, 0.0000, 0.0000, 0.0000, 0.0000, 0.0000, 0.0000,\n           0.0000, 0.0000, 0.4941, 0.8078, 0.7373, 0.8549, 0.9647, 0.8980,\n           0.8471, 0.8157, 0.5882, 0.0000, 0.0000, 0.0000, 0.0000, 0.0000,\n           0.0000, 0.0000, 0.0000, 0.0000],\n          [0.0000, 0.0000, 0.0000, 0.0000, 0.0000, 0.0000, 0.0000, 0.0000,\n           0.0000, 0.0000, 0.4392, 0.8157, 0.6863, 0.8235, 0.9686, 0.8588,\n           0.7569, 0.6824, 0.5020, 0.0000, 0.0000, 0.0000, 0.0000, 0.0000,\n           0.0000, 0.0000, 0.0000, 0.0000],\n          [0.0000, 0.0000, 0.0000, 0.0000, 0.0000, 0.0000, 0.0000, 0.0000,\n           0.0000, 0.0000, 0.3922, 0.8275, 0.6745, 0.8549, 0.7569, 0.8824,\n           0.7490, 0.6941, 0.4706, 0.0000, 0.0000, 0.0000, 0.0000, 0.0000,\n           0.0000, 0.0000, 0.0000, 0.0000],\n          [0.0000, 0.0000, 0.0000, 0.0000, 0.0000, 0.0000, 0.0000, 0.0000,\n           0.0000, 0.0000, 0.3647, 0.9020, 0.7020, 0.9137, 0.5451, 0.9059,\n           0.8235, 0.7569, 0.5098, 0.0000, 0.0000, 0.0000, 0.0000, 0.0000,\n           0.0000, 0.0000, 0.0000, 0.0000],\n          [0.0000, 0.0000, 0.0000, 0.0000, 0.0000, 0.0000, 0.0000, 0.0000,\n           0.0000, 0.0000, 0.3373, 0.9294, 0.6392, 0.9569, 0.3294, 0.8980,\n           0.8039, 0.7569, 0.5137, 0.0000, 0.0000, 0.0000, 0.0000, 0.0000,\n           0.0000, 0.0000, 0.0000, 0.0000],\n          [0.0000, 0.0000, 0.0000, 0.0000, 0.0000, 0.0000, 0.0000, 0.0000,\n           0.0000, 0.0000, 0.2941, 0.9059, 0.7098, 0.9686, 0.1725, 0.8784,\n           0.8588, 0.7294, 0.4902, 0.0000, 0.0000, 0.0000, 0.0000, 0.0000,\n           0.0000, 0.0000, 0.0000, 0.0000],\n          [0.0000, 0.0000, 0.0000, 0.0000, 0.0000, 0.0000, 0.0000, 0.0000,\n           0.0000, 0.0000, 0.2627, 0.8863, 0.7373, 0.9765, 0.0353, 0.8941,\n           0.8510, 0.7725, 0.5059, 0.0000, 0.0000, 0.0000, 0.0000, 0.0000,\n           0.0000, 0.0000, 0.0000, 0.0000],\n          [0.0000, 0.0000, 0.0000, 0.0000, 0.0000, 0.0000, 0.0000, 0.0000,\n           0.0000, 0.0000, 0.2863, 0.9216, 0.6510, 0.9255, 0.0000, 0.9137,\n           0.8196, 0.7608, 0.4471, 0.0000, 0.0000, 0.0000, 0.0000, 0.0000,\n           0.0000, 0.0000, 0.0000, 0.0000],\n          [0.0000, 0.0000, 0.0000, 0.0000, 0.0000, 0.0000, 0.0000, 0.0000,\n           0.0000, 0.0000, 0.2784, 0.9647, 0.7216, 0.8980, 0.0000, 0.9216,\n           0.8078, 0.8118, 0.4471, 0.0000, 0.0000, 0.0000, 0.0000, 0.0000,\n           0.0000, 0.0000, 0.0000, 0.0000],\n          [0.0000, 0.0000, 0.0000, 0.0000, 0.0000, 0.0000, 0.0000, 0.0000,\n           0.0000, 0.0000, 0.2824, 0.9882, 0.7412, 0.9451, 0.0000, 0.9098,\n           0.8039, 0.8118, 0.4392, 0.0000, 0.0000, 0.0000, 0.0000, 0.0000,\n           0.0000, 0.0000, 0.0000, 0.0000],\n          [0.0000, 0.0000, 0.0000, 0.0000, 0.0000, 0.0000, 0.0000, 0.0000,\n           0.0000, 0.0000, 0.2980, 0.8627, 0.7686, 0.9098, 0.0000, 0.9216,\n           0.8000, 0.7686, 0.3529, 0.0000, 0.0000, 0.0000, 0.0000, 0.0000,\n           0.0000, 0.0000, 0.0000, 0.0000],\n          [0.0000, 0.0000, 0.0000, 0.0000, 0.0000, 0.0000, 0.0000, 0.0000,\n           0.0000, 0.0000, 0.2588, 0.8863, 0.8078, 0.9216, 0.0000, 0.9176,\n           0.7961, 0.8510, 0.2941, 0.0000, 0.0000, 0.0000, 0.0000, 0.0000,\n           0.0000, 0.0000, 0.0000, 0.0000],\n          [0.0000, 0.0000, 0.0000, 0.0000, 0.0000, 0.0000, 0.0000, 0.0000,\n           0.0000, 0.0000, 0.2078, 0.9059, 0.8471, 0.9922, 0.0000, 0.9412,\n           0.8314, 0.9255, 0.2275, 0.0000, 0.0000, 0.0000, 0.0000, 0.0000,\n           0.0000, 0.0000, 0.0000, 0.0000],\n          [0.0000, 0.0000, 0.0000, 0.0000, 0.0000, 0.0000, 0.0000, 0.0000,\n           0.0000, 0.0000, 0.1647, 0.9216, 0.8824, 1.0000, 0.0000, 0.9569,\n           0.8863, 0.8784, 0.1686, 0.0000, 0.0000, 0.0000, 0.0000, 0.0000,\n           0.0000, 0.0000, 0.0000, 0.0000],\n          [0.0000, 0.0000, 0.0000, 0.0000, 0.0000, 0.0000, 0.0000, 0.0000,\n           0.0000, 0.0000, 0.1216, 0.9255, 0.8941, 1.0000, 0.0000, 0.9490,\n           0.9098, 0.9020, 0.1020, 0.0000, 0.0000, 0.0000, 0.0000, 0.0000,\n           0.0000, 0.0000, 0.0000, 0.0000],\n          [0.0000, 0.0000, 0.0000, 0.0000, 0.0000, 0.0000, 0.0000, 0.0000,\n           0.0000, 0.0000, 0.0745, 0.9216, 0.9059, 1.0000, 0.0000, 0.9961,\n           0.9137, 0.9137, 0.0706, 0.0000, 0.0000, 0.0000, 0.0000, 0.0000,\n           0.0000, 0.0000, 0.0000, 0.0000],\n          [0.0000, 0.0000, 0.0000, 0.0000, 0.0000, 0.0000, 0.0000, 0.0000,\n           0.0000, 0.0000, 0.0275, 0.9137, 0.9137, 1.0000, 0.0000, 0.9961,\n           0.9137, 0.9059, 0.0549, 0.0000, 0.0000, 0.0000, 0.0000, 0.0000,\n           0.0000, 0.0000, 0.0000, 0.0000],\n          [0.0000, 0.0000, 0.0000, 0.0000, 0.0000, 0.0000, 0.0000, 0.0000,\n           0.0000, 0.0000, 0.0353, 0.9216, 0.9059, 1.0000, 0.0000, 0.9843,\n           0.9098, 0.9059, 0.0431, 0.0000, 0.0000, 0.0000, 0.0000, 0.0000,\n           0.0000, 0.0000, 0.0000, 0.0000],\n          [0.0000, 0.0000, 0.0000, 0.0000, 0.0000, 0.0000, 0.0000, 0.0000,\n           0.0000, 0.0000, 0.0235, 0.9059, 0.9137, 0.9490, 0.0000, 0.9804,\n           0.9176, 0.8863, 0.0039, 0.0000, 0.0000, 0.0000, 0.0000, 0.0000,\n           0.0000, 0.0000, 0.0000, 0.0000],\n          [0.0000, 0.0000, 0.0000, 0.0000, 0.0000, 0.0000, 0.0000, 0.0000,\n           0.0000, 0.0000, 0.0627, 0.9451, 0.9529, 1.0000, 0.0000, 1.0000,\n           0.9373, 0.9255, 0.0078, 0.0000, 0.0000, 0.0000, 0.0000, 0.0000,\n           0.0000, 0.0000, 0.0000, 0.0000],\n          [0.0000, 0.0000, 0.0000, 0.0000, 0.0000, 0.0000, 0.0000, 0.0000,\n           0.0000, 0.0000, 0.0000, 0.6471, 0.7765, 0.5294, 0.0000, 0.7529,\n           0.8863, 0.7451, 0.0000, 0.0000, 0.0000, 0.0000, 0.0000, 0.0000,\n           0.0000, 0.0000, 0.0000, 0.0000]]]),\n tensor([[[0.0000, 0.0000, 0.0000, 0.0000, 0.0000, 0.0000, 0.0000, 0.0000,\n           0.0000, 0.0000, 0.0000, 0.0000, 0.0000, 0.0000, 0.0000, 0.0000,\n           0.0000, 0.0000, 0.0000, 0.0000, 0.0000, 0.0000, 0.0000, 0.0000,\n           0.0000, 0.0000, 0.0000, 0.0000],\n          [0.0000, 0.0000, 0.0000, 0.0000, 0.0000, 0.0000, 0.0000, 0.0000,\n           0.0000, 0.0000, 0.0000, 0.0000, 0.0000, 0.0000, 0.0000, 0.0000,\n           0.0000, 0.0000, 0.0000, 0.0000, 0.0000, 0.0000, 0.0000, 0.0000,\n           0.0000, 0.0000, 0.0000, 0.0000],\n          [0.0000, 0.0000, 0.0000, 0.0000, 0.0000, 0.0000, 0.0000, 0.0000,\n           0.0000, 0.0000, 0.0000, 0.0000, 0.0000, 0.0000, 0.0000, 0.0000,\n           0.0000, 0.0000, 0.0000, 0.0000, 0.0000, 0.0000, 0.0000, 0.0000,\n           0.0000, 0.0000, 0.0000, 0.0000],\n          [0.0000, 0.0000, 0.0000, 0.0000, 0.0000, 0.0000, 0.0000, 0.0000,\n           0.0000, 0.0000, 0.0000, 0.0000, 0.0000, 0.0000, 0.0000, 0.0000,\n           0.0000, 0.0000, 0.0000, 0.0000, 0.0000, 0.0000, 0.0000, 0.0000,\n           0.0000, 0.0000, 0.0000, 0.0000],\n          [0.0000, 0.0000, 0.0000, 0.0000, 0.0000, 0.0000, 0.0000, 0.0000,\n           0.0000, 0.0000, 0.0000, 0.0000, 0.0000, 0.0000, 0.0000, 0.0000,\n           0.0000, 0.0000, 0.0000, 0.0000, 0.0000, 0.0000, 0.0000, 0.0000,\n           0.0000, 0.0000, 0.0000, 0.0000],\n          [0.0000, 0.0000, 0.0000, 0.0000, 0.0000, 0.0000, 0.0000, 0.0000,\n           0.0000, 0.0000, 0.0000, 0.0000, 0.0000, 0.0000, 0.0000, 0.0000,\n           0.0000, 0.0000, 0.0000, 0.0000, 0.0000, 0.0000, 0.0000, 0.0000,\n           0.0000, 0.0000, 0.0000, 0.0000],\n          [0.0000, 0.0000, 0.0000, 0.0000, 0.0000, 0.0000, 0.0000, 0.0000,\n           0.0000, 0.0000, 0.0000, 0.0000, 0.0000, 0.0000, 0.0000, 0.0000,\n           0.0000, 0.0000, 0.0000, 0.0000, 0.0000, 0.0000, 0.0000, 0.0000,\n           0.0000, 0.0000, 0.0000, 0.0000],\n          [0.0000, 0.0000, 0.0000, 0.0000, 0.0000, 0.0000, 0.0000, 0.0000,\n           0.0000, 0.0000, 0.0000, 0.0000, 0.0000, 0.0000, 0.0000, 0.0000,\n           0.0000, 0.0000, 0.0000, 0.0000, 0.0000, 0.0000, 0.0000, 0.0000,\n           0.0000, 0.0000, 0.0000, 0.0000],\n          [0.0000, 0.0000, 0.0000, 0.0000, 0.0000, 0.0000, 0.0000, 0.0000,\n           0.0000, 0.0000, 0.0000, 0.0000, 0.0000, 0.0000, 0.1922, 0.2196,\n           0.0588, 0.0706, 0.0000, 0.0000, 0.0000, 0.0000, 0.0000, 0.0000,\n           0.1098, 0.3451, 0.0392, 0.0000],\n          [0.0000, 0.0000, 0.0000, 0.0000, 0.0000, 0.0000, 0.0000, 0.0000,\n           0.0000, 0.0000, 0.0000, 0.0000, 0.0000, 0.0000, 0.2078, 0.4235,\n           0.6275, 0.7882, 0.1961, 0.0000, 0.0039, 0.1569, 0.3686, 0.2745,\n           0.3843, 0.3686, 0.0078, 0.0000],\n          [0.0000, 0.0000, 0.0000, 0.0000, 0.0000, 0.0000, 0.0000, 0.0000,\n           0.0000, 0.0000, 0.0000, 0.0000, 0.0000, 0.0000, 0.0000, 0.0000,\n           0.1412, 0.4980, 0.6980, 0.4627, 0.7137, 0.9412, 0.8000, 0.1922,\n           0.0000, 0.0000, 0.0000, 0.0000],\n          [0.0000, 0.0000, 0.0000, 0.0000, 0.0000, 0.0000, 0.0000, 0.0000,\n           0.0039, 0.0000, 0.0000, 0.0000, 0.0000, 0.0039, 0.0039, 0.0000,\n           0.0000, 0.0000, 0.0588, 0.7922, 1.0000, 0.5843, 0.0000, 0.0000,\n           0.0000, 0.0000, 0.0000, 0.0000],\n          [0.0000, 0.0000, 0.0000, 0.0000, 0.0000, 0.0039, 0.0157, 0.0000,\n           0.0000, 0.0000, 0.0000, 0.0000, 0.0039, 0.0039, 0.0000, 0.0000,\n           0.0078, 0.0000, 0.0000, 0.3373, 0.8627, 0.1725, 0.0000, 0.0000,\n           0.0000, 0.0000, 0.0000, 0.0000],\n          [0.0000, 0.0000, 0.0039, 0.0000, 0.0000, 0.0000, 0.0000, 0.0000,\n           0.0000, 0.0000, 0.0000, 0.0039, 0.0039, 0.0039, 0.0000, 0.0000,\n           0.0000, 0.0000, 0.0000, 0.0000, 0.0000, 0.0000, 0.0000, 0.0000,\n           0.0000, 0.0000, 0.0000, 0.0000],\n          [0.0039, 0.0039, 0.0039, 0.0039, 0.0000, 0.0392, 0.1686, 0.2471,\n           0.3882, 0.0078, 0.0000, 0.0039, 0.0039, 0.0039, 0.0000, 0.0000,\n           0.0000, 0.0000, 0.0000, 0.0549, 0.0902, 0.2706, 0.2824, 0.3294,\n           0.3725, 0.3961, 0.5098, 0.3176],\n          [0.0000, 0.0000, 0.0000, 0.0000, 0.0000, 0.0824, 0.1412, 0.0000,\n           0.1020, 0.1961, 0.0000, 0.0039, 0.0078, 0.0039, 0.0000, 0.0000,\n           0.0275, 0.1216, 0.3294, 0.5255, 0.6157, 0.5725, 0.5098, 0.4706,\n           0.4588, 0.4353, 0.5255, 0.2353],\n          [0.0549, 0.1176, 0.0275, 0.0039, 0.0000, 0.0000, 0.3098, 0.3804,\n           0.5647, 0.3294, 0.0000, 0.0000, 0.0000, 0.0000, 0.0902, 0.2431,\n           0.3843, 0.4471, 0.4980, 0.4314, 0.4235, 0.4000, 0.4196, 0.3843,\n           0.4078, 0.3725, 0.5451, 0.1294],\n          [0.1922, 0.4510, 0.2745, 0.2706, 0.1569, 0.1961, 0.3882, 0.3608,\n           0.3373, 0.2824, 0.1412, 0.1451, 0.2471, 0.3569, 0.4745, 0.5255,\n           0.4980, 0.4078, 0.3608, 0.4941, 0.4510, 0.3882, 0.4078, 0.3882,\n           0.4000, 0.3804, 0.5490, 0.0667],\n          [0.0549, 0.4863, 0.4980, 0.4196, 0.3490, 0.3098, 0.2431, 0.2706,\n           0.2549, 0.3608, 0.4314, 0.4078, 0.3843, 0.4627, 0.5098, 0.3490,\n           0.1059, 0.0039, 0.0000, 0.0000, 0.3333, 0.4353, 0.3569, 0.3725,\n           0.3451, 0.3294, 0.4235, 0.0000],\n          [0.0000, 0.0000, 0.1569, 0.3569, 0.4471, 0.4588, 0.4588, 0.4353,\n           0.4431, 0.4078, 0.3490, 0.3882, 0.4627, 0.3686, 0.1059, 0.0000,\n           0.0000, 0.0000, 0.0000, 0.0000, 0.0510, 0.5961, 0.4588, 0.4980,\n           0.4980, 0.5647, 0.5216, 0.0000],\n          [0.0000, 0.0000, 0.0000, 0.0000, 0.0000, 0.0314, 0.1647, 0.1961,\n           0.2078, 0.2863, 0.3451, 0.3804, 0.2235, 0.0000, 0.0000, 0.0000,\n           0.0000, 0.0000, 0.0000, 0.0000, 0.0000, 0.3725, 0.4627, 0.3961,\n           0.3961, 0.3843, 0.2706, 0.0000],\n          [0.0000, 0.0000, 0.0000, 0.0000, 0.0000, 0.0000, 0.0000, 0.0000,\n           0.0000, 0.0000, 0.0000, 0.0000, 0.0000, 0.0000, 0.0000, 0.0000,\n           0.0000, 0.0000, 0.0000, 0.0000, 0.0000, 0.0000, 0.0000, 0.0000,\n           0.0000, 0.0000, 0.0000, 0.0000],\n          [0.0000, 0.0000, 0.0000, 0.0000, 0.0000, 0.0000, 0.0000, 0.0000,\n           0.0000, 0.0000, 0.0000, 0.0000, 0.0000, 0.0000, 0.0000, 0.0000,\n           0.0000, 0.0000, 0.0000, 0.0000, 0.0000, 0.0000, 0.0000, 0.0000,\n           0.0000, 0.0000, 0.0000, 0.0000],\n          [0.0000, 0.0000, 0.0000, 0.0000, 0.0000, 0.0000, 0.0000, 0.0000,\n           0.0000, 0.0000, 0.0000, 0.0000, 0.0000, 0.0000, 0.0000, 0.0000,\n           0.0000, 0.0000, 0.0000, 0.0000, 0.0000, 0.0000, 0.0000, 0.0000,\n           0.0000, 0.0000, 0.0000, 0.0000],\n          [0.0000, 0.0000, 0.0000, 0.0000, 0.0000, 0.0000, 0.0000, 0.0000,\n           0.0000, 0.0000, 0.0000, 0.0000, 0.0000, 0.0000, 0.0000, 0.0000,\n           0.0000, 0.0000, 0.0000, 0.0000, 0.0000, 0.0000, 0.0000, 0.0000,\n           0.0000, 0.0000, 0.0000, 0.0000],\n          [0.0000, 0.0000, 0.0000, 0.0000, 0.0000, 0.0000, 0.0000, 0.0000,\n           0.0000, 0.0000, 0.0000, 0.0000, 0.0000, 0.0000, 0.0000, 0.0000,\n           0.0000, 0.0000, 0.0000, 0.0000, 0.0000, 0.0000, 0.0000, 0.0000,\n           0.0000, 0.0000, 0.0000, 0.0000],\n          [0.0000, 0.0000, 0.0000, 0.0000, 0.0000, 0.0000, 0.0000, 0.0000,\n           0.0000, 0.0000, 0.0000, 0.0000, 0.0000, 0.0000, 0.0000, 0.0000,\n           0.0000, 0.0000, 0.0000, 0.0000, 0.0000, 0.0000, 0.0000, 0.0000,\n           0.0000, 0.0000, 0.0000, 0.0000],\n          [0.0000, 0.0000, 0.0000, 0.0000, 0.0000, 0.0000, 0.0000, 0.0000,\n           0.0000, 0.0000, 0.0000, 0.0000, 0.0000, 0.0000, 0.0000, 0.0000,\n           0.0000, 0.0000, 0.0000, 0.0000, 0.0000, 0.0000, 0.0000, 0.0000,\n           0.0000, 0.0000, 0.0000, 0.0000]]]),\n tensor([[[0.0000, 0.0000, 0.0000, 0.0000, 0.0000, 0.0000, 0.0000, 0.0000,\n           0.0000, 0.0000, 0.0000, 0.0000, 0.0000, 0.0000, 0.3255, 0.7333,\n           0.5098, 0.0000, 0.0000, 0.0000, 0.0000, 0.0000, 0.0000, 0.0000,\n           0.0000, 0.0000, 0.0000, 0.0000],\n          [0.0000, 0.0000, 0.0000, 0.0000, 0.0000, 0.0000, 0.0000, 0.0000,\n           0.0000, 0.0000, 0.0000, 0.0039, 0.0000, 0.2941, 0.8235, 0.3176,\n           0.6588, 0.5451, 0.0000, 0.0000, 0.0000, 0.0000, 0.0000, 0.0000,\n           0.0000, 0.0000, 0.0000, 0.0000],\n          [0.0000, 0.0000, 0.0000, 0.0000, 0.0000, 0.0000, 0.0000, 0.0000,\n           0.0000, 0.0000, 0.0039, 0.0000, 0.0706, 0.4941, 0.0000, 0.0000,\n           0.0000, 0.3255, 0.2941, 0.0000, 0.0039, 0.0000, 0.0000, 0.0000,\n           0.0000, 0.0000, 0.0000, 0.0000],\n          [0.0000, 0.0000, 0.0000, 0.0000, 0.0000, 0.0000, 0.0000, 0.0000,\n           0.0000, 0.0000, 0.0000, 0.0000, 0.5176, 0.2157, 0.0000, 0.0314,\n           0.0000, 0.0000, 0.6000, 0.0353, 0.0000, 0.0078, 0.0000, 0.0000,\n           0.0000, 0.0000, 0.0000, 0.0000],\n          [0.0000, 0.0000, 0.0000, 0.0000, 0.0000, 0.0000, 0.0000, 0.0000,\n           0.0000, 0.0039, 0.0000, 0.0471, 0.5451, 0.0706, 0.0000, 0.0078,\n           0.0000, 0.0000, 0.5137, 0.4235, 0.0000, 0.0000, 0.0000, 0.0000,\n           0.0000, 0.0000, 0.0000, 0.0000],\n          [0.0000, 0.0000, 0.0000, 0.0039, 0.0000, 0.0000, 0.0000, 0.0000,\n           0.0000, 0.0000, 0.0000, 0.3647, 0.5451, 0.0000, 0.0000, 0.0000,\n           0.0039, 0.0000, 0.2667, 0.4784, 0.0000, 0.0000, 0.0039, 0.0000,\n           0.0000, 0.0000, 0.0000, 0.0000],\n          [0.0000, 0.0000, 0.0000, 0.0000, 0.0000, 0.0000, 0.0000, 0.0000,\n           0.0039, 0.0000, 0.0000, 0.4863, 0.4314, 0.0000, 0.0000, 0.0000,\n           0.0039, 0.0000, 0.0392, 0.5294, 0.1333, 0.0000, 0.0039, 0.0000,\n           0.0000, 0.0000, 0.0000, 0.0000],\n          [0.0000, 0.0000, 0.0000, 0.0000, 0.0000, 0.0000, 0.0000, 0.0000,\n           0.0039, 0.0000, 0.0353, 0.5882, 0.3137, 0.0000, 0.0000, 0.0078,\n           0.0078, 0.0000, 0.0000, 0.6118, 0.3961, 0.0000, 0.0000, 0.0000,\n           0.0000, 0.0000, 0.0000, 0.0000],\n          [0.0000, 0.0000, 0.0000, 0.0000, 0.0000, 0.0078, 0.0000, 0.0078,\n           0.0039, 0.0000, 0.1804, 0.8235, 0.0706, 0.0000, 0.0000, 0.0000,\n           0.0000, 0.0000, 0.0000, 0.3843, 0.6706, 0.0000, 0.0000, 0.0000,\n           0.0000, 0.0000, 0.0000, 0.0000],\n          [0.0000, 0.0000, 0.0000, 0.0000, 0.0000, 0.0000, 0.0000, 0.0000,\n           0.0078, 0.0000, 0.2941, 0.6902, 0.0078, 0.0000, 0.0039, 0.0235,\n           0.0196, 0.0000, 0.0000, 0.2157, 0.7647, 0.0314, 0.0000, 0.0118,\n           0.0118, 0.0000, 0.0000, 0.0000],\n          [0.0000, 0.0000, 0.0000, 0.0000, 0.0000, 0.0784, 0.0000, 0.0000,\n           0.0000, 0.0000, 0.7294, 0.6235, 0.6392, 0.6549, 0.7098, 0.6235,\n           0.6745, 0.6549, 0.5569, 0.6588, 0.6549, 0.4196, 0.0000, 0.0000,\n           0.0000, 0.0000, 0.0000, 0.0000],\n          [0.0000, 0.0000, 0.0000, 0.0000, 0.0000, 0.7333, 0.4353, 0.4314,\n           0.3255, 0.4118, 0.6314, 0.5451, 0.6667, 0.5765, 0.5725, 0.4902,\n           0.4588, 0.6196, 0.5137, 0.5490, 0.5686, 0.6275, 0.2157, 0.2000,\n           0.3569, 0.1294, 0.0000, 0.0000],\n          [0.0000, 0.0000, 0.0000, 0.0000, 0.1333, 0.5059, 0.5686, 0.6275,\n           0.6157, 0.6235, 0.4824, 0.4588, 0.4863, 0.4784, 0.5922, 0.5294,\n           0.4392, 0.5098, 0.5961, 0.5176, 0.4902, 0.6000, 0.5490, 0.4863,\n           0.8235, 0.3373, 0.0000, 0.0000],\n          [0.0000, 0.0000, 0.0000, 0.0000, 0.4392, 0.3176, 0.7137, 0.4941,\n           0.4745, 0.5294, 0.5843, 0.4941, 0.4902, 0.4000, 0.4549, 0.5882,\n           0.5608, 0.3843, 0.5922, 0.5882, 0.4745, 0.5412, 0.4627, 0.2314,\n           0.6706, 0.3098, 0.0000, 0.0000],\n          [0.0000, 0.0000, 0.0000, 0.2706, 0.5882, 0.2157, 0.7647, 0.4235,\n           0.4510, 0.4784, 0.5098, 0.5020, 0.5843, 0.5020, 0.4353, 0.5451,\n           0.5882, 0.4392, 0.4471, 0.5216, 0.5176, 0.5020, 0.5569, 0.3176,\n           0.5176, 0.3922, 0.0000, 0.0000],\n          [0.0000, 0.0000, 0.0000, 0.5843, 0.4902, 0.0745, 0.8980, 0.5961,\n           0.5020, 0.5176, 0.6275, 0.5412, 0.5608, 0.5608, 0.4941, 0.4941,\n           0.5843, 0.5137, 0.5020, 0.4745, 0.4078, 0.4863, 0.5176, 0.4392,\n           0.3451, 0.3176, 0.0000, 0.0000],\n          [0.0000, 0.0000, 0.0000, 0.2431, 0.4471, 0.0431, 1.0000, 0.4824,\n           0.5373, 0.3451, 0.4353, 0.6157, 0.5216, 0.6235, 0.5765, 0.4745,\n           0.5333, 0.5059, 0.5333, 0.5922, 0.5490, 0.5176, 0.5686, 0.4118,\n           0.2392, 0.2784, 0.0000, 0.0000],\n          [0.0000, 0.0000, 0.0000, 0.1882, 0.6431, 0.0314, 0.8980, 0.4118,\n           0.6118, 0.6314, 0.4588, 0.5294, 0.5647, 0.5569, 0.5569, 0.5294,\n           0.5412, 0.5333, 0.5216, 0.5647, 0.5922, 0.5176, 0.5882, 0.4314,\n           0.1765, 0.2941, 0.0000, 0.0000],\n          [0.0000, 0.0000, 0.0000, 0.0000, 0.5176, 0.0000, 0.7922, 0.5333,\n           0.5765, 0.6784, 0.4549, 0.5373, 0.6000, 0.5686, 0.5608, 0.5961,\n           0.6000, 0.5647, 0.5765, 0.5686, 0.5882, 0.5922, 0.5137, 0.5098,\n           0.2549, 0.2431, 0.0000, 0.0000],\n          [0.0000, 0.0000, 0.0000, 0.0000, 0.4078, 0.0039, 0.8196, 0.5373,\n           0.4863, 0.6549, 0.5725, 0.5608, 0.5882, 0.5412, 0.5765, 0.5922,\n           0.6157, 0.5490, 0.5765, 0.6118, 0.5882, 0.6392, 0.4000, 0.4745,\n           0.3451, 0.2118, 0.0000, 0.0000],\n          [0.0000, 0.0000, 0.0000, 0.0000, 0.3137, 0.0627, 0.8941, 0.5490,\n           0.5686, 0.4314, 0.5882, 0.4784, 0.5725, 0.5608, 0.6824, 0.6824,\n           0.6902, 0.6314, 0.5843, 0.5569, 0.6196, 0.6784, 0.4784, 0.4588,\n           0.3529, 0.2000, 0.0000, 0.0000],\n          [0.0000, 0.0000, 0.0000, 0.0000, 0.3529, 0.2431, 0.7373, 0.4902,\n           0.4471, 0.4078, 0.6549, 0.6431, 0.6275, 0.6824, 0.4824, 0.5098,\n           0.4784, 0.5451, 0.6431, 0.5922, 0.5608, 0.5961, 0.5961, 0.5922,\n           0.5216, 0.2078, 0.0000, 0.0000],\n          [0.0000, 0.0000, 0.0000, 0.0000, 0.2667, 0.5294, 0.6706, 0.7137,\n           0.7412, 0.7333, 0.6980, 0.6980, 0.6824, 0.7098, 0.4353, 0.4627,\n           0.4314, 0.4824, 0.6667, 0.6667, 0.5922, 0.5647, 0.5922, 0.5059,\n           0.5176, 0.2078, 0.0000, 0.0000],\n          [0.0000, 0.0000, 0.0000, 0.0000, 0.0039, 0.6980, 0.6706, 0.5451,\n           0.5490, 0.7451, 0.8784, 0.8235, 0.7255, 0.7137, 0.6863, 0.7020,\n           0.7569, 0.6784, 0.6431, 0.6863, 0.6510, 0.6235, 0.5686, 0.4392,\n           0.4392, 0.0863, 0.0000, 0.0000],\n          [0.0000, 0.0000, 0.0000, 0.0000, 0.0000, 0.1137, 0.6157, 0.5882,\n           0.3451, 0.3255, 0.5333, 0.7843, 0.7804, 0.6784, 0.6863, 0.6118,\n           0.6039, 0.6000, 0.6039, 0.6745, 0.7255, 0.6431, 0.6118, 0.5294,\n           0.4824, 0.0000, 0.0000, 0.0000],\n          [0.0000, 0.0000, 0.0000, 0.0000, 0.0000, 0.0000, 0.6706, 0.7922,\n           0.9020, 0.6902, 0.5725, 0.5176, 0.4627, 0.7686, 0.6039, 0.5961,\n           0.5843, 0.5765, 0.6000, 0.6471, 0.6667, 0.6471, 0.6392, 0.6588,\n           0.3333, 0.0000, 0.0000, 0.0000],\n          [0.0000, 0.0000, 0.0000, 0.0039, 0.0000, 0.0000, 0.6392, 0.6235,\n           0.6431, 0.6235, 0.5961, 0.5922, 0.5686, 0.9176, 0.7451, 0.6784,\n           0.6980, 0.6745, 0.7137, 0.7529, 0.7176, 0.7451, 0.6863, 0.4196,\n           0.0196, 0.0000, 0.0000, 0.0000],\n          [0.0000, 0.0000, 0.0000, 0.0000, 0.0000, 0.0000, 0.1569, 0.3529,\n           0.4235, 0.4784, 0.5569, 0.6235, 0.2980, 0.0941, 0.1412, 0.0980,\n           0.1137, 0.0902, 0.0706, 0.0392, 0.0000, 0.0431, 0.0000, 0.0000,\n           0.0000, 0.0000, 0.0000, 0.0000]]]),\n tensor([[[0.0000, 0.0000, 0.0000, 0.0000, 0.0000, 0.0157, 0.0000, 0.0000,\n           0.0000, 0.3922, 0.3843, 0.0000, 0.0000, 0.0000, 0.0000, 0.5137,\n           0.7412, 0.0000, 0.0000, 0.0000, 0.0039, 0.0000, 0.0000, 0.0000,\n           0.0000, 0.0000, 0.0000, 0.0000],\n          [0.0000, 0.0000, 0.0039, 0.0000, 0.0039, 0.0000, 0.0000, 0.1373,\n           0.7333, 0.8745, 0.9098, 0.8588, 0.9922, 1.0000, 0.8471, 0.8784,\n           0.8510, 0.8078, 0.5294, 0.0000, 0.0000, 0.0000, 0.0000, 0.0078,\n           0.0000, 0.0000, 0.0000, 0.0000],\n          [0.0000, 0.0000, 0.0000, 0.0039, 0.0000, 0.0275, 0.5882, 0.8745,\n           0.8549, 0.8078, 0.8196, 0.8392, 0.5922, 0.4196, 0.8078, 0.8275,\n           0.8118, 0.8157, 0.8706, 0.8078, 0.4275, 0.0000, 0.0000, 0.0039,\n           0.0039, 0.0000, 0.0000, 0.0000],\n          [0.0000, 0.0000, 0.0039, 0.0000, 0.0000, 0.7176, 0.9059, 0.8039,\n           0.8078, 0.8235, 0.8039, 0.8275, 0.7686, 0.7608, 0.8392, 0.8196,\n           0.8157, 0.8118, 0.7882, 0.8196, 0.9020, 0.2549, 0.0000, 0.0235,\n           0.0039, 0.0000, 0.0000, 0.0000],\n          [0.0000, 0.0000, 0.0039, 0.0000, 0.0392, 0.8157, 0.8196, 0.8275,\n           0.8196, 0.8078, 0.8157, 0.8157, 0.8353, 0.8471, 0.8118, 0.8118,\n           0.8118, 0.8157, 0.8235, 0.7882, 0.8627, 0.5255, 0.0000, 0.0314,\n           0.0000, 0.0000, 0.0000, 0.0000],\n          [0.0000, 0.0000, 0.0196, 0.0000, 0.2118, 0.8627, 0.8235, 0.8275,\n           0.8235, 0.8118, 0.8118, 0.8118, 0.8078, 0.8078, 0.8118, 0.8118,\n           0.8118, 0.8157, 0.8196, 0.8000, 0.8588, 0.6902, 0.0000, 0.0000,\n           0.0039, 0.0000, 0.0000, 0.0000],\n          [0.0000, 0.0000, 0.0039, 0.0000, 0.4353, 0.8667, 0.8235, 0.8353,\n           0.8275, 0.8118, 0.8118, 0.8118, 0.8118, 0.8118, 0.8118, 0.8118,\n           0.8157, 0.8078, 0.8157, 0.8078, 0.8275, 0.8275, 0.0000, 0.0000,\n           0.0118, 0.0000, 0.0000, 0.0000],\n          [0.0000, 0.0000, 0.0000, 0.0000, 0.6510, 0.8549, 0.8235, 0.8392,\n           0.8275, 0.8118, 0.8118, 0.8118, 0.8118, 0.8118, 0.8118, 0.8118,\n           0.8118, 0.8078, 0.8118, 0.8078, 0.8078, 0.8784, 0.2745, 0.0000,\n           0.0235, 0.0000, 0.0000, 0.0000],\n          [0.0000, 0.0000, 0.0000, 0.0000, 0.7059, 0.8353, 0.8235, 0.8510,\n           0.8275, 0.8078, 0.8118, 0.8118, 0.8118, 0.8000, 0.8157, 0.8157,\n           0.8039, 0.8078, 0.8157, 0.8078, 0.8078, 0.8745, 0.5412, 0.0000,\n           0.0275, 0.0000, 0.0000, 0.0000],\n          [0.0000, 0.0000, 0.0000, 0.0000, 0.7725, 0.8157, 0.8314, 0.8510,\n           0.8314, 0.8118, 0.8118, 0.8118, 0.8118, 0.8078, 0.8275, 0.8275,\n           0.8157, 0.8118, 0.8157, 0.8078, 0.8196, 0.8314, 0.7020, 0.0000,\n           0.0000, 0.0039, 0.0000, 0.0000],\n          [0.0000, 0.0000, 0.0000, 0.1333, 0.8314, 0.8000, 0.8431, 0.8510,\n           0.8275, 0.8118, 0.8118, 0.8118, 0.8118, 0.8078, 0.8275, 0.8275,\n           0.8157, 0.8157, 0.8196, 0.8118, 0.8314, 0.8157, 0.8118, 0.0000,\n           0.0000, 0.0078, 0.0000, 0.0000],\n          [0.0000, 0.0000, 0.0000, 0.2588, 0.8471, 0.8000, 0.8431, 0.8471,\n           0.8275, 0.8196, 0.8118, 0.8118, 0.8118, 0.8078, 0.8235, 0.8196,\n           0.8078, 0.8157, 0.8196, 0.8118, 0.8275, 0.8000, 0.8745, 0.2510,\n           0.0000, 0.0196, 0.0000, 0.0000],\n          [0.0000, 0.0000, 0.0000, 0.4039, 0.8588, 0.8000, 0.8510, 0.8471,\n           0.8275, 0.8275, 0.8157, 0.8157, 0.8118, 0.8118, 0.8275, 0.8196,\n           0.8078, 0.8157, 0.8157, 0.8118, 0.8392, 0.8000, 0.8863, 0.4902,\n           0.0000, 0.0039, 0.0000, 0.0000],\n          [0.0000, 0.0000, 0.0000, 0.5412, 0.8549, 0.8039, 0.8627, 0.8431,\n           0.8118, 0.8196, 0.8157, 0.8157, 0.8118, 0.8078, 0.8314, 0.8314,\n           0.8078, 0.8196, 0.8157, 0.8078, 0.8392, 0.8078, 0.8824, 0.6353,\n           0.0000, 0.0000, 0.0000, 0.0000],\n          [0.0000, 0.0000, 0.0000, 0.7176, 0.8431, 0.8078, 0.8627, 0.8471,\n           0.8118, 0.8196, 0.8157, 0.8157, 0.8118, 0.8078, 0.8353, 0.8392,\n           0.8078, 0.8235, 0.8118, 0.8000, 0.8471, 0.8078, 0.8314, 0.7686,\n           0.0000, 0.0000, 0.0000, 0.0000],\n          [0.0000, 0.0000, 0.0000, 0.8157, 0.8314, 0.8118, 0.8588, 0.8431,\n           0.8196, 0.8235, 0.8157, 0.8157, 0.8157, 0.8000, 0.8353, 0.8471,\n           0.8039, 0.8196, 0.8157, 0.7922, 0.8510, 0.8196, 0.8118, 0.8549,\n           0.0706, 0.0000, 0.0000, 0.0000],\n          [0.0000, 0.0000, 0.0000, 0.8745, 0.8157, 0.8157, 0.8588, 0.8392,\n           0.8157, 0.8196, 0.8157, 0.8157, 0.8157, 0.8000, 0.8353, 0.8588,\n           0.8039, 0.8078, 0.8275, 0.7922, 0.8353, 0.8157, 0.8039, 0.8902,\n           0.2863, 0.0000, 0.0000, 0.0000],\n          [0.0000, 0.0000, 0.0000, 0.7804, 0.8078, 0.8196, 0.8627, 0.8314,\n           0.8157, 0.8235, 0.8157, 0.8157, 0.8118, 0.8039, 0.8392, 0.8588,\n           0.8078, 0.8118, 0.8235, 0.8039, 0.8196, 0.8235, 0.8039, 0.8941,\n           0.4824, 0.0000, 0.0000, 0.0000],\n          [0.0000, 0.0000, 0.0902, 0.8196, 0.7961, 0.8314, 0.8667, 0.8235,\n           0.8118, 0.8235, 0.8157, 0.8157, 0.8118, 0.8039, 0.8392, 0.8588,\n           0.8078, 0.8118, 0.8235, 0.8118, 0.8157, 0.8353, 0.8078, 0.8706,\n           0.7020, 0.0000, 0.0000, 0.0000],\n          [0.0000, 0.0000, 0.1686, 0.8353, 0.8000, 0.8431, 0.8588, 0.8196,\n           0.8157, 0.8275, 0.8196, 0.8157, 0.8157, 0.8039, 0.8431, 0.8667,\n           0.8157, 0.8157, 0.8196, 0.8157, 0.8235, 0.8157, 0.8118, 0.8588,\n           0.8471, 0.0000, 0.0000, 0.0000],\n          [0.0000, 0.0000, 0.2510, 0.9529, 0.8039, 0.8588, 0.8392, 0.8196,\n           0.8235, 0.8314, 0.8314, 0.8196, 0.8196, 0.8039, 0.8392, 0.8863,\n           0.8196, 0.8118, 0.8196, 0.8157, 0.8235, 0.8196, 0.8157, 0.8431,\n           0.7922, 0.0000, 0.0000, 0.0000],\n          [0.0000, 0.0000, 0.3020, 0.9529, 0.8000, 0.8627, 0.8431, 0.8157,\n           0.8157, 0.8275, 0.8275, 0.8196, 0.8157, 0.8078, 0.8431, 0.8784,\n           0.8235, 0.8118, 0.8196, 0.8157, 0.8157, 0.8431, 0.8157, 0.8314,\n           0.8510, 0.0549, 0.0000, 0.0000],\n          [0.0000, 0.0000, 0.4118, 0.9412, 0.8196, 0.8745, 0.8510, 0.8078,\n           0.8157, 0.8275, 0.8235, 0.8196, 0.8157, 0.8157, 0.8471, 0.8784,\n           0.8275, 0.8157, 0.8157, 0.8118, 0.8196, 0.8510, 0.8157, 0.8157,\n           0.8863, 0.2235, 0.0000, 0.0000],\n          [0.0000, 0.0000, 0.4627, 0.8431, 0.8314, 0.8627, 0.8471, 0.8157,\n           0.8118, 0.8235, 0.8392, 0.8235, 0.8118, 0.8157, 0.8431, 0.8706,\n           0.8431, 0.8157, 0.8314, 0.8314, 0.8078, 0.8706, 0.8196, 0.8196,\n           0.8902, 0.3412, 0.0000, 0.0000],\n          [0.0000, 0.0000, 0.6039, 0.8314, 0.8510, 0.7686, 0.7647, 0.8275,\n           0.8078, 0.8275, 0.8235, 0.8000, 0.8118, 0.8157, 0.8314, 0.8510,\n           0.8353, 0.8235, 0.8039, 0.8118, 0.8549, 0.7922, 0.8078, 0.8157,\n           0.8824, 0.5647, 0.0000, 0.0000],\n          [0.0000, 0.0000, 0.3922, 0.8510, 0.8549, 0.6667, 0.8196, 0.9216,\n           0.8863, 0.8902, 0.8980, 0.8863, 0.8706, 0.8706, 0.9020, 0.9451,\n           0.9255, 0.9098, 0.9059, 0.9020, 0.9569, 0.6902, 0.7020, 0.8353,\n           0.8824, 0.4157, 0.0000, 0.0000],\n          [0.0000, 0.0000, 0.2824, 0.9020, 0.9647, 0.4510, 0.0863, 0.4863,\n           0.6510, 0.6745, 0.4275, 0.5176, 0.7176, 0.6471, 0.7294, 0.5255,\n           0.3412, 0.3529, 0.3843, 0.3608, 0.3843, 0.0000, 0.5686, 0.8902,\n           0.9137, 0.4196, 0.0000, 0.0000],\n          [0.0000, 0.0000, 0.1569, 0.6627, 0.5137, 0.0667, 0.0000, 0.0000,\n           0.0000, 0.0000, 0.0000, 0.0000, 0.0000, 0.0000, 0.0000, 0.0000,\n           0.0000, 0.0000, 0.0000, 0.0000, 0.0000, 0.0000, 0.3294, 0.7804,\n           0.7059, 0.2196, 0.0000, 0.0000]]]),\n tensor([[[0.0000, 0.0000, 0.0000, 0.0000, 0.0000, 0.0000, 0.0000, 0.0000,\n           0.0000, 0.2980, 0.2627, 0.2863, 0.3216, 0.3020, 0.3569, 0.3725,\n           0.3451, 0.2863, 0.3294, 0.3451, 0.0000, 0.0000, 0.0000, 0.0000,\n           0.0000, 0.0000, 0.0000, 0.0000],\n          [0.0000, 0.0000, 0.0000, 0.0000, 0.0000, 0.0000, 0.0000, 0.0000,\n           0.1647, 0.7529, 0.6157, 0.6196, 0.6471, 0.5529, 0.1686, 0.4196,\n           0.6510, 0.5804, 0.5569, 0.6706, 0.0275, 0.0000, 0.0000, 0.0000,\n           0.0000, 0.0000, 0.0000, 0.0000],\n          [0.0000, 0.0000, 0.0000, 0.0000, 0.0000, 0.0000, 0.0000, 0.0000,\n           0.1882, 0.6431, 0.4431, 0.4902, 0.5961, 0.4824, 0.1882, 0.2431,\n           0.5765, 0.4667, 0.4902, 0.6235, 0.1216, 0.0000, 0.0000, 0.0000,\n           0.0000, 0.0000, 0.0000, 0.0000],\n          [0.0000, 0.0000, 0.0000, 0.0000, 0.0000, 0.0000, 0.0000, 0.0000,\n           0.2431, 0.5804, 0.4118, 0.4431, 0.6314, 0.1020, 0.5333, 0.3020,\n           0.2667, 0.4824, 0.4235, 0.3451, 0.1608, 0.0000, 0.0000, 0.0000,\n           0.0000, 0.0000, 0.0000, 0.0000],\n          [0.0000, 0.0000, 0.0000, 0.0000, 0.0000, 0.0000, 0.0000, 0.0000,\n           0.2588, 0.5020, 0.3922, 0.4706, 0.6549, 0.0784, 0.5529, 0.5020,\n           0.3059, 0.4392, 0.3333, 0.4784, 0.2000, 0.0000, 0.0000, 0.0000,\n           0.0000, 0.0000, 0.0000, 0.0000],\n          [0.0000, 0.0000, 0.0000, 0.0000, 0.0000, 0.0000, 0.0000, 0.0000,\n           0.2784, 0.3412, 0.2824, 0.5686, 0.5961, 0.4196, 0.4157, 0.1216,\n           0.5804, 0.3059, 0.2588, 0.5529, 0.2588, 0.0000, 0.0000, 0.0000,\n           0.0000, 0.0000, 0.0000, 0.0000],\n          [0.0000, 0.0000, 0.0000, 0.0000, 0.0000, 0.0000, 0.0000, 0.0000,\n           0.3216, 0.6000, 0.4235, 0.3529, 0.4000, 0.4627, 0.4784, 0.2980,\n           0.4902, 0.4157, 0.3020, 0.3647, 0.2118, 0.0000, 0.0000, 0.0000,\n           0.0000, 0.0000, 0.0000, 0.0000],\n          [0.0000, 0.0000, 0.0000, 0.0000, 0.0000, 0.0000, 0.0000, 0.0000,\n           0.3961, 0.3922, 0.3961, 0.3294, 0.4471, 0.4667, 0.5255, 0.5569,\n           0.2980, 0.2667, 1.0000, 0.6392, 0.1961, 0.0000, 0.0000, 0.0000,\n           0.0000, 0.0000, 0.0000, 0.0000],\n          [0.0000, 0.0000, 0.0000, 0.0000, 0.0000, 0.0000, 0.0000, 0.0000,\n           0.3804, 0.3137, 0.3686, 0.4784, 0.4667, 0.1373, 0.3529, 0.4275,\n           0.1725, 0.6196, 0.7451, 0.6157, 0.1529, 0.0000, 0.0000, 0.0000,\n           0.0000, 0.0000, 0.0000, 0.0000],\n          [0.0000, 0.0000, 0.0000, 0.0000, 0.0000, 0.0000, 0.0000, 0.0000,\n           0.2824, 0.5490, 0.4353, 0.3882, 0.3216, 0.3882, 0.5804, 0.4667,\n           0.3137, 0.6510, 0.7451, 0.6824, 0.0863, 0.0000, 0.0000, 0.0000,\n           0.0000, 0.0000, 0.0000, 0.0000],\n          [0.0000, 0.0000, 0.0000, 0.0000, 0.0000, 0.0000, 0.0000, 0.0000,\n           0.1961, 0.4431, 0.3961, 0.3490, 0.3294, 0.4667, 0.6235, 0.3137,\n           0.3804, 0.3765, 0.8000, 0.6941, 0.1255, 0.0000, 0.0000, 0.0000,\n           0.0000, 0.0000, 0.0000, 0.0000],\n          [0.0000, 0.0000, 0.0000, 0.0000, 0.0000, 0.0000, 0.0000, 0.0000,\n           0.2588, 0.5765, 0.3059, 0.4471, 0.4157, 0.1882, 0.7294, 0.4863,\n           0.3529, 0.3569, 0.2667, 0.3490, 0.1882, 0.0000, 0.0000, 0.0000,\n           0.0000, 0.0000, 0.0000, 0.0000],\n          [0.0000, 0.0000, 0.0000, 0.0000, 0.0000, 0.0000, 0.0000, 0.0000,\n           0.2196, 0.4588, 0.3686, 0.0745, 0.4196, 0.1686, 0.4039, 0.6627,\n           0.3451, 0.4000, 0.4706, 0.3765, 0.1059, 0.0000, 0.0000, 0.0000,\n           0.0000, 0.0000, 0.0000, 0.0000],\n          [0.0000, 0.0000, 0.0000, 0.0000, 0.0000, 0.0000, 0.0000, 0.0000,\n           0.1490, 0.5020, 0.4118, 0.4235, 0.3725, 0.3529, 0.1686, 0.6275,\n           0.3216, 0.3569, 0.1961, 0.4824, 0.1137, 0.0000, 0.0000, 0.0000,\n           0.0000, 0.0000, 0.0000, 0.0000],\n          [0.0000, 0.0000, 0.0000, 0.0000, 0.0000, 0.0000, 0.0000, 0.0000,\n           0.1176, 0.5686, 0.3647, 0.2157, 0.3922, 0.3451, 0.1255, 0.5412,\n           0.4627, 0.4471, 0.2745, 0.4275, 0.0471, 0.0000, 0.0000, 0.0000,\n           0.0000, 0.0000, 0.0000, 0.0000],\n          [0.0000, 0.0000, 0.0000, 0.0000, 0.0000, 0.0000, 0.0000, 0.0000,\n           0.0588, 0.5059, 0.4353, 0.2118, 0.4431, 0.3255, 0.0706, 0.7176,\n           0.3529, 0.1882, 0.4275, 0.4353, 0.0039, 0.0000, 0.0000, 0.0000,\n           0.0000, 0.0000, 0.0000, 0.0000],\n          [0.0000, 0.0000, 0.0000, 0.0000, 0.0000, 0.0000, 0.0000, 0.0000,\n           0.0078, 0.5608, 0.2824, 0.3804, 0.4706, 0.2431, 0.0039, 0.6000,\n           0.3882, 0.2431, 0.4039, 0.4118, 0.0000, 0.0000, 0.0000, 0.0000,\n           0.0000, 0.0000, 0.0000, 0.0000],\n          [0.0000, 0.0000, 0.0000, 0.0000, 0.0000, 0.0000, 0.0000, 0.0000,\n           0.0039, 0.5098, 0.3451, 0.3882, 0.3529, 0.3020, 0.0824, 0.6039,\n           0.3922, 0.4627, 0.4039, 0.3922, 0.0000, 0.0000, 0.0000, 0.0000,\n           0.0000, 0.0000, 0.0000, 0.0000],\n          [0.0000, 0.0000, 0.0000, 0.0000, 0.0000, 0.0000, 0.0000, 0.0000,\n           0.0000, 0.4863, 0.4549, 0.4235, 0.4353, 0.3216, 0.0000, 0.6824,\n           0.1882, 0.1647, 0.3569, 0.3569, 0.0000, 0.0000, 0.0000, 0.0000,\n           0.0000, 0.0000, 0.0000, 0.0000],\n          [0.0000, 0.0000, 0.0000, 0.0000, 0.0000, 0.0000, 0.0000, 0.0000,\n           0.0078, 0.4863, 0.3255, 0.3255, 0.1765, 0.3490, 0.0000, 0.6863,\n           0.4118, 0.4039, 0.4588, 0.3647, 0.0000, 0.0000, 0.0000, 0.0000,\n           0.0000, 0.0000, 0.0000, 0.0000],\n          [0.0000, 0.0000, 0.0000, 0.0000, 0.0000, 0.0000, 0.0000, 0.0000,\n           0.0000, 0.4627, 0.4471, 0.4353, 0.4235, 0.2902, 0.0039, 0.6980,\n           0.2902, 0.4235, 0.4235, 0.3098, 0.0000, 0.0000, 0.0000, 0.0000,\n           0.0000, 0.0000, 0.0000, 0.0000],\n          [0.0000, 0.0000, 0.0000, 0.0000, 0.0000, 0.0000, 0.0000, 0.0000,\n           0.0000, 0.4784, 0.5412, 0.3412, 0.2902, 0.3490, 0.0000, 0.5765,\n           0.4706, 0.4118, 0.2667, 0.3412, 0.0000, 0.0000, 0.0000, 0.0000,\n           0.0000, 0.0000, 0.0000, 0.0000],\n          [0.0000, 0.0000, 0.0000, 0.0000, 0.0000, 0.0000, 0.0000, 0.0000,\n           0.0000, 0.4392, 0.4824, 0.3882, 0.2980, 0.4039, 0.0000, 0.6039,\n           0.4902, 0.4000, 0.4902, 0.2588, 0.0000, 0.0000, 0.0000, 0.0000,\n           0.0000, 0.0000, 0.0000, 0.0000],\n          [0.0000, 0.0000, 0.0000, 0.0000, 0.0000, 0.0000, 0.0000, 0.0000,\n           0.0000, 0.5176, 0.4196, 0.2745, 0.5020, 0.3216, 0.0000, 0.6863,\n           0.4784, 0.0784, 0.3569, 0.2824, 0.0000, 0.0000, 0.0000, 0.0000,\n           0.0000, 0.0000, 0.0000, 0.0000],\n          [0.0000, 0.0000, 0.0000, 0.0000, 0.0000, 0.0000, 0.0000, 0.0000,\n           0.0000, 0.4118, 0.4627, 0.3255, 0.3765, 0.2863, 0.0078, 0.5804,\n           0.3647, 0.4157, 0.4471, 0.3098, 0.0000, 0.0000, 0.0000, 0.0000,\n           0.0000, 0.0000, 0.0000, 0.0000],\n          [0.0000, 0.0000, 0.0000, 0.0000, 0.0000, 0.0000, 0.0000, 0.0000,\n           0.0000, 0.4157, 0.5294, 0.4392, 0.4471, 0.3922, 0.0000, 0.7059,\n           0.5059, 0.3137, 0.4902, 0.2353, 0.0000, 0.0000, 0.0000, 0.0000,\n           0.0000, 0.0000, 0.0000, 0.0000],\n          [0.0000, 0.0000, 0.0000, 0.0000, 0.0000, 0.0000, 0.0000, 0.0000,\n           0.0000, 0.4549, 0.5765, 0.4431, 0.4941, 0.4039, 0.0000, 0.7176,\n           0.5608, 0.4588, 0.5490, 0.1961, 0.0000, 0.0000, 0.0000, 0.0000,\n           0.0000, 0.0000, 0.0000, 0.0000],\n          [0.0000, 0.0000, 0.0000, 0.0000, 0.0000, 0.0000, 0.0000, 0.0000,\n           0.0000, 0.3569, 0.5765, 0.4431, 0.4627, 0.3647, 0.0000, 0.5333,\n           0.4902, 0.4275, 0.5020, 0.1608, 0.0000, 0.0000, 0.0000, 0.0000,\n           0.0000, 0.0000, 0.0000, 0.0000]]])]"
     },
     "execution_count": 98,
     "metadata": {},
     "output_type": "execute_result"
    }
   ],
   "source": [
    "import  random\n",
    "test_sample = []\n",
    "test_label = []\n",
    "for sample, label in random.sample(list(test_data), k=9):\n",
    "    test_sample.append(sample)\n",
    "    test_label.append(label)\n",
    "test_sample"
   ],
   "metadata": {
    "collapsed": false,
    "ExecuteTime": {
     "end_time": "2023-09-07T09:52:12.977558900Z",
     "start_time": "2023-09-07T09:52:11.437426900Z"
    }
   },
   "id": "e704b40686bea247"
  },
  {
   "cell_type": "code",
   "execution_count": 99,
   "outputs": [
    {
     "data": {
      "text/plain": "<matplotlib.image.AxesImage at 0x26f4f13a3d0>"
     },
     "execution_count": 99,
     "metadata": {},
     "output_type": "execute_result"
    },
    {
     "data": {
      "text/plain": "<Figure size 640x480 with 1 Axes>",
      "image/png": "[encoded data removed]"
     },
     "metadata": {},
     "output_type": "display_data"
    }
   ],
   "source": [
    "plt.imshow(test_sample[0].squeeze(), cmap=\"gray\")"
   ],
   "metadata": {
    "collapsed": false,
    "ExecuteTime": {
     "end_time": "2023-09-07T09:52:13.179183900Z",
     "start_time": "2023-09-07T09:52:12.977558900Z"
    }
   },
   "id": "ea583fe18a16525d"
  },
  {
   "cell_type": "code",
   "execution_count": 100,
   "outputs": [
    {
     "data": {
      "text/plain": "tensor([[8.7903e-06, 2.1773e-07, 5.4032e-07, 8.8815e-08, 9.9738e-08, 5.5558e-03,\n         1.4263e-05, 1.1074e-04, 3.5629e-03, 9.9075e-01],\n        [9.4000e-01, 1.1240e-04, 4.4307e-03, 4.7542e-03, 2.4786e-04, 3.3217e-05,\n         5.0335e-02, 7.3008e-06, 7.3549e-05, 4.8427e-06],\n        [1.4845e-06, 1.2398e-06, 1.0296e-06, 8.8412e-07, 3.7814e-06, 3.2567e-03,\n         3.2024e-07, 9.9657e-01, 9.0521e-05, 7.8416e-05],\n        [9.8606e-04, 4.1379e-06, 1.3241e-02, 8.4904e-04, 1.9314e-01, 5.2950e-05,\n         7.9075e-01, 2.1630e-07, 9.8248e-04, 3.6984e-07]])"
     },
     "execution_count": 100,
     "metadata": {},
     "output_type": "execute_result"
    }
   ],
   "source": [
    "pred_prob = make_predictions(model=model_2, data =test_sample, device=\"cpu\")\n",
    "pred_prob[:4]"
   ],
   "metadata": {
    "collapsed": false,
    "ExecuteTime": {
     "end_time": "2023-09-07T09:52:13.179183900Z",
     "start_time": "2023-09-07T09:52:13.153114Z"
    }
   },
   "id": "61d2c3a6594c5663"
  },
  {
   "cell_type": "code",
   "execution_count": 101,
   "outputs": [
    {
     "data": {
      "text/plain": "tensor([9, 0, 7, 6, 1, 5, 8, 6, 1])"
     },
     "execution_count": 101,
     "metadata": {},
     "output_type": "execute_result"
    }
   ],
   "source": [
    "pred_classes = pred_prob.argmax(dim=1)\n",
    "pred_classes"
   ],
   "metadata": {
    "collapsed": false,
    "ExecuteTime": {
     "end_time": "2023-09-07T09:52:13.192216300Z",
     "start_time": "2023-09-07T09:52:13.172644700Z"
    }
   },
   "id": "e8a1646c2f9ec5fd"
  },
  {
   "cell_type": "code",
   "execution_count": 102,
   "outputs": [
    {
     "data": {
      "text/plain": "<Figure size 900x900 with 9 Axes>",
      "image/png": "[encoded data removed]"
     },
     "metadata": {},
     "output_type": "display_data"
    }
   ],
   "source": [
    "plt.figure(figsize=(9,9))\n",
    "n_rows = 3\n",
    "n_cols = 3\n",
    "for i, sample in enumerate(test_sample):\n",
    "    plt.subplot(n_rows, n_cols, i+1)\n",
    "    plt.imshow(sample.squeeze(), cmap=\"gray\")\n",
    "    pred_label = class_names[pred_classes[i]]\n",
    "    truth_label = class_names[test_label[i]]\n",
    "    title_text = f\"pred: {pred_label} | Truth: {truth_label}\"\n",
    "    if pred_label == truth_label:\n",
    "        plt.title(title_text, fontsize=10, c=\"g\")\n",
    "    else:\n",
    "        plt.title(title_text, fontsize=10, c=\"r\")\n",
    "        \n",
    "    plt.axis(False)"
   ],
   "metadata": {
    "collapsed": false,
    "ExecuteTime": {
     "end_time": "2023-09-07T09:52:13.917656800Z",
     "start_time": "2023-09-07T09:52:13.192216300Z"
    }
   },
   "id": "1c426c867486521e"
  },
  {
   "cell_type": "code",
   "execution_count": 107,
   "outputs": [
    {
     "data": {
      "text/plain": "tensor([[ -4.2884,  -4.5163,  -2.8663,  -2.8026,  -4.5364,  10.6251,  -3.2177,\n           5.2487,   3.1904,   3.6958],\n        [  4.0112,  17.3848,   2.3789,   7.3795,   3.8355, -16.1455,  -3.0860,\n           0.4360,  -4.1143,  -3.8946],\n        [  2.7866,  -2.3651,   4.1910,   4.4483,   1.6574,  -2.5093,   5.4787,\n          -7.0523,   0.5839, -10.1702],\n        [ -0.7734,  -2.9671,   1.9678,   0.6928,   2.7401,   0.7660,  -0.2681,\n          -1.9020,  10.3998,  -8.5007],\n        [  3.2206,   1.0172,   7.0490,   0.7800,  11.2269,  -6.9325,   8.6063,\n         -10.2186,   0.4854, -12.4510],\n        [ -3.7998,  -1.7368,  -2.7868,  -0.5707,  -3.0465,   5.2985,  -3.0114,\n           7.2965,   2.3428,  -0.2321],\n        [ -3.1064,  -2.8652,  -3.0730,  -2.4402,  -3.2373,   4.7686,  -1.5414,\n           5.4224,   1.8543,   6.1236],\n        [  3.6788,  -1.5608,   5.4943,   1.0448,   4.0298,  -3.9816,   4.8922,\n          -6.2331,   1.9169,  -8.0682],\n        [  5.5474,  -1.8984,   6.7428,   4.2967,   7.6097, -11.2742,  10.6770,\n         -12.6067,   3.3046, -14.4437],\n        [ -2.5638,  -7.1065,  -6.0605,  -8.8241, -10.1771,  12.0685,  -2.8572,\n           6.5539,   1.5323,  19.4073],\n        [  4.8043,   0.9139,   6.4377,   7.2125,   9.4941, -11.1182,   7.1067,\n         -10.2053,   2.8693, -14.7438],\n        [  5.9890,   0.2203,   4.6390,   8.6090,   2.1875, -13.1624,   5.6514,\n          -4.5647,  -1.9243,  -7.1646],\n        [  6.8562,   1.2026,   4.6415,  11.1299,   5.1092, -16.7438,   5.7032,\n          -5.6799,  -0.6545,  -7.6822],\n        [  6.6127,   1.9735,   6.1280,   5.0848,  11.9263, -13.4965,   8.2519,\n         -11.9557,   5.9877, -17.8188],\n        [  4.3908,   2.2001,   4.1506,   9.2533,   5.7863, -11.0680,   2.6287,\n          -2.9080,  -1.1630,  -7.1383],\n        [  4.0067,   6.2099,   2.5219,  11.8148,   3.9571, -13.0876,   0.0224,\n          -3.4430,   0.1545,  -4.5201],\n        [ -2.3432,  -4.4848,  -2.6126,  -3.9456,  -3.5813,   4.6624,  -1.0863,\n           5.5546,   2.5057,   7.5674],\n        [  6.7663,  14.5455,   3.2196,   4.5485,   6.4761, -13.7090,  -1.9915,\n          -0.9398,  -1.2452,  -9.8639],\n        [ 10.0363,   0.6333,   4.8776,   3.3980,   0.4610, -11.5126,   5.4541,\n          -5.4514,  -0.8543,  -8.2948],\n        [  8.6682,   1.4674,   2.7006,   5.2617,  -0.2130, -12.9614,   6.0449,\n          -4.0968,  -1.8829,  -8.6790],\n        [  7.3883,   3.5876,   6.1098,  11.7697,   4.2466, -14.7490,   3.3812,\n          -5.1783,  -1.3707, -12.1225],\n        [  4.5465,  -4.0259,   2.7868,  -4.0685,   3.9307, -10.6183,   3.5166,\n          -3.9235,  17.5208,  -7.7426],\n        [ -1.3529,  -4.5153,  -3.5224,  -1.7101,  -5.5478,   9.0224,  -2.3123,\n           3.1242,   2.8254,   3.8876],\n        [ -1.4374,  -2.4474,  -1.2047,  -1.1982,  -1.3633,   6.2502,  -0.3465,\n           1.4421,   0.5611,   0.9614],\n        [ 11.2360,  -0.6881,   4.9643,   3.0178,  -1.1118, -12.0545,   6.3985,\n          -5.9926,  -0.4460,  -8.7575],\n        [ -2.6571,  -6.4375,  -5.7043,  -6.3058,  -7.6262,  14.2210,  -2.9634,\n           3.8572,   1.5544,  14.8038],\n        [  5.5880,   0.9272,   1.6963,   5.0353,   0.1179,  -7.6622,   3.3407,\n          -2.4168,  -1.3799,  -5.7122],\n        [  5.7422,  -1.2002,   0.2112,   7.6565,   1.3259,  -7.2232,   2.7915,\n          -3.2810,   2.4430,  -7.7354],\n        [ -1.5647,  -5.3214,  -4.5203,  -4.2884,  -9.9896,  11.3647,  -3.5238,\n           5.9183,  -2.0300,  16.2122],\n        [  1.9647,  -0.4923,   5.4624,   0.3099,   6.2139,  -2.3250,   6.0871,\n          -8.3298,   1.4179,  -9.6089],\n        [  3.0547,  -0.7054,   7.7261,   2.5530,   4.7592,  -5.4772,   5.0639,\n          -5.8917,  -0.0762,  -9.5370],\n        [  3.0045,  18.6169,   1.8815,   7.1441,   3.0922, -14.3609,  -4.6729,\n           1.0673,  -3.7958,  -3.6457]], grad_fn=<AddmmBackward0>)"
     },
     "execution_count": 107,
     "metadata": {},
     "output_type": "execute_result"
    }
   ],
   "source": [
    "y_pred\n"
   ],
   "metadata": {
    "collapsed": false,
    "ExecuteTime": {
     "end_time": "2023-09-07T10:02:04.570800700Z",
     "start_time": "2023-09-07T10:02:04.540507100Z"
    }
   },
   "id": "d236a20a08962cc8"
  },
  {
   "cell_type": "code",
   "execution_count": 110,
   "outputs": [
    {
     "ename": "TypeError",
     "evalue": "MulticlassConfusionMatrix.update() got an unexpected keyword argument 'data'",
     "output_type": "error",
     "traceback": [
      "\u001B[1;31m---------------------------------------------------------------------------\u001B[0m",
      "\u001B[1;31mTypeError\u001B[0m                                 Traceback (most recent call last)",
      "Cell \u001B[1;32mIn[110], line 4\u001B[0m\n\u001B[0;32m      2\u001B[0m \u001B[38;5;28;01mfrom\u001B[39;00m \u001B[38;5;21;01mmlxtend\u001B[39;00m\u001B[38;5;21;01m.\u001B[39;00m\u001B[38;5;21;01mplotting\u001B[39;00m \u001B[38;5;28;01mimport\u001B[39;00m plot_confusion_matrix\n\u001B[0;32m      3\u001B[0m confmat \u001B[38;5;241m=\u001B[39m ConfusionMatrix(task\u001B[38;5;241m=\u001B[39m\u001B[38;5;124m\"\u001B[39m\u001B[38;5;124mMULTICLASS\u001B[39m\u001B[38;5;124m\"\u001B[39m,num_classes\u001B[38;5;241m=\u001B[39m\u001B[38;5;28mlen\u001B[39m(class_names))\n\u001B[1;32m----> 4\u001B[0m confmat_tensor \u001B[38;5;241m=\u001B[39m \u001B[43mconfmat\u001B[49m\u001B[43m(\u001B[49m\u001B[43mpreds\u001B[49m\u001B[38;5;241;43m=\u001B[39;49m\u001B[43my_pred\u001B[49m\u001B[43m,\u001B[49m\u001B[43m \u001B[49m\u001B[43mdata\u001B[49m\u001B[38;5;241;43m=\u001B[39;49m\u001B[43mtest_data\u001B[49m\u001B[38;5;241;43m.\u001B[39;49m\u001B[43mtargets\u001B[49m\u001B[43m)\u001B[49m\n",
      "File \u001B[1;32mC:\\All Python Projects\\Interpreters\\in_Machine_Learning_GPU118\\Lib\\site-packages\\torch\\nn\\modules\\module.py:1501\u001B[0m, in \u001B[0;36mModule._call_impl\u001B[1;34m(self, *args, **kwargs)\u001B[0m\n\u001B[0;32m   1496\u001B[0m \u001B[38;5;66;03m# If we don't have any hooks, we want to skip the rest of the logic in\u001B[39;00m\n\u001B[0;32m   1497\u001B[0m \u001B[38;5;66;03m# this function, and just call forward.\u001B[39;00m\n\u001B[0;32m   1498\u001B[0m \u001B[38;5;28;01mif\u001B[39;00m \u001B[38;5;129;01mnot\u001B[39;00m (\u001B[38;5;28mself\u001B[39m\u001B[38;5;241m.\u001B[39m_backward_hooks \u001B[38;5;129;01mor\u001B[39;00m \u001B[38;5;28mself\u001B[39m\u001B[38;5;241m.\u001B[39m_backward_pre_hooks \u001B[38;5;129;01mor\u001B[39;00m \u001B[38;5;28mself\u001B[39m\u001B[38;5;241m.\u001B[39m_forward_hooks \u001B[38;5;129;01mor\u001B[39;00m \u001B[38;5;28mself\u001B[39m\u001B[38;5;241m.\u001B[39m_forward_pre_hooks\n\u001B[0;32m   1499\u001B[0m         \u001B[38;5;129;01mor\u001B[39;00m _global_backward_pre_hooks \u001B[38;5;129;01mor\u001B[39;00m _global_backward_hooks\n\u001B[0;32m   1500\u001B[0m         \u001B[38;5;129;01mor\u001B[39;00m _global_forward_hooks \u001B[38;5;129;01mor\u001B[39;00m _global_forward_pre_hooks):\n\u001B[1;32m-> 1501\u001B[0m     \u001B[38;5;28;01mreturn\u001B[39;00m \u001B[43mforward_call\u001B[49m\u001B[43m(\u001B[49m\u001B[38;5;241;43m*\u001B[39;49m\u001B[43margs\u001B[49m\u001B[43m,\u001B[49m\u001B[43m \u001B[49m\u001B[38;5;241;43m*\u001B[39;49m\u001B[38;5;241;43m*\u001B[39;49m\u001B[43mkwargs\u001B[49m\u001B[43m)\u001B[49m\n\u001B[0;32m   1502\u001B[0m \u001B[38;5;66;03m# Do not call functions when jit is used\u001B[39;00m\n\u001B[0;32m   1503\u001B[0m full_backward_hooks, non_full_backward_hooks \u001B[38;5;241m=\u001B[39m [], []\n",
      "File \u001B[1;32mC:\\All Python Projects\\Interpreters\\in_Machine_Learning_GPU118\\Lib\\site-packages\\torchmetrics\\metric.py:298\u001B[0m, in \u001B[0;36mMetric.forward\u001B[1;34m(self, *args, **kwargs)\u001B[0m\n\u001B[0;32m    296\u001B[0m     \u001B[38;5;28mself\u001B[39m\u001B[38;5;241m.\u001B[39m_forward_cache \u001B[38;5;241m=\u001B[39m \u001B[38;5;28mself\u001B[39m\u001B[38;5;241m.\u001B[39m_forward_full_state_update(\u001B[38;5;241m*\u001B[39margs, \u001B[38;5;241m*\u001B[39m\u001B[38;5;241m*\u001B[39mkwargs)\n\u001B[0;32m    297\u001B[0m \u001B[38;5;28;01melse\u001B[39;00m:\n\u001B[1;32m--> 298\u001B[0m     \u001B[38;5;28mself\u001B[39m\u001B[38;5;241m.\u001B[39m_forward_cache \u001B[38;5;241m=\u001B[39m \u001B[38;5;28;43mself\u001B[39;49m\u001B[38;5;241;43m.\u001B[39;49m\u001B[43m_forward_reduce_state_update\u001B[49m\u001B[43m(\u001B[49m\u001B[38;5;241;43m*\u001B[39;49m\u001B[43margs\u001B[49m\u001B[43m,\u001B[49m\u001B[43m \u001B[49m\u001B[38;5;241;43m*\u001B[39;49m\u001B[38;5;241;43m*\u001B[39;49m\u001B[43mkwargs\u001B[49m\u001B[43m)\u001B[49m\n\u001B[0;32m    300\u001B[0m \u001B[38;5;28;01mreturn\u001B[39;00m \u001B[38;5;28mself\u001B[39m\u001B[38;5;241m.\u001B[39m_forward_cache\n",
      "File \u001B[1;32mC:\\All Python Projects\\Interpreters\\in_Machine_Learning_GPU118\\Lib\\site-packages\\torchmetrics\\metric.py:367\u001B[0m, in \u001B[0;36mMetric._forward_reduce_state_update\u001B[1;34m(self, *args, **kwargs)\u001B[0m\n\u001B[0;32m    364\u001B[0m \u001B[38;5;28mself\u001B[39m\u001B[38;5;241m.\u001B[39m_enable_grad \u001B[38;5;241m=\u001B[39m \u001B[38;5;28;01mTrue\u001B[39;00m  \u001B[38;5;66;03m# allow grads for batch computation\u001B[39;00m\n\u001B[0;32m    366\u001B[0m \u001B[38;5;66;03m# calculate batch state and compute batch value\u001B[39;00m\n\u001B[1;32m--> 367\u001B[0m \u001B[38;5;28;43mself\u001B[39;49m\u001B[38;5;241;43m.\u001B[39;49m\u001B[43mupdate\u001B[49m\u001B[43m(\u001B[49m\u001B[38;5;241;43m*\u001B[39;49m\u001B[43margs\u001B[49m\u001B[43m,\u001B[49m\u001B[43m \u001B[49m\u001B[38;5;241;43m*\u001B[39;49m\u001B[38;5;241;43m*\u001B[39;49m\u001B[43mkwargs\u001B[49m\u001B[43m)\u001B[49m\n\u001B[0;32m    368\u001B[0m batch_val \u001B[38;5;241m=\u001B[39m \u001B[38;5;28mself\u001B[39m\u001B[38;5;241m.\u001B[39mcompute()\n\u001B[0;32m    370\u001B[0m \u001B[38;5;66;03m# reduce batch and global state\u001B[39;00m\n",
      "File \u001B[1;32mC:\\All Python Projects\\Interpreters\\in_Machine_Learning_GPU118\\Lib\\site-packages\\torchmetrics\\metric.py:457\u001B[0m, in \u001B[0;36mMetric._wrap_update.<locals>.wrapped_func\u001B[1;34m(*args, **kwargs)\u001B[0m\n\u001B[0;32m    455\u001B[0m \u001B[38;5;28;01mwith\u001B[39;00m torch\u001B[38;5;241m.\u001B[39mset_grad_enabled(\u001B[38;5;28mself\u001B[39m\u001B[38;5;241m.\u001B[39m_enable_grad):\n\u001B[0;32m    456\u001B[0m     \u001B[38;5;28;01mtry\u001B[39;00m:\n\u001B[1;32m--> 457\u001B[0m         \u001B[43mupdate\u001B[49m\u001B[43m(\u001B[49m\u001B[38;5;241;43m*\u001B[39;49m\u001B[43margs\u001B[49m\u001B[43m,\u001B[49m\u001B[43m \u001B[49m\u001B[38;5;241;43m*\u001B[39;49m\u001B[38;5;241;43m*\u001B[39;49m\u001B[43mkwargs\u001B[49m\u001B[43m)\u001B[49m\n\u001B[0;32m    458\u001B[0m     \u001B[38;5;28;01mexcept\u001B[39;00m \u001B[38;5;167;01mRuntimeError\u001B[39;00m \u001B[38;5;28;01mas\u001B[39;00m err:\n\u001B[0;32m    459\u001B[0m         \u001B[38;5;28;01mif\u001B[39;00m \u001B[38;5;124m\"\u001B[39m\u001B[38;5;124mExpected all tensors to be on\u001B[39m\u001B[38;5;124m\"\u001B[39m \u001B[38;5;129;01min\u001B[39;00m \u001B[38;5;28mstr\u001B[39m(err):\n",
      "\u001B[1;31mTypeError\u001B[0m: MulticlassConfusionMatrix.update() got an unexpected keyword argument 'data'"
     ]
    }
   ],
   "source": [
    "from torchmetrics import ConfusionMatrix\n",
    "from mlxtend.plotting import plot_confusion_matrix\n",
    "confmat = ConfusionMatrix(task=\"MULTICLASS\",num_classes=len(class_names))\n",
    "confmat_tensor = confmat(preds=y_pred, data=test_data.targets)\n"
   ],
   "metadata": {
    "collapsed": false,
    "ExecuteTime": {
     "end_time": "2023-09-07T10:02:56.611418800Z",
     "start_time": "2023-09-07T10:02:56.503632200Z"
    }
   },
   "id": "28d00ff805a4a5d0"
  },
  {
   "cell_type": "code",
   "execution_count": null,
   "outputs": [],
   "source": [],
   "metadata": {
    "collapsed": false
   },
   "id": "e6e65e022928eda4"
  }
 ],
 "metadata": {
  "kernelspec": {
   "display_name": "Python 3",
   "language": "python",
   "name": "python3"
  },
  "language_info": {
   "codemirror_mode": {
    "name": "ipython",
    "version": 2
   },
   "file_extension": ".py",
   "mimetype": "text/x-python",
   "name": "python",
   "nbconvert_exporter": "python",
   "pygments_lexer": "ipython2",
   "version": "2.7.6"
  }
 },
 "nbformat": 4,
 "nbformat_minor": 5
}
