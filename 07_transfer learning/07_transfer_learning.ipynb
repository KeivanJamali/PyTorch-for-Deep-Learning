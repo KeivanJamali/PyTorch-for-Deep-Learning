{
 "cells": [
  {
   "cell_type": "code",
   "execution_count": 18,
   "id": "initial_id",
   "metadata": {
    "ExecuteTime": {
     "end_time": "2023-10-01T19:09:52.248141Z",
     "start_time": "2023-10-01T19:09:47.963540300Z"
    },
    "collapsed": true
   },
   "outputs": [
    {
     "data": {
      "text/plain": [
       "('2.0.1+cu118', '0.15.2+cu118')"
      ]
     },
     "execution_count": 18,
     "metadata": {},
     "output_type": "execute_result"
    }
   ],
   "source": [
    "import torch\n",
    "import torchvision\n",
    "from torchinfo import summary\n",
    "import matplotlib.pyplot as plt\n",
    "from torch import nn\n",
    "from torchvision import transforms\n",
    "from going_modular import data_setup, engine\n",
    "\n",
    "torch.__version__, torchvision.__version__"
   ]
  },
  {
   "cell_type": "code",
   "execution_count": 19,
   "id": "fa5ee155b357835",
   "metadata": {
    "ExecuteTime": {
     "end_time": "2023-10-01T19:09:52.321799Z",
     "start_time": "2023-10-01T19:09:52.248141Z"
    },
    "collapsed": false
   },
   "outputs": [
    {
     "data": {
      "text/plain": [
       "'cuda'"
      ]
     },
     "execution_count": 19,
     "metadata": {},
     "output_type": "execute_result"
    }
   ],
   "source": [
    "device = \"cuda\" if torch.cuda.is_available() else \"cpu\"\n",
    "device"
   ]
  },
  {
   "cell_type": "code",
   "execution_count": 20,
   "id": "38b57d104fc7f47f",
   "metadata": {
    "ExecuteTime": {
     "end_time": "2023-10-01T19:09:52.339896Z",
     "start_time": "2023-10-01T19:09:52.289925300Z"
    },
    "collapsed": false
   },
   "outputs": [
    {
     "name": "stdout",
     "output_type": "stream",
     "text": [
      "data\\pizza_steak_sushi directory exist , skipping...\n"
     ]
    }
   ],
   "source": [
    "import os\n",
    "import zipfile\n",
    "from pathlib import Path\n",
    "import requests\n",
    "\n",
    "data_path = Path(\"data/\")\n",
    "image_path = data_path / \"pizza_steak_sushi\"\n",
    "if image_path.is_dir():\n",
    "    print(f\"{image_path} directory exist , skipping...\")\n",
    "else:\n",
    "    print(\"start downloading...\")\n",
    "    image_path.mkdir(parents=True, exist_ok=True)\n",
    "    with open(data_path / \"pizza_steak_sushi.zip\", \"wb\") as f:\n",
    "        request = requests.get(\"https://github.com/mrdbourke/pytorch-deep-learning/raw/main/data/pizza_steak_sushi.zip\")\n",
    "        f.write(request.content)\n",
    "    with zipfile.ZipFile(data_path / \"pizza_steak_sushi.zip\", \"r\") as zip_ref:\n",
    "        print(\"unzipping...\")\n",
    "        zip_ref.extractall(image_path)\n",
    "\n",
    "    os.remove(data_path / \"pizza_steak_sushi.zip\")"
   ]
  },
  {
   "cell_type": "code",
   "execution_count": 21,
   "id": "da41ce976b976a9d",
   "metadata": {
    "ExecuteTime": {
     "end_time": "2023-10-01T19:09:52.339896Z",
     "start_time": "2023-10-01T19:09:52.305945200Z"
    },
    "collapsed": false
   },
   "outputs": [],
   "source": [
    "train_dir = image_path / \"train\"\n",
    "test_dir = image_path / \"test\""
   ]
  },
  {
   "cell_type": "code",
   "execution_count": 22,
   "id": "59af9a16be3edaa7",
   "metadata": {
    "ExecuteTime": {
     "end_time": "2023-10-01T19:09:52.339896Z",
     "start_time": "2023-10-01T19:09:52.315669900Z"
    },
    "collapsed": false
   },
   "outputs": [],
   "source": [
    "from going_modular import data_setup"
   ]
  },
  {
   "cell_type": "markdown",
   "id": "4a161fbbb037aedc",
   "metadata": {
    "collapsed": false
   },
   "source": [
    "# Manual"
   ]
  },
  {
   "cell_type": "code",
   "execution_count": 23,
   "id": "632209931d732106",
   "metadata": {
    "ExecuteTime": {
     "end_time": "2023-10-01T19:09:52.339896Z",
     "start_time": "2023-10-01T19:09:52.323162Z"
    },
    "collapsed": false
   },
   "outputs": [],
   "source": [
    "normalize = transforms.Normalize(mean=[0.485, 0.456, 0.406],\n",
    "                                  std=[0.229, 0.224, 0.225])\n",
    "manual_transform = transforms.Compose([\n",
    "    transforms.Resize(size=(224,224)),\n",
    "    transforms.ToTensor(),\n",
    "    normalize\n",
    "])"
   ]
  },
  {
   "cell_type": "code",
   "execution_count": 24,
   "id": "f99812d39fc21a0d",
   "metadata": {
    "ExecuteTime": {
     "end_time": "2023-10-01T19:09:52.361129300Z",
     "start_time": "2023-10-01T19:09:52.329876400Z"
    },
    "collapsed": false
   },
   "outputs": [
    {
     "data": {
      "text/plain": [
       "(<torch.utils.data.dataloader.DataLoader at 0x226f66ce790>,\n",
       " <torch.utils.data.dataloader.DataLoader at 0x226f65da850>,\n",
       " ['pizza', 'steak', 'sushi'])"
      ]
     },
     "execution_count": 24,
     "metadata": {},
     "output_type": "execute_result"
    }
   ],
   "source": [
    "train_dataloader, test_dataloader, class_names = data_setup.create_dataloaders(train_dir,test_dir, manual_transform, 32, 0)\n",
    "train_dataloader, test_dataloader, class_names"
   ]
  },
  {
   "cell_type": "code",
   "execution_count": 25,
   "id": "bb79b287fad2ca46",
   "metadata": {
    "ExecuteTime": {
     "end_time": "2023-10-01T19:09:52.465093Z",
     "start_time": "2023-10-01T19:09:52.344929300Z"
    },
    "collapsed": false
   },
   "outputs": [],
   "source": [
    "weights = torchvision.models.EfficientNet_B0_Weights.DEFAULT"
   ]
  },
  {
   "cell_type": "code",
   "execution_count": 26,
   "id": "fa9adc05a0adc40c",
   "metadata": {
    "ExecuteTime": {
     "end_time": "2023-10-01T19:09:52.482750200Z",
     "start_time": "2023-10-01T19:09:52.354980600Z"
    },
    "collapsed": false
   },
   "outputs": [
    {
     "data": {
      "text/plain": [
       "ImageClassification(\n",
       "    crop_size=[224]\n",
       "    resize_size=[256]\n",
       "    mean=[0.485, 0.456, 0.406]\n",
       "    std=[0.229, 0.224, 0.225]\n",
       "    interpolation=InterpolationMode.BICUBIC\n",
       ")"
      ]
     },
     "execution_count": 26,
     "metadata": {},
     "output_type": "execute_result"
    }
   ],
   "source": [
    "auto_transforms = weights.transforms()\n",
    "auto_transforms"
   ]
  },
  {
   "cell_type": "code",
   "execution_count": 27,
   "id": "cadaa4637ec3008a",
   "metadata": {
    "ExecuteTime": {
     "end_time": "2023-10-01T19:09:52.482750200Z",
     "start_time": "2023-10-01T19:09:52.371335Z"
    },
    "collapsed": false
   },
   "outputs": [
    {
     "data": {
      "text/plain": [
       "(<torch.utils.data.dataloader.DataLoader at 0x226ff9edfd0>,\n",
       " <torch.utils.data.dataloader.DataLoader at 0x226ff9efd90>,\n",
       " ['pizza', 'steak', 'sushi'])"
      ]
     },
     "execution_count": 27,
     "metadata": {},
     "output_type": "execute_result"
    }
   ],
   "source": [
    "train_dataloader, test_dataloader, class_names = data_setup.create_dataloaders(train_dir, test_dir, auto_transforms, 32, 0)\n",
    "train_dataloader, test_dataloader, class_names"
   ]
  },
  {
   "cell_type": "code",
   "execution_count": 29,
   "id": "3ebb3be2c0a7e95e",
   "metadata": {
    "ExecuteTime": {
     "end_time": "2023-10-01T19:09:53.809201600Z",
     "start_time": "2023-10-01T19:09:52.386426900Z"
    },
    "collapsed": false
   },
   "outputs": [
    {
     "ename": "RuntimeError",
     "evalue": "PytorchStreamReader failed reading zip archive: failed finding central directory",
     "output_type": "error",
     "traceback": [
      "\u001b[1;31m---------------------------------------------------------------------------\u001b[0m",
      "\u001b[1;31mRuntimeError\u001b[0m                              Traceback (most recent call last)",
      "\u001b[1;32md:\\All Python\\PyTorch-for-Deep-Learning\\07_transfer learning\\07_transfer_learning.ipynb Cell 12\u001b[0m line \u001b[0;36m6\n\u001b[0;32m      <a href='vscode-notebook-cell:/d%3A/All%20Python/PyTorch-for-Deep-Learning/07_transfer%20learning/07_transfer_learning.ipynb#X14sZmlsZQ%3D%3D?line=0'>1</a>\u001b[0m \u001b[39m# old method in 0.13\u001b[39;00m\n\u001b[0;32m      <a href='vscode-notebook-cell:/d%3A/All%20Python/PyTorch-for-Deep-Learning/07_transfer%20learning/07_transfer_learning.ipynb#X14sZmlsZQ%3D%3D?line=1'>2</a>\u001b[0m \u001b[39m# model = torchvision.models.efficientnet_b0(pretrained=True)\u001b[39;00m\n\u001b[0;32m      <a href='vscode-notebook-cell:/d%3A/All%20Python/PyTorch-for-Deep-Learning/07_transfer%20learning/07_transfer_learning.ipynb#X14sZmlsZQ%3D%3D?line=2'>3</a>\u001b[0m \u001b[39m# \u001b[39;00m\n\u001b[0;32m      <a href='vscode-notebook-cell:/d%3A/All%20Python/PyTorch-for-Deep-Learning/07_transfer%20learning/07_transfer_learning.ipynb#X14sZmlsZQ%3D%3D?line=3'>4</a>\u001b[0m \u001b[39m# new in 0.15\u001b[39;00m\n\u001b[0;32m      <a href='vscode-notebook-cell:/d%3A/All%20Python/PyTorch-for-Deep-Learning/07_transfer%20learning/07_transfer_learning.ipynb#X14sZmlsZQ%3D%3D?line=4'>5</a>\u001b[0m weights \u001b[39m=\u001b[39m torchvision\u001b[39m.\u001b[39mmodels\u001b[39m.\u001b[39mEfficientNet_B0_Weights\u001b[39m.\u001b[39mDEFAULT\n\u001b[1;32m----> <a href='vscode-notebook-cell:/d%3A/All%20Python/PyTorch-for-Deep-Learning/07_transfer%20learning/07_transfer_learning.ipynb#X14sZmlsZQ%3D%3D?line=5'>6</a>\u001b[0m model \u001b[39m=\u001b[39m torchvision\u001b[39m.\u001b[39;49mmodels\u001b[39m.\u001b[39;49mefficientnet_b0(weights\u001b[39m=\u001b[39;49mweights)\n\u001b[0;32m      <a href='vscode-notebook-cell:/d%3A/All%20Python/PyTorch-for-Deep-Learning/07_transfer%20learning/07_transfer_learning.ipynb#X14sZmlsZQ%3D%3D?line=6'>7</a>\u001b[0m model\n",
      "File \u001b[1;32mc:\\All Python Projects\\Interpreters\\in_Machine_Learning_GPU118\\Lib\\site-packages\\torchvision\\models\\_utils.py:142\u001b[0m, in \u001b[0;36mkwonly_to_pos_or_kw.<locals>.wrapper\u001b[1;34m(*args, **kwargs)\u001b[0m\n\u001b[0;32m    135\u001b[0m     warnings\u001b[39m.\u001b[39mwarn(\n\u001b[0;32m    136\u001b[0m         \u001b[39mf\u001b[39m\u001b[39m\"\u001b[39m\u001b[39mUsing \u001b[39m\u001b[39m{\u001b[39;00msequence_to_str(\u001b[39mtuple\u001b[39m(keyword_only_kwargs\u001b[39m.\u001b[39mkeys()),\u001b[39m \u001b[39mseparate_last\u001b[39m=\u001b[39m\u001b[39m'\u001b[39m\u001b[39mand \u001b[39m\u001b[39m'\u001b[39m)\u001b[39m}\u001b[39;00m\u001b[39m as positional \u001b[39m\u001b[39m\"\u001b[39m\n\u001b[0;32m    137\u001b[0m         \u001b[39mf\u001b[39m\u001b[39m\"\u001b[39m\u001b[39mparameter(s) is deprecated since 0.13 and may be removed in the future. Please use keyword parameter(s) \u001b[39m\u001b[39m\"\u001b[39m\n\u001b[0;32m    138\u001b[0m         \u001b[39mf\u001b[39m\u001b[39m\"\u001b[39m\u001b[39minstead.\u001b[39m\u001b[39m\"\u001b[39m\n\u001b[0;32m    139\u001b[0m     )\n\u001b[0;32m    140\u001b[0m     kwargs\u001b[39m.\u001b[39mupdate(keyword_only_kwargs)\n\u001b[1;32m--> 142\u001b[0m \u001b[39mreturn\u001b[39;00m fn(\u001b[39m*\u001b[39;49margs, \u001b[39m*\u001b[39;49m\u001b[39m*\u001b[39;49mkwargs)\n",
      "File \u001b[1;32mc:\\All Python Projects\\Interpreters\\in_Machine_Learning_GPU118\\Lib\\site-packages\\torchvision\\models\\_utils.py:228\u001b[0m, in \u001b[0;36mhandle_legacy_interface.<locals>.outer_wrapper.<locals>.inner_wrapper\u001b[1;34m(*args, **kwargs)\u001b[0m\n\u001b[0;32m    225\u001b[0m     \u001b[39mdel\u001b[39;00m kwargs[pretrained_param]\n\u001b[0;32m    226\u001b[0m     kwargs[weights_param] \u001b[39m=\u001b[39m default_weights_arg\n\u001b[1;32m--> 228\u001b[0m \u001b[39mreturn\u001b[39;00m builder(\u001b[39m*\u001b[39;49margs, \u001b[39m*\u001b[39;49m\u001b[39m*\u001b[39;49mkwargs)\n",
      "File \u001b[1;32mc:\\All Python Projects\\Interpreters\\in_Machine_Learning_GPU118\\Lib\\site-packages\\torchvision\\models\\efficientnet.py:770\u001b[0m, in \u001b[0;36mefficientnet_b0\u001b[1;34m(weights, progress, **kwargs)\u001b[0m\n\u001b[0;32m    767\u001b[0m weights \u001b[39m=\u001b[39m EfficientNet_B0_Weights\u001b[39m.\u001b[39mverify(weights)\n\u001b[0;32m    769\u001b[0m inverted_residual_setting, last_channel \u001b[39m=\u001b[39m _efficientnet_conf(\u001b[39m\"\u001b[39m\u001b[39mefficientnet_b0\u001b[39m\u001b[39m\"\u001b[39m, width_mult\u001b[39m=\u001b[39m\u001b[39m1.0\u001b[39m, depth_mult\u001b[39m=\u001b[39m\u001b[39m1.0\u001b[39m)\n\u001b[1;32m--> 770\u001b[0m \u001b[39mreturn\u001b[39;00m _efficientnet(\n\u001b[0;32m    771\u001b[0m     inverted_residual_setting, kwargs\u001b[39m.\u001b[39;49mpop(\u001b[39m\"\u001b[39;49m\u001b[39mdropout\u001b[39;49m\u001b[39m\"\u001b[39;49m, \u001b[39m0.2\u001b[39;49m), last_channel, weights, progress, \u001b[39m*\u001b[39;49m\u001b[39m*\u001b[39;49mkwargs\n\u001b[0;32m    772\u001b[0m )\n",
      "File \u001b[1;32mc:\\All Python Projects\\Interpreters\\in_Machine_Learning_GPU118\\Lib\\site-packages\\torchvision\\models\\efficientnet.py:360\u001b[0m, in \u001b[0;36m_efficientnet\u001b[1;34m(inverted_residual_setting, dropout, last_channel, weights, progress, **kwargs)\u001b[0m\n\u001b[0;32m    357\u001b[0m model \u001b[39m=\u001b[39m EfficientNet(inverted_residual_setting, dropout, last_channel\u001b[39m=\u001b[39mlast_channel, \u001b[39m*\u001b[39m\u001b[39m*\u001b[39mkwargs)\n\u001b[0;32m    359\u001b[0m \u001b[39mif\u001b[39;00m weights \u001b[39mis\u001b[39;00m \u001b[39mnot\u001b[39;00m \u001b[39mNone\u001b[39;00m:\n\u001b[1;32m--> 360\u001b[0m     model\u001b[39m.\u001b[39mload_state_dict(weights\u001b[39m.\u001b[39;49mget_state_dict(progress\u001b[39m=\u001b[39;49mprogress))\n\u001b[0;32m    362\u001b[0m \u001b[39mreturn\u001b[39;00m model\n",
      "File \u001b[1;32mc:\\All Python Projects\\Interpreters\\in_Machine_Learning_GPU118\\Lib\\site-packages\\torchvision\\models\\_api.py:89\u001b[0m, in \u001b[0;36mWeightsEnum.get_state_dict\u001b[1;34m(self, progress)\u001b[0m\n\u001b[0;32m     88\u001b[0m \u001b[39mdef\u001b[39;00m \u001b[39mget_state_dict\u001b[39m(\u001b[39mself\u001b[39m, progress: \u001b[39mbool\u001b[39m) \u001b[39m-\u001b[39m\u001b[39m>\u001b[39m Mapping[\u001b[39mstr\u001b[39m, Any]:\n\u001b[1;32m---> 89\u001b[0m     \u001b[39mreturn\u001b[39;00m load_state_dict_from_url(\u001b[39mself\u001b[39;49m\u001b[39m.\u001b[39;49murl, progress\u001b[39m=\u001b[39;49mprogress)\n",
      "File \u001b[1;32mc:\\All Python Projects\\Interpreters\\in_Machine_Learning_GPU118\\Lib\\site-packages\\torch\\hub.py:750\u001b[0m, in \u001b[0;36mload_state_dict_from_url\u001b[1;34m(url, model_dir, map_location, progress, check_hash, file_name)\u001b[0m\n\u001b[0;32m    748\u001b[0m \u001b[39mif\u001b[39;00m _is_legacy_zip_format(cached_file):\n\u001b[0;32m    749\u001b[0m     \u001b[39mreturn\u001b[39;00m _legacy_zip_load(cached_file, model_dir, map_location)\n\u001b[1;32m--> 750\u001b[0m \u001b[39mreturn\u001b[39;00m torch\u001b[39m.\u001b[39;49mload(cached_file, map_location\u001b[39m=\u001b[39;49mmap_location)\n",
      "File \u001b[1;32mc:\\All Python Projects\\Interpreters\\in_Machine_Learning_GPU118\\Lib\\site-packages\\torch\\serialization.py:797\u001b[0m, in \u001b[0;36mload\u001b[1;34m(f, map_location, pickle_module, weights_only, **pickle_load_args)\u001b[0m\n\u001b[0;32m    792\u001b[0m \u001b[39mif\u001b[39;00m _is_zipfile(opened_file):\n\u001b[0;32m    793\u001b[0m     \u001b[39m# The zipfile reader is going to advance the current file position.\u001b[39;00m\n\u001b[0;32m    794\u001b[0m     \u001b[39m# If we want to actually tail call to torch.jit.load, we need to\u001b[39;00m\n\u001b[0;32m    795\u001b[0m     \u001b[39m# reset back to the original position.\u001b[39;00m\n\u001b[0;32m    796\u001b[0m     orig_position \u001b[39m=\u001b[39m opened_file\u001b[39m.\u001b[39mtell()\n\u001b[1;32m--> 797\u001b[0m     \u001b[39mwith\u001b[39;00m _open_zipfile_reader(opened_file) \u001b[39mas\u001b[39;00m opened_zipfile:\n\u001b[0;32m    798\u001b[0m         \u001b[39mif\u001b[39;00m _is_torchscript_zip(opened_zipfile):\n\u001b[0;32m    799\u001b[0m             warnings\u001b[39m.\u001b[39mwarn(\u001b[39m\"\u001b[39m\u001b[39m'\u001b[39m\u001b[39mtorch.load\u001b[39m\u001b[39m'\u001b[39m\u001b[39m received a zip file that looks like a TorchScript archive\u001b[39m\u001b[39m\"\u001b[39m\n\u001b[0;32m    800\u001b[0m                           \u001b[39m\"\u001b[39m\u001b[39m dispatching to \u001b[39m\u001b[39m'\u001b[39m\u001b[39mtorch.jit.load\u001b[39m\u001b[39m'\u001b[39m\u001b[39m (call \u001b[39m\u001b[39m'\u001b[39m\u001b[39mtorch.jit.load\u001b[39m\u001b[39m'\u001b[39m\u001b[39m directly to\u001b[39m\u001b[39m\"\u001b[39m\n\u001b[0;32m    801\u001b[0m                           \u001b[39m\"\u001b[39m\u001b[39m silence this warning)\u001b[39m\u001b[39m\"\u001b[39m, \u001b[39mUserWarning\u001b[39;00m)\n",
      "File \u001b[1;32mc:\\All Python Projects\\Interpreters\\in_Machine_Learning_GPU118\\Lib\\site-packages\\torch\\serialization.py:283\u001b[0m, in \u001b[0;36m_open_zipfile_reader.__init__\u001b[1;34m(self, name_or_buffer)\u001b[0m\n\u001b[0;32m    282\u001b[0m \u001b[39mdef\u001b[39;00m \u001b[39m__init__\u001b[39m(\u001b[39mself\u001b[39m, name_or_buffer) \u001b[39m-\u001b[39m\u001b[39m>\u001b[39m \u001b[39mNone\u001b[39;00m:\n\u001b[1;32m--> 283\u001b[0m     \u001b[39msuper\u001b[39m()\u001b[39m.\u001b[39m\u001b[39m__init__\u001b[39m(torch\u001b[39m.\u001b[39;49m_C\u001b[39m.\u001b[39;49mPyTorchFileReader(name_or_buffer))\n",
      "\u001b[1;31mRuntimeError\u001b[0m: PytorchStreamReader failed reading zip archive: failed finding central directory"
     ]
    }
   ],
   "source": [
    "# old method in 0.13\n",
    "# model = torchvision.models.efficientnet_b0(pretrained=True)\n",
    "# \n",
    "# new in 0.15\n",
    "weights = torchvision.models.EfficientNet_B0_Weights.DEFAULT\n",
    "model = torchvision.models.efficientnet_b0(weights=weights)\n",
    "model"
   ]
  },
  {
   "cell_type": "code",
   "execution_count": null,
   "id": "cfd36c61c876f6a9",
   "metadata": {
    "ExecuteTime": {
     "start_time": "2023-10-01T19:09:53.799099300Z"
    },
    "collapsed": false
   },
   "outputs": [],
   "source": []
  }
 ],
 "metadata": {
  "kernelspec": {
   "display_name": "Python 3",
   "language": "python",
   "name": "python3"
  },
  "language_info": {
   "codemirror_mode": {
    "name": "ipython",
    "version": 3
   },
   "file_extension": ".py",
   "mimetype": "text/x-python",
   "name": "python",
   "nbconvert_exporter": "python",
   "pygments_lexer": "ipython3",
   "version": "3.11.5"
  }
 },
 "nbformat": 4,
 "nbformat_minor": 5
}
