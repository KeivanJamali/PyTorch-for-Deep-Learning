{
 "cells": [
  {
   "cell_type": "markdown",
   "source": [
    "# 05. Going Modular: Part 1 (cell mode)\n",
    "\n",
    "This notebook is part 1/2 of section [05. Going Modular](https://www.learnpytorch.io/05_pytorch_going_modular/).\n",
    "\n",
    "For reference, the two parts are: \n",
    "1. [**05. Going Modular: Part 1 (cell mode)**](https://github.com/mrdbourke/pytorch-deep-learning/blob/main/going_modular/05_pytorch_going_modular_cell_mode.ipynb) - this notebook is run as a traditional Jupyter Notebook/Google Colab notebook and is a condensed version of [notebook 04](https://www.learnpytorch.io/04_pytorch_custom_datasets/).\n",
    "2. [**05. Going Modular: Part 2 (script mode)**](https://github.com/mrdbourke/pytorch-deep-learning/blob/main/going_modular/05_pytorch_going_modular_script_mode.ipynb) - this notebook is the same as number 1 but with added functionality to turn each of the major sections into Python scripts, such as, `data_setup.py` and `train.py`. \n",
    "\n",
    "Why two parts?\n",
    "\n",
    "Because sometimes the best way to learn something is to see how it *differs* from something else.\n",
    "\n",
    "If you run each notebook side-by-side you'll see how they differ and that's where the key learnings are."
   ],
   "metadata": {
    "collapsed": false
   },
   "id": "9fce9f7b2312a5c2"
  },
  {
   "cell_type": "markdown",
   "source": [
    "## What is cell mode?\n",
    "\n",
    "A cell mode notebook is a regular notebook run exactly how we've been running them through the course.\n",
    "\n",
    "Some cells contain text and others contain code."
   ],
   "metadata": {
    "collapsed": false
   },
   "id": "5d74712522e1c89b"
  },
  {
   "cell_type": "markdown",
   "source": [
    "## What's the difference between this notebook (Part 1) and the script mode notebook (Part 2)?\n",
    "\n",
    "This notebook, 05. PyTorch Going Modular: Part 1 (cell mode), runs a cleaned up version of the most useful code from section [04. PyTorch Custom Datasets](https://www.learnpytorch.io/04_pytorch_custom_datasets/).\n",
    "\n",
    "Running this notebook end-to-end will result in recreating the image classification model we built in notebook 04 (TinyVGG) trained on images of pizza, steak and sushi.\n",
    "\n",
    "The main difference between this notebook (Part 1) and Part 2 is that each section in Part 2 (script mode) has an extra subsection (e.g. 2.1, 3.1, 4.1) for turning cell code into script code."
   ],
   "metadata": {
    "collapsed": false
   },
   "id": "f8d48386dd6e5628"
  },
  {
   "cell_type": "markdown",
   "source": [
    "## Where can you get help?\n",
    "\n",
    "You can find the book version of this section [05. PyTorch Going Modular on learnpytorch.io](https://www.learnpytorch.io/05_pytorch_going_modular/).\n",
    "\n",
    "The rest of the materials for this course [are available on GitHub](https://github.com/mrdbourke/pytorch-deep-learning).\n",
    "\n",
    "If you run into trouble, you can ask a question on the course [GitHub Discussions page](https://github.com/mrdbourke/pytorch-deep-learning/discussions).\n",
    "\n",
    "And of course, there's the [PyTorch documentation](https://pytorch.org/docs/stable/index.html) and [PyTorch developer forums](https://discuss.pytorch.org/), a very helpful place for all things PyTorch. "
   ],
   "metadata": {
    "collapsed": false
   },
   "id": "1bbfa17bb2a4dfad"
  },
  {
   "cell_type": "markdown",
   "source": [
    "## 0. Running a notebook in cell mode\n",
    "\n",
    "As discussed, we're going to be running this notebook normally.\n",
    "\n",
    "One cell at a time.\n",
    "\n",
    "The code is from notebook 04, however, it has been condensed down to its core functionality."
   ],
   "metadata": {
    "collapsed": false
   },
   "id": "e7aa563cf9697e"
  },
  {
   "cell_type": "markdown",
   "source": [
    "## 1. Get data\n",
    "\n",
    "We're going to start by downloading the same data we used in [notebook 04](https://www.learnpytorch.io/04_pytorch_custom_datasets/#1-get-data), the `pizza_steak_sushi` dataset with images of pizza, steak and sushi."
   ],
   "metadata": {
    "collapsed": false
   },
   "id": "d67dd9cab0887251"
  },
  {
   "cell_type": "code",
   "execution_count": 1,
   "outputs": [
    {
     "name": "stdout",
     "output_type": "stream",
     "text": [
      "data\\pizza_steak_sushi directory exists.\n"
     ]
    }
   ],
   "source": [
    "import os\n",
    "import zipfile\n",
    "\n",
    "from pathlib import Path\n",
    "\n",
    "import requests\n",
    "\n",
    "# Setup path to data folder\n",
    "data_path = Path(\"data/\")\n",
    "image_path = data_path / \"pizza_steak_sushi\"\n",
    "\n",
    "# If the image folder doesn't exist, download it and prepare it... \n",
    "if image_path.is_dir():\n",
    "    print(f\"{image_path} directory exists.\")\n",
    "else:\n",
    "    print(f\"Did not find {image_path} directory, creating one...\")\n",
    "    image_path.mkdir(parents=True, exist_ok=True)\n",
    "\n",
    "    # Download pizza, steak, sushi data\n",
    "    with open(data_path / \"pizza_steak_sushi.zip\", \"wb\") as f:\n",
    "        request = requests.get(\"https://github.com/mrdbourke/pytorch-deep-learning/raw/main/data/pizza_steak_sushi.zip\")\n",
    "        print(\"Downloading pizza, steak, sushi data...\")\n",
    "        f.write(request.content)\n",
    "\n",
    "    # Unzip pizza, steak, sushi data\n",
    "    with zipfile.ZipFile(data_path / \"pizza_steak_sushi.zip\", \"r\") as zip_ref:\n",
    "        print(\"Unzipping pizza, steak, sushi data...\")\n",
    "        zip_ref.extractall(image_path)\n",
    "\n",
    "    # Remove zip file\n",
    "    os.remove(data_path / \"pizza_steak_sushi.zip\")"
   ],
   "metadata": {
    "collapsed": false,
    "ExecuteTime": {
     "end_time": "2023-09-14T17:57:06.102925700Z",
     "start_time": "2023-09-14T17:57:05.804149400Z"
    }
   },
   "id": "5e5b8a00840f3a81"
  },
  {
   "cell_type": "code",
   "execution_count": 2,
   "outputs": [
    {
     "data": {
      "text/plain": "(WindowsPath('data/pizza_steak_sushi/train'),\n WindowsPath('data/pizza_steak_sushi/test'))"
     },
     "execution_count": 2,
     "metadata": {},
     "output_type": "execute_result"
    }
   ],
   "source": [
    "# Setup train and testing paths\n",
    "train_dir = image_path / \"train\"\n",
    "test_dir = image_path / \"test\"\n",
    "\n",
    "train_dir, test_dir"
   ],
   "metadata": {
    "collapsed": false,
    "ExecuteTime": {
     "end_time": "2023-09-14T17:57:06.102925700Z",
     "start_time": "2023-09-14T17:57:05.898676600Z"
    }
   },
   "id": "364bcb78cbd6be48"
  },
  {
   "cell_type": "markdown",
   "source": [
    "## 2. Create Datasets and DataLoaders\n",
    "\n",
    "Now we'll turn the image dataset into PyTorch `Dataset`'s and `DataLoader`'s. "
   ],
   "metadata": {
    "collapsed": false
   },
   "id": "dfc3be793590f169"
  },
  {
   "cell_type": "code",
   "execution_count": 3,
   "outputs": [
    {
     "name": "stdout",
     "output_type": "stream",
     "text": [
      "Train data:\n",
      "Dataset ImageFolder\n",
      "    Number of datapoints: 225\n",
      "    Root location: data\\pizza_steak_sushi\\train\n",
      "    StandardTransform\n",
      "Transform: Compose(\n",
      "               Resize(size=(64, 64), interpolation=bilinear, max_size=None, antialias=warn)\n",
      "               ToTensor()\n",
      "           )\n",
      "Test data:\n",
      "Dataset ImageFolder\n",
      "    Number of datapoints: 75\n",
      "    Root location: data\\pizza_steak_sushi\\test\n",
      "    StandardTransform\n",
      "Transform: Compose(\n",
      "               Resize(size=(64, 64), interpolation=bilinear, max_size=None, antialias=warn)\n",
      "               ToTensor()\n",
      "           )\n"
     ]
    }
   ],
   "source": [
    "from torchvision import datasets, transforms\n",
    "\n",
    "# Create simple transform\n",
    "data_transform = transforms.Compose([\n",
    "    transforms.Resize((64, 64)),\n",
    "    transforms.ToTensor(),\n",
    "])\n",
    "\n",
    "# Use ImageFolder to create dataset(s)\n",
    "train_data = datasets.ImageFolder(root=train_dir,  # target folder of images\n",
    "                                  transform=data_transform,  # transforms to perform on data (images)\n",
    "                                  target_transform=None)  # transforms to perform on labels (if necessary)\n",
    "\n",
    "test_data = datasets.ImageFolder(root=test_dir,\n",
    "                                 transform=data_transform)\n",
    "\n",
    "print(f\"Train data:\\n{train_data}\\nTest data:\\n{test_data}\")"
   ],
   "metadata": {
    "collapsed": false,
    "ExecuteTime": {
     "end_time": "2023-09-14T17:57:08.580027600Z",
     "start_time": "2023-09-14T17:57:05.914550300Z"
    }
   },
   "id": "ece64dc69ea4ccf8"
  },
  {
   "cell_type": "code",
   "execution_count": 4,
   "outputs": [
    {
     "data": {
      "text/plain": "['pizza', 'steak', 'sushi']"
     },
     "execution_count": 4,
     "metadata": {},
     "output_type": "execute_result"
    }
   ],
   "source": [
    "# Get class names as a list\n",
    "class_names = train_data.classes\n",
    "class_names"
   ],
   "metadata": {
    "collapsed": false,
    "ExecuteTime": {
     "end_time": "2023-09-14T17:57:08.597497200Z",
     "start_time": "2023-09-14T17:57:08.585102100Z"
    }
   },
   "id": "6708bc9fb8dacb5"
  },
  {
   "cell_type": "code",
   "execution_count": 5,
   "outputs": [
    {
     "data": {
      "text/plain": "{'pizza': 0, 'steak': 1, 'sushi': 2}"
     },
     "execution_count": 5,
     "metadata": {},
     "output_type": "execute_result"
    }
   ],
   "source": [
    "# Can also get class names as a dict\n",
    "class_dict = train_data.class_to_idx\n",
    "class_dict"
   ],
   "metadata": {
    "collapsed": false,
    "ExecuteTime": {
     "end_time": "2023-09-14T17:57:08.597497200Z",
     "start_time": "2023-09-14T17:57:08.587615700Z"
    }
   },
   "id": "484dca1e6896de98"
  },
  {
   "cell_type": "code",
   "execution_count": 6,
   "outputs": [
    {
     "data": {
      "text/plain": "(225, 75)"
     },
     "execution_count": 6,
     "metadata": {},
     "output_type": "execute_result"
    }
   ],
   "source": [
    "# Check the lengths\n",
    "len(train_data), len(test_data)"
   ],
   "metadata": {
    "collapsed": false,
    "ExecuteTime": {
     "end_time": "2023-09-14T17:57:08.713744100Z",
     "start_time": "2023-09-14T17:57:08.603253400Z"
    }
   },
   "id": "9fd630abf5ac8bab"
  },
  {
   "cell_type": "code",
   "execution_count": 7,
   "outputs": [
    {
     "data": {
      "text/plain": "(<torch.utils.data.dataloader.DataLoader at 0x229a33a3ed0>,\n <torch.utils.data.dataloader.DataLoader at 0x229c4e76c50>)"
     },
     "execution_count": 7,
     "metadata": {},
     "output_type": "execute_result"
    }
   ],
   "source": [
    "# Turn train and test Datasets into DataLoaders\n",
    "from torch.utils.data import DataLoader\n",
    "\n",
    "train_dataloader = DataLoader(dataset=train_data,\n",
    "                              batch_size=1,  # how many samples per batch?\n",
    "                              num_workers=0,  # how many subprocesses to use for data loading? (higher = more)\n",
    "                              shuffle=True)  # shuffle the data?\n",
    "\n",
    "test_dataloader = DataLoader(dataset=test_data,\n",
    "                             batch_size=1,\n",
    "                             num_workers=0,\n",
    "                             shuffle=False)  # don't usually need to shuffle testing data\n",
    "\n",
    "train_dataloader, test_dataloader"
   ],
   "metadata": {
    "collapsed": false,
    "ExecuteTime": {
     "end_time": "2023-09-14T17:57:08.713744100Z",
     "start_time": "2023-09-14T17:57:08.603759700Z"
    }
   },
   "id": "94c06caf9f626859"
  },
  {
   "cell_type": "code",
   "execution_count": 8,
   "outputs": [
    {
     "name": "stdout",
     "output_type": "stream",
     "text": [
      "Image shape: torch.Size([1, 3, 64, 64]) -> [batch_size, color_channels, height, width]\n",
      "Label shape: torch.Size([1])\n"
     ]
    }
   ],
   "source": [
    "# Check out single image size/shape\n",
    "img, label = next(iter(train_dataloader))\n",
    "\n",
    "# Batch size will now be 1, try changing the batch_size parameter above and see what happens\n",
    "print(f\"Image shape: {img.shape} -> [batch_size, color_channels, height, width]\")\n",
    "print(f\"Label shape: {label.shape}\")"
   ],
   "metadata": {
    "collapsed": false,
    "ExecuteTime": {
     "end_time": "2023-09-14T17:57:08.713744100Z",
     "start_time": "2023-09-14T17:57:08.613326400Z"
    }
   },
   "id": "ebc95c693a67052f"
  },
  {
   "cell_type": "code",
   "execution_count": 18,
   "outputs": [],
   "source": [
    "import os\n",
    "\n",
    "os.makedirs(\"going_modular\")"
   ],
   "metadata": {
    "collapsed": false,
    "ExecuteTime": {
     "end_time": "2023-09-14T20:01:53.626649600Z",
     "start_time": "2023-09-14T20:01:53.604576500Z"
    }
   },
   "id": "fa99be569ff3d2"
  },
  {
   "cell_type": "code",
   "execution_count": 20,
   "outputs": [
    {
     "name": "stdout",
     "output_type": "stream",
     "text": [
      "Overwriting going_modular/data_setup.py\n"
     ]
    }
   ],
   "source": [
    "%%writefile going_modular/data_setup.py\n",
    "\"\"\"\n",
    "contains functionality for creating pytorch dataloaders and for image classification data.\n",
    "\"\"\"\n",
    "import os\n",
    "\n",
    "from torchvision import datasets, transforms\n",
    "from torch.utils.data import DataLoader\n",
    "\n",
    "\n",
    "def creat_dataloaders(train_directory: str, test_directory: str, transform: transforms.Compose, batch_size: int):\n",
    "    \"\"\"\n",
    "    Creat training and test dataloader.\n",
    "    \n",
    "    Takes in training directory and testing directory path and turns them into PyTorch Datasets and then into PyTorch DataLoader.\n",
    "    :param train_directory: Path to training directory.\n",
    "    :param test_directory: Path to testing directory.\n",
    "    :param transform: Torchvision transforms to perform on training and testing data\n",
    "    :param batch_size: Number of samples per batch in each of the DataLoaders.\n",
    "    :return: A tuple of (train_dataloader, test_dataloader, class_names).\n",
    "            class names is a list of the target classes.\n",
    "            \n",
    "    Example usage:\n",
    "        train_dataloader, test_dataloader, classe_names = creat_dataloader(train_directory=path/to/train_directory, test_directory=path/to/test_directory, transform=some_transform, batch_size=32\n",
    "    \"\"\"\n",
    "    train_data = datasets.ImageFolder(root=train_directory, transform=transform)\n",
    "    test_data = datasets.ImageFolder(root=test_directory, transform=transform)\n",
    "    class_names = train_data.classes\n",
    "    train_dataloader = DataLoader(train_data, batch_size=batch_size, shuffle=True, pin_memory=True)\n",
    "    test_dataloader = DataLoader(test_data, batch_size=batch_size, shuffle=False, pin_memory=True)\n",
    "    return train_dataloader, test_dataloader, class_names"
   ],
   "metadata": {
    "collapsed": false,
    "ExecuteTime": {
     "end_time": "2023-09-14T20:17:34.597247800Z",
     "start_time": "2023-09-14T20:17:34.590663500Z"
    }
   },
   "id": "28c90b6974390820"
  },
  {
   "cell_type": "code",
   "execution_count": null,
   "outputs": [],
   "source": [
    "from going_modular import data_setup\n",
    "# a,b,c =data_setup.creat_dataloaders()"
   ],
   "metadata": {
    "collapsed": false
   },
   "id": "22c999c979794bb"
  },
  {
   "cell_type": "markdown",
   "source": [
    "## 3. Making a model (TinyVGG)\n",
    "\n",
    "We're going to use the same model we used in notebook 04: TinyVGG from the CNN Explainer website.\n",
    "\n",
    "The only change here from notebook 04 is that a docstring has been added using [Google's Style Guide for Python](https://google.github.io/styleguide/pyguide.html#384-classes). "
   ],
   "metadata": {
    "collapsed": false
   },
   "id": "84e57c97c73c7ad8"
  },
  {
   "cell_type": "code",
   "execution_count": 9,
   "outputs": [],
   "source": [
    "import torch\n",
    "\n",
    "from torch import nn\n",
    "\n",
    "\n",
    "class TinyVGG(nn.Module):\n",
    "    \"\"\"Creates the TinyVGG architecture.\n",
    "  \n",
    "    Replicates the TinyVGG architecture from the CNN explainer website in PyTorch.\n",
    "    See the original architecture here: https://poloclub.github.io/cnn-explainer/\n",
    "    \n",
    "    Args:\n",
    "      input_shape: An integer indicating number of input channels.\n",
    "      hidden_units: An integer indicating number of hidden units between layers.\n",
    "      output_shape: An integer indicating number of output units.\n",
    "    \"\"\"\n",
    "\n",
    "    def __init__(self, input_shape: int, hidden_units: int, output_shape: int) -> None:\n",
    "        super().__init__()\n",
    "        self.conv_block_1 = nn.Sequential(\n",
    "            nn.Conv2d(in_channels=input_shape,\n",
    "                      out_channels=hidden_units,\n",
    "                      kernel_size=3,  # how big is the square that's going over the image?\n",
    "                      stride=1,  # default\n",
    "                      padding=0),\n",
    "            # options = \"valid\" (no padding) or \"same\" (output has same shape as input) or int for specific number \n",
    "            nn.ReLU(),\n",
    "            nn.Conv2d(in_channels=hidden_units,\n",
    "                      out_channels=hidden_units,\n",
    "                      kernel_size=3,\n",
    "                      stride=1,\n",
    "                      padding=0),\n",
    "            nn.ReLU(),\n",
    "            nn.MaxPool2d(kernel_size=2,\n",
    "                         stride=2)  # default stride value is same as kernel_size\n",
    "        )\n",
    "        self.conv_block_2 = nn.Sequential(\n",
    "            nn.Conv2d(hidden_units, hidden_units, kernel_size=3, padding=0),\n",
    "            nn.ReLU(),\n",
    "            nn.Conv2d(hidden_units, hidden_units, kernel_size=3, padding=0),\n",
    "            nn.ReLU(),\n",
    "            nn.MaxPool2d(2)\n",
    "        )\n",
    "        self.classifier = nn.Sequential(\n",
    "            nn.Flatten(),\n",
    "            # Where did this in_features shape come from? \n",
    "            # It's because each layer of our network compresses and changes the shape of our inputs data.\n",
    "            nn.Linear(in_features=hidden_units * 13 * 13,\n",
    "                      out_features=output_shape)\n",
    "        )\n",
    "\n",
    "    def forward(self, x: torch.Tensor):\n",
    "        x = self.conv_block_1(x)\n",
    "        x = self.conv_block_2(x)\n",
    "        x = self.classifier(x)\n",
    "        return x\n",
    "        # return self.classifier(self.block_2(self.block_1(x))) # <- leverage the benefits of operator fusion"
   ],
   "metadata": {
    "collapsed": false,
    "ExecuteTime": {
     "end_time": "2023-09-14T17:57:08.713744100Z",
     "start_time": "2023-09-14T17:57:08.650629600Z"
    }
   },
   "id": "21ec32a4f3b8207d"
  },
  {
   "cell_type": "code",
   "execution_count": 10,
   "outputs": [
    {
     "data": {
      "text/plain": "TinyVGG(\n  (conv_block_1): Sequential(\n    (0): Conv2d(3, 10, kernel_size=(3, 3), stride=(1, 1))\n    (1): ReLU()\n    (2): Conv2d(10, 10, kernel_size=(3, 3), stride=(1, 1))\n    (3): ReLU()\n    (4): MaxPool2d(kernel_size=2, stride=2, padding=0, dilation=1, ceil_mode=False)\n  )\n  (conv_block_2): Sequential(\n    (0): Conv2d(10, 10, kernel_size=(3, 3), stride=(1, 1))\n    (1): ReLU()\n    (2): Conv2d(10, 10, kernel_size=(3, 3), stride=(1, 1))\n    (3): ReLU()\n    (4): MaxPool2d(kernel_size=2, stride=2, padding=0, dilation=1, ceil_mode=False)\n  )\n  (classifier): Sequential(\n    (0): Flatten(start_dim=1, end_dim=-1)\n    (1): Linear(in_features=1690, out_features=3, bias=True)\n  )\n)"
     },
     "execution_count": 10,
     "metadata": {},
     "output_type": "execute_result"
    }
   ],
   "source": [
    "import torch\n",
    "\n",
    "device = \"cuda\" if torch.cuda.is_available() else \"cpu\"\n",
    "\n",
    "# Instantiate an instance of the model\n",
    "torch.manual_seed(42)\n",
    "model_0 = TinyVGG(input_shape=3,  # number of color channels (3 for RGB) \n",
    "                  hidden_units=10,\n",
    "                  output_shape=len(train_data.classes)).to(device)\n",
    "model_0"
   ],
   "metadata": {
    "collapsed": false,
    "ExecuteTime": {
     "end_time": "2023-09-14T17:57:09.859372100Z",
     "start_time": "2023-09-14T17:57:08.650629600Z"
    }
   },
   "id": "f08070b6c04bb007"
  },
  {
   "cell_type": "markdown",
   "source": [
    "To test our model let's do a single forward pass (pass a sample batch from the training set through our model)."
   ],
   "metadata": {
    "collapsed": false
   },
   "id": "c39d1f23931360b4"
  },
  {
   "cell_type": "code",
   "execution_count": 11,
   "outputs": [
    {
     "name": "stdout",
     "output_type": "stream",
     "text": [
      "Single image shape: torch.Size([1, 3, 64, 64])\n",
      "Output logits:\n",
      "tensor([[ 0.0208, -0.0020,  0.0095]], device='cuda:0')\n",
      "\n",
      "Output prediction probabilities:\n",
      "tensor([[0.3371, 0.3295, 0.3333]], device='cuda:0')\n",
      "\n",
      "Output prediction label:\n",
      "tensor([0], device='cuda:0')\n",
      "\n",
      "Actual label:\n",
      "0\n"
     ]
    }
   ],
   "source": [
    "# 1. Get a batch of images and labels from the DataLoader\n",
    "img_batch, label_batch = next(iter(train_dataloader))\n",
    "\n",
    "# 2. Get a single image from the batch and unsqueeze the image so its shape fits the model\n",
    "img_single, label_single = img_batch[0].unsqueeze(dim=0), label_batch[0]\n",
    "print(f\"Single image shape: {img_single.shape}\\n\")\n",
    "\n",
    "# 3. Perform a forward pass on a single image\n",
    "model_0.eval()\n",
    "with torch.inference_mode():\n",
    "    pred = model_0(img_single.to(device))\n",
    "\n",
    "# 4. Print out what's happening and convert model logits -> pred probs -> pred label\n",
    "print(f\"Output logits:\\n{pred}\\n\")\n",
    "print(f\"Output prediction probabilities:\\n{torch.softmax(pred, dim=1)}\\n\")\n",
    "print(f\"Output prediction label:\\n{torch.argmax(torch.softmax(pred, dim=1), dim=1)}\\n\")\n",
    "print(f\"Actual label:\\n{label_single}\")"
   ],
   "metadata": {
    "collapsed": false,
    "ExecuteTime": {
     "end_time": "2023-09-14T17:57:13.528781Z",
     "start_time": "2023-09-14T17:57:09.864885400Z"
    }
   },
   "id": "a354f8ea223d3197"
  },
  {
   "cell_type": "code",
   "execution_count": 21,
   "outputs": [
    {
     "name": "stdout",
     "output_type": "stream",
     "text": [
      "Writing going_modular/model_builder.py\n"
     ]
    }
   ],
   "source": [
    "%%writefile going_modular/model_builder.py\n",
    "import torch\n",
    "\n",
    "from torch import nn\n",
    "\n",
    "\n",
    "class TinyVGG(nn.Module):\n",
    "    \"\"\"Creates the TinyVGG architecture.\n",
    "  \n",
    "    Replicates the TinyVGG architecture from the CNN explainer website in PyTorch.\n",
    "    See the original architecture here: https://poloclub.github.io/cnn-explainer/\n",
    "    \n",
    "    Args:\n",
    "      input_shape: An integer indicating number of input channels.\n",
    "      hidden_units: An integer indicating number of hidden units between layers.\n",
    "      output_shape: An integer indicating number of output units.\n",
    "    \"\"\"\n",
    "\n",
    "    def __init__(self, input_shape: int, hidden_units: int, output_shape: int) -> None:\n",
    "        super().__init__()\n",
    "        self.conv_block_1 = nn.Sequential(\n",
    "            nn.Conv2d(in_channels=input_shape,\n",
    "                      out_channels=hidden_units,\n",
    "                      kernel_size=3,  # how big is the square that's going over the image?\n",
    "                      stride=1,  # default\n",
    "                      padding=0),\n",
    "            # options = \"valid\" (no padding) or \"same\" (output has same shape as input) or int for specific number \n",
    "            nn.ReLU(),\n",
    "            nn.Conv2d(in_channels=hidden_units,\n",
    "                      out_channels=hidden_units,\n",
    "                      kernel_size=3,\n",
    "                      stride=1,\n",
    "                      padding=0),\n",
    "            nn.ReLU(),\n",
    "            nn.MaxPool2d(kernel_size=2,\n",
    "                         stride=2)  # default stride value is same as kernel_size\n",
    "        )\n",
    "        self.conv_block_2 = nn.Sequential(\n",
    "            nn.Conv2d(hidden_units, hidden_units, kernel_size=3, padding=0),\n",
    "            nn.ReLU(),\n",
    "            nn.Conv2d(hidden_units, hidden_units, kernel_size=3, padding=0),\n",
    "            nn.ReLU(),\n",
    "            nn.MaxPool2d(2)\n",
    "        )\n",
    "        self.classifier = nn.Sequential(\n",
    "            nn.Flatten(),\n",
    "            # Where did this in_features shape come from? \n",
    "            # It's because each layer of our network compresses and changes the shape of our inputs data.\n",
    "            nn.Linear(in_features=hidden_units * 13 * 13,\n",
    "                      out_features=output_shape)\n",
    "        )\n",
    "\n",
    "    def forward(self, x: torch.Tensor):\n",
    "        return self.classifier(self.block_2(self.block_1(x)))  # <- leverage the benefits of operator fusion"
   ],
   "metadata": {
    "collapsed": false,
    "ExecuteTime": {
     "end_time": "2023-09-14T20:22:23.492130300Z",
     "start_time": "2023-09-14T20:22:23.472079100Z"
    }
   },
   "id": "95794ab5a7b8a710"
  },
  {
   "cell_type": "markdown",
   "source": [
    "## 4. Creating `train_step()` and `test_step()` functions and `train()` to combine them  \n",
    "\n",
    "Rather than writing them again, we can reuse the `train_step()` and `test_step()` functions from [notebook 04](https://www.learnpytorch.io/04_pytorch_custom_datasets/#75-create-train-test-loop-functions).\n",
    "\n",
    "The same goes for the `train()` function we created.\n",
    "\n",
    "The only difference here is that these functions have had docstrings added to them in [Google's Python Functions and Methods Style Guide](https://google.github.io/styleguide/pyguide.html#383-functions-and-methods).\n",
    "\n",
    "Let's start by making `train_step()`."
   ],
   "metadata": {
    "collapsed": false
   },
   "id": "458ca5f1bd34327a"
  },
  {
   "cell_type": "code",
   "execution_count": 12,
   "outputs": [],
   "source": [
    "from typing import Tuple\n",
    "\n",
    "\n",
    "def train_step(model: torch.nn.Module,\n",
    "               dataloader: torch.utils.data.DataLoader,\n",
    "               loss_fn: torch.nn.Module,\n",
    "               optimizer: torch.optim.Optimizer,\n",
    "               device: torch.device) -> Tuple[float, float]:\n",
    "    \"\"\"Trains a PyTorch model for a single epoch.\n",
    "  \n",
    "    Turns a target PyTorch model to training mode and then\n",
    "    runs through all of the required training steps (forward\n",
    "    pass, loss calculation, optimizer step).\n",
    "  \n",
    "    Args:\n",
    "      model: A PyTorch model to be trained.\n",
    "      dataloader: A DataLoader instance for the model to be trained on.\n",
    "      loss_fn: A PyTorch loss function to minimize.\n",
    "      optimizer: A PyTorch optimizer to help minimize the loss function.\n",
    "      device: A target device to compute on (e.g. \"cuda\" or \"cpu\").\n",
    "  \n",
    "    Returns:\n",
    "      A tuple of training loss and training accuracy metrics.\n",
    "      In the form (train_loss, train_accuracy). For example:\n",
    "      \n",
    "      (0.1112, 0.8743)\n",
    "    \"\"\"\n",
    "    # Put model in train mode\n",
    "    model.train()\n",
    "\n",
    "    # Setup train loss and train accuracy values\n",
    "    train_loss, train_acc = 0, 0\n",
    "\n",
    "    # Loop through data loader data batches\n",
    "    for batch, (X, y) in enumerate(dataloader):\n",
    "        # Send data to target device\n",
    "        X, y = X.to(device), y.to(device)\n",
    "\n",
    "        # 1. Forward pass\n",
    "        y_pred = model(X)\n",
    "\n",
    "        # 2. Calculate  and accumulate loss\n",
    "        loss = loss_fn(y_pred, y)\n",
    "        train_loss += loss.item()\n",
    "\n",
    "        # 3. Optimizer zero grad\n",
    "        optimizer.zero_grad()\n",
    "\n",
    "        # 4. Loss backward\n",
    "        loss.backward()\n",
    "\n",
    "        # 5. Optimizer step\n",
    "        optimizer.step()\n",
    "\n",
    "        # Calculate and accumulate accuracy metric across all batches\n",
    "        y_pred_class = torch.argmax(torch.softmax(y_pred, dim=1), dim=1)\n",
    "        train_acc += (y_pred_class == y).sum().item() / len(y_pred)\n",
    "\n",
    "    # Adjust metrics to get average loss and accuracy per batch \n",
    "    train_loss = train_loss / len(dataloader)\n",
    "    train_acc = train_acc / len(dataloader)\n",
    "    return train_loss, train_acc"
   ],
   "metadata": {
    "collapsed": false,
    "ExecuteTime": {
     "end_time": "2023-09-14T17:57:13.549359900Z",
     "start_time": "2023-09-14T17:57:13.537591Z"
    }
   },
   "id": "ae388cfbc0430b2c"
  },
  {
   "cell_type": "markdown",
   "source": [
    "Now we'll do `test_step()`."
   ],
   "metadata": {
    "collapsed": false
   },
   "id": "5da5f2cb07aa54fd"
  },
  {
   "cell_type": "code",
   "execution_count": 13,
   "outputs": [],
   "source": [
    "def test_step(model: torch.nn.Module,\n",
    "              dataloader: torch.utils.data.DataLoader,\n",
    "              loss_fn: torch.nn.Module,\n",
    "              device: torch.device) -> Tuple[float, float]:\n",
    "    \"\"\"Tests a PyTorch model for a single epoch.\n",
    "  \n",
    "    Turns a target PyTorch model to \"eval\" mode and then performs\n",
    "    a forward pass on a testing dataset.\n",
    "  \n",
    "    Args:\n",
    "      model: A PyTorch model to be tested.\n",
    "      dataloader: A DataLoader instance for the model to be tested on.\n",
    "      loss_fn: A PyTorch loss function to calculate loss on the test data.\n",
    "      device: A target device to compute on (e.g. \"cuda\" or \"cpu\").\n",
    "  \n",
    "    Returns:\n",
    "      A tuple of testing loss and testing accuracy metrics.\n",
    "      In the form (test_loss, test_accuracy). For example:\n",
    "      \n",
    "      (0.0223, 0.8985)\n",
    "    \"\"\"\n",
    "    # Put model in eval mode\n",
    "    model.eval()\n",
    "\n",
    "    # Setup test loss and test accuracy values\n",
    "    test_loss, test_acc = 0, 0\n",
    "\n",
    "    # Turn on inference context manager\n",
    "    with torch.inference_mode():\n",
    "        # Loop through DataLoader batches\n",
    "        for batch, (X, y) in enumerate(dataloader):\n",
    "            # Send data to target device\n",
    "            X, y = X.to(device), y.to(device)\n",
    "\n",
    "            # 1. Forward pass\n",
    "            test_pred_logits = model(X)\n",
    "\n",
    "            # 2. Calculate and accumulate loss\n",
    "            loss = loss_fn(test_pred_logits, y)\n",
    "            test_loss += loss.item()\n",
    "\n",
    "            # Calculate and accumulate accuracy\n",
    "            test_pred_labels = test_pred_logits.argmax(dim=1)\n",
    "            test_acc += ((test_pred_labels == y).sum().item() / len(test_pred_labels))\n",
    "\n",
    "    # Adjust metrics to get average loss and accuracy per batch \n",
    "    test_loss = test_loss / len(dataloader)\n",
    "    test_acc = test_acc / len(dataloader)\n",
    "    return test_loss, test_acc"
   ],
   "metadata": {
    "collapsed": false,
    "ExecuteTime": {
     "end_time": "2023-09-14T17:57:13.549359900Z",
     "start_time": "2023-09-14T17:57:13.548020500Z"
    }
   },
   "id": "f866d44ba6d6234a"
  },
  {
   "cell_type": "markdown",
   "source": [
    "And we'll combine `train_step()` and `test_step()` into `train()`."
   ],
   "metadata": {
    "collapsed": false
   },
   "id": "fbfdf951a530abcb"
  },
  {
   "cell_type": "code",
   "execution_count": 14,
   "outputs": [],
   "source": [
    "from typing import Dict, List\n",
    "\n",
    "from tqdm.auto import tqdm\n",
    "\n",
    "\n",
    "def train(model: torch.nn.Module,\n",
    "          train_dataloader: torch.utils.data.DataLoader,\n",
    "          test_dataloader: torch.utils.data.DataLoader,\n",
    "          optimizer: torch.optim.Optimizer,\n",
    "          loss_fn: torch.nn.Module,\n",
    "          epochs: int,\n",
    "          device: torch.device) -> Dict[str, List[float]]:\n",
    "    \"\"\"Trains and tests a PyTorch model.\n",
    "  \n",
    "    Passes a target PyTorch models through train_step() and test_step()\n",
    "    functions for a number of epochs, training and testing the model\n",
    "    in the same epoch loop.\n",
    "  \n",
    "    Calculates, prints and stores evaluation metrics throughout.\n",
    "  \n",
    "    Args:\n",
    "      model: A PyTorch model to be trained and tested.\n",
    "      train_dataloader: A DataLoader instance for the model to be trained on.\n",
    "      test_dataloader: A DataLoader instance for the model to be tested on.\n",
    "      optimizer: A PyTorch optimizer to help minimize the loss function.\n",
    "      loss_fn: A PyTorch loss function to calculate loss on both datasets.\n",
    "      epochs: An integer indicating how many epochs to train for.\n",
    "      device: A target device to compute on (e.g. \"cuda\" or \"cpu\").\n",
    "  \n",
    "    Returns:\n",
    "      A dictionary of training and testing loss as well as training and\n",
    "      testing accuracy metrics. Each metric has a value in a list for \n",
    "      each epoch.\n",
    "      In the form: {train_loss: [...],\n",
    "                    train_acc: [...],\n",
    "                    test_loss: [...],\n",
    "                    test_acc: [...]} \n",
    "      For example if training for epochs=2: \n",
    "                   {train_loss: [2.0616, 1.0537],\n",
    "                    train_acc: [0.3945, 0.3945],\n",
    "                    test_loss: [1.2641, 1.5706],\n",
    "                    test_acc: [0.3400, 0.2973]} \n",
    "    \"\"\"\n",
    "    # Create empty results dictionary\n",
    "    results = {\"train_loss\": [],\n",
    "               \"train_acc\": [],\n",
    "               \"test_loss\": [],\n",
    "               \"test_acc\": []\n",
    "               }\n",
    "\n",
    "    # Loop through training and testing steps for a number of epochs\n",
    "    for epoch in tqdm(range(epochs)):\n",
    "        train_loss, train_acc = train_step(model=model,\n",
    "                                           dataloader=train_dataloader,\n",
    "                                           loss_fn=loss_fn,\n",
    "                                           optimizer=optimizer,\n",
    "                                           device=device)\n",
    "        test_loss, test_acc = test_step(model=model,\n",
    "                                        dataloader=test_dataloader,\n",
    "                                        loss_fn=loss_fn,\n",
    "                                        device=device)\n",
    "\n",
    "        # Print out what's happening\n",
    "        print(\n",
    "            f\"Epoch: {epoch + 1} | \"\n",
    "            f\"train_loss: {train_loss:.4f} | \"\n",
    "            f\"train_acc: {train_acc:.4f} | \"\n",
    "            f\"test_loss: {test_loss:.4f} | \"\n",
    "            f\"test_acc: {test_acc:.4f}\"\n",
    "        )\n",
    "\n",
    "        # Update results dictionary\n",
    "        results[\"train_loss\"].append(train_loss)\n",
    "        results[\"train_acc\"].append(train_acc)\n",
    "        results[\"test_loss\"].append(test_loss)\n",
    "        results[\"test_acc\"].append(test_acc)\n",
    "\n",
    "    # Return the filled results at the end of the epochs\n",
    "    return results"
   ],
   "metadata": {
    "collapsed": false,
    "ExecuteTime": {
     "end_time": "2023-09-14T17:57:13.649552400Z",
     "start_time": "2023-09-14T17:57:13.549359900Z"
    }
   },
   "id": "fb68057dcb2ee160"
  },
  {
   "cell_type": "code",
   "execution_count": 22,
   "outputs": [
    {
     "name": "stdout",
     "output_type": "stream",
     "text": [
      "Writing going_modular/engine.py\n"
     ]
    }
   ],
   "source": [
    "%%writefile going_modular/engine.py\n",
    "\"\"\"contains functions for training and testing a PyTorch model.\"\"\"\n",
    "from typing import List, Tuple, Dict\n",
    "from tqdm.auto import tqdm\n",
    "import torch\n",
    "\n",
    "\n",
    "def train_step(model: torch.nn.Module,\n",
    "               dataloader: torch.utils.data.DataLoader,\n",
    "               loss_fn: torch.nn.Module,\n",
    "               optimizer: torch.optim.Optimizer,\n",
    "               device: torch.device) -> Tuple[float, float]:\n",
    "    \"\"\"Trains a PyTorch model for a single epoch.\n",
    "  \n",
    "    Turns a target PyTorch model to training mode and then\n",
    "    runs through all of the required training steps (forward\n",
    "    pass, loss calculation, optimizer step).\n",
    "  \n",
    "    Args:\n",
    "      model: A PyTorch model to be trained.\n",
    "      dataloader: A DataLoader instance for the model to be trained on.\n",
    "      loss_fn: A PyTorch loss function to minimize.\n",
    "      optimizer: A PyTorch optimizer to help minimize the loss function.\n",
    "      device: A target device to compute on (e.g. \"cuda\" or \"cpu\").\n",
    "  \n",
    "    Returns:\n",
    "      A tuple of training loss and training accuracy metrics.\n",
    "      In the form (train_loss, train_accuracy). For example:\n",
    "      \n",
    "      (0.1112, 0.8743)\n",
    "    \"\"\"\n",
    "    # Put model in train mode\n",
    "    model.train()\n",
    "\n",
    "    # Setup train loss and train accuracy values\n",
    "    train_loss, train_acc = 0, 0\n",
    "\n",
    "    # Loop through data loader data batches\n",
    "    for batch, (X, y) in enumerate(dataloader):\n",
    "        # Send data to target device\n",
    "        X, y = X.to(device), y.to(device)\n",
    "\n",
    "        # 1. Forward pass\n",
    "        y_pred = model(X)\n",
    "\n",
    "        # 2. Calculate  and accumulate loss\n",
    "        loss = loss_fn(y_pred, y)\n",
    "        train_loss += loss.item()\n",
    "\n",
    "        # 3. Optimizer zero grad\n",
    "        optimizer.zero_grad()\n",
    "\n",
    "        # 4. Loss backward\n",
    "        loss.backward()\n",
    "\n",
    "        # 5. Optimizer step\n",
    "        optimizer.step()\n",
    "\n",
    "        # Calculate and accumulate accuracy metric across all batches\n",
    "        y_pred_class = torch.argmax(torch.softmax(y_pred, dim=1), dim=1)\n",
    "        train_acc += (y_pred_class == y).sum().item() / len(y_pred)\n",
    "\n",
    "    # Adjust metrics to get average loss and accuracy per batch \n",
    "    train_loss = train_loss / len(dataloader)\n",
    "    train_acc = train_acc / len(dataloader)\n",
    "    return train_loss, train_acc\n",
    "\n",
    "\n",
    "def test_step(model: torch.nn.Module,\n",
    "              dataloader: torch.utils.data.DataLoader,\n",
    "              loss_fn: torch.nn.Module,\n",
    "              device: torch.device) -> Tuple[float, float]:\n",
    "    \"\"\"Tests a PyTorch model for a single epoch.\n",
    "  \n",
    "    Turns a target PyTorch model to \"eval\" mode and then performs\n",
    "    a forward pass on a testing dataset.\n",
    "  \n",
    "    Args:\n",
    "      model: A PyTorch model to be tested.\n",
    "      dataloader: A DataLoader instance for the model to be tested on.\n",
    "      loss_fn: A PyTorch loss function to calculate loss on the test data.\n",
    "      device: A target device to compute on (e.g. \"cuda\" or \"cpu\").\n",
    "  \n",
    "    Returns:\n",
    "      A tuple of testing loss and testing accuracy metrics.\n",
    "      In the form (test_loss, test_accuracy). For example:\n",
    "      \n",
    "      (0.0223, 0.8985)\n",
    "    \"\"\"\n",
    "    # Put model in eval mode\n",
    "    model.eval()\n",
    "\n",
    "    # Setup test loss and test accuracy values\n",
    "    test_loss, test_acc = 0, 0\n",
    "\n",
    "    # Turn on inference context manager\n",
    "    with torch.inference_mode():\n",
    "        # Loop through DataLoader batches\n",
    "        for batch, (X, y) in enumerate(dataloader):\n",
    "            # Send data to target device\n",
    "            X, y = X.to(device), y.to(device)\n",
    "\n",
    "            # 1. Forward pass\n",
    "            test_pred_logits = model(X)\n",
    "\n",
    "            # 2. Calculate and accumulate loss\n",
    "            loss = loss_fn(test_pred_logits, y)\n",
    "            test_loss += loss.item()\n",
    "\n",
    "            # Calculate and accumulate accuracy\n",
    "            test_pred_labels = test_pred_logits.argmax(dim=1)\n",
    "            test_acc += ((test_pred_labels == y).sum().item() / len(test_pred_labels))\n",
    "\n",
    "    # Adjust metrics to get average loss and accuracy per batch \n",
    "    test_loss = test_loss / len(dataloader)\n",
    "    test_acc = test_acc / len(dataloader)\n",
    "    return test_loss, test_acc\n",
    "\n",
    "\n",
    "def train(model: torch.nn.Module,\n",
    "          train_dataloader: torch.utils.data.DataLoader,\n",
    "          test_dataloader: torch.utils.data.DataLoader,\n",
    "          optimizer: torch.optim.Optimizer,\n",
    "          loss_fn: torch.nn.Module,\n",
    "          epochs: int,\n",
    "          device: torch.device) -> Dict[str, List[float]]:\n",
    "    \"\"\"Trains and tests a PyTorch model.\n",
    "  \n",
    "    Passes a target PyTorch models through train_step() and test_step()\n",
    "    functions for a number of epochs, training and testing the model\n",
    "    in the same epoch loop.\n",
    "  \n",
    "    Calculates, prints and stores evaluation metrics throughout.\n",
    "  \n",
    "    Args:\n",
    "      model: A PyTorch model to be trained and tested.\n",
    "      train_dataloader: A DataLoader instance for the model to be trained on.\n",
    "      test_dataloader: A DataLoader instance for the model to be tested on.\n",
    "      optimizer: A PyTorch optimizer to help minimize the loss function.\n",
    "      loss_fn: A PyTorch loss function to calculate loss on both datasets.\n",
    "      epochs: An integer indicating how many epochs to train for.\n",
    "      device: A target device to compute on (e.g. \"cuda\" or \"cpu\").\n",
    "  \n",
    "    Returns:\n",
    "      A dictionary of training and testing loss as well as training and\n",
    "      testing accuracy metrics. Each metric has a value in a list for \n",
    "      each epoch.\n",
    "      In the form: {train_loss: [...],\n",
    "                    train_acc: [...],\n",
    "                    test_loss: [...],\n",
    "                    test_acc: [...]} \n",
    "      For example if training for epochs=2: \n",
    "                   {train_loss: [2.0616, 1.0537],\n",
    "                    train_acc: [0.3945, 0.3945],\n",
    "                    test_loss: [1.2641, 1.5706],\n",
    "                    test_acc: [0.3400, 0.2973]} \n",
    "    \"\"\"\n",
    "    # Create empty results dictionary\n",
    "    results = {\"train_loss\": [],\n",
    "               \"train_acc\": [],\n",
    "               \"test_loss\": [],\n",
    "               \"test_acc\": []\n",
    "               }\n",
    "\n",
    "    # Loop through training and testing steps for a number of epochs\n",
    "    for epoch in tqdm(range(epochs)):\n",
    "        train_loss, train_acc = train_step(model=model,\n",
    "                                           dataloader=train_dataloader,\n",
    "                                           loss_fn=loss_fn,\n",
    "                                           optimizer=optimizer,\n",
    "                                           device=device)\n",
    "        test_loss, test_acc = test_step(model=model,\n",
    "                                        dataloader=test_dataloader,\n",
    "                                        loss_fn=loss_fn,\n",
    "                                        device=device)\n",
    "\n",
    "        # Print out what's happening\n",
    "        print(\n",
    "            f\"Epoch: {epoch + 1} | \"\n",
    "            f\"train_loss: {train_loss:.4f} | \"\n",
    "            f\"train_acc: {train_acc:.4f} | \"\n",
    "            f\"test_loss: {test_loss:.4f} | \"\n",
    "            f\"test_acc: {test_acc:.4f}\"\n",
    "        )\n",
    "\n",
    "        # Update results dictionary\n",
    "        results[\"train_loss\"].append(train_loss)\n",
    "        results[\"train_acc\"].append(train_acc)\n",
    "        results[\"test_loss\"].append(test_loss)\n",
    "        results[\"test_acc\"].append(test_acc)\n",
    "\n",
    "    # Return the filled results at the end of the epochs\n",
    "    return results"
   ],
   "metadata": {
    "collapsed": false,
    "ExecuteTime": {
     "end_time": "2023-09-14T20:27:26.382972200Z",
     "start_time": "2023-09-14T20:27:26.363565900Z"
    }
   },
   "id": "213909c307f851b2"
  },
  {
   "cell_type": "markdown",
   "source": [
    "## 5. Creating a function to save the model\n",
    "\n",
    "Let's setup a function to save our model to a directory."
   ],
   "metadata": {
    "collapsed": false
   },
   "id": "e1dc305796bca4d8"
  },
  {
   "cell_type": "code",
   "execution_count": 15,
   "outputs": [],
   "source": [
    "from pathlib import Path\n",
    "\n",
    "\n",
    "def save_model(model: torch.nn.Module,\n",
    "               target_dir: str,\n",
    "               model_name: str):\n",
    "    \"\"\"Saves a PyTorch model to a target directory.\n",
    "  \n",
    "    Args:\n",
    "      model: A target PyTorch model to save.\n",
    "      target_dir: A directory for saving the model to.\n",
    "      model_name: A filename for the saved model. Should include\n",
    "        either \".pth\" or \".pt\" as the file extension.\n",
    "    \n",
    "    Example usage:\n",
    "      save_model(model=model_0,\n",
    "                 target_dir=\"models\",\n",
    "                 model_name=\"05_going_modular_tingvgg_model.pth\")\n",
    "    \"\"\"\n",
    "    # Create target directory\n",
    "    target_dir_path = Path(target_dir)\n",
    "    target_dir_path.mkdir(parents=True,\n",
    "                          exist_ok=True)\n",
    "\n",
    "    # Create model save path\n",
    "    assert model_name.endswith(\".pth\") or model_name.endswith(\".pt\"), \"model_name should end with '.pt' or '.pth'\"\n",
    "    model_save_path = target_dir_path / model_name\n",
    "\n",
    "    # Save the model state_dict()\n",
    "    print(f\"[INFO] Saving model to: {model_save_path}\")\n",
    "    torch.save(obj=model.state_dict(),\n",
    "               f=model_save_path)"
   ],
   "metadata": {
    "collapsed": false,
    "ExecuteTime": {
     "end_time": "2023-09-14T17:57:13.672597100Z",
     "start_time": "2023-09-14T17:57:13.656062400Z"
    }
   },
   "id": "538ba41991072d28"
  },
  {
   "cell_type": "code",
   "execution_count": 24,
   "outputs": [
    {
     "name": "stdout",
     "output_type": "stream",
     "text": [
      "Overwriting going_modular/utils.py\n"
     ]
    }
   ],
   "source": [
    "%%writefile going_modular/utils.py\n",
    "\"\"\"containing various utilities\"\"\"\n",
    "\n",
    "from pathlib import Path\n",
    "import torch\n",
    "\n",
    "\n",
    "def save_model(model: torch.nn.Module,\n",
    "               target_dir: str,\n",
    "               model_name: str):\n",
    "    \"\"\"Saves a PyTorch model to a target directory.\n",
    "  \n",
    "    Args:\n",
    "      model: A target PyTorch model to save.\n",
    "      target_dir: A directory for saving the model to.\n",
    "      model_name: A filename for the saved model. Should include\n",
    "        either \".pth\" or \".pt\" as the file extension.\n",
    "    \n",
    "    Example usage:\n",
    "      save_model(model=model_0,\n",
    "                 target_dir=\"models\",\n",
    "                 model_name=\"05_going_modular_tingvgg_model.pth\")\n",
    "    \"\"\"\n",
    "    # Create target directory\n",
    "    target_dir_path = Path(target_dir)\n",
    "    target_dir_path.mkdir(parents=True,\n",
    "                          exist_ok=True)\n",
    "\n",
    "    # Create model save path\n",
    "    assert model_name.endswith(\".pth\") or model_name.endswith(\".pt\"), \"model_name should end with '.pt' or '.pth'\"\n",
    "    model_save_path = target_dir_path / model_name\n",
    "\n",
    "    # Save the model state_dict()\n",
    "    print(f\"[INFO] Saving model to: {model_save_path}\")\n",
    "    torch.save(obj=model.state_dict(),\n",
    "               f=model_save_path)"
   ],
   "metadata": {
    "collapsed": false,
    "ExecuteTime": {
     "end_time": "2023-09-14T20:32:14.686586700Z",
     "start_time": "2023-09-14T20:32:14.666428100Z"
    }
   },
   "id": "5d7fe9e99755394f"
  },
  {
   "cell_type": "markdown",
   "source": [
    "## 6. Train, evaluate and save the model\n",
    "\n",
    "Let's leverage the functions we've got above to train, test and save a model to file.\n"
   ],
   "metadata": {
    "collapsed": false
   },
   "id": "907b1c9ae5fefbac"
  },
  {
   "cell_type": "code",
   "execution_count": 16,
   "outputs": [
    {
     "data": {
      "text/plain": "  0%|          | 0/5 [00:00<?, ?it/s]",
      "application/vnd.jupyter.widget-view+json": {
       "version_major": 2,
       "version_minor": 0,
       "model_id": "0a6037166fe942f6be084f1b4b9ec072"
      }
     },
     "metadata": {},
     "output_type": "display_data"
    },
    {
     "name": "stdout",
     "output_type": "stream",
     "text": [
      "Epoch: 1 | train_loss: 1.0928 | train_acc: 0.3956 | test_loss: 1.0724 | test_acc: 0.4267\n",
      "Epoch: 2 | train_loss: 1.0121 | train_acc: 0.4844 | test_loss: 0.9919 | test_acc: 0.4533\n",
      "Epoch: 3 | train_loss: 0.9802 | train_acc: 0.5689 | test_loss: 0.9828 | test_acc: 0.5067\n",
      "Epoch: 4 | train_loss: 0.9171 | train_acc: 0.5689 | test_loss: 0.9915 | test_acc: 0.4400\n",
      "Epoch: 5 | train_loss: 0.8807 | train_acc: 0.5867 | test_loss: 1.0256 | test_acc: 0.4933\n",
      "[INFO] Total training time: 8.971 seconds\n",
      "[INFO] Saving model to: models\\05_going_modular_cell_mode_tinyvgg_model.pth\n"
     ]
    }
   ],
   "source": [
    "# Set random seeds\n",
    "torch.manual_seed(42)\n",
    "torch.cuda.manual_seed(42)\n",
    "\n",
    "# Set number of epochs\n",
    "NUM_EPOCHS = 5\n",
    "\n",
    "# Recreate an instance of TinyVGG\n",
    "model_0 = TinyVGG(input_shape=3,  # number of color channels (3 for RGB) \n",
    "                  hidden_units=10,\n",
    "                  output_shape=len(train_data.classes)).to(device)\n",
    "\n",
    "# Setup loss function and optimizer\n",
    "loss_fn = nn.CrossEntropyLoss()\n",
    "optimizer = torch.optim.Adam(params=model_0.parameters(), lr=0.001)\n",
    "\n",
    "# Start the timer\n",
    "from timeit import default_timer as timer\n",
    "\n",
    "start_time = timer()\n",
    "\n",
    "# Train model_0 \n",
    "model_0_results = train(model=model_0,\n",
    "                        train_dataloader=train_dataloader,\n",
    "                        test_dataloader=test_dataloader,\n",
    "                        optimizer=optimizer,\n",
    "                        loss_fn=loss_fn,\n",
    "                        epochs=NUM_EPOCHS,\n",
    "                        device=device)\n",
    "\n",
    "# End the timer and print out how long it took\n",
    "end_time = timer()\n",
    "print(f\"[INFO] Total training time: {end_time - start_time:.3f} seconds\")\n",
    "\n",
    "# Save the model\n",
    "save_model(model=model_0,\n",
    "           target_dir=\"models\",\n",
    "           model_name=\"05_going_modular_cell_mode_tinyvgg_model.pth\")"
   ],
   "metadata": {
    "collapsed": false,
    "ExecuteTime": {
     "end_time": "2023-09-14T17:57:22.656460900Z",
     "start_time": "2023-09-14T17:57:13.659579100Z"
    }
   },
   "id": "255abebe580a4172"
  },
  {
   "cell_type": "markdown",
   "source": [
    "We finish with a saved image classification model at `models/05_going_modular_cell_mode_tinyvgg_model.pth`.\n",
    "\n",
    "The code continues in [05. Going Modular: Part 2 (script mode)](https://github.com/mrdbourke/pytorch-deep-learning/blob/main/going_modular/05_pytorch_going_modular_script_mode.ipynb)."
   ],
   "metadata": {
    "collapsed": false
   },
   "id": "94c178353ff5e50d"
  },
  {
   "cell_type": "code",
   "execution_count": 42,
   "outputs": [
    {
     "name": "stdout",
     "output_type": "stream",
     "text": [
      "Overwriting going_modular/train.py\n"
     ]
    }
   ],
   "source": [
    "%%writefile going_modular/train.py\n",
    "\"\"\"Trains PyTorch image classification.\"\"\"\n",
    "\n",
    "import os\n",
    "import torch\n",
    "from torchvision import transforms\n",
    "import data_setup, engine, model_builder, utils\n",
    "\n",
    "num_epochs = 5\n",
    "batch_size = 32\n",
    "hidden_units = 10\n",
    "learnig_rate = 0.001\n",
    "\n",
    "train_dir = \"data/pizza_steak_sushi/train\"\n",
    "test_dir = \"data/pizza_steak_sushi/test\"\n",
    "\n",
    "device = \"cuda\" if torch.cuda.is_available() else \"cpu\"\n",
    "data_transform = transforms.Compose([transforms.Resize(size=(64,64)),transforms.ToTensor()])\n",
    "train_dataloader, test_dataloader, class_names = data_setup.create_dataloaders(train_dir, test_dir, data_transform, batch_size)\n",
    "model = model_builder.TinyVGG(3, hidden_units, len(class_names)).to(device)\n",
    "loss_fn = torch.nn.CrossEntropyLoss()\n",
    "optimizer = torch.optim.Adam(model.parameters(), learnig_rate)\n",
    "engine.train(model,train_dataloader, test_dataloader, optimizer,loss_fn, num_epochs, device)\n",
    "utils.save_model(model, \"models\", \"05-going-modular.pth\")"
   ],
   "metadata": {
    "collapsed": false,
    "ExecuteTime": {
     "end_time": "2023-09-14T20:53:20.072299700Z",
     "start_time": "2023-09-14T20:53:19.979877500Z"
    }
   },
   "id": "7648654330646c08"
  },
  {
   "cell_type": "code",
   "execution_count": 22,
   "outputs": [
    {
     "name": "stdout",
     "output_type": "stream",
     "text": [
      "Epoch: 1 | train_loss: 1.1044 | train_acc: 0.2695 | test_loss: 1.0939 | test_acc: 0.5417\n",
      "Epoch: 2 | train_loss: 1.1039 | train_acc: 0.3008 | test_loss: 1.1114 | test_acc: 0.1979\n",
      "Epoch: 3 | train_loss: 1.1019 | train_acc: 0.2930 | test_loss: 1.1041 | test_acc: 0.1979\n",
      "Epoch: 4 | train_loss: 1.0937 | train_acc: 0.3555 | test_loss: 1.0841 | test_acc: 0.5739\n",
      "Epoch: 5 | train_loss: 1.0923 | train_acc: 0.4102 | test_loss: 1.0707 | test_acc: 0.5530\n",
      "[INFO] Saving model to: models\\05-going-modular.pth\n"
     ]
    }
   ],
   "source": [
    "!python going_modular/main.py"
   ],
   "metadata": {
    "collapsed": false,
    "ExecuteTime": {
     "end_time": "2023-09-18T12:42:11.898793800Z",
     "start_time": "2023-09-18T12:41:55.402902500Z"
    }
   },
   "id": "a13ef41771202052"
  },
  {
   "cell_type": "code",
   "execution_count": 25,
   "outputs": [
    {
     "name": "stdout",
     "output_type": "stream",
     "text": [
      "Epoch: 1 | train_loss: 25.7485 | train_acc: 0.2667 | test_loss: 198.4982 | test_acc: 0.3333\n",
      "Epoch: 2 | train_loss: 58.7734 | train_acc: 0.3533 | test_loss: 1.1108 | test_acc: 0.2533\n",
      "Epoch: 3 | train_loss: 1.0995 | train_acc: 0.3500 | test_loss: 1.1761 | test_acc: 0.2533\n",
      "[INFO] Saving model to: models\\05-going-modular.pth\n"
     ]
    }
   ],
   "source": [
    "!python going_modular/main.py -n 3 -b 100 -u 10 -l 0.1"
   ],
   "metadata": {
    "collapsed": false,
    "ExecuteTime": {
     "end_time": "2023-09-18T12:43:28.860256800Z",
     "start_time": "2023-09-18T12:43:18.218938400Z"
    }
   },
   "id": "264b322bbdc7fee"
  },
  {
   "cell_type": "code",
   "execution_count": null,
   "outputs": [],
   "source": [],
   "metadata": {
    "collapsed": false
   },
   "id": "cb7122f342142633"
  }
 ],
 "metadata": {
  "kernelspec": {
   "display_name": "Python 3",
   "language": "python",
   "name": "python3"
  },
  "language_info": {
   "codemirror_mode": {
    "name": "ipython",
    "version": 2
   },
   "file_extension": ".py",
   "mimetype": "text/x-python",
   "name": "python",
   "nbconvert_exporter": "python",
   "pygments_lexer": "ipython2",
   "version": "2.7.6"
  }
 },
 "nbformat": 4,
 "nbformat_minor": 5
}
