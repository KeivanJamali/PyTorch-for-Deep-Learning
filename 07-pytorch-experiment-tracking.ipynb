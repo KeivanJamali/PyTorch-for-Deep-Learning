{
 "cells": [
  {
   "cell_type": "code",
   "execution_count": 1,
   "id": "initial_id",
   "metadata": {
    "collapsed": true,
    "ExecuteTime": {
     "end_time": "2023-10-25T19:26:00.887923600Z",
     "start_time": "2023-10-25T19:25:55.695640300Z"
    }
   },
   "outputs": [
    {
     "name": "stdout",
     "output_type": "stream",
     "text": [
      "2.0.1+cu118\n",
      "0.15.2+cu118\n"
     ]
    }
   ],
   "source": [
    "import torch\n",
    "import torchvision\n",
    "\n",
    "print(torch.__version__)\n",
    "print(torchvision.__version__)"
   ]
  },
  {
   "cell_type": "code",
   "execution_count": 2,
   "outputs": [],
   "source": [
    "import matplotlib.pyplot as plt\n",
    "import torch\n",
    "import torchvision\n",
    "from torch import nn\n",
    "from torchvision import transforms\n",
    "from torchinfo import summary"
   ],
   "metadata": {
    "collapsed": false,
    "ExecuteTime": {
     "end_time": "2023-10-25T19:26:03.234314900Z",
     "start_time": "2023-10-25T19:26:02.647842400Z"
    }
   },
   "id": "ce98b0dcf63fe913"
  },
  {
   "cell_type": "code",
   "execution_count": 6,
   "outputs": [],
   "source": [
    "try:\n",
    "    from going_modular import data_setup, engine\n",
    "except:\n",
    "    print(\"downloading...\")\n",
    "    print()\n",
    "    !git clone https: // github.com/mrdbourke/pytorch-deep-learning\n",
    "    !mv pytorch-deep-learning/going_modular.\n",
    "    !rm -rf pytorch-deep-learning\n",
    "    from going_modular import data_setup, engine\n",
    "\n",
    "    print(\"done\")"
   ],
   "metadata": {
    "collapsed": false,
    "ExecuteTime": {
     "end_time": "2023-10-25T19:26:57.717849800Z",
     "start_time": "2023-10-25T19:26:57.572196800Z"
    }
   },
   "id": "7462e734893a08ff"
  },
  {
   "cell_type": "code",
   "execution_count": 7,
   "outputs": [
    {
     "data": {
      "text/plain": "'cuda'"
     },
     "execution_count": 7,
     "metadata": {},
     "output_type": "execute_result"
    }
   ],
   "source": [
    "device = \"cuda\" if torch.cuda.is_available() else \"cpu\"\n",
    "device"
   ],
   "metadata": {
    "collapsed": false,
    "ExecuteTime": {
     "end_time": "2023-10-25T19:27:44.643385Z",
     "start_time": "2023-10-25T19:27:44.635303900Z"
    }
   },
   "id": "f60f3bd98afa2ab"
  },
  {
   "cell_type": "code",
   "execution_count": 8,
   "outputs": [],
   "source": [
    "def set_seeds(seed: int = 42):\n",
    "    \"\"\"sets random sets for torch operation\n",
    "    \n",
    "    Args:\n",
    "         seed (int, optional) : Random seed to set. default 42.\"\"\"\n",
    "    torch.manual_seed(seed)\n",
    "    torch.cuda.manual_seed(seed)\n"
   ],
   "metadata": {
    "collapsed": false,
    "ExecuteTime": {
     "end_time": "2023-10-25T19:32:08.389090600Z",
     "start_time": "2023-10-25T19:32:08.369816500Z"
    }
   },
   "id": "e39472aeaf364236"
  },
  {
   "cell_type": "code",
   "execution_count": 9,
   "outputs": [
    {
     "name": "stdout",
     "output_type": "stream",
     "text": [
      "[info] data\\pizza_steak_sushi directory already exit, skipping download.\n"
     ]
    },
    {
     "data": {
      "text/plain": "WindowsPath('data/pizza_steak_sushi')"
     },
     "execution_count": 9,
     "metadata": {},
     "output_type": "execute_result"
    }
   ],
   "source": [
    "import os\n",
    "import zipfile\n",
    "from pathlib import Path\n",
    "import requests\n",
    "\n",
    "\n",
    "# our source: https://github.com/mrdbourke/pytorch-deep-learning/raw/main/data/pizza_steak_sushi.zip\n",
    "\n",
    "def download_data(source: str,\n",
    "                  destination: str,\n",
    "                  remove_source: bool = True) -> Path:\n",
    "    \"\"\"download a zipped file from the source and unzips it to the destination.\"\"\"\n",
    "    # setup path to data folder\n",
    "    data_path = Path(\"data/\")\n",
    "    image_path = data_path / destination\n",
    "\n",
    "    # if the image folder doesn't exist, create it\n",
    "    if image_path.is_dir():\n",
    "        print(f\"[info] {image_path} directory already exit, skipping download.\")\n",
    "    else:\n",
    "        print(f\"[info] did not find {image_path} directory, creating one...\")\n",
    "        image_path.mkdir(parents=True, exist_ok=True)\n",
    "\n",
    "        # download the target data\n",
    "        target_file = Path(source).name\n",
    "        with open(data_path / target_file, \"wb\") as f:\n",
    "            request = requests.get(source)\n",
    "            print(f\"[info] downloading {target_file} from {source} ...\")\n",
    "            f.write(request.content)\n",
    "\n",
    "        # unzipping\n",
    "        with zipfile.ZipFile(data_path / target_file, \"r\") as zip_ref:\n",
    "            print(f\"[info] Unzipping {target_file} data ...\")\n",
    "            zip_ref.extractall(image_path)\n",
    "\n",
    "        # removing source\n",
    "        if remove_source:\n",
    "            os.remove(data_path / target_file)\n",
    "    return image_path\n",
    "\n",
    "\n",
    "image_path = download_data(\n",
    "    source=\"https://github.com/mrdbourke/pytorch-deep-learning/raw/main/data/pizza_steak_sushi.zip\",\n",
    "    destination=\"pizza_steak_sushi\",\n",
    "    remove_source=True)\n",
    "image_path"
   ],
   "metadata": {
    "collapsed": false,
    "ExecuteTime": {
     "end_time": "2023-10-25T19:49:31.242497800Z",
     "start_time": "2023-10-25T19:49:31.204232900Z"
    }
   },
   "id": "829f9e4b3dadeeb5"
  },
  {
   "cell_type": "markdown",
   "source": [
    "### create DataLoader with manual transform"
   ],
   "metadata": {
    "collapsed": false
   },
   "id": "58cc5b03100010c6"
  },
  {
   "cell_type": "code",
   "execution_count": 10,
   "outputs": [
    {
     "data": {
      "text/plain": "(WindowsPath('data/pizza_steak_sushi/train'),\n WindowsPath('data/pizza_steak_sushi/test'))"
     },
     "execution_count": 10,
     "metadata": {},
     "output_type": "execute_result"
    }
   ],
   "source": [
    "## create DataLoader with manual transform\n",
    "# setup directories\n",
    "train_dir = image_path / \"train\"\n",
    "test_dir = image_path / \"test\"\n",
    "\n",
    "train_dir, test_dir"
   ],
   "metadata": {
    "collapsed": false,
    "ExecuteTime": {
     "end_time": "2023-10-25T20:23:01.459470700Z",
     "start_time": "2023-10-25T20:23:01.310854Z"
    }
   },
   "id": "8a6125fbb32dfeac"
  },
  {
   "cell_type": "code",
   "execution_count": 17,
   "outputs": [
    {
     "name": "stdout",
     "output_type": "stream",
     "text": [
      "Compose(\n",
      "    Resize(size=(224, 224), interpolation=bilinear, max_size=None, antialias=warn)\n",
      "    ToTensor()\n",
      "    Normalize(mean=[0.485, 0.456, 0.406], std=[0.229, 0.224, 0.225])\n",
      ")\n"
     ]
    },
    {
     "data": {
      "text/plain": "(<torch.utils.data.dataloader.DataLoader at 0x1fbd8ad2910>,\n <torch.utils.data.dataloader.DataLoader at 0x1fbd24a2dd0>,\n ['pizza', 'steak', 'sushi'])"
     },
     "execution_count": 17,
     "metadata": {},
     "output_type": "execute_result"
    }
   ],
   "source": [
    "# setup imagenet normalization\n",
    "\n",
    "from torchvision import transforms\n",
    "\n",
    "normalize = transforms.Normalize(mean=[0.485, 0.456, 0.406],\n",
    "                                 std=[0.229, 0.224, 0.225])\n",
    "\n",
    "# create transforms pipeline manually\n",
    "manual_transforms = transforms.Compose([transforms.Resize((224, 224)),\n",
    "                                        transforms.ToTensor(),\n",
    "                                        normalize])\n",
    "print(manual_transforms)\n",
    "from going_modular import data_setup\n",
    "\n",
    "train_dataloader, test_dataloader, class_names = data_setup.create_dataloaders(train_dir=train_dir,\n",
    "                                                                               test_dir=test_dir,\n",
    "                                                                               transform=manual_transforms,\n",
    "                                                                               batch_size=32,\n",
    "                                                                               num_workers=0)\n",
    "train_dataloader, test_dataloader, class_names"
   ],
   "metadata": {
    "collapsed": false,
    "ExecuteTime": {
     "end_time": "2023-10-25T20:36:05.860575800Z",
     "start_time": "2023-10-25T20:36:05.752120100Z"
    }
   },
   "id": "e72791e2bc7e3bc8"
  },
  {
   "cell_type": "markdown",
   "source": [
    "### automaticlly method "
   ],
   "metadata": {
    "collapsed": false
   },
   "id": "20dcdd9d1aaa8cb8"
  },
  {
   "cell_type": "code",
   "execution_count": 19,
   "outputs": [
    {
     "name": "stdout",
     "output_type": "stream",
     "text": [
      "ImageClassification(\n",
      "    crop_size=[224]\n",
      "    resize_size=[256]\n",
      "    mean=[0.485, 0.456, 0.406]\n",
      "    std=[0.229, 0.224, 0.225]\n",
      "    interpolation=InterpolationMode.BICUBIC\n",
      ")\n"
     ]
    },
    {
     "data": {
      "text/plain": "(<torch.utils.data.dataloader.DataLoader at 0x1fbd0602850>,\n <torch.utils.data.dataloader.DataLoader at 0x1fbd8a96710>,\n ['pizza', 'steak', 'sushi'])"
     },
     "execution_count": 19,
     "metadata": {},
     "output_type": "execute_result"
    }
   ],
   "source": [
    "train_dir = image_path/\"train\"\n",
    "test_dir = image_path/\"test\"\n",
    "import torchvision\n",
    "weights = torchvision.models.EfficientNet_B0_Weights.DEFAULT # means best available\n",
    "automatic_transforms = weights.transforms()\n",
    "print(automatic_transforms)\n",
    "\n",
    "train_dataloader, test_dataloader, class_names = data_setup.create_dataloaders(train_dir=train_dir,\n",
    "                                                                               test_dir=test_dir,\n",
    "                                                                               transform=automatic_transforms,\n",
    "                                                                               batch_size=32,\n",
    "                                                                               num_workers=0)\n",
    "train_dataloader, test_dataloader, class_names"
   ],
   "metadata": {
    "collapsed": false,
    "ExecuteTime": {
     "end_time": "2023-10-25T20:42:27.028554300Z",
     "start_time": "2023-10-25T20:42:27.014998100Z"
    }
   },
   "id": "ccf55940aeeba562"
  },
  {
   "cell_type": "code",
   "execution_count": null,
   "outputs": [],
   "source": [],
   "metadata": {
    "collapsed": false
   },
   "id": "ccafc42ccd9eb56d"
  }
 ],
 "metadata": {
  "kernelspec": {
   "display_name": "Python 3",
   "language": "python",
   "name": "python3"
  },
  "language_info": {
   "codemirror_mode": {
    "name": "ipython",
    "version": 2
   },
   "file_extension": ".py",
   "mimetype": "text/x-python",
   "name": "python",
   "nbconvert_exporter": "python",
   "pygments_lexer": "ipython2",
   "version": "2.7.6"
  }
 },
 "nbformat": 4,
 "nbformat_minor": 5
}
