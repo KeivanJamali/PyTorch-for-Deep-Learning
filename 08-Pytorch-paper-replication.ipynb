{
 "cells": [
  {
   "cell_type": "markdown",
   "source": [
    "# Get Setup"
   ],
   "metadata": {
    "collapsed": false
   },
   "id": "97aaa0314b3fb860"
  },
  {
   "cell_type": "code",
   "execution_count": 1,
   "outputs": [
    {
     "name": "stdout",
     "output_type": "stream",
     "text": [
      "OK\n",
      "torch version: 2.0.1+cu117\n",
      "torchvision version: 0.15.2+cu117\n"
     ]
    }
   ],
   "source": [
    "# we need torch 1.12+ and torchvision 0.13+\n",
    "%load_ext autoreload\n",
    "%autoreload 2\n",
    "try:\n",
    "    print(\"OK\")\n",
    "    import torch\n",
    "    import torchvision\n",
    "\n",
    "    assert float(torch.__version__.split(\".\")[0]) > 1 or int(\n",
    "        torch.__version__.split(\".\")[1]) > 12, \"torch version should be 1.12+\"\n",
    "    assert int(torchvision.__version__.split(\".\")[1]) >= 13, \"torchvision should be 0.13+\"\n",
    "    print(f\"torch version: {torch.__version__}\")\n",
    "    print(f\"torchvision version: {torchvision.__version__}\")\n",
    "except:\n",
    "    print(f\"[INFO] torch/torchvision versions not as required, installing nightly versions.\")\n",
    "    !pip3 install -U --pre torch torchvision torchaudio -- extra-index-url https: // download.pytorch.org/whl/nightly/cu113\n",
    "    import torch\n",
    "    import torchvision\n",
    "\n",
    "    print(f\"torch version: {torch.__version__}\")\n",
    "    print(f\"torchvision version: {torchvision.__version__}\")"
   ],
   "metadata": {
    "collapsed": false,
    "ExecuteTime": {
     "end_time": "2023-11-29T16:49:58.207974200Z",
     "start_time": "2023-11-29T16:49:55.885999200Z"
    }
   },
   "id": "e72359686130eaf9"
  },
  {
   "cell_type": "code",
   "execution_count": 2,
   "outputs": [],
   "source": [
    "import matplotlib.pyplot as plt\n",
    "import torch\n",
    "import torchvision\n",
    "from torch import nn\n",
    "from torchvision import transforms\n",
    "\n",
    "# try to get torchinfo, if doesn't exist, install it\n",
    "try:\n",
    "    from torchinfo import summary\n",
    "except:\n",
    "    !pip install -q torchinfo\n",
    "    from torchinfo import summary\n",
    "\n",
    "# try to import the going_modular directory, download it from github if it doesn't exist\n",
    "try:\n",
    "    from going_modular import data_setup, engine\n",
    "    from helper_functions import download_data, set_seeds, plot_loss_curves\n",
    "except:\n",
    "    raise FileNotFoundError"
   ],
   "metadata": {
    "collapsed": false,
    "ExecuteTime": {
     "end_time": "2023-11-29T16:49:59.819128600Z",
     "start_time": "2023-11-29T16:49:58.205977100Z"
    }
   },
   "id": "de93fa1096ff2905"
  },
  {
   "cell_type": "code",
   "execution_count": 3,
   "outputs": [
    {
     "data": {
      "text/plain": "'cuda'"
     },
     "execution_count": 3,
     "metadata": {},
     "output_type": "execute_result"
    }
   ],
   "source": [
    "device = \"cuda\" if torch.cuda.is_available() else \"cpu\"\n",
    "device"
   ],
   "metadata": {
    "collapsed": false,
    "ExecuteTime": {
     "end_time": "2023-11-29T16:49:59.917219100Z",
     "start_time": "2023-11-29T16:49:59.820149900Z"
    }
   },
   "id": "29988ac0b9c13d18"
  },
  {
   "cell_type": "markdown",
   "source": [
    "# Get Data"
   ],
   "metadata": {
    "collapsed": false
   },
   "id": "fb2e8906cc4706d6"
  },
  {
   "cell_type": "code",
   "execution_count": 4,
   "outputs": [
    {
     "name": "stdout",
     "output_type": "stream",
     "text": [
      "[INFO] data\\pizza_steak_sushi directory exists, skipping download.\n"
     ]
    },
    {
     "data": {
      "text/plain": "WindowsPath('data/pizza_steak_sushi')"
     },
     "execution_count": 4,
     "metadata": {},
     "output_type": "execute_result"
    }
   ],
   "source": [
    "image_path = download_data(\n",
    "    source=\"https://github.com/mrdbourke/pytorch-deep-learning/raw/main/data/pizza_steak_sushi.zip\",\n",
    "    destination=\"pizza_steak_sushi\")\n",
    "image_path"
   ],
   "metadata": {
    "collapsed": false,
    "ExecuteTime": {
     "end_time": "2023-11-29T16:50:00.014555600Z",
     "start_time": "2023-11-29T16:49:59.914191600Z"
    }
   },
   "id": "603db2149c1e058f"
  },
  {
   "cell_type": "code",
   "execution_count": 5,
   "outputs": [
    {
     "data": {
      "text/plain": "(WindowsPath('data/pizza_steak_sushi/train'),\n WindowsPath('data/pizza_steak_sushi/test'))"
     },
     "execution_count": 5,
     "metadata": {},
     "output_type": "execute_result"
    }
   ],
   "source": [
    "train_dir = image_path / \"train\"\n",
    "test_dir = image_path / \"test\"\n",
    "train_dir, test_dir"
   ],
   "metadata": {
    "collapsed": false,
    "ExecuteTime": {
     "end_time": "2023-11-29T16:50:00.118283300Z",
     "start_time": "2023-11-29T16:50:00.013566900Z"
    }
   },
   "id": "258051f67c29f87b"
  },
  {
   "cell_type": "markdown",
   "source": [
    "# creat dataloaders"
   ],
   "metadata": {
    "collapsed": false
   },
   "id": "8e3522461d9b76df"
  },
  {
   "cell_type": "code",
   "execution_count": 6,
   "outputs": [
    {
     "name": "stdout",
     "output_type": "stream",
     "text": [
      "manually created transforms: Compose(\n",
      "    Resize(size=(224, 224), interpolation=bilinear, max_size=None, antialias=warn)\n",
      "    ToTensor()\n",
      ")\n"
     ]
    }
   ],
   "source": [
    "from going_modular import data_setup\n",
    "from torchvision import transforms\n",
    "\n",
    "# creat image size (224,224)\n",
    "IMG_SIZE = 224  # comes from table 3 of the ViT paper\n",
    "\n",
    "# create transforms\n",
    "manual_transforms = transforms.Compose([\n",
    "    transforms.Resize(size=(IMG_SIZE, IMG_SIZE)),\n",
    "    transforms.ToTensor()\n",
    "])\n",
    "\n",
    "print(f\"manually created transforms: {manual_transforms}\")"
   ],
   "metadata": {
    "collapsed": false,
    "ExecuteTime": {
     "end_time": "2023-11-29T16:50:00.216731Z",
     "start_time": "2023-11-29T16:50:00.114203300Z"
    }
   },
   "id": "b28bee2d71c3f9c7"
  },
  {
   "cell_type": "code",
   "execution_count": 12,
   "outputs": [
    {
     "data": {
      "text/plain": "(8, 3, ['pizza', 'steak', 'sushi'])"
     },
     "execution_count": 12,
     "metadata": {},
     "output_type": "execute_result"
    }
   ],
   "source": [
    "# create batch size 32, the paper used 4096.\n",
    "BATCH_SIZE = 32\n",
    "train_dataloader, test_dataloader, class_names = data_setup.create_dataloaders(\n",
    "    train_dir=train_dir,\n",
    "    test_dir=test_dir,\n",
    "    transform=manual_transforms,\n",
    "    test_transform=manual_transforms,\n",
    "    batch_size=BATCH_SIZE, \n",
    "    num_workers=0)\n",
    "\n",
    "len(train_dataloader), len(test_dataloader), class_names  # (32, 32, 3a)"
   ],
   "metadata": {
    "collapsed": false,
    "ExecuteTime": {
     "end_time": "2023-11-29T16:57:04.738469200Z",
     "start_time": "2023-11-29T16:57:03.851557600Z"
    }
   },
   "id": "8ff9ca6a30408344"
  },
  {
   "cell_type": "code",
   "execution_count": 14,
   "outputs": [
    {
     "data": {
      "text/plain": "(torch.Size([3, 224, 224]), tensor(0))"
     },
     "execution_count": 14,
     "metadata": {},
     "output_type": "execute_result"
    }
   ],
   "source": [
    "# get batch images\n",
    "image_batch, label_batch = next(iter(train_dataloader))\n",
    "\n",
    "image, label = image_batch[0], label_batch[0]\n",
    "image.shape, label"
   ],
   "metadata": {
    "collapsed": false,
    "ExecuteTime": {
     "end_time": "2023-11-29T16:57:22.289014300Z",
     "start_time": "2023-11-29T16:57:21.478116900Z"
    }
   },
   "id": "e163493bbc896a8e"
  },
  {
   "cell_type": "code",
   "execution_count": null,
   "outputs": [],
   "source": [
    " "
   ],
   "metadata": {
    "collapsed": false,
    "ExecuteTime": {
     "start_time": "2023-11-29T16:50:00.490018Z"
    }
   },
   "id": "9e01ed975fec9bf8"
  }
 ],
 "metadata": {
  "kernelspec": {
   "display_name": "Python 3",
   "language": "python",
   "name": "python3"
  },
  "language_info": {
   "codemirror_mode": {
    "name": "ipython",
    "version": 2
   },
   "file_extension": ".py",
   "mimetype": "text/x-python",
   "name": "python",
   "nbconvert_exporter": "python",
   "pygments_lexer": "ipython2",
   "version": "2.7.6"
  }
 },
 "nbformat": 4,
 "nbformat_minor": 5
}
