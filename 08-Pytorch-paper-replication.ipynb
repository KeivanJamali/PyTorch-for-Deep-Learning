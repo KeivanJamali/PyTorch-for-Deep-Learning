{
 "cells": [
  {
   "cell_type": "markdown",
   "source": [
    "# Get Setup"
   ],
   "metadata": {
    "collapsed": false
   },
   "id": "97aaa0314b3fb860"
  },
  {
   "cell_type": "code",
   "execution_count": 5,
   "outputs": [
    {
     "name": "stdout",
     "output_type": "stream",
     "text": [
      "OK\n",
      "torch version: 2.0.1+cu117\n",
      "torchvision version: 0.15.2+cu117\n"
     ]
    }
   ],
   "source": [
    "# we need torch 1.12+ and torchvision 0.13+\n",
    "\n",
    "try:\n",
    "    print(\"OK\")\n",
    "    import torch\n",
    "    import torchvision\n",
    "\n",
    "    assert float(torch.__version__.split(\".\")[0]) > 1 or int(\n",
    "        torch.__version__.split(\".\")[1]) > 12, \"torch version should be 1.12+\"\n",
    "    assert int(torchvision.__version__.split(\".\")[1]) >= 13, \"torchvision should be 0.13+\"\n",
    "    print(f\"torch version: {torch.__version__}\")\n",
    "    print(f\"torchvision version: {torchvision.__version__}\")\n",
    "except:\n",
    "    print(f\"[INFO] torch/torchvision versions not as required, installing nightly versions.\")\n",
    "    !pip3 install -U --pre torch torchvision torchaudio -- extra-index-url https: // download.pytorch.org/whl/nightly/cu113\n",
    "    import torch\n",
    "    import torchvision\n",
    "\n",
    "    print(f\"torch version: {torch.__version__}\")\n",
    "    print(f\"torchvision version: {torchvision.__version__}\")"
   ],
   "metadata": {
    "collapsed": false,
    "ExecuteTime": {
     "end_time": "2023-11-29T14:15:04.835949400Z",
     "start_time": "2023-11-29T14:15:04.815682200Z"
    }
   },
   "id": "e72359686130eaf9"
  },
  {
   "cell_type": "code",
   "execution_count": 6,
   "outputs": [],
   "source": [
    "import matplotlib.pyplot as plt\n",
    "import torch\n",
    "import torchvision\n",
    "from torch import nn\n",
    "from torchvision import transforms\n",
    "\n",
    "# try to get torchinfo, if doesn't exist, install it\n",
    "try:\n",
    "    from torchinfo import summary\n",
    "except:\n",
    "    !pip install -q torchinfo\n",
    "    from torchinfo import summary\n",
    "\n",
    "# try to import the going_modular directory, download it from github if it doesn't exist\n",
    "try:\n",
    "    from going_modular import data_setup, engine\n",
    "    from helper_functions import download_data, set_seeds, plot_loss_curves\n",
    "except:\n",
    "    raise FileNotFoundError"
   ],
   "metadata": {
    "collapsed": false,
    "ExecuteTime": {
     "end_time": "2023-11-29T14:23:29.025778700Z",
     "start_time": "2023-11-29T14:23:26.964189300Z"
    }
   },
   "id": "de93fa1096ff2905"
  },
  {
   "cell_type": "code",
   "execution_count": 7,
   "outputs": [
    {
     "data": {
      "text/plain": "'cuda'"
     },
     "execution_count": 7,
     "metadata": {},
     "output_type": "execute_result"
    }
   ],
   "source": [
    "device = \"cuda\" if torch.cuda.is_available() else \"cpu\"\n",
    "device"
   ],
   "metadata": {
    "collapsed": false,
    "ExecuteTime": {
     "end_time": "2023-11-29T14:24:43.885638100Z",
     "start_time": "2023-11-29T14:24:43.785033100Z"
    }
   },
   "id": "29988ac0b9c13d18"
  },
  {
   "cell_type": "markdown",
   "source": [
    "# Get Data"
   ],
   "metadata": {
    "collapsed": false
   },
   "id": "fb2e8906cc4706d6"
  },
  {
   "cell_type": "code",
   "execution_count": 8,
   "outputs": [
    {
     "name": "stdout",
     "output_type": "stream",
     "text": [
      "[INFO] data\\pizza_steak_sushi directory exists, skipping download.\n"
     ]
    },
    {
     "data": {
      "text/plain": "WindowsPath('data/pizza_steak_sushi')"
     },
     "execution_count": 8,
     "metadata": {},
     "output_type": "execute_result"
    }
   ],
   "source": [
    "image_path = download_data(\n",
    "    source=\"https://github.com/mrdbourke/pytorch-deep-learning/raw/main/data/pizza_steak_sushi.zip\",\n",
    "    destination=\"pizza_steak_sushi\")\n",
    "image_path"
   ],
   "metadata": {
    "collapsed": false,
    "ExecuteTime": {
     "end_time": "2023-11-29T14:38:32.234745400Z",
     "start_time": "2023-11-29T14:38:32.204192900Z"
    }
   },
   "id": "603db2149c1e058f"
  },
  {
   "cell_type": "code",
   "execution_count": 10,
   "outputs": [
    {
     "data": {
      "text/plain": "(WindowsPath('data/pizza_steak_sushi/train'),\n WindowsPath('data/pizza_steak_sushi/test'))"
     },
     "execution_count": 10,
     "metadata": {},
     "output_type": "execute_result"
    }
   ],
   "source": [
    "train_dir = image_path / \"train\"\n",
    "test_dir = image_path / \"test\"\n",
    "train_dir, test_dir"
   ],
   "metadata": {
    "collapsed": false,
    "ExecuteTime": {
     "end_time": "2023-11-29T14:39:54.816569200Z",
     "start_time": "2023-11-29T14:39:54.687319900Z"
    }
   },
   "id": "258051f67c29f87b"
  },
  {
   "cell_type": "markdown",
   "source": [
    "# creat dataloaders"
   ],
   "metadata": {
    "collapsed": false
   },
   "id": "8e3522461d9b76df"
  },
  {
   "cell_type": "code",
   "execution_count": 13,
   "outputs": [
    {
     "name": "stdout",
     "output_type": "stream",
     "text": [
      "manually created transforms: Compose(\n",
      "    Resize(size=(224, 224), interpolation=bilinear, max_size=None, antialias=warn)\n",
      "    ToTensor()\n",
      ")\n"
     ]
    }
   ],
   "source": [
    "from going_modular import data_setup\n",
    "from torchvision import transforms\n",
    "\n",
    "# creat image size (224,224)\n",
    "IMG_SIZE = 224  # comes from table 3 of the ViT paper\n",
    "\n",
    "# create transforms\n",
    "manual_transforms = transforms.Compose([\n",
    "    transforms.Resize(size=(IMG_SIZE, IMG_SIZE)),\n",
    "    transforms.ToTensor()\n",
    "])\n",
    "\n",
    "print(f\"manually created transforms: {manual_transforms}\")"
   ],
   "metadata": {
    "collapsed": false,
    "ExecuteTime": {
     "end_time": "2023-11-29T14:45:27.003150800Z",
     "start_time": "2023-11-29T14:45:26.891724200Z"
    }
   },
   "id": "b28bee2d71c3f9c7"
  },
  {
   "cell_type": "code",
   "execution_count": null,
   "outputs": [],
   "source": [
    "# create batch size 32, the paper used 4096.\n",
    "BATCH_SIZE = 32\n",
    "train_dataloader, test_dataloader, class_names = data_setup.create_dataloaders(\n",
    "    train_dir=train_dir,\n",
    "    test_dir=test_dir,\n",
    "    transform=manual_transforms,\n",
    "    batch_size=BATCH_SIZE)"
   ],
   "metadata": {
    "collapsed": false
   },
   "id": "8ff9ca6a30408344"
  }
 ],
 "metadata": {
  "kernelspec": {
   "display_name": "Python 3",
   "language": "python",
   "name": "python3"
  },
  "language_info": {
   "codemirror_mode": {
    "name": "ipython",
    "version": 2
   },
   "file_extension": ".py",
   "mimetype": "text/x-python",
   "name": "python",
   "nbconvert_exporter": "python",
   "pygments_lexer": "ipython2",
   "version": "2.7.6"
  }
 },
 "nbformat": 4,
 "nbformat_minor": 5
}
